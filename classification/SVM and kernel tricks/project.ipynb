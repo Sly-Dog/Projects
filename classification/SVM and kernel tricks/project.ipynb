{
 "cells": [
  {
   "cell_type": "markdown",
   "id": "648aceb1-8721-4594-b7af-ed14c1bd5ef0",
   "metadata": {},
   "source": [
    "# Цель проекта\n",
    "\n",
    "Сделать несколько вариаций SVM моделей-сомелье с использованием ядерных функций и определить лучшую вариацию ядра и гиперпараметров для SVM на основании винного датасета ниже.\n"
   ]
  },
  {
   "cell_type": "markdown",
   "id": "e058641b-8ce1-4c7e-8fe4-5a63e1102398",
   "metadata": {},
   "source": [
    "# Зависимости\n",
    "\n",
    "- Python 3.11.1\n",
    "- pandas==1.5.2\n",
    "- numpy==1.24.1\n",
    "- seaborn==0.12.2\n",
    "- matplotlib==3.6.2\n",
    "- scikit-learn==1.2.0\n",
    "- joblib==1.2.0"
   ]
  },
  {
   "cell_type": "markdown",
   "id": "431d2d8c-a722-4b7f-af6f-2cdefa5f9133",
   "metadata": {},
   "source": [
    "# Импорт"
   ]
  },
  {
   "cell_type": "code",
   "execution_count": 1,
   "id": "b8ab85a8-3283-44f2-ba4f-572f4758ba8f",
   "metadata": {
    "tags": []
   },
   "outputs": [],
   "source": [
    "import pandas as pd\n",
    "import numpy as np\n",
    "\n",
    "import seaborn as sns\n",
    "import matplotlib.pyplot as plt\n",
    "\n",
    "from sklearn.model_selection import train_test_split\n",
    "from sklearn.preprocessing import StandardScaler\n",
    "\n",
    "from sklearn.svm import SVC\n",
    "from sklearn.svm import LinearSVC \n",
    "from joblib import Parallel, delayed"
   ]
  },
  {
   "cell_type": "markdown",
   "id": "2de03956-66ae-4dcf-9dc2-eb3307a2d80f",
   "metadata": {},
   "source": [
    "# Функции"
   ]
  },
  {
   "cell_type": "code",
   "execution_count": 2,
   "id": "dc4cc387-b486-4495-ba06-d0789a2a94b5",
   "metadata": {
    "tags": []
   },
   "outputs": [],
   "source": [
    "\"\"\"Visualize correlateion matrix\"\"\"\n",
    "def visual_corr(df): # df is a correlation matrix\n",
    "    \n",
    "    sns.set_style(style = 'white')\n",
    "    f, ax = plt.subplots(figsize=(9, 9))\n",
    "\n",
    "    cmap = sns.diverging_palette(250, 10, as_cmap=True)\n",
    "    sns.heatmap(df, cmap=cmap, \n",
    "                square=True,\n",
    "                linewidth=.5, cbar_kws={\"shrink\": .5}, ax=ax,\n",
    "                annot=True, center=0)\n",
    "    \n",
    "    \n",
    "\"\"\"Split list into n chunks\"\"\"\n",
    "def chunker(lst, n_chunks=12):\n",
    "    lists_of_lists = []\n",
    "    n_chunks = 12\n",
    "\n",
    "    shard = len(lst)//n_chunks\n",
    "    counter = 0 \n",
    "    last_item = shard\n",
    "    for i in range(n_chunks):\n",
    "        if i == n_chunks-1:\n",
    "            lists_of_lists.append(lst[counter:])\n",
    "        else:\n",
    "            lists_of_lists.append(lst[counter:last_item])\n",
    "            counter += shard\n",
    "            last_item += shard\n",
    "        \n",
    "    return lists_of_lists\n",
    "\n",
    "\"\"\"Get prediction metrics for all trained models\"\"\"\n",
    "def get_models_results(lst_of_params):\n",
    "    results = []\n",
    "    for params in lst_of_params:\n",
    "        svc = SVC(**params)\n",
    "        svc.fit(X_train, y_train)\n",
    "        \n",
    "        result = params\n",
    "        result[\"predictions\"] = svc.predict(X_test)\n",
    "        results.append(result)\n",
    "\n",
    "    return results\n",
    "\n",
    "\"\"\"Get calculation of metrics: True positive, accuracy, biclass_metric \"\"\"\n",
    "class metrics:\n",
    "    def __init__(self, y_test, prediction):\n",
    "\n",
    "        comparing = pd.DataFrame([np.array(y_test), prediction]).T\n",
    "        comparing.columns = [\"real_values\", \"predictions\"]\n",
    "\n",
    "        good_true  = 0\n",
    "        good_total = 0\n",
    "\n",
    "        bad_true   = 0\n",
    "        bad_total  = 0\n",
    "\n",
    "        for i in comparing.index:\n",
    "            if comparing.real_values.loc[i] == 0:\n",
    "                if comparing.predictions.loc[i] == 0:\n",
    "                    bad_true += 1\n",
    "                bad_total += 1\n",
    "            elif comparing.real_values.loc[i] == 1:\n",
    "                if comparing.predictions.loc[i] == 1:\n",
    "                    good_true += 1\n",
    "                good_total += 1\n",
    "        \n",
    "        # True positives and total value counts of each class(0 and 1)\n",
    "        self.for_accuracy = {\"good_true\": good_true,\n",
    "                             \"good_total\": good_total,\n",
    "                             \"bad_true\":bad_true,\n",
    "                             \"bad_total\": bad_total}\n",
    "        # atribure for getting accuracy\n",
    "        self.accuracy = (good_true + bad_true) / (good_total + bad_total)\n",
    "        \n",
    "        # atribure for getting biclass_metric\n",
    "        self.biclass_metric =  self.accuracy * (1 - \n",
    "                                  abs(good_true/ good_total \n",
    "                                      - bad_true/bad_total))"
   ]
  },
  {
   "cell_type": "markdown",
   "id": "069e42fd-3b07-4f49-9dd0-ab273c3b3f6f",
   "metadata": {},
   "source": [
    "# Данные\n",
    "\n",
    "Датасет содержит информацию о красных винах и их составе. Целевой переменной является столбец \"quality\". Это метрика качества вина по шкале от 3 до 8."
   ]
  },
  {
   "cell_type": "code",
   "execution_count": 3,
   "id": "89391a73-d1ab-486f-bb80-3d057169b9a0",
   "metadata": {
    "tags": []
   },
   "outputs": [],
   "source": [
    "wine = pd.read_csv(\"winequality-red.zip\", sep=\";\")"
   ]
  },
  {
   "cell_type": "code",
   "execution_count": 4,
   "id": "66050e63-adb9-4f88-bfab-f5023a006e56",
   "metadata": {
    "tags": []
   },
   "outputs": [
    {
     "data": {
      "text/html": [
       "<div>\n",
       "<style scoped>\n",
       "    .dataframe tbody tr th:only-of-type {\n",
       "        vertical-align: middle;\n",
       "    }\n",
       "\n",
       "    .dataframe tbody tr th {\n",
       "        vertical-align: top;\n",
       "    }\n",
       "\n",
       "    .dataframe thead th {\n",
       "        text-align: right;\n",
       "    }\n",
       "</style>\n",
       "<table border=\"1\" class=\"dataframe\">\n",
       "  <thead>\n",
       "    <tr style=\"text-align: right;\">\n",
       "      <th></th>\n",
       "      <th>fixed acidity</th>\n",
       "      <th>volatile acidity</th>\n",
       "      <th>citric acid</th>\n",
       "      <th>residual sugar</th>\n",
       "      <th>chlorides</th>\n",
       "      <th>free sulfur dioxide</th>\n",
       "      <th>total sulfur dioxide</th>\n",
       "      <th>density</th>\n",
       "      <th>pH</th>\n",
       "      <th>sulphates</th>\n",
       "      <th>alcohol</th>\n",
       "      <th>quality</th>\n",
       "    </tr>\n",
       "  </thead>\n",
       "  <tbody>\n",
       "    <tr>\n",
       "      <th>1115</th>\n",
       "      <td>7.0</td>\n",
       "      <td>0.69</td>\n",
       "      <td>0.07</td>\n",
       "      <td>2.5</td>\n",
       "      <td>0.091</td>\n",
       "      <td>15.0</td>\n",
       "      <td>21.0</td>\n",
       "      <td>0.99572</td>\n",
       "      <td>3.38</td>\n",
       "      <td>0.6</td>\n",
       "      <td>11.3</td>\n",
       "      <td>6</td>\n",
       "    </tr>\n",
       "  </tbody>\n",
       "</table>\n",
       "</div>"
      ],
      "text/plain": [
       "      fixed acidity  volatile acidity  citric acid  residual sugar  chlorides  \\\n",
       "1115            7.0              0.69         0.07             2.5      0.091   \n",
       "\n",
       "      free sulfur dioxide  total sulfur dioxide  density    pH  sulphates  \\\n",
       "1115                 15.0                  21.0  0.99572  3.38        0.6   \n",
       "\n",
       "      alcohol  quality  \n",
       "1115     11.3        6  "
      ]
     },
     "execution_count": 4,
     "metadata": {},
     "output_type": "execute_result"
    }
   ],
   "source": [
    "wine.sample()"
   ]
  },
  {
   "cell_type": "code",
   "execution_count": 5,
   "id": "31f484dc-bf5e-4a31-9a9c-f1afdcb13354",
   "metadata": {
    "tags": []
   },
   "outputs": [
    {
     "name": "stdout",
     "output_type": "stream",
     "text": [
      "shape : (1599, 12) \n",
      "\n",
      "<class 'pandas.core.frame.DataFrame'>\n",
      "RangeIndex: 1599 entries, 0 to 1598\n",
      "Data columns (total 12 columns):\n",
      " #   Column                Non-Null Count  Dtype  \n",
      "---  ------                --------------  -----  \n",
      " 0   fixed acidity         1599 non-null   float64\n",
      " 1   volatile acidity      1599 non-null   float64\n",
      " 2   citric acid           1599 non-null   float64\n",
      " 3   residual sugar        1599 non-null   float64\n",
      " 4   chlorides             1599 non-null   float64\n",
      " 5   free sulfur dioxide   1599 non-null   float64\n",
      " 6   total sulfur dioxide  1599 non-null   float64\n",
      " 7   density               1599 non-null   float64\n",
      " 8   pH                    1599 non-null   float64\n",
      " 9   sulphates             1599 non-null   float64\n",
      " 10  alcohol               1599 non-null   float64\n",
      " 11  quality               1599 non-null   int64  \n",
      "dtypes: float64(11), int64(1)\n",
      "memory usage: 150.0 KB\n"
     ]
    }
   ],
   "source": [
    "print(\"shape :\",wine.shape,\"\\n\")\n",
    "wine.info()"
   ]
  },
  {
   "cell_type": "markdown",
   "id": "7c1836c9-09e0-4a3e-b25a-92f732afcd3c",
   "metadata": {},
   "source": [
    "Все признаки числовые и не имеют пропусков:)\n",
    "\n",
    "Так же в датасете нет id, поэтому все строки будут восприниматься как уникальные"
   ]
  },
  {
   "cell_type": "markdown",
   "id": "b91979ef-ec69-4a22-91e7-d6e1ab251111",
   "metadata": {},
   "source": [
    "# EDA"
   ]
  },
  {
   "cell_type": "markdown",
   "id": "c25baa63-66d2-446c-aee8-d4bb0f659545",
   "metadata": {},
   "source": [
    "## граммы/дм3\n",
    "Большинство показателей вин измеряются в $\\frac{гр}{дм^3}$ и отражают количество веществ, влияющих на вкусовые и качественные характеристики вина."
   ]
  },
  {
   "cell_type": "markdown",
   "id": "a6cb2b5f-9e28-4e0f-976c-fb5f5b539f1d",
   "metadata": {},
   "source": [
    "### Нелетучие кислоты"
   ]
  },
  {
   "cell_type": "code",
   "execution_count": 6,
   "id": "b8e7cf53-415b-4882-bcec-5e9bbcd829cd",
   "metadata": {
    "tags": []
   },
   "outputs": [
    {
     "data": {
      "text/plain": [
       "0    7.4\n",
       "1    7.8\n",
       "2    7.8\n",
       "Name: fixed acidity, dtype: float64"
      ]
     },
     "execution_count": 6,
     "metadata": {},
     "output_type": "execute_result"
    }
   ],
   "source": [
    "wine[\"fixed acidity\"].head(3)"
   ]
  },
  {
   "cell_type": "code",
   "execution_count": 7,
   "id": "5fca71b4-eac0-4eb3-9300-4ea429f9a437",
   "metadata": {
    "tags": []
   },
   "outputs": [
    {
     "data": {
      "image/png": "[encoded data removed]",
      "text/plain": [
       "<Figure size 640x480 with 1 Axes>"
      ]
     },
     "metadata": {},
     "output_type": "display_data"
    }
   ],
   "source": [
    "wine[\"fixed acidity\"].hist(bins=100);"
   ]
  },
  {
   "cell_type": "markdown",
   "id": "e629c5a3-4787-4b43-8dd3-1feb051a61ba",
   "metadata": {},
   "source": [
    "Логнормальное распределение с бугорком вначале. Значения в пределах нормы, длинного хвоста нет, признак готов для модели."
   ]
  },
  {
   "cell_type": "markdown",
   "id": "ed03bf6e-5d69-4ede-bdb8-a8794e6f9aa2",
   "metadata": {},
   "source": [
    "### Летучие кислоты\n",
    "\n",
    "Чем больше, тем более вино похоже на уксус"
   ]
  },
  {
   "cell_type": "code",
   "execution_count": 8,
   "id": "0704784f-7ef3-4701-b243-8aefb066e51d",
   "metadata": {
    "tags": []
   },
   "outputs": [
    {
     "data": {
      "text/plain": [
       "0    0.70\n",
       "1    0.88\n",
       "2    0.76\n",
       "Name: volatile acidity, dtype: float64"
      ]
     },
     "execution_count": 8,
     "metadata": {},
     "output_type": "execute_result"
    }
   ],
   "source": [
    "wine[\"volatile acidity\"].head(3)"
   ]
  },
  {
   "cell_type": "code",
   "execution_count": 9,
   "id": "847d337c-6bfb-44cb-8c65-569dc2cc7a05",
   "metadata": {
    "tags": []
   },
   "outputs": [
    {
     "data": {
      "image/png": "[encoded data removed]",
      "text/plain": [
       "<Figure size 640x480 with 1 Axes>"
      ]
     },
     "metadata": {},
     "output_type": "display_data"
    }
   ],
   "source": [
    "wine[\"volatile acidity\"].hist(bins=100);"
   ]
  },
  {
   "cell_type": "markdown",
   "id": "0a948f2c-4860-451c-86d0-f36b7a5578a9",
   "metadata": {
    "tags": []
   },
   "source": [
    "Кажется, есть две основые группы вина по уксусности с разделением в 0.45 $\\frac{гр}{дм^3}$ Данные годятся для модели"
   ]
  },
  {
   "cell_type": "markdown",
   "id": "a64337ec-1560-4d7c-8953-3914fac28733",
   "metadata": {},
   "source": [
    "### Лимонная кислота\n",
    "Может добавить вкуса и аромата"
   ]
  },
  {
   "cell_type": "code",
   "execution_count": 10,
   "id": "70a66ea4-c753-4ffe-9868-341b2d13e4c9",
   "metadata": {
    "tags": []
   },
   "outputs": [
    {
     "data": {
      "image/png": "[encoded data removed]",
      "text/plain": [
       "<Figure size 640x480 with 1 Axes>"
      ]
     },
     "metadata": {},
     "output_type": "display_data"
    }
   ],
   "source": [
    "wine[\"citric acid\"].hist(bins=100);"
   ]
  },
  {
   "cell_type": "markdown",
   "id": "7c7ecda2-7a71-4df1-a2f8-075b36ad23a5",
   "metadata": {
    "tags": []
   },
   "source": [
    "Есть вина, которые её не содержат. Довольно равномерное распределение слегка тяготеющие к минимуму. Колонка годится для модели."
   ]
  },
  {
   "cell_type": "markdown",
   "id": "542714ac-c739-484c-b7de-97b544599dc1",
   "metadata": {},
   "source": [
    "### Оставшийся сахар\n",
    "Который не забродил ввиду крепости напитка, недостаточной выдержанности или в угоду технологическому трюку и задумке автора"
   ]
  },
  {
   "cell_type": "code",
   "execution_count": 11,
   "id": "d15857f5-ccc9-4942-ab53-314be808a9b6",
   "metadata": {
    "tags": []
   },
   "outputs": [
    {
     "data": {
      "image/png": "[encoded data removed]",
      "text/plain": [
       "<Figure size 640x480 with 1 Axes>"
      ]
     },
     "metadata": {},
     "output_type": "display_data"
    }
   ],
   "source": [
    "wine[\"residual sugar\"].hist(bins=100);"
   ]
  },
  {
   "cell_type": "markdown",
   "id": "a1616d6f-9936-4e0f-aad0-43413797b4ef",
   "metadata": {},
   "source": [
    "Логнормальное распределение, есть длинный хвост, значения можно логарифмизировать, признак подходит для модели"
   ]
  },
  {
   "cell_type": "markdown",
   "id": "5c2c9d05-4ac1-4800-ac06-d3d924f648a5",
   "metadata": {},
   "source": [
    "### Хлориды"
   ]
  },
  {
   "cell_type": "code",
   "execution_count": 12,
   "id": "1d2c654d-602b-4814-aaf8-15a4018e0879",
   "metadata": {
    "tags": []
   },
   "outputs": [
    {
     "data": {
      "image/png": "[encoded data removed]",
      "text/plain": [
       "<Figure size 640x480 with 1 Axes>"
      ]
     },
     "metadata": {},
     "output_type": "display_data"
    }
   ],
   "source": [
    "wine.chlorides.hist(bins=100);"
   ]
  },
  {
   "cell_type": "markdown",
   "id": "74aa5113-5d85-47a1-8810-456d4df329ff",
   "metadata": {},
   "source": [
    "Распределён нормально очень острый пик, есть длинный хвост в сторону больших значений, можно логарифмировать значения, в целом признак подходит для модели"
   ]
  },
  {
   "cell_type": "markdown",
   "id": "18c8f68b-e8c7-412e-bd18-addd8c5ee7c6",
   "metadata": {},
   "source": [
    "### S02 Свободный\n",
    "свободный диоксид серы: свободная форма $SO_2$ существует в равновесии между молекулярным $SO_2$ (в виде растворенного газа) и бисульфит-ионом; предотвращает рост микробов и окисление вина"
   ]
  },
  {
   "cell_type": "code",
   "execution_count": 13,
   "id": "5af9aa13-5e90-44df-b68f-f722a638aa5f",
   "metadata": {
    "tags": []
   },
   "outputs": [
    {
     "data": {
      "image/png": "[encoded data removed]",
      "text/plain": [
       "<Figure size 640x480 with 1 Axes>"
      ]
     },
     "metadata": {},
     "output_type": "display_data"
    }
   ],
   "source": [
    "wine[\"free sulfur dioxide\"].hist(bins=50);"
   ]
  },
  {
   "cell_type": "markdown",
   "id": "243dbf58-73eb-4463-808f-424cc4374773",
   "metadata": {},
   "source": [
    "Логнормальное распределение, признак подходит для модели"
   ]
  },
  {
   "cell_type": "markdown",
   "id": "deed9e61-abc1-4483-a64c-299f9a1bc4d3",
   "metadata": {},
   "source": [
    "### S02 Общий\n",
    "Общий диоксид серы: количество свободной и связанной форм $SO_2$; при низких концентрациях $SO_2$ практически не обнаруживается в вине, но при концентрациях свободного $SO_2$ более 50 частей на миллион$SO_2$ становится заметным в аромате и вкусе вина"
   ]
  },
  {
   "cell_type": "code",
   "execution_count": 14,
   "id": "ffc77867-184f-4a24-82cb-cffb9ef65bd8",
   "metadata": {
    "tags": []
   },
   "outputs": [
    {
     "data": {
      "image/png": "[encoded data removed]",
      "text/plain": [
       "<Figure size 640x480 with 1 Axes>"
      ]
     },
     "metadata": {},
     "output_type": "display_data"
    }
   ],
   "source": [
    "wine[\"total sulfur dioxide\"].hist(bins=50);"
   ]
  },
  {
   "cell_type": "code",
   "execution_count": 15,
   "id": "4bc838f1-4e1a-47ce-bd5f-89b1501ebd08",
   "metadata": {
    "tags": []
   },
   "outputs": [
    {
     "data": {
      "text/plain": [
       "1081    289.0\n",
       "1079    278.0\n",
       "354     165.0\n",
       "1244    160.0\n",
       "651     155.0\n",
       "109     153.0\n",
       "684     152.0\n",
       "672     151.0\n",
       "515     151.0\n",
       "591     149.0\n",
       "Name: total sulfur dioxide, dtype: float64"
      ]
     },
     "execution_count": 15,
     "metadata": {},
     "output_type": "execute_result"
    }
   ],
   "source": [
    "wine[\"total sulfur dioxide\"].sort_values(ascending=False).iloc[:10]"
   ]
  },
  {
   "cell_type": "markdown",
   "id": "e9d19a69-cbab-45d4-90ed-c9f6773ea5b2",
   "metadata": {},
   "source": [
    "Есть два выброса. позволительно от них избавиться"
   ]
  },
  {
   "cell_type": "code",
   "execution_count": 16,
   "id": "feeeadd1-ec86-4d7a-bba9-7c7f83ec52af",
   "metadata": {
    "tags": []
   },
   "outputs": [],
   "source": [
    "wine = wine.drop(wine[\"total sulfur dioxide\"]\n",
    "          .sort_values(ascending=False).iloc[:2].index, axis=\"rows\")"
   ]
  },
  {
   "cell_type": "code",
   "execution_count": 17,
   "id": "a9c924ae-5ba9-4754-a195-780218bb3ff4",
   "metadata": {
    "tags": []
   },
   "outputs": [
    {
     "data": {
      "image/png": "[encoded data removed]",
      "text/plain": [
       "<Figure size 640x480 with 1 Axes>"
      ]
     },
     "metadata": {},
     "output_type": "display_data"
    }
   ],
   "source": [
    "wine[\"total sulfur dioxide\"].hist(bins=50);"
   ]
  },
  {
   "cell_type": "markdown",
   "id": "4ab16ab0-dd04-498e-a723-855746df193b",
   "metadata": {},
   "source": [
    "Красивое логнормальное распределение, признак подходит для модели"
   ]
  },
  {
   "cell_type": "markdown",
   "id": "daaa0125-9559-48a4-9083-b41b1b2c1ec4",
   "metadata": {},
   "source": [
    "### Сульфаты\n",
    "добавка к вину, которая может способствовать повышению уровня сернистого газа ($SO_2$), действующая как противомикробное и антиоксидантное средство."
   ]
  },
  {
   "cell_type": "code",
   "execution_count": 18,
   "id": "d8780ef7-b91c-4d61-b6c2-ed14aedf0bc6",
   "metadata": {
    "tags": []
   },
   "outputs": [
    {
     "data": {
      "image/png": "[encoded data removed]",
      "text/plain": [
       "<Figure size 640x480 with 1 Axes>"
      ]
     },
     "metadata": {},
     "output_type": "display_data"
    }
   ],
   "source": [
    "wine.sulphates.hist(bins=160);"
   ]
  },
  {
   "cell_type": "markdown",
   "id": "2b74d757-a4a4-42bd-9ea6-1caddf58ecca",
   "metadata": {
    "tags": []
   },
   "source": [
    "Хорошее распределение, что-то среднее между логнормальным и нормальным, признак пойдёт в модель"
   ]
  },
  {
   "cell_type": "markdown",
   "id": "b46e22f7-3c37-4755-9826-e79486000ec0",
   "metadata": {},
   "source": [
    "## Плотность\n",
    "\n",
    "В $\\frac{гр}{дм^3}$"
   ]
  },
  {
   "cell_type": "code",
   "execution_count": 19,
   "id": "0848bec2-697c-4ea3-b4d5-bc66614d84a5",
   "metadata": {
    "tags": []
   },
   "outputs": [
    {
     "data": {
      "image/png": "[encoded data removed]",
      "text/plain": [
       "<Figure size 640x480 with 1 Axes>"
      ]
     },
     "metadata": {},
     "output_type": "display_data"
    }
   ],
   "source": [
    "wine.density.hist(bins=60);"
   ]
  },
  {
   "cell_type": "markdown",
   "id": "3e800dd7-061f-4134-a23f-46cd848c7e00",
   "metadata": {},
   "source": [
    "Плотность распределена нормально, числовые значения подходят под модель"
   ]
  },
  {
   "cell_type": "markdown",
   "id": "9854c286-fdb7-47b4-b04b-280c432f3f54",
   "metadata": {},
   "source": [
    "## pH\n",
    "Кислотность вина по шкале pH. Нормальные значения для вина от 2х до 4х, находящиеся в кислом диапазоне"
   ]
  },
  {
   "cell_type": "code",
   "execution_count": 20,
   "id": "51a75801-d235-4c47-bdb7-051ab0638f7a",
   "metadata": {
    "tags": []
   },
   "outputs": [
    {
     "data": {
      "image/png": "[encoded data removed]",
      "text/plain": [
       "<Figure size 640x480 with 1 Axes>"
      ]
     },
     "metadata": {},
     "output_type": "display_data"
    }
   ],
   "source": [
    "wine.pH.hist(bins=100);"
   ]
  },
  {
   "cell_type": "markdown",
   "id": "3a270ebd-f952-4cdb-94e4-455afa5dc001",
   "metadata": {
    "tags": []
   },
   "source": [
    "Кислотность распределена нормально, признак подходит для модели"
   ]
  },
  {
   "cell_type": "markdown",
   "id": "6202ca30-7682-4920-97a0-6a7f1a0a3c43",
   "metadata": {},
   "source": [
    "## Алкоголь\n",
    "Процент от объема жидкости содержания этилового спирта"
   ]
  },
  {
   "cell_type": "code",
   "execution_count": 21,
   "id": "72cbb2d4-7c9f-4e1d-a07a-02bee4c9fdf1",
   "metadata": {
    "tags": []
   },
   "outputs": [
    {
     "data": {
      "image/png": "[encoded data removed]",
      "text/plain": [
       "<Figure size 640x480 with 1 Axes>"
      ]
     },
     "metadata": {},
     "output_type": "display_data"
    }
   ],
   "source": [
    "wine.alcohol.hist(bins=60);"
   ]
  },
  {
   "cell_type": "code",
   "execution_count": 22,
   "id": "0205e2ee-7102-4cc9-92c5-d406d5303d29",
   "metadata": {
    "tags": []
   },
   "outputs": [
    {
     "name": "stdout",
     "output_type": "stream",
     "text": [
      "Представленные вина содержат от 8.4 до 14.9 градусов алкоголя\n"
     ]
    }
   ],
   "source": [
    "print(f\"Представленные вина содержат от {wine.alcohol.min()} до {wine.alcohol.max()} градусов алкоголя\")"
   ]
  },
  {
   "cell_type": "markdown",
   "id": "c99d475b-68ff-4bb8-972c-35d795cce9b8",
   "metadata": {},
   "source": [
    "Признак подходит для модели"
   ]
  },
  {
   "cell_type": "markdown",
   "id": "c9847c3b-3e2d-4403-81d3-1b128151ab3e",
   "metadata": {},
   "source": [
    "## Оценка "
   ]
  },
  {
   "cell_type": "code",
   "execution_count": 23,
   "id": "a1c38e21-6764-4300-9516-8af0f04e0d2b",
   "metadata": {
    "tags": []
   },
   "outputs": [
    {
     "data": {
      "image/png": "[encoded data removed]",
      "text/plain": [
       "<Figure size 640x480 with 1 Axes>"
      ]
     },
     "metadata": {},
     "output_type": "display_data"
    }
   ],
   "source": [
    "wine.quality.value_counts().plot(kind=\"bar\");"
   ]
  },
  {
   "cell_type": "markdown",
   "id": "f2a78af7-ae14-4c66-852f-d01685f79f2c",
   "metadata": {},
   "source": [
    "Вина в датасете оценивают от 3 до 8 баллов.\n",
    "\n",
    "Взглянем на корреляцию признаков с оценкой"
   ]
  },
  {
   "cell_type": "code",
   "execution_count": 24,
   "id": "d4f96829-6f66-4ee1-be08-6509e11c5ee0",
   "metadata": {
    "tags": []
   },
   "outputs": [
    {
     "data": {
      "image/png": "[encoded data removed]",
      "text/plain": [
       "<Figure size 900x900 with 2 Axes>"
      ]
     },
     "metadata": {},
     "output_type": "display_data"
    }
   ],
   "source": [
    "visual_corr(wine.corr())"
   ]
  },
  {
   "cell_type": "markdown",
   "id": "518dd690-bfdc-4aa9-9349-9801430d3157",
   "metadata": {},
   "source": [
    "Слабее всего на оценку влияет количество остаточного сахара, А сильнее всего - содержание алкоголя и летучих кислот. Пожалуй из выборки можно убрать сахар, но пока-что посмотрим как модель отреагирует на данные. В целом признаки ценные."
   ]
  },
  {
   "cell_type": "markdown",
   "id": "12331544-d9b4-4258-9f03-6cb980ea8e9f",
   "metadata": {},
   "source": [
    "# Предобработка"
   ]
  },
  {
   "cell_type": "markdown",
   "id": "c2bfe404-a1bb-463f-b2b9-d3cbb512845c",
   "metadata": {},
   "source": [
    "Стоит задача классификации вина на плохое и хорошее по его характеристикам, поэтому превратим числовой признак оценки в категориальный"
   ]
  },
  {
   "cell_type": "code",
   "execution_count": 25,
   "id": "f0772bd6-e106-49e7-b186-8916cfc12a09",
   "metadata": {
    "tags": []
   },
   "outputs": [],
   "source": [
    "wine_is_good = []\n",
    "\n",
    "for value in wine.quality:\n",
    "    if value >= 6.5: wine_is_good.append(1)\n",
    "    else: wine_is_good.append(0)\n",
    "    \n",
    "wine_is_good = pd.Series(wine_is_good)"
   ]
  },
  {
   "cell_type": "code",
   "execution_count": 26,
   "id": "d094c585-fbd6-4dd0-b2f5-014aa4c3dd38",
   "metadata": {
    "tags": []
   },
   "outputs": [
    {
     "data": {
      "image/png": "[encoded data removed]",
      "text/plain": [
       "<Figure size 640x480 with 1 Axes>"
      ]
     },
     "metadata": {},
     "output_type": "display_data"
    }
   ],
   "source": [
    "wine_is_good.value_counts().plot(kind=\"bar\", title=\"Хорошо ли вино?\");"
   ]
  },
  {
   "cell_type": "markdown",
   "id": "0e87bb11-d257-48fc-b7f5-f6b882b614cb",
   "metadata": {
    "tags": []
   },
   "source": [
    "О нет, выборка неравномерна и плохого вина намного больше! Это значит, что для accuracy как метрики нужно будет уравнять количество плохого и хорошего вина. Или же стоит использовать другую метрику"
   ]
  },
  {
   "cell_type": "markdown",
   "id": "b4f14f11-eea6-40b7-a037-f1a9c98ae84b",
   "metadata": {},
   "source": [
    "## Выборки "
   ]
  },
  {
   "cell_type": "markdown",
   "id": "0db569b1-b318-43a6-bf71-d89990c1109a",
   "metadata": {},
   "source": [
    "Получим массив признаков X"
   ]
  },
  {
   "cell_type": "code",
   "execution_count": 27,
   "id": "ae0145ae-6e68-4b1f-98b8-f51435c0e533",
   "metadata": {
    "tags": []
   },
   "outputs": [],
   "source": [
    "X = wine.drop(\"quality\", axis=\"columns\")"
   ]
  },
  {
   "cell_type": "markdown",
   "id": "948c7ebf-a9a3-4dc9-b45a-b7a884f03c7b",
   "metadata": {},
   "source": [
    "Стандартизируем данные, чтобы модель дала лучший резльутат."
   ]
  },
  {
   "cell_type": "code",
   "execution_count": 28,
   "id": "bb9bd8ed-bb0f-49fd-b8a6-43e4e9de689f",
   "metadata": {
    "tags": []
   },
   "outputs": [],
   "source": [
    "std_sca = StandardScaler()\n",
    "std_sca.fit(X)\n",
    "X = std_sca.transform(X)"
   ]
  },
  {
   "cell_type": "markdown",
   "id": "b7f89cdc-8526-4327-9ec0-5cb261af1e5f",
   "metadata": {
    "tags": []
   },
   "source": [
    "Получим вектор таргета y"
   ]
  },
  {
   "cell_type": "code",
   "execution_count": 29,
   "id": "769a493d-1c7c-4463-bbf6-88f60944d7c0",
   "metadata": {
    "tags": []
   },
   "outputs": [],
   "source": [
    "y = wine_is_good"
   ]
  },
  {
   "cell_type": "markdown",
   "id": "93e46aa8-4c78-43c4-8ac8-03618515767e",
   "metadata": {},
   "source": [
    "Разделим выборку на тренировочную и тестовую"
   ]
  },
  {
   "cell_type": "code",
   "execution_count": 30,
   "id": "8b2a5f47-4714-4d9a-8876-4b0140b09c5d",
   "metadata": {
    "tags": []
   },
   "outputs": [],
   "source": [
    "X_train, X_test, y_train, y_test = train_test_split(X, y,\n",
    "                                                    test_size=0.25,\n",
    "                                                    random_state=42)"
   ]
  },
  {
   "cell_type": "markdown",
   "id": "1612bac5-c971-4ee3-9b9b-cadbe2a49837",
   "metadata": {
    "tags": []
   },
   "source": [
    "# Моделирование"
   ]
  },
  {
   "cell_type": "markdown",
   "id": "98be09f3-3ddc-4313-82b6-57d7da573c58",
   "metadata": {},
   "source": [
    "## Валидация\n",
    "\n",
    "Будем использовать несколько метрик:\n",
    "- Во первых сбывшиеся предсказания обоих типов вин и общее количество их же в тестовой выборке\n",
    "- Во вторых accuracy, чтобы показать отличия метрики, про которую расскажу ниже\n",
    "- В третьих метрика, которую я назвал biclass_metric. Уверен, её придумали 200 лет назад до меня, но мне не интересно искать её, мне было интересно её сделать:)\n",
    "\n",
    "### biclass_metric\n",
    "\n",
    "Является модификацией accuracy, благодяря которой можно сделать последнюю чувствительной к соотношению классифицируемых объектов в выборке. Она помогает уравнять перевес. Важно заметить, что в своей идее и применении она работает на бинарной классификации, но её можно модифицировать и под большее количество классов.\n",
    "\n",
    "$$accuracy * (1 - |\\frac{True\\ Predictions_1}{Total\\ Objects_1} -  \\frac{True\\ Predictions_2}{Total\\ Objects_2}|)$$\n",
    "- $True/ Predictions_1$ - количество верных предсказаний 1 класса объектов \n",
    "- $Total/ Objects_1$ - количество всех объектов 1 класса в выборке. Индекс 2 аналогично обозначаент 2 класс объектов\n",
    "\n"
   ]
  },
  {
   "cell_type": "markdown",
   "id": "c8b5bcbb-b8c9-4ea0-a6cf-8e736555887b",
   "metadata": {},
   "source": [
    "## SVM без ядра"
   ]
  },
  {
   "cell_type": "code",
   "execution_count": 31,
   "id": "21f259bd-6eef-4207-b03a-097dc59c2467",
   "metadata": {
    "tags": []
   },
   "outputs": [
    {
     "data": {
      "text/html": [
       "<div>\n",
       "<style scoped>\n",
       "    .dataframe tbody tr th:only-of-type {\n",
       "        vertical-align: middle;\n",
       "    }\n",
       "\n",
       "    .dataframe tbody tr th {\n",
       "        vertical-align: top;\n",
       "    }\n",
       "\n",
       "    .dataframe thead th {\n",
       "        text-align: right;\n",
       "    }\n",
       "</style>\n",
       "<table border=\"1\" class=\"dataframe\">\n",
       "  <thead>\n",
       "    <tr style=\"text-align: right;\">\n",
       "      <th></th>\n",
       "      <th>good_true</th>\n",
       "      <th>good_total</th>\n",
       "      <th>bad_true</th>\n",
       "      <th>bad_total</th>\n",
       "    </tr>\n",
       "  </thead>\n",
       "  <tbody>\n",
       "    <tr>\n",
       "      <th>LinearSVC</th>\n",
       "      <td>12</td>\n",
       "      <td>48</td>\n",
       "      <td>343</td>\n",
       "      <td>352</td>\n",
       "    </tr>\n",
       "  </tbody>\n",
       "</table>\n",
       "</div>"
      ],
      "text/plain": [
       "           good_true  good_total  bad_true  bad_total\n",
       "LinearSVC         12          48       343        352"
      ]
     },
     "metadata": {},
     "output_type": "display_data"
    },
    {
     "name": "stdout",
     "output_type": "stream",
     "text": [
      "accuracy       0.8875\n",
      "biclass_metric 0.2445667613636363\n"
     ]
    }
   ],
   "source": [
    "lsvc = LinearSVC(max_iter=5000)\n",
    "lsvc.fit(X_train, y_train)\n",
    "\n",
    "metric = metrics(y_test, lsvc.predict(X_test))\n",
    "display(pd.DataFrame(metric.for_accuracy, index=[\"LinearSVC\"]))\n",
    "print(\"accuracy      \", metric.accuracy)\n",
    "print(\"biclass_metric\", metric.biclass_metric)"
   ]
  },
  {
   "cell_type": "markdown",
   "id": "fa1be91b-a0f3-4a7f-8ef6-ff016164f34b",
   "metadata": {
    "tags": []
   },
   "source": [
    "Модель показала слабое значение на оценке хорошего вина, будет бейслайном."
   ]
  },
  {
   "cell_type": "markdown",
   "id": "2cf93af2-f5dd-4c12-8764-b5b478418e57",
   "metadata": {},
   "source": [
    "## SVM с разными ядрами и параметрами"
   ]
  },
  {
   "cell_type": "markdown",
   "id": "2b3dba89-4ace-47a2-a85d-f9830cd0cbce",
   "metadata": {},
   "source": [
    "Буду перебирать параметры для моделей в сетке"
   ]
  },
  {
   "cell_type": "code",
   "execution_count": 32,
   "id": "7b6bcad1-1c71-4182-a36c-43d0e96da41d",
   "metadata": {
    "tags": []
   },
   "outputs": [
    {
     "data": {
      "text/plain": [
       "{'gamma': [0.03, 0.09, 0.3, 0.7, 1, 3],\n",
       " 'C': [0.01, 0.1, 1, 10, 100],\n",
       " 'kernel': ['linear', 'poly', 'rbf', 'sigmoid']}"
      ]
     },
     "execution_count": 32,
     "metadata": {},
     "output_type": "execute_result"
    }
   ],
   "source": [
    "param_grid = dict(gamma=[0.03, 0.09, 0.3, 0.7, 1, 3],\n",
    "                  C=[0.01, 0.1, 1, 10, 100],\n",
    "                  kernel=['linear', 'poly', 'rbf', 'sigmoid'])\n",
    "param_grid"
   ]
  },
  {
   "cell_type": "markdown",
   "id": "93cfbb8f-7fd2-477c-be75-115f9e7671b1",
   "metadata": {},
   "source": [
    "GridSearch считает показатели моделей по его собственным метрикам и я не нашёл, как вставить свои, поэтому перебор мой собственный.\n",
    "\n",
    "Ниже не самый изящный, но рабочий метод формирования перебора всех значений в сетке. "
   ]
  },
  {
   "cell_type": "code",
   "execution_count": 33,
   "id": "fbc24ec6-703d-4394-8de6-8f878c0c86f2",
   "metadata": {
    "tags": []
   },
   "outputs": [],
   "source": [
    "list_of_keys = list(param_grid.keys())\n",
    "\n",
    "\n",
    "lst_of_params = []\n",
    "for v0 in (param_grid[list_of_keys[0]]):\n",
    "    for v1 in (param_grid[list_of_keys[1]]):\n",
    "        for v2 in (param_grid[list_of_keys[2]]):\n",
    "            lst_of_params.append(\n",
    "                      {list_of_keys[0]:v0,\n",
    "                       list_of_keys[1]:v1,\n",
    "                       list_of_keys[2]:v2})"
   ]
  },
  {
   "cell_type": "code",
   "execution_count": 34,
   "id": "96071672-6651-4ceb-a344-b23f56d49b1c",
   "metadata": {
    "tags": []
   },
   "outputs": [
    {
     "name": "stdout",
     "output_type": "stream",
     "text": [
      "Всего вариаций SVC модели: 120\n"
     ]
    }
   ],
   "source": [
    "print(\"Всего вариаций SVC модели:\", len(lst_of_params))"
   ]
  },
  {
   "cell_type": "code",
   "execution_count": 35,
   "id": "b628fb1d-6be3-4ba9-bfaa-3aad1bb0df19",
   "metadata": {
    "tags": []
   },
   "outputs": [
    {
     "name": "stdout",
     "output_type": "stream",
     "text": [
      "CPU times: total: 46.9 ms\n",
      "Wall time: 3min 10s\n"
     ]
    }
   ],
   "source": [
    "%%time\n",
    "\n",
    "# parallel fitting of models\n",
    "results = Parallel(n_jobs=-1)(delayed(get_models_results)(x)\n",
    "                                  for x in chunker(lst_of_params))\n",
    "# change results format to neded\n",
    "models_predicitons = []\n",
    "for i in results:\n",
    "    for j in i:\n",
    "        models_predicitons.append(j)"
   ]
  },
  {
   "cell_type": "markdown",
   "id": "5e172cd5-f63b-4090-a059-559297b65422",
   "metadata": {},
   "source": [
    "## Результаты"
   ]
  },
  {
   "cell_type": "markdown",
   "id": "8e176be6-a31e-4436-b996-6ceb7efdc761",
   "metadata": {},
   "source": [
    "Ещё раз напомню, что для валидности результатов accuracy нужно соблюдать равные пропорции выборки. Поскольку моя тестовая выборка, как и тренировочная, состоит в основном из плохого вина, то я выбрал свой метод отражения качества модели."
   ]
  },
  {
   "cell_type": "code",
   "execution_count": 36,
   "id": "b3fdf772-0174-49e0-b0a4-4817cc073124",
   "metadata": {
    "tags": []
   },
   "outputs": [
    {
     "data": {
      "text/html": [
       "<div>\n",
       "<style scoped>\n",
       "    .dataframe tbody tr th:only-of-type {\n",
       "        vertical-align: middle;\n",
       "    }\n",
       "\n",
       "    .dataframe tbody tr th {\n",
       "        vertical-align: top;\n",
       "    }\n",
       "\n",
       "    .dataframe thead th {\n",
       "        text-align: right;\n",
       "    }\n",
       "</style>\n",
       "<table border=\"1\" class=\"dataframe\">\n",
       "  <thead>\n",
       "    <tr style=\"text-align: right;\">\n",
       "      <th></th>\n",
       "      <th>good_true</th>\n",
       "      <th>good_total</th>\n",
       "      <th>bad_true</th>\n",
       "      <th>bad_total</th>\n",
       "    </tr>\n",
       "  </thead>\n",
       "  <tbody>\n",
       "    <tr>\n",
       "      <th>LinearSVC</th>\n",
       "      <td>0</td>\n",
       "      <td>48</td>\n",
       "      <td>352</td>\n",
       "      <td>352</td>\n",
       "    </tr>\n",
       "  </tbody>\n",
       "</table>\n",
       "</div>"
      ],
      "text/plain": [
       "           good_true  good_total  bad_true  bad_total\n",
       "LinearSVC          0          48       352        352"
      ]
     },
     "metadata": {},
     "output_type": "display_data"
    },
    {
     "name": "stdout",
     "output_type": "stream",
     "text": [
      "accuracy       0.88\n",
      "biclass_metric 0.0\n"
     ]
    }
   ],
   "source": [
    "a = models_predicitons[0]\n",
    "\n",
    "metric = metrics(y_test, a[\"predictions\"])\n",
    "display(pd.DataFrame(metric.for_accuracy, index=[\"LinearSVC\"]))\n",
    "print(\"accuracy      \", metric.accuracy)\n",
    "print(\"biclass_metric\", metric.biclass_metric)"
   ]
  },
  {
   "cell_type": "markdown",
   "id": "d5460b8e-e613-4068-9eb6-44a8b7d1a4ae",
   "metadata": {},
   "source": [
    "Выше пример, в котором модель имеет нулевую классификационную способность и не угадала ни одного хорошего вина, но при этом результат accuracy большой.\n",
    "\n",
    "А метрика, про которую я рассказал в разделе валидации отразила суть - данная модель абсолютно не пригодна для прогнозирования\n",
    "\n",
    "Посмотрим же на результаты всех комбинаций!"
   ]
  },
  {
   "cell_type": "code",
   "execution_count": 37,
   "id": "f4fb3bc8-5d13-440b-882f-0d2d33746822",
   "metadata": {
    "tags": []
   },
   "outputs": [
    {
     "data": {
      "text/html": [
       "<div>\n",
       "<style scoped>\n",
       "    .dataframe tbody tr th:only-of-type {\n",
       "        vertical-align: middle;\n",
       "    }\n",
       "\n",
       "    .dataframe tbody tr th {\n",
       "        vertical-align: top;\n",
       "    }\n",
       "\n",
       "    .dataframe thead th {\n",
       "        text-align: right;\n",
       "    }\n",
       "</style>\n",
       "<table border=\"1\" class=\"dataframe\">\n",
       "  <thead>\n",
       "    <tr style=\"text-align: right;\">\n",
       "      <th></th>\n",
       "      <th>gamma</th>\n",
       "      <th>C</th>\n",
       "      <th>kernel</th>\n",
       "      <th>biclass_metric</th>\n",
       "      <th>accuracy</th>\n",
       "    </tr>\n",
       "  </thead>\n",
       "  <tbody>\n",
       "    <tr>\n",
       "      <th>96</th>\n",
       "      <td>1.00</td>\n",
       "      <td>100.0</td>\n",
       "      <td>linear</td>\n",
       "      <td>0.000000</td>\n",
       "      <td>0.8800</td>\n",
       "    </tr>\n",
       "    <tr>\n",
       "      <th>95</th>\n",
       "      <td>1.00</td>\n",
       "      <td>10.0</td>\n",
       "      <td>sigmoid</td>\n",
       "      <td>0.327689</td>\n",
       "      <td>0.8200</td>\n",
       "    </tr>\n",
       "    <tr>\n",
       "      <th>106</th>\n",
       "      <td>3.00</td>\n",
       "      <td>0.1</td>\n",
       "      <td>rbf</td>\n",
       "      <td>0.000000</td>\n",
       "      <td>0.8800</td>\n",
       "    </tr>\n",
       "    <tr>\n",
       "      <th>18</th>\n",
       "      <td>0.03</td>\n",
       "      <td>100.0</td>\n",
       "      <td>rbf</td>\n",
       "      <td>0.426989</td>\n",
       "      <td>0.9000</td>\n",
       "    </tr>\n",
       "    <tr>\n",
       "      <th>75</th>\n",
       "      <td>0.70</td>\n",
       "      <td>10.0</td>\n",
       "      <td>sigmoid</td>\n",
       "      <td>0.284453</td>\n",
       "      <td>0.8275</td>\n",
       "    </tr>\n",
       "  </tbody>\n",
       "</table>\n",
       "</div>"
      ],
      "text/plain": [
       "     gamma      C   kernel  biclass_metric  accuracy\n",
       "96    1.00  100.0   linear        0.000000    0.8800\n",
       "95    1.00   10.0  sigmoid        0.327689    0.8200\n",
       "106   3.00    0.1      rbf        0.000000    0.8800\n",
       "18    0.03  100.0      rbf        0.426989    0.9000\n",
       "75    0.70   10.0  sigmoid        0.284453    0.8275"
      ]
     },
     "execution_count": 37,
     "metadata": {},
     "output_type": "execute_result"
    }
   ],
   "source": [
    "validation = []\n",
    "for dct in models_predicitons:\n",
    "    metric = metrics(y_test, dct[\"predictions\"])\n",
    "    future_row = dct.copy()\n",
    "    del future_row[\"predictions\"]\n",
    "    future_row[\"biclass_metric\"] = metric.biclass_metric\n",
    "    future_row[\"accuracy\"] = metric.accuracy\n",
    "    validation.append(future_row)    \n",
    "    \n",
    "validation = pd.DataFrame(validation)\n",
    "validation.sample(5)"
   ]
  },
  {
   "cell_type": "markdown",
   "id": "5bf4deb6-7c0c-46ff-8341-217c730f8cb2",
   "metadata": {},
   "source": [
    "Получилось 120 вариантов модели с разными параметрами, выведем 10 лучших из них по моей метрике"
   ]
  },
  {
   "cell_type": "code",
   "execution_count": 38,
   "id": "99aba809-4a81-4cb0-99b6-9a212f13537f",
   "metadata": {
    "tags": []
   },
   "outputs": [
    {
     "data": {
      "text/html": [
       "<div>\n",
       "<style scoped>\n",
       "    .dataframe tbody tr th:only-of-type {\n",
       "        vertical-align: middle;\n",
       "    }\n",
       "\n",
       "    .dataframe tbody tr th {\n",
       "        vertical-align: top;\n",
       "    }\n",
       "\n",
       "    .dataframe thead th {\n",
       "        text-align: right;\n",
       "    }\n",
       "</style>\n",
       "<table border=\"1\" class=\"dataframe\">\n",
       "  <thead>\n",
       "    <tr style=\"text-align: right;\">\n",
       "      <th></th>\n",
       "      <th>gamma</th>\n",
       "      <th>C</th>\n",
       "      <th>kernel</th>\n",
       "      <th>biclass_metric</th>\n",
       "      <th>accuracy</th>\n",
       "    </tr>\n",
       "  </thead>\n",
       "  <tbody>\n",
       "    <tr>\n",
       "      <th>105</th>\n",
       "      <td>3.00</td>\n",
       "      <td>0.1</td>\n",
       "      <td>poly</td>\n",
       "      <td>0.732448</td>\n",
       "      <td>0.8575</td>\n",
       "    </tr>\n",
       "    <tr>\n",
       "      <th>57</th>\n",
       "      <td>0.30</td>\n",
       "      <td>100.0</td>\n",
       "      <td>poly</td>\n",
       "      <td>0.732448</td>\n",
       "      <td>0.8575</td>\n",
       "    </tr>\n",
       "    <tr>\n",
       "      <th>73</th>\n",
       "      <td>0.70</td>\n",
       "      <td>10.0</td>\n",
       "      <td>poly</td>\n",
       "      <td>0.712147</td>\n",
       "      <td>0.8575</td>\n",
       "    </tr>\n",
       "    <tr>\n",
       "      <th>89</th>\n",
       "      <td>1.00</td>\n",
       "      <td>1.0</td>\n",
       "      <td>poly</td>\n",
       "      <td>0.711780</td>\n",
       "      <td>0.8600</td>\n",
       "    </tr>\n",
       "    <tr>\n",
       "      <th>38</th>\n",
       "      <td>0.09</td>\n",
       "      <td>100.0</td>\n",
       "      <td>rbf</td>\n",
       "      <td>0.698712</td>\n",
       "      <td>0.9200</td>\n",
       "    </tr>\n",
       "    <tr>\n",
       "      <th>93</th>\n",
       "      <td>1.00</td>\n",
       "      <td>10.0</td>\n",
       "      <td>poly</td>\n",
       "      <td>0.692259</td>\n",
       "      <td>0.8550</td>\n",
       "    </tr>\n",
       "    <tr>\n",
       "      <th>77</th>\n",
       "      <td>0.70</td>\n",
       "      <td>100.0</td>\n",
       "      <td>poly</td>\n",
       "      <td>0.674917</td>\n",
       "      <td>0.8375</td>\n",
       "    </tr>\n",
       "    <tr>\n",
       "      <th>109</th>\n",
       "      <td>3.00</td>\n",
       "      <td>1.0</td>\n",
       "      <td>poly</td>\n",
       "      <td>0.655090</td>\n",
       "      <td>0.8375</td>\n",
       "    </tr>\n",
       "    <tr>\n",
       "      <th>69</th>\n",
       "      <td>0.70</td>\n",
       "      <td>1.0</td>\n",
       "      <td>poly</td>\n",
       "      <td>0.652794</td>\n",
       "      <td>0.8500</td>\n",
       "    </tr>\n",
       "    <tr>\n",
       "      <th>53</th>\n",
       "      <td>0.30</td>\n",
       "      <td>10.0</td>\n",
       "      <td>poly</td>\n",
       "      <td>0.649569</td>\n",
       "      <td>0.8650</td>\n",
       "    </tr>\n",
       "  </tbody>\n",
       "</table>\n",
       "</div>"
      ],
      "text/plain": [
       "     gamma      C kernel  biclass_metric  accuracy\n",
       "105   3.00    0.1   poly        0.732448    0.8575\n",
       "57    0.30  100.0   poly        0.732448    0.8575\n",
       "73    0.70   10.0   poly        0.712147    0.8575\n",
       "89    1.00    1.0   poly        0.711780    0.8600\n",
       "38    0.09  100.0    rbf        0.698712    0.9200\n",
       "93    1.00   10.0   poly        0.692259    0.8550\n",
       "77    0.70  100.0   poly        0.674917    0.8375\n",
       "109   3.00    1.0   poly        0.655090    0.8375\n",
       "69    0.70    1.0   poly        0.652794    0.8500\n",
       "53    0.30   10.0   poly        0.649569    0.8650"
      ]
     },
     "execution_count": 38,
     "metadata": {},
     "output_type": "execute_result"
    }
   ],
   "source": [
    "validation.sort_values(\"biclass_metric\", ascending=False).iloc[:10]"
   ]
  },
  {
   "cell_type": "markdown",
   "id": "3cbab958-bc43-408a-99dc-219d9ef2c577",
   "metadata": {},
   "source": [
    "Получилось сразу два варианта с лучшими показателями модели, оба используют ядро \"poly\", на 5 строчке затесалось ядро RBF. Выведем победителя"
   ]
  },
  {
   "cell_type": "code",
   "execution_count": 39,
   "id": "196b8641-0a58-408c-a4c1-235b353a09a4",
   "metadata": {
    "tags": []
   },
   "outputs": [
    {
     "data": {
      "text/html": [
       "<div>\n",
       "<style scoped>\n",
       "    .dataframe tbody tr th:only-of-type {\n",
       "        vertical-align: middle;\n",
       "    }\n",
       "\n",
       "    .dataframe tbody tr th {\n",
       "        vertical-align: top;\n",
       "    }\n",
       "\n",
       "    .dataframe thead th {\n",
       "        text-align: right;\n",
       "    }\n",
       "</style>\n",
       "<table border=\"1\" class=\"dataframe\">\n",
       "  <thead>\n",
       "    <tr style=\"text-align: right;\">\n",
       "      <th></th>\n",
       "      <th>good_true</th>\n",
       "      <th>good_total</th>\n",
       "      <th>bad_true</th>\n",
       "      <th>bad_total</th>\n",
       "    </tr>\n",
       "  </thead>\n",
       "  <tbody>\n",
       "    <tr>\n",
       "      <th>LinearSVC</th>\n",
       "      <td>35</td>\n",
       "      <td>48</td>\n",
       "      <td>308</td>\n",
       "      <td>352</td>\n",
       "    </tr>\n",
       "  </tbody>\n",
       "</table>\n",
       "</div>"
      ],
      "text/plain": [
       "           good_true  good_total  bad_true  bad_total\n",
       "LinearSVC         35          48       308        352"
      ]
     },
     "metadata": {},
     "output_type": "display_data"
    },
    {
     "name": "stdout",
     "output_type": "stream",
     "text": [
      "accuracy       0.8575\n",
      "biclass_metric 0.7324479166666666\n"
     ]
    }
   ],
   "source": [
    "svc = SVC(gamma=0.3, C=100, kernel=\"poly\")\n",
    "svc.fit(X_train, y_train)\n",
    "\n",
    "\n",
    "prediciton = svc.predict(X_test)\n",
    "\n",
    "metric = metrics(y_test, prediciton)\n",
    "display(pd.DataFrame(metric.for_accuracy, index=[\"LinearSVC\"]))\n",
    "print(\"accuracy      \", metric.accuracy)\n",
    "print(\"biclass_metric\", metric.biclass_metric)"
   ]
  },
  {
   "cell_type": "markdown",
   "id": "48500a3b-36f5-4e01-ab0f-021a0d5dfb7e",
   "metadata": {},
   "source": [
    "10 лучших по accuracy:"
   ]
  },
  {
   "cell_type": "code",
   "execution_count": 40,
   "id": "69d04134-7821-4ad1-ac53-458723f3c6e4",
   "metadata": {
    "tags": []
   },
   "outputs": [
    {
     "data": {
      "text/html": [
       "<div>\n",
       "<style scoped>\n",
       "    .dataframe tbody tr th:only-of-type {\n",
       "        vertical-align: middle;\n",
       "    }\n",
       "\n",
       "    .dataframe tbody tr th {\n",
       "        vertical-align: top;\n",
       "    }\n",
       "\n",
       "    .dataframe thead th {\n",
       "        text-align: right;\n",
       "    }\n",
       "</style>\n",
       "<table border=\"1\" class=\"dataframe\">\n",
       "  <thead>\n",
       "    <tr style=\"text-align: right;\">\n",
       "      <th></th>\n",
       "      <th>gamma</th>\n",
       "      <th>C</th>\n",
       "      <th>kernel</th>\n",
       "      <th>biclass_metric</th>\n",
       "      <th>accuracy</th>\n",
       "    </tr>\n",
       "  </thead>\n",
       "  <tbody>\n",
       "    <tr>\n",
       "      <th>38</th>\n",
       "      <td>0.09</td>\n",
       "      <td>100.00</td>\n",
       "      <td>rbf</td>\n",
       "      <td>0.698712</td>\n",
       "      <td>0.9200</td>\n",
       "    </tr>\n",
       "    <tr>\n",
       "      <th>90</th>\n",
       "      <td>1.00</td>\n",
       "      <td>1.00</td>\n",
       "      <td>rbf</td>\n",
       "      <td>0.330161</td>\n",
       "      <td>0.9175</td>\n",
       "    </tr>\n",
       "    <tr>\n",
       "      <th>118</th>\n",
       "      <td>3.00</td>\n",
       "      <td>100.00</td>\n",
       "      <td>rbf</td>\n",
       "      <td>0.286719</td>\n",
       "      <td>0.9175</td>\n",
       "    </tr>\n",
       "    <tr>\n",
       "      <th>114</th>\n",
       "      <td>3.00</td>\n",
       "      <td>10.00</td>\n",
       "      <td>rbf</td>\n",
       "      <td>0.286719</td>\n",
       "      <td>0.9175</td>\n",
       "    </tr>\n",
       "    <tr>\n",
       "      <th>98</th>\n",
       "      <td>1.00</td>\n",
       "      <td>100.00</td>\n",
       "      <td>rbf</td>\n",
       "      <td>0.417045</td>\n",
       "      <td>0.9175</td>\n",
       "    </tr>\n",
       "    <tr>\n",
       "      <th>94</th>\n",
       "      <td>1.00</td>\n",
       "      <td>10.00</td>\n",
       "      <td>rbf</td>\n",
       "      <td>0.417045</td>\n",
       "      <td>0.9175</td>\n",
       "    </tr>\n",
       "    <tr>\n",
       "      <th>70</th>\n",
       "      <td>0.70</td>\n",
       "      <td>1.00</td>\n",
       "      <td>rbf</td>\n",
       "      <td>0.331861</td>\n",
       "      <td>0.9150</td>\n",
       "    </tr>\n",
       "    <tr>\n",
       "      <th>78</th>\n",
       "      <td>0.70</td>\n",
       "      <td>100.00</td>\n",
       "      <td>rbf</td>\n",
       "      <td>0.464479</td>\n",
       "      <td>0.9100</td>\n",
       "    </tr>\n",
       "    <tr>\n",
       "      <th>110</th>\n",
       "      <td>3.00</td>\n",
       "      <td>1.00</td>\n",
       "      <td>rbf</td>\n",
       "      <td>0.227500</td>\n",
       "      <td>0.9100</td>\n",
       "    </tr>\n",
       "    <tr>\n",
       "      <th>61</th>\n",
       "      <td>0.70</td>\n",
       "      <td>0.01</td>\n",
       "      <td>poly</td>\n",
       "      <td>0.442936</td>\n",
       "      <td>0.9100</td>\n",
       "    </tr>\n",
       "  </tbody>\n",
       "</table>\n",
       "</div>"
      ],
      "text/plain": [
       "     gamma       C kernel  biclass_metric  accuracy\n",
       "38    0.09  100.00    rbf        0.698712    0.9200\n",
       "90    1.00    1.00    rbf        0.330161    0.9175\n",
       "118   3.00  100.00    rbf        0.286719    0.9175\n",
       "114   3.00   10.00    rbf        0.286719    0.9175\n",
       "98    1.00  100.00    rbf        0.417045    0.9175\n",
       "94    1.00   10.00    rbf        0.417045    0.9175\n",
       "70    0.70    1.00    rbf        0.331861    0.9150\n",
       "78    0.70  100.00    rbf        0.464479    0.9100\n",
       "110   3.00    1.00    rbf        0.227500    0.9100\n",
       "61    0.70    0.01   poly        0.442936    0.9100"
      ]
     },
     "execution_count": 40,
     "metadata": {},
     "output_type": "execute_result"
    }
   ],
   "source": [
    "validation.sort_values(\"accuracy\", ascending=False).iloc[:10]"
   ]
  },
  {
   "cell_type": "markdown",
   "id": "9df9c876-1123-4694-bda0-b8d35d989a0e",
   "metadata": {},
   "source": [
    "Обратная ситуация, на этой стороне превалирует rbf"
   ]
  },
  {
   "cell_type": "markdown",
   "id": "86c22046-8de8-40e6-bfd0-37d4aa7866d5",
   "metadata": {},
   "source": [
    "Лучший результат модели, найденный с помощью ядра poly на основании топовых значений"
   ]
  },
  {
   "cell_type": "code",
   "execution_count": 41,
   "id": "040c7ad7-f5ad-4c08-a527-265a7d1aac28",
   "metadata": {
    "tags": []
   },
   "outputs": [
    {
     "data": {
      "text/html": [
       "<div>\n",
       "<style scoped>\n",
       "    .dataframe tbody tr th:only-of-type {\n",
       "        vertical-align: middle;\n",
       "    }\n",
       "\n",
       "    .dataframe tbody tr th {\n",
       "        vertical-align: top;\n",
       "    }\n",
       "\n",
       "    .dataframe thead th {\n",
       "        text-align: right;\n",
       "    }\n",
       "</style>\n",
       "<table border=\"1\" class=\"dataframe\">\n",
       "  <thead>\n",
       "    <tr style=\"text-align: right;\">\n",
       "      <th></th>\n",
       "      <th>good_true</th>\n",
       "      <th>good_total</th>\n",
       "      <th>bad_true</th>\n",
       "      <th>bad_total</th>\n",
       "    </tr>\n",
       "  </thead>\n",
       "  <tbody>\n",
       "    <tr>\n",
       "      <th>SVC with poly</th>\n",
       "      <td>35</td>\n",
       "      <td>48</td>\n",
       "      <td>308</td>\n",
       "      <td>352</td>\n",
       "    </tr>\n",
       "  </tbody>\n",
       "</table>\n",
       "</div>"
      ],
      "text/plain": [
       "               good_true  good_total  bad_true  bad_total\n",
       "SVC with poly         35          48       308        352"
      ]
     },
     "metadata": {},
     "output_type": "display_data"
    },
    {
     "name": "stdout",
     "output_type": "stream",
     "text": [
      "accuracy       0.8575\n",
      "biclass_metric 0.7324479166666666\n"
     ]
    }
   ],
   "source": [
    "svc = SVC(gamma=0.25, C=200, kernel=\"poly\")\n",
    "svc.fit(X_train, y_train)\n",
    "\n",
    "\n",
    "prediciton_poly = svc.predict(X_test)\n",
    "\n",
    "metric = metrics(y_test, prediciton)\n",
    "display(pd.DataFrame(metric.for_accuracy, index=[\"SVC with poly\"]))\n",
    "print(\"accuracy      \", metric.accuracy)\n",
    "print(\"biclass_metric\", metric.biclass_metric)"
   ]
  },
  {
   "cell_type": "markdown",
   "id": "57d7c65a-11b0-4c4f-b581-1a73cae6f95b",
   "metadata": {},
   "source": [
    "Лучший результат модели, найденый с помоощью ядра rbf на основании топовых значений"
   ]
  },
  {
   "cell_type": "code",
   "execution_count": 42,
   "id": "623acb9d-310a-4e01-a95e-c1e7d75f58e7",
   "metadata": {
    "tags": []
   },
   "outputs": [
    {
     "data": {
      "text/html": [
       "<div>\n",
       "<style scoped>\n",
       "    .dataframe tbody tr th:only-of-type {\n",
       "        vertical-align: middle;\n",
       "    }\n",
       "\n",
       "    .dataframe tbody tr th {\n",
       "        vertical-align: top;\n",
       "    }\n",
       "\n",
       "    .dataframe thead th {\n",
       "        text-align: right;\n",
       "    }\n",
       "</style>\n",
       "<table border=\"1\" class=\"dataframe\">\n",
       "  <thead>\n",
       "    <tr style=\"text-align: right;\">\n",
       "      <th></th>\n",
       "      <th>good_true</th>\n",
       "      <th>good_total</th>\n",
       "      <th>bad_true</th>\n",
       "      <th>bad_total</th>\n",
       "    </tr>\n",
       "  </thead>\n",
       "  <tbody>\n",
       "    <tr>\n",
       "      <th>SVC with RBF</th>\n",
       "      <td>35</td>\n",
       "      <td>48</td>\n",
       "      <td>336</td>\n",
       "      <td>352</td>\n",
       "    </tr>\n",
       "  </tbody>\n",
       "</table>\n",
       "</div>"
      ],
      "text/plain": [
       "              good_true  good_total  bad_true  bad_total\n",
       "SVC with RBF         35          48       336        352"
      ]
     },
     "metadata": {},
     "output_type": "display_data"
    },
    {
     "name": "stdout",
     "output_type": "stream",
     "text": [
      "accuracy       0.9275\n",
      "biclass_metric 0.7184611742424242\n"
     ]
    }
   ],
   "source": [
    "svc = SVC(gamma=0.09, C=90, kernel=\"rbf\")\n",
    "svc.fit(X_train, y_train)\n",
    "\n",
    "\n",
    "prediction_rbf = svc.predict(X_test)\n",
    "\n",
    "metric = metrics(y_test, prediction_rbf)\n",
    "display(pd.DataFrame(metric.for_accuracy, index=[\"SVC with RBF\"]))\n",
    "print(\"accuracy      \", metric.accuracy)\n",
    "print(\"biclass_metric\", metric.biclass_metric)"
   ]
  },
  {
   "cell_type": "markdown",
   "id": "aa960c29-bc8c-40c5-a552-0dcb9d5eb324",
   "metadata": {},
   "source": [
    "Судя по всему rbf - любитель плохого вина, а poly - любитель хорошего. Что, если совместить результаты двух этих ядер для лучшего результата?"
   ]
  },
  {
   "cell_type": "code",
   "execution_count": 43,
   "id": "22eeb080-cfc5-44c9-ac7e-735ef829051a",
   "metadata": {
    "tags": []
   },
   "outputs": [],
   "source": [
    "prediciton_poly_rbf = []\n",
    "\n",
    "for i in (prediciton_poly + prediction_rbf):\n",
    "    # if good wine assumptions intersecting than we need just 1\n",
    "    if i == 2: prediciton_poly_rbf.append(1) \n",
    "    else:      prediciton_poly_rbf.append(i)"
   ]
  },
  {
   "cell_type": "code",
   "execution_count": 44,
   "id": "6a6e219a-31c0-4753-992e-0e0e469e4875",
   "metadata": {
    "tags": []
   },
   "outputs": [
    {
     "data": {
      "text/html": [
       "<div>\n",
       "<style scoped>\n",
       "    .dataframe tbody tr th:only-of-type {\n",
       "        vertical-align: middle;\n",
       "    }\n",
       "\n",
       "    .dataframe tbody tr th {\n",
       "        vertical-align: top;\n",
       "    }\n",
       "\n",
       "    .dataframe thead th {\n",
       "        text-align: right;\n",
       "    }\n",
       "</style>\n",
       "<table border=\"1\" class=\"dataframe\">\n",
       "  <thead>\n",
       "    <tr style=\"text-align: right;\">\n",
       "      <th></th>\n",
       "      <th>good_true</th>\n",
       "      <th>good_total</th>\n",
       "      <th>bad_true</th>\n",
       "      <th>bad_total</th>\n",
       "    </tr>\n",
       "  </thead>\n",
       "  <tbody>\n",
       "    <tr>\n",
       "      <th>SVC with RBF</th>\n",
       "      <td>40</td>\n",
       "      <td>48</td>\n",
       "      <td>308</td>\n",
       "      <td>352</td>\n",
       "    </tr>\n",
       "  </tbody>\n",
       "</table>\n",
       "</div>"
      ],
      "text/plain": [
       "              good_true  good_total  bad_true  bad_total\n",
       "SVC with RBF         40          48       308        352"
      ]
     },
     "metadata": {},
     "output_type": "display_data"
    },
    {
     "name": "stdout",
     "output_type": "stream",
     "text": [
      "accuracy       0.87\n",
      "biclass_metric 0.83375\n"
     ]
    }
   ],
   "source": [
    "metric = metrics(y_test, prediciton_poly_rbf)\n",
    "display(pd.DataFrame(metric.for_accuracy, index=[\"SVC with RBF\"]))\n",
    "print(\"accuracy      \", metric.accuracy)\n",
    "print(\"biclass_metric\", metric.biclass_metric)"
   ]
  },
  {
   "cell_type": "markdown",
   "id": "a3ed0570-e1d0-4f8d-8936-263609c99fce",
   "metadata": {},
   "source": [
    "Вау! Модель отлично подучилась предсказывать хорошие вина, такие предсказания ценнее чем потери в угадывании плохих вин и метра отличная"
   ]
  },
  {
   "cell_type": "markdown",
   "id": "2387b65d-9759-48b0-b675-2c92505c4bcd",
   "metadata": {},
   "source": [
    "Вывод: \"poly\" и \"rbf\" ядра показали наилучший результат, а их ответы оказались совместимыми для улучшения качества модели"
   ]
  }
 ],
 "metadata": {
  "kernelspec": {
   "display_name": "Python 3 (ipykernel)",
   "language": "python",
   "name": "python3"
  },
  "language_info": {
   "codemirror_mode": {
    "name": "ipython",
    "version": 3
   },
   "file_extension": ".py",
   "mimetype": "text/x-python",
   "name": "python",
   "nbconvert_exporter": "python",
   "pygments_lexer": "ipython3",
   "version": "3.11.1"
  }
 },
 "nbformat": 4,
 "nbformat_minor": 5
}
