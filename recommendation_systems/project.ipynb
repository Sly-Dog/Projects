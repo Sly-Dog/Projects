{
 "cells": [
  {
   "cell_type": "markdown",
   "id": "74e76624-7484-49dc-87cf-fc19ad2d51ae",
   "metadata": {
    "tags": []
   },
   "source": [
    "# О проекте\n",
    "\n",
    "Цель проекта - создать рекомендательную систему для сети аптек, чтобы во время покупки зарегестрированному пользователю предлагались товары, которые он будет склонен докупить во время визита в аптеку.\n",
    "\n",
    "Ячейки кода выполняются **только последовательно**, для получения исключительно результатов моделей заголовок EDA можно пропустить. Время на выполнение ноутбука $\\approx 55min$ на AMD Ryzen 5 2600 Six-Core Processor 3.40 GHz"
   ]
  },
  {
   "cell_type": "markdown",
   "id": "8e0a9a22-fccb-41f9-8136-b2856b3f26e9",
   "metadata": {},
   "source": [
    "# DISCLAIMER\n",
    "\n",
    "Максимизация прибыли и способ дать клиенту то, что он хочет это в целом здорово, но не в области здравохранения.\n",
    "Хорошая рекомендательная система для аптек должна включать логику, по которой пользователям не будут предлагаться неэффективные препараты, гомеопатия или же наоборот препараты по рецепту или с сильными побочными эффектами при наличии лучших аналогов. Назначение того или иного лекарства должно быть обоснованно врачом, а рекомендация должна работать скорее на базовых лекарствах, медицинском инвентаре, витаминах и эффективных БАДах.  "
   ]
  },
  {
   "cell_type": "markdown",
   "id": "a7ff2d99-81d8-4d3a-be90-278c07ced839",
   "metadata": {},
   "source": [
    "# import "
   ]
  },
  {
   "cell_type": "markdown",
   "id": "2df11e2a-57aa-4206-b081-d531d6dcbf7e",
   "metadata": {},
   "source": [
    "**Python 3.11.1**\n",
    "\n",
    "```pip\n",
    "fasttext==0.9.2 gensim==4.3.1 scikit-learn==1.2.0 matplotlib==3.6.2 pandas==1.5.2 scipy==1.10.0\n",
    "```"
   ]
  },
  {
   "cell_type": "code",
   "execution_count": 3,
   "id": "9569f0a3-ac21-4e1c-b709-3349ab2d8955",
   "metadata": {},
   "outputs": [],
   "source": [
    "import pickle \n",
    "import pandas as pd\n",
    "import re\n",
    "from joblib import Parallel, delayed\n",
    "\n",
    "from sklearn.preprocessing import MultiLabelBinarizer\n",
    "from sklearn.neighbors import NearestNeighbors\n",
    "from sklearn.utils import shuffle\n",
    "\n",
    "import scipy as sp\n",
    "import numpy as np\n",
    "import math\n",
    "from matplotlib import pyplot as plt\n",
    "\n",
    "\n",
    "import fasttext\n",
    "from gensim.utils import simple_preprocess"
   ]
  },
  {
   "cell_type": "markdown",
   "id": "b571c0c5-3d33-429a-94eb-508c607a2e40",
   "metadata": {},
   "source": [
    "# functions"
   ]
  },
  {
   "cell_type": "code",
   "execution_count": 4,
   "id": "a39d4e18-2f35-4723-a736-3ed3728e33ee",
   "metadata": {},
   "outputs": [],
   "source": [
    "### preprocessing ###\n",
    "\n",
    "\"\"\"extract data from product table\"\"\"\n",
    "def extract_columns(ser):\n",
    "    first_num_pat = re.compile('\\(\\d+\\)')\n",
    "    second_num_pat =re.compile('(-\\d+)$|(\\d+)$')\n",
    "\n",
    "    err = [] \n",
    "    err_idx = []  \n",
    "    product_idx = [] \n",
    "\n",
    "    lst = []\n",
    "    list_of_lists = []\n",
    "    for i in ser.index : \n",
    "\n",
    "        s = ser[i]\n",
    "        lst = []\n",
    "\n",
    "        first_num_search = first_num_pat.search(s)\n",
    "        second_num_search = second_num_pat.search(s)\n",
    "\n",
    "        try:\n",
    "            name_search = s[ first_num_search.span()[1]\n",
    "                             : second_num_search.span()[0] ]\n",
    "\n",
    "            lst.append(first_num_search[0][1:-1])\n",
    "            lst.append(second_num_search[0])\n",
    "            lst.append(name_search[1:-1])\n",
    "\n",
    "            list_of_lists.append(lst)\n",
    "            product_idx.append(i)\n",
    "\n",
    "        except: \n",
    "            err.append(s)\n",
    "            err_idx.append(i)\n",
    "\n",
    "\n",
    "    df = pd.DataFrame(list_of_lists,\n",
    "                      columns=[\"mystery\", \"subcategory\", \"name\"],\n",
    "                      index=product_idx)\n",
    "\n",
    "    df = df.astype({'mystery': 'int64',\n",
    "               \"subcategory\": \"int32\",\n",
    "              \"name\": \"string\"})\n",
    "\n",
    "    return df, pd.Series(err, index=err_idx)\n",
    "\n",
    "\"\"\"remove \"(12341234) \" like thing in string\"\"\"\n",
    "def get_name(s):\n",
    "    first_num_pat = re.compile('\\(\\d+\\)')\n",
    "    return s[first_num_pat.search(s).span()[1] + 1:]\n",
    "\n",
    "\n",
    "\"\"\"Turn set into train and test set\"\"\"\n",
    "# [1,2,3,4,5] -> [[1,2,3], [4,5]] etc. Proportion: 2/1\n",
    "def train_test_validation(series_of_lists):\n",
    "    list_of_lists_of_list = []\n",
    "    for original_list in series_of_lists:\n",
    "\n",
    "\n",
    "        # Define the split list with desired lengths\n",
    "        l = len(original_list)\n",
    "        train = int(l*2/3)\n",
    "        test = l - train\n",
    "\n",
    "        split_list = [train,test]\n",
    "\n",
    "        # Initialize an empty list to store the resultant split list\n",
    "        resultant_split_list = []\n",
    "\n",
    "        # Initialize a variable to keep track of the starting index of each slice in the original list\n",
    "        start_index = 0\n",
    "\n",
    "        # Iterate over the split list\n",
    "        for length in split_list:\n",
    "            # Take a slice of the original list starting from the start_index and ending at start_index + length\n",
    "            slice_list = original_list[start_index:start_index+length]\n",
    "            # Append the slice to the resultant split list\n",
    "            resultant_split_list.append(slice_list)\n",
    "            # Update the start_index to point to the start of the next slice\n",
    "            start_index += length\n",
    "\n",
    "        #print the resultant split list\n",
    "        list_of_lists_of_list.append(resultant_split_list)\n",
    "    \n",
    "    return pd.DataFrame(list_of_lists_of_list,\n",
    "                        columns=[\"train\", \"test\"],\n",
    "                        index=series_of_lists.index)\n",
    "\n",
    "\n",
    "\"\"\"split list into n chunks\"\"\"\n",
    "def chunker(lst, n_chunks=12):\n",
    "    lists_of_lists = []\n",
    "    n_chunks = 12\n",
    "\n",
    "    shard = len(lst)//n_chunks\n",
    "    counter = 0 \n",
    "    last_item = shard\n",
    "    for i in range(n_chunks):\n",
    "        if i == n_chunks-1:\n",
    "            lists_of_lists.append(lst[counter:])\n",
    "        else:\n",
    "            lists_of_lists.append(lst[counter:last_item])\n",
    "            counter += shard\n",
    "            last_item += shard\n",
    "        \n",
    "    return lists_of_lists\n",
    "\n",
    "\n",
    "def get_conctact_goods_list(contact_ids):\n",
    "    contacts_goods_list = []\n",
    "\n",
    "    for i in contact_ids:\n",
    "        lst = []\n",
    "        for j in day_distinct_cheks.loc[i].product_id:\n",
    "            lst += j\n",
    "        contacts_goods_list.append(lst)\n",
    "    \n",
    "    return contacts_goods_list\n",
    "\n",
    "\n",
    "\n",
    "\n",
    "\"\"\"drop duplicates from a list, while preserving order\"\"\"\n",
    "def f7(seq):\n",
    "    seen = set()\n",
    "    seen_add = seen.add\n",
    "    return [x for x in seq if not (x in seen or seen_add(x))]\n",
    "\n",
    "'''get only name of the product'''\n",
    "num_pattern = re.compile('\\d')\n",
    "def num_cutter(s):\n",
    "    try: return s[:num_pattern.search(s).span()[0]]\n",
    "    except: return s\n",
    "\n",
    "\n",
    "### models ###\n",
    "\n",
    "\"\"\"My recommendation collaborative user based algorithm\"\"\"\n",
    "def get_recs(lst, similar_row_top_n=20, recomendations_n=100):\n",
    "\n",
    "    recs = []\n",
    "\n",
    "    for i in lst:\n",
    "\n",
    "        current_row_nonzero_columns_idx = df_csr[i,:].indices\n",
    "        p1 = sp.sparse.csr_matrix(df_csc[:, current_row_nonzero_columns_idx])\n",
    "\n",
    "        nonzero_idx = np.unique(p1.nonzero()[0])\n",
    "        nonzero_M = df_csr[nonzero_idx,]\n",
    "\n",
    "        # This costs a lot\n",
    "        top_n_idx = pd.Series(\n",
    "        np.sum(nonzero_M[:,current_row_nonzero_columns_idx].A.T,\n",
    "               axis=0)).sort_values(ascending=False).iloc[:similar_row_top_n].index\n",
    "\n",
    "        vector_sums = nonzero_M[top_n_idx,].sum(axis=0).A1\n",
    "\n",
    "        recomendations = pd.Series(np.delete(vector_sums,\n",
    "                                             current_row_nonzero_columns_idx),\n",
    "                                   index=np.delete(mlb.classes_,\n",
    "            current_row_nonzero_columns_idx)).sort_values(ascending=False)\n",
    "\n",
    "        recs.append(recomendations.index[:recomendations_n])\n",
    "    return recs\n",
    "\n",
    "\n",
    "\n",
    "\"\"\"Need for getting names of the product by id or generate w2v arrays\"\"\"\n",
    "def transform_array(transform_stuff, array):\n",
    "\n",
    "    list_of_lists = [] # to func!\n",
    "    for lst in array:\n",
    "        list_of_items = []\n",
    "        for item in lst:\n",
    "            list_of_items.append(transform_stuff[item])\n",
    "        list_of_lists.append(list_of_items)\n",
    "    return list_of_lists\n",
    "\n",
    "\"\"\"Model for generating 2 stage recomendations with w2v and collab. method\"\"\"\n",
    "def get_2stage_w2v_collab_recs(lst_of_indexes):\n",
    "    recs = []\n",
    "    for i in lst_of_indexes:\n",
    "        neigh_index = (neigh_checks.kneighbors(\n",
    "                                 [w2v_cheks_test_arrays[i]],\n",
    "                                 15000, return_distance=False)[0])\n",
    "\n",
    "\n",
    "        need = df_csr[neigh_index,:]\n",
    "        need_index = np.unique(need.indices)\n",
    "        non_sparse_index = mlb.classes_[need_index]\n",
    "        \n",
    "        row = np.sum(need[:, need_index].A,axis=0)\n",
    "        recs.append( list(pd.Series(row, index=non_sparse_index).sort_values(\n",
    "             ascending=False).index[:100]) )\n",
    "\n",
    "    return recs\n",
    "\n",
    "'''Model to generate w2v recomendations by product subsequence in checks '''\n",
    "def get_w2v_check_recs(lst_of_indexes):\n",
    "    recs = []\n",
    "    for i in lst_of_indexes: \n",
    "\n",
    "        arr = []\n",
    "        for i, nebur in enumerate(neigh_checks.kneighbors([w2v_cheks_test_arrays[i]],\n",
    "                                 100000, return_distance=False)[0]):\n",
    "            arr += [x for x in X_train.iloc[nebur] \n",
    "                    if x not in X_test.iloc[i]\n",
    "                    if x not in arr]\n",
    "            if len(arr) >= 100:\n",
    "\n",
    "                break\n",
    "        recs.append(arr[:100])\n",
    "    return recs\n",
    "\n",
    "\n",
    "'''get metrics of the recomendations'''\n",
    "def get_validation(recs, y_test):\n",
    "    validation = []\n",
    "    for num in range(len(recs)):\n",
    "        rec_idx = []\n",
    "        for i, rec in enumerate(recs[num]):\n",
    "            if rec in y_test.iloc[num]: rec_idx.append(i)\n",
    "        validation.append(rec_idx)\n",
    "        \n",
    "    success_recs_count = pd.Series(validation).apply(len)\n",
    "    \n",
    "    rank_distribution = []\n",
    "    for i in validation: rank_distribution += i\n",
    "    rank_distribution = pd.Series(rank_distribution)\n",
    "    \n",
    "    count_division = success_recs_count/\\\n",
    "                     y_test.apply(len).reset_index(drop=True)\n",
    "    \n",
    "    return validation, success_recs_count, rank_distribution, count_division"
   ]
  },
  {
   "cell_type": "markdown",
   "id": "55acd522-b6ee-4f87-a874-8797466f9812",
   "metadata": {},
   "source": [
    "# data"
   ]
  },
  {
   "cell_type": "code",
   "execution_count": 5,
   "id": "817a73dd-4d1d-45cb-a8a8-4bce0ad15c5c",
   "metadata": {},
   "outputs": [],
   "source": [
    "with open(\"Product_dict.pkl\",\"rb\") as f:\n",
    "    product_dict = pickle.load(f)\n",
    "product_df = pd.DataFrame(product_dict,index=[\"info\"]).T\n",
    "\n",
    "checks = pd.read_csv('checks.csv', low_memory=False)\n",
    "\n",
    "# copy for independency of the EDA and preprocessing\n",
    "product_df_copy = product_df\n",
    "checks_copy     = checks"
   ]
  },
  {
   "cell_type": "markdown",
   "id": "210d1c40-f61a-4374-9430-992076a39e92",
   "metadata": {
    "tags": [],
    "toc-hr-collapsed": true
   },
   "source": [
    "# EDA \n",
    "\n",
    "Важно заметить, что разведывательный анализ данных динамический - то есть с последовательной предобработкой. Это позволяет сразу удалять неподходящие для столбца строки и не тратить на них время в других колонках. "
   ]
  },
  {
   "cell_type": "code",
   "execution_count": 6,
   "id": "6ef328f3-f1dc-4756-9c57-6a7d1654412b",
   "metadata": {},
   "outputs": [
    {
     "name": "stderr",
     "output_type": "stream",
     "text": [
      "C:\\Users\\zetet\\AppData\\Local\\Temp\\ipykernel_14804\\9801815.py:5: DtypeWarning: Columns (1) have mixed types. Specify dtype option on import or set low_memory=False.\n",
      "  checks = pd.read_csv('checks.csv')\n"
     ]
    }
   ],
   "source": [
    "with open(\"Product_dict.pkl\",\"rb\") as f:\n",
    "    product_dict = pickle.load(f)\n",
    "product_df = pd.DataFrame(product_dict,index=[\"info\"]).T\n",
    "\n",
    "checks = pd.read_csv('checks.csv')"
   ]
  },
  {
   "cell_type": "markdown",
   "id": "2fa6ddcb-1bfe-48f3-9267-cd841f569ae2",
   "metadata": {},
   "source": [
    "## product_id связывает две таблицы"
   ]
  },
  {
   "cell_type": "code",
   "execution_count": 7,
   "id": "091970a5-da88-452b-8e30-dd6a31308f5e",
   "metadata": {},
   "outputs": [
    {
     "data": {
      "text/plain": [
       "sale_date_date                                                    2018-12-07\n",
       "contact_id                                                            198287\n",
       "shop_id                                                                279.0\n",
       "product_id                                                          134832.0\n",
       "name                       (62448) Перекись водорода р-р наружн. 3% фл.по...\n",
       "product_sub_category_id                                                404.0\n",
       "product_category_id                                                     93.0\n",
       "brand_id                                                                -1.0\n",
       "quantity                                                                1,00\n",
       "Name: 1, dtype: object"
      ]
     },
     "metadata": {},
     "output_type": "display_data"
    },
    {
     "data": {
      "text/plain": [
       "'(62448) Перекись водорода р-р наружн. 3% фл.полимерн. 100мл'"
      ]
     },
     "execution_count": 7,
     "metadata": {},
     "output_type": "execute_result"
    }
   ],
   "source": [
    "display(checks.iloc[1])\n",
    "checks.iloc[1][\"name\"]"
   ]
  },
  {
   "cell_type": "markdown",
   "id": "4ccbc41c-b662-4907-a3dc-618111e1d2f8",
   "metadata": {},
   "source": [
    "## product_df"
   ]
  },
  {
   "cell_type": "code",
   "execution_count": 8,
   "id": "1314203c-4cde-484c-a0d4-435cd18268a7",
   "metadata": {},
   "outputs": [
    {
     "name": "stdout",
     "output_type": "stream",
     "text": [
      "<class 'pandas.core.frame.DataFrame'>\n",
      "Index: 30418 entries, 168308 to 192468\n",
      "Data columns (total 1 columns):\n",
      " #   Column  Non-Null Count  Dtype \n",
      "---  ------  --------------  ----- \n",
      " 0   info    30418 non-null  object\n",
      "dtypes: object(1)\n",
      "memory usage: 475.3+ KB\n"
     ]
    }
   ],
   "source": [
    "product_df.info()"
   ]
  },
  {
   "cell_type": "markdown",
   "id": "ddb61918-b25c-4859-bd4c-44b2ea52c9e1",
   "metadata": {},
   "source": [
    "На первый взляд нет пропусков"
   ]
  },
  {
   "cell_type": "code",
   "execution_count": 9,
   "id": "169e9eda-02a3-4016-9d8c-e6449329131f",
   "metadata": {},
   "outputs": [
    {
     "data": {
      "text/plain": [
       "N/A -1                                                 260\n",
       "(42390) Леденцы с экстрактом эхинацеи пак 50г №1 -1      1\n",
       "(34011) Календулы настойка жидк фл 40мл N1 613           1\n",
       "Name: info, dtype: int64"
      ]
     },
     "execution_count": 9,
     "metadata": {},
     "output_type": "execute_result"
    }
   ],
   "source": [
    "product_df[\"info\"].value_counts()[:3]"
   ]
  },
  {
   "cell_type": "markdown",
   "id": "456c7b29-639a-4b16-a187-dc1c6240959e",
   "metadata": {},
   "source": [
    "На второй взгляд есть пропуски, их следует удалить, поскольку их невозможно заполнить"
   ]
  },
  {
   "cell_type": "markdown",
   "id": "3a4fd7af-69c9-4626-a13a-4c629d46684d",
   "metadata": {},
   "source": [
    "Посмотрим на структуру строк"
   ]
  },
  {
   "cell_type": "code",
   "execution_count": 10,
   "id": "c6fa9276-e338-4850-91b7-f48cbbf94ebb",
   "metadata": {},
   "outputs": [
    {
     "name": "stdout",
     "output_type": "stream",
     "text": [
      "(197312) Пакет-майка 25см х 45см 906\n",
      "(62448) Перекись водорода р-р наружн. 3% фл.полимерн. 100мл 404\n",
      "(72183) Салициловая кислота р-р спирт 2% фл 40мл N1 404\n",
      "\n",
      "с индексами:\n",
      " 168308                 (197312) Пакет-майка 25см х 45см 906\n",
      "134832    (62448) Перекись водорода р-р наружн. 3% фл.по...\n",
      "101384    (72183) Салициловая кислота р-р спирт 2% фл 40...\n",
      "Name: info, dtype: object\n"
     ]
    }
   ],
   "source": [
    "for i in range(3): print(product_df[\"info\"][i])\n",
    "print(\"\\nс индексами:\\n\",product_df[\"info\"][:3])"
   ]
  },
  {
   "cell_type": "markdown",
   "id": "2abed97b-65ec-45a5-ba43-fb0e14c34e96",
   "metadata": {},
   "source": [
    "**Есть числа вначале и в конце**\n",
    "- Число в конце - подкатегория товара. Ею можно заполнить пропуски подкатегорий в чеках.\n",
    "- Число в начале - что-то мистическое, что нельзя определить по имеющимся столбцам в чеках. Можно предположить, что это количество товара на складе."
   ]
  },
  {
   "cell_type": "markdown",
   "id": "c0a5d840-ac6e-4ba2-b831-105a4c18fc28",
   "metadata": {},
   "source": [
    "**Атомизируем ячейки таблицы**"
   ]
  },
  {
   "cell_type": "code",
   "execution_count": 11,
   "id": "4a048ef5-4590-4df8-8783-ebb5c52586de",
   "metadata": {},
   "outputs": [],
   "source": [
    "product_df, err = extract_columns(product_df[\"info\"])"
   ]
  },
  {
   "cell_type": "markdown",
   "id": "716499c7-b48b-4431-9154-91fcc77e598a",
   "metadata": {},
   "source": [
    "Возможно некоторых подкатегорий(0,1) нет в продуктовом каталоге, но есть в чеках. Нет - всё норм.\n",
    "\n",
    "Но часть чеков с категорией -1 не являются неопозноваемыми, их категория есть в каталоге."
   ]
  },
  {
   "cell_type": "code",
   "execution_count": 12,
   "id": "76a06233-62ab-4691-aabf-4790a1de0e7a",
   "metadata": {},
   "outputs": [
    {
     "name": "stdout",
     "output_type": "stream",
     "text": [
      "<class 'pandas.core.frame.DataFrame'>\n",
      "Index: 29722 entries, 168308 to 192468\n",
      "Data columns (total 3 columns):\n",
      " #   Column       Non-Null Count  Dtype \n",
      "---  ------       --------------  ----- \n",
      " 0   mystery      29722 non-null  int64 \n",
      " 1   subcategory  29722 non-null  int32 \n",
      " 2   name         29722 non-null  string\n",
      "dtypes: int32(1), int64(1), string(1)\n",
      "memory usage: 812.7+ KB\n"
     ]
    }
   ],
   "source": [
    "product_df.info()"
   ]
  },
  {
   "cell_type": "markdown",
   "id": "00f095a7-7b12-401b-8c73-2ad32769e05c",
   "metadata": {},
   "source": [
    "Часть строк отсеялось в связи с ошибками при получении колонок из строк."
   ]
  },
  {
   "cell_type": "code",
   "execution_count": 13,
   "id": "fb6974f9-1e55-4e3c-9a7b-8f7028c2e045",
   "metadata": {},
   "outputs": [
    {
     "data": {
      "text/plain": [
       "170438                                               N/A -1\n",
       "178567                                               N/A -1\n",
       "198929    (443242e3-3650-11e7-8157-00155d5ea771) Ободков...\n",
       "195667      (0034dc95-5bf2-11e7-815c-00155d01e612) BOSS 865\n",
       "203869    (142a63d5-5bf4-11e7-815c-00155d01e612) Marc Ja...\n",
       "180382                                               N/A -1\n",
       "222381        (0000123186 ) Коробка шляпная микс 11*11см -1\n",
       "212546    (6852ad62-83e2-11e7-8168-00155d01e12c) SV 1.5 ...\n",
       "204023    (c9d97f34-3ece-11e7-8159-00155d01e6f9) MAXIMA ...\n",
       "211111    (9d443cd6-b985-11e7-8aa6-00155d084300) STARCK 865\n",
       "dtype: object"
      ]
     },
     "execution_count": 13,
     "metadata": {},
     "output_type": "execute_result"
    }
   ],
   "source": [
    "err.sample(10)"
   ]
  },
  {
   "cell_type": "markdown",
   "id": "e02ca38c-85e7-4cb9-ad65-bc592454a0d5",
   "metadata": {},
   "source": [
    "Ошибки содержат пропуски, разного рода медицинские анализы, виды растений, частей оптики и прочих не относящихся к аптеке вещей. Их обязательно нужно исключить"
   ]
  },
  {
   "cell_type": "code",
   "execution_count": 14,
   "id": "49db0bb1-161a-4876-98e7-10b79c1fb218",
   "metadata": {},
   "outputs": [
    {
     "name": "stdout",
     "output_type": "stream",
     "text": [
      "В подкатегориях есть пропуски и их: 5099\n"
     ]
    }
   ],
   "source": [
    "print(\"В подкатегориях есть пропуски и их:\",len(product_df[product_df.subcategory==-1]))"
   ]
  },
  {
   "cell_type": "markdown",
   "id": "f72174e9-9f16-4bb8-a7a9-aac3541b83b3",
   "metadata": {},
   "source": [
    "Однако не во всех пропусках подкатегории нет данных:"
   ]
  },
  {
   "cell_type": "code",
   "execution_count": 15,
   "id": "d1889f1f-7c66-408b-850e-2bbf6b524c7b",
   "metadata": {},
   "outputs": [
    {
     "data": {
      "text/plain": [
       "mystery                                                    66684\n",
       "subcategory                                                   -1\n",
       "name           Пакет майка \"Благодарим за покупку\" (28+14) х ...\n",
       "Name: 94270, dtype: object"
      ]
     },
     "execution_count": 15,
     "metadata": {},
     "output_type": "execute_result"
    }
   ],
   "source": [
    "product_df[product_df.subcategory==-1].iloc[0]"
   ]
  },
  {
   "cell_type": "markdown",
   "id": "ee6cd752-fdcc-4bfd-9b2e-5516869bc82e",
   "metadata": {},
   "source": [
    "Но все же есть пропуски без полезной информации"
   ]
  },
  {
   "cell_type": "code",
   "execution_count": 16,
   "id": "4aca24c0-1ac6-41ae-babd-123fc3ec1969",
   "metadata": {},
   "outputs": [
    {
     "data": {
      "text/html": [
       "<div>\n",
       "<style scoped>\n",
       "    .dataframe tbody tr th:only-of-type {\n",
       "        vertical-align: middle;\n",
       "    }\n",
       "\n",
       "    .dataframe tbody tr th {\n",
       "        vertical-align: top;\n",
       "    }\n",
       "\n",
       "    .dataframe thead th {\n",
       "        text-align: right;\n",
       "    }\n",
       "</style>\n",
       "<table border=\"1\" class=\"dataframe\">\n",
       "  <thead>\n",
       "    <tr style=\"text-align: right;\">\n",
       "      <th></th>\n",
       "      <th>mystery</th>\n",
       "      <th>subcategory</th>\n",
       "      <th>name</th>\n",
       "    </tr>\n",
       "  </thead>\n",
       "  <tbody>\n",
       "    <tr>\n",
       "      <th>349434</th>\n",
       "      <td>260236</td>\n",
       "      <td>-1</td>\n",
       "      <td>название</td>\n",
       "    </tr>\n",
       "    <tr>\n",
       "      <th>213597</th>\n",
       "      <td>110031974</td>\n",
       "      <td>-1</td>\n",
       "      <td>название</td>\n",
       "    </tr>\n",
       "    <tr>\n",
       "      <th>213576</th>\n",
       "      <td>110031973</td>\n",
       "      <td>-1</td>\n",
       "      <td>название</td>\n",
       "    </tr>\n",
       "    <tr>\n",
       "      <th>192519</th>\n",
       "      <td>110041248</td>\n",
       "      <td>-1</td>\n",
       "      <td>название</td>\n",
       "    </tr>\n",
       "    <tr>\n",
       "      <th>192817</th>\n",
       "      <td>110048361</td>\n",
       "      <td>-1</td>\n",
       "      <td>название</td>\n",
       "    </tr>\n",
       "    <tr>\n",
       "      <th>...</th>\n",
       "      <td>...</td>\n",
       "      <td>...</td>\n",
       "      <td>...</td>\n",
       "    </tr>\n",
       "    <tr>\n",
       "      <th>193603</th>\n",
       "      <td>110044169</td>\n",
       "      <td>-1</td>\n",
       "      <td>название</td>\n",
       "    </tr>\n",
       "    <tr>\n",
       "      <th>193484</th>\n",
       "      <td>110050486</td>\n",
       "      <td>-1</td>\n",
       "      <td>название</td>\n",
       "    </tr>\n",
       "    <tr>\n",
       "      <th>192459</th>\n",
       "      <td>110020427</td>\n",
       "      <td>-1</td>\n",
       "      <td>название</td>\n",
       "    </tr>\n",
       "    <tr>\n",
       "      <th>193510</th>\n",
       "      <td>110047818</td>\n",
       "      <td>-1</td>\n",
       "      <td>название</td>\n",
       "    </tr>\n",
       "    <tr>\n",
       "      <th>192468</th>\n",
       "      <td>110042981</td>\n",
       "      <td>-1</td>\n",
       "      <td>название</td>\n",
       "    </tr>\n",
       "  </tbody>\n",
       "</table>\n",
       "<p>558 rows × 3 columns</p>\n",
       "</div>"
      ],
      "text/plain": [
       "          mystery  subcategory      name\n",
       "349434     260236           -1  название\n",
       "213597  110031974           -1  название\n",
       "213576  110031973           -1  название\n",
       "192519  110041248           -1  название\n",
       "192817  110048361           -1  название\n",
       "...           ...          ...       ...\n",
       "193603  110044169           -1  название\n",
       "193484  110050486           -1  название\n",
       "192459  110020427           -1  название\n",
       "193510  110047818           -1  название\n",
       "192468  110042981           -1  название\n",
       "\n",
       "[558 rows x 3 columns]"
      ]
     },
     "execution_count": 16,
     "metadata": {},
     "output_type": "execute_result"
    }
   ],
   "source": [
    "product_df[(product_df.subcategory==-1) & (product_df.name == \"название\")]"
   ]
  },
  {
   "cell_type": "markdown",
   "id": "32da867d-c055-4174-9012-50201a58a1b1",
   "metadata": {},
   "source": [
    "Исключим их"
   ]
  },
  {
   "cell_type": "code",
   "execution_count": 17,
   "id": "ae31b777-e04a-408a-a9f7-f9ee0445e450",
   "metadata": {},
   "outputs": [],
   "source": [
    "product_df = product_df.drop(\n",
    "    product_df[(product_df.subcategory==-1) \n",
    "               & (product_df.name == \"название\")].index, axis=\"rows\")"
   ]
  },
  {
   "cell_type": "code",
   "execution_count": 18,
   "id": "9d137487-475c-4cba-b74e-c0030fe24e28",
   "metadata": {},
   "outputs": [
    {
     "data": {
      "text/plain": [
       "97855               4\n",
       "131614              5\n",
       "63525              10\n",
       "121939             11\n",
       "41256              19\n",
       "             ...     \n",
       "218623    20016679418\n",
       "220577    20016679434\n",
       "220278    20016679510\n",
       "219634    20016679644\n",
       "221842    20016679658\n",
       "Name: mystery, Length: 29164, dtype: int64"
      ]
     },
     "execution_count": 18,
     "metadata": {},
     "output_type": "execute_result"
    }
   ],
   "source": [
    "product_df.mystery.sort_values()"
   ]
  },
  {
   "cell_type": "code",
   "execution_count": 19,
   "id": "47885e56-369c-488a-a551-2e7ebc8481b9",
   "metadata": {},
   "outputs": [
    {
     "data": {
      "text/plain": [
       "156344    123832\n",
       "Name: mystery, dtype: int64"
      ]
     },
     "execution_count": 19,
     "metadata": {},
     "output_type": "execute_result"
    }
   ],
   "source": [
    "product_df.mystery.sample()"
   ]
  },
  {
   "cell_type": "markdown",
   "id": "cd6db9e6-fa13-48da-9c99-1afc149d9fd5",
   "metadata": {},
   "source": [
    "mystery не является общим числом продаж"
   ]
  },
  {
   "cell_type": "code",
   "execution_count": 20,
   "id": "a07542e7-276b-49be-a9c0-5016425d1326",
   "metadata": {},
   "outputs": [
    {
     "data": {
      "text/plain": [
       "product_id\n",
       "363586.0         1\n",
       "233397.0         1\n",
       "214916.0         1\n",
       "120091.0         1\n",
       "214914.0         1\n",
       "             ...  \n",
       "137539.0     77153\n",
       "110629.0     87792\n",
       "158662.0     89851\n",
       "168308.0    118106\n",
       "129195.0    169191\n",
       "Name: sale_date_date, Length: 36549, dtype: int64"
      ]
     },
     "execution_count": 20,
     "metadata": {},
     "output_type": "execute_result"
    }
   ],
   "source": [
    "checks.groupby(\"product_id\").sale_date_date.count().sort_values()"
   ]
  },
  {
   "cell_type": "code",
   "execution_count": 21,
   "id": "845f8b94-b3c5-4dcd-9648-f4ffe5b3dc26",
   "metadata": {},
   "outputs": [
    {
     "data": {
      "text/plain": [
       "product_sub_category_id\n",
       " 939.0          1\n",
       " 587.0          1\n",
       " 630.0          1\n",
       " 660.0          1\n",
       " 704.0          1\n",
       "           ...   \n",
       " 404.0     588604\n",
       "-1.0       652908\n",
       " 595.0     749197\n",
       " 397.0     841103\n",
       " 738.0    2555316\n",
       "Name: product_id, Length: 440, dtype: int64"
      ]
     },
     "execution_count": 21,
     "metadata": {},
     "output_type": "execute_result"
    }
   ],
   "source": [
    "checks.groupby(\"product_sub_category_id\").product_id.count().sort_values()"
   ]
  },
  {
   "cell_type": "code",
   "execution_count": 22,
   "id": "b35a3c09-8897-4c83-b456-5076aa74a722",
   "metadata": {},
   "outputs": [
    {
     "data": {
      "text/plain": [
       "1251     2\n",
       "15514    2\n",
       "15615    2\n",
       "24796    2\n",
       "15533    2\n",
       "        ..\n",
       "28136    1\n",
       "57707    1\n",
       "79611    1\n",
       "55810    1\n",
       "94866    1\n",
       "Name: mystery, Length: 29148, dtype: int64"
      ]
     },
     "execution_count": 22,
     "metadata": {},
     "output_type": "execute_result"
    }
   ],
   "source": [
    "product_df.mystery.value_counts()"
   ]
  },
  {
   "cell_type": "markdown",
   "id": "f2ee11c1-32a9-4d73-9cc9-eca9c30d9c9e",
   "metadata": {},
   "source": [
    "**И не является количеством продаж по подкатегориям**\n",
    "\n",
    "Оставим гипотезу, что mystery - остаток товара на складе и оставим это число в покое.\n",
    "\n",
    "[Сверив](#product_sub_category_id) колонки подкатегорий среди чеков оказалось, что после фильтрации чеков по каталогу, единственная полезная информация в каталоге - наименование товара"
   ]
  },
  {
   "cell_type": "code",
   "execution_count": 23,
   "id": "8887c35d-d103-4deb-ad6e-fadcbd86cd85",
   "metadata": {},
   "outputs": [],
   "source": [
    "product_df.index = product_df.index.astype(\"int32\")"
   ]
  },
  {
   "cell_type": "markdown",
   "id": "899d9f6a-ebfb-4db4-92ea-09dfbf116650",
   "metadata": {},
   "source": [
    "##  checks"
   ]
  },
  {
   "cell_type": "code",
   "execution_count": 24,
   "id": "7cf48a08-2801-4bec-906b-d1619acb6c48",
   "metadata": {},
   "outputs": [
    {
     "name": "stdout",
     "output_type": "stream",
     "text": [
      "<class 'pandas.core.frame.DataFrame'>\n",
      "RangeIndex: 20000003 entries, 0 to 20000002\n",
      "Data columns (total 9 columns):\n",
      " #   Column                   Dtype  \n",
      "---  ------                   -----  \n",
      " 0   sale_date_date           object \n",
      " 1   contact_id               object \n",
      " 2   shop_id                  float64\n",
      " 3   product_id               float64\n",
      " 4   name                     object \n",
      " 5   product_sub_category_id  float64\n",
      " 6   product_category_id      float64\n",
      " 7   brand_id                 float64\n",
      " 8   quantity                 object \n",
      "dtypes: float64(5), object(4)\n",
      "memory usage: 1.3+ GB\n"
     ]
    }
   ],
   "source": [
    "checks.info()"
   ]
  },
  {
   "cell_type": "markdown",
   "id": "633202a7-5ae8-4fa4-b953-f1940d821bc3",
   "metadata": {},
   "source": [
    "Приведём столбцы к праильным типам"
   ]
  },
  {
   "cell_type": "code",
   "execution_count": 25,
   "id": "c5f1c4da-0d95-4708-86c1-fc1df86bc027",
   "metadata": {},
   "outputs": [
    {
     "data": {
      "text/html": [
       "<div>\n",
       "<style scoped>\n",
       "    .dataframe tbody tr th:only-of-type {\n",
       "        vertical-align: middle;\n",
       "    }\n",
       "\n",
       "    .dataframe tbody tr th {\n",
       "        vertical-align: top;\n",
       "    }\n",
       "\n",
       "    .dataframe thead th {\n",
       "        text-align: right;\n",
       "    }\n",
       "</style>\n",
       "<table border=\"1\" class=\"dataframe\">\n",
       "  <thead>\n",
       "    <tr style=\"text-align: right;\">\n",
       "      <th></th>\n",
       "      <th>sale_date_date</th>\n",
       "      <th>contact_id</th>\n",
       "      <th>shop_id</th>\n",
       "      <th>product_id</th>\n",
       "      <th>name</th>\n",
       "      <th>product_sub_category_id</th>\n",
       "      <th>product_category_id</th>\n",
       "      <th>brand_id</th>\n",
       "      <th>quantity</th>\n",
       "    </tr>\n",
       "  </thead>\n",
       "  <tbody>\n",
       "    <tr>\n",
       "      <th>15752818</th>\n",
       "      <td>2018-05-01</td>\n",
       "      <td>1500928</td>\n",
       "      <td>1468.0</td>\n",
       "      <td>95371.0</td>\n",
       "      <td>(76176) Панкреатин таб.п.о.кишечнораств. 25 ЕД...</td>\n",
       "      <td>601.0</td>\n",
       "      <td>135.0</td>\n",
       "      <td>-1.0</td>\n",
       "      <td>2,00</td>\n",
       "    </tr>\n",
       "    <tr>\n",
       "      <th>10189749</th>\n",
       "      <td>2018-03-16</td>\n",
       "      <td>1961670</td>\n",
       "      <td>1884.0</td>\n",
       "      <td>109395.0</td>\n",
       "      <td>(2859) Сыр плавленый Сыроварни Орлова с травам...</td>\n",
       "      <td>-1.0</td>\n",
       "      <td>-1.0</td>\n",
       "      <td>882.0</td>\n",
       "      <td>1,00</td>\n",
       "    </tr>\n",
       "    <tr>\n",
       "      <th>3663542</th>\n",
       "      <td>2018-11-14</td>\n",
       "      <td>395460</td>\n",
       "      <td>601.0</td>\n",
       "      <td>24785.0</td>\n",
       "      <td>(63753) Чудо Хаш гель-бальзам для тела 70г</td>\n",
       "      <td>648.0</td>\n",
       "      <td>148.0</td>\n",
       "      <td>-1.0</td>\n",
       "      <td>1,00</td>\n",
       "    </tr>\n",
       "  </tbody>\n",
       "</table>\n",
       "</div>"
      ],
      "text/plain": [
       "         sale_date_date contact_id  shop_id  product_id  \\\n",
       "15752818     2018-05-01    1500928   1468.0     95371.0   \n",
       "10189749     2018-03-16    1961670   1884.0    109395.0   \n",
       "3663542      2018-11-14     395460    601.0     24785.0   \n",
       "\n",
       "                                                       name  \\\n",
       "15752818  (76176) Панкреатин таб.п.о.кишечнораств. 25 ЕД...   \n",
       "10189749  (2859) Сыр плавленый Сыроварни Орлова с травам...   \n",
       "3663542          (63753) Чудо Хаш гель-бальзам для тела 70г   \n",
       "\n",
       "          product_sub_category_id  product_category_id  brand_id quantity  \n",
       "15752818                    601.0                135.0      -1.0     2,00  \n",
       "10189749                     -1.0                 -1.0     882.0     1,00  \n",
       "3663542                     648.0                148.0      -1.0     1,00  "
      ]
     },
     "execution_count": 25,
     "metadata": {},
     "output_type": "execute_result"
    }
   ],
   "source": [
    "checks.sample(3)"
   ]
  },
  {
   "cell_type": "markdown",
   "id": "ea952e3f-665c-4834-93e3-68865fb2a96b",
   "metadata": {},
   "source": [
    "Правильные типы для столбцов:\n",
    "- `sale_date_date` - datetime\n",
    "- `contact_id` - int32\n",
    "- `shop_id` - int32\n",
    "- `name` - string\n",
    "- `product_sub_category_id` - int32\n",
    "- `product_category_id` - int32\n",
    "- `brand_id` - int32\n",
    "- `quantity` - int32"
   ]
  },
  {
   "cell_type": "markdown",
   "id": "cb888b10-5842-4926-a8c5-a932a12bf61e",
   "metadata": {},
   "source": [
    "### product_id\n",
    "\n",
    " "
   ]
  },
  {
   "cell_type": "markdown",
   "id": "513f39eb-5047-42a6-b431-b128bbd2a057",
   "metadata": {},
   "source": [
    "Прежде всего нужно убрать из чеков товары, которых нет в каталоге. Это позволит не нарушать бизнес требование и рекомендовать только доступные товары."
   ]
  },
  {
   "cell_type": "code",
   "execution_count": 26,
   "id": "0ad197ef-fb20-4c49-8a6e-eb0567e127b4",
   "metadata": {},
   "outputs": [
    {
     "name": "stdout",
     "output_type": "stream",
     "text": [
      "176831 - СТОЛЬКО ПРОДАННЫХ ТОВАРОВ НЕТ В КАТАЛОГЕ\n"
     ]
    }
   ],
   "source": [
    "#preprocessing\n",
    "checks_without_product = checks.product_id.dropna()[\n",
    "    ~checks.product_id.dropna().isin(\n",
    "        product_df.index.astype(\"float64\"))]\n",
    "\n",
    "print(len(checks_without_product),\"- СТОЛЬКО ПРОДАННЫХ ТОВАРОВ НЕТ В КАТАЛОГЕ\")"
   ]
  },
  {
   "cell_type": "markdown",
   "id": "8feee817-e987-4386-ada4-58e64a6610e9",
   "metadata": {},
   "source": [
    "Их следует исключить"
   ]
  },
  {
   "cell_type": "code",
   "execution_count": 27,
   "id": "73057e40-3a00-4696-9c34-8b933dd227c6",
   "metadata": {},
   "outputs": [],
   "source": [
    "#preprocessing\n",
    "checks = checks[~checks.index.isin(checks_without_product.index)]"
   ]
  },
  {
   "cell_type": "code",
   "execution_count": 28,
   "id": "d9437199-89a9-4005-92cc-6e4aabae3589",
   "metadata": {},
   "outputs": [
    {
     "name": "stdout",
     "output_type": "stream",
     "text": [
      "3 - количество очевидных пропусков\n"
     ]
    }
   ],
   "source": [
    "print(len(checks) - len(checks.dropna()), \"- количество очевидных пропусков\")"
   ]
  },
  {
   "cell_type": "markdown",
   "id": "af859581-b8a4-40a4-b490-ac72d5608878",
   "metadata": {},
   "source": [
    "поскольку очевидных пропусков почти нет, их следует сразу исключить из датасета"
   ]
  },
  {
   "cell_type": "code",
   "execution_count": 29,
   "id": "ca4600ec-5321-4a11-8212-af9db78d6e54",
   "metadata": {},
   "outputs": [],
   "source": [
    "checks = checks.dropna()"
   ]
  },
  {
   "cell_type": "markdown",
   "id": "048d0764-bc75-41cf-b8b8-5c34df8d1516",
   "metadata": {},
   "source": [
    "Теперь можно привести колонку к правильному типу"
   ]
  },
  {
   "cell_type": "code",
   "execution_count": 30,
   "id": "00c31383-7003-403d-b096-c9ea81bc8eeb",
   "metadata": {},
   "outputs": [],
   "source": [
    "checks.product_id = checks.product_id.astype(\"int32\")"
   ]
  },
  {
   "cell_type": "markdown",
   "id": "abc051f3-6b51-4bbd-aa84-6fb9770c8d9e",
   "metadata": {},
   "source": [
    "### sale_date_date"
   ]
  },
  {
   "cell_type": "markdown",
   "id": "a680f880-7cc2-4b6b-a958-4d855ec0c223",
   "metadata": {},
   "source": [
    "Показать в теченнии какого периода собраны чеки"
   ]
  },
  {
   "cell_type": "code",
   "execution_count": 31,
   "id": "e3848189-e358-4ba8-89f6-5a3423620bb3",
   "metadata": {},
   "outputs": [
    {
     "data": {
      "text/plain": [
       "'2018-12-07'"
      ]
     },
     "execution_count": 31,
     "metadata": {},
     "output_type": "execute_result"
    }
   ],
   "source": [
    "checks.sale_date_date[0]"
   ]
  },
  {
   "cell_type": "markdown",
   "id": "d7ce2aa6-dcba-4b30-a92c-d33520d70098",
   "metadata": {},
   "source": [
    "Столбец представляет из себя дату покупки товара, переведём его в правильный тип"
   ]
  },
  {
   "cell_type": "code",
   "execution_count": 32,
   "id": "ddc819d9-8f4a-49c7-a413-deae85af17ad",
   "metadata": {},
   "outputs": [],
   "source": [
    "checks.sale_date_date = pd.to_datetime(checks.sale_date_date, errors=\"coerce\")"
   ]
  },
  {
   "cell_type": "code",
   "execution_count": 33,
   "id": "97acaac6-9ff9-4b04-8141-83d9819174b1",
   "metadata": {},
   "outputs": [
    {
     "name": "stdout",
     "output_type": "stream",
     "text": [
      "В столбце всего 0 пропусков\n"
     ]
    }
   ],
   "source": [
    "print(\"В столбце всего\",\n",
    "      len(checks.sale_date_date) - len(checks.sale_date_date.dropna()),\n",
    "      \"пропусков\")"
   ]
  },
  {
   "cell_type": "markdown",
   "id": "e2f7e3a9-dd82-419b-a1a4-479803ec6f3b",
   "metadata": {},
   "source": [
    "Из столбца можно сформировать временной ряд."
   ]
  },
  {
   "cell_type": "code",
   "execution_count": 34,
   "id": "db139453-34cf-4c11-852b-0cd609547b5f",
   "metadata": {},
   "outputs": [
    {
     "data": {
      "text/plain": [
       "4801700   2018-01-01\n",
       "6670539   2018-01-01\n",
       "6670540   2018-01-01\n",
       "6670541   2018-01-01\n",
       "6670542   2018-01-01\n",
       "             ...    \n",
       "115219    2018-12-09\n",
       "115218    2018-12-09\n",
       "115217    2018-12-09\n",
       "115329    2018-12-09\n",
       "115273    2018-12-09\n",
       "Name: sale_date_date, Length: 19823169, dtype: datetime64[ns]"
      ]
     },
     "execution_count": 34,
     "metadata": {},
     "output_type": "execute_result"
    }
   ],
   "source": [
    "checks.sale_date_date.sort_values()"
   ]
  },
  {
   "cell_type": "markdown",
   "id": "72b5bf65-dfc8-4cda-a1f7-b041bbd30356",
   "metadata": {},
   "source": [
    "В датасете представленны данные за почти 1 год продаж "
   ]
  },
  {
   "cell_type": "markdown",
   "id": "3f13a73d-971d-4a44-996d-a6a32e768566",
   "metadata": {},
   "source": [
    "### product_sub_category_id\n",
    "\n",
    "Является подкатегорией товара и дублируется в `product_df.subcategory`"
   ]
  },
  {
   "cell_type": "code",
   "execution_count": 35,
   "id": "5c5cdae4-8488-4daf-9ee1-aff18d22c41f",
   "metadata": {},
   "outputs": [
    {
     "data": {
      "text/plain": [
       "0    906.0\n",
       "1    404.0\n",
       "2    404.0\n",
       "Name: product_sub_category_id, dtype: float64"
      ]
     },
     "execution_count": 35,
     "metadata": {},
     "output_type": "execute_result"
    }
   ],
   "source": [
    "checks.product_sub_category_id.iloc[:3]"
   ]
  },
  {
   "cell_type": "code",
   "execution_count": 36,
   "id": "d3baadd3-41e5-43ce-89ec-fd96e2d4ba2b",
   "metadata": {},
   "outputs": [
    {
     "name": "stdout",
     "output_type": "stream",
     "text": [
      "В столбце всего 0 очевидных пропусков\n"
     ]
    }
   ],
   "source": [
    "print(\"В столбце всего\",\n",
    "      len(checks.product_sub_category_id)\n",
    "      - len(checks.product_sub_category_id.dropna()),\n",
    "      \"очевидных пропусков\")"
   ]
  },
  {
   "cell_type": "code",
   "execution_count": 37,
   "id": "776280c3-e3ec-4f14-916e-4482387714dc",
   "metadata": {},
   "outputs": [
    {
     "name": "stdout",
     "output_type": "stream",
     "text": [
      "486629 товаров в чеках без указанной категории\n"
     ]
    }
   ],
   "source": [
    "print(checks.product_sub_category_id.value_counts()[-1.0],\n",
    "     \"товаров в чеках без указанной категории\")"
   ]
  },
  {
   "cell_type": "markdown",
   "id": "d4d31b68-3157-411c-b249-c42f76174d9c",
   "metadata": {},
   "source": [
    "Есть подкатегория -1. И в ней лежит действительно много товаров.\n",
    "\n",
    "Проверим, соотносится ли количество уникальных товаров без категории в чеках и в каталоге"
   ]
  },
  {
   "cell_type": "code",
   "execution_count": 38,
   "id": "ec18c54f-6ef6-4c81-a0c0-64064131b3f3",
   "metadata": {},
   "outputs": [
    {
     "name": "stdout",
     "output_type": "stream",
     "text": [
      "4541  - в каталоге у стольки уникальных товаров не указана подкатегория\n"
     ]
    }
   ],
   "source": [
    "product_sub_len = (product_df.subcategory == -1).value_counts()[True]\n",
    "\n",
    "print(product_sub_len,\n",
    "     \" - в каталоге у стольки уникальных товаров не указана подкатегория\")"
   ]
  },
  {
   "cell_type": "markdown",
   "id": "445c59d2-4055-4dae-ab7c-9623706dafad",
   "metadata": {},
   "source": [
    "Для этого нужно посчитать все уникальные product_id в чеках с подкатегорией -1.0"
   ]
  },
  {
   "cell_type": "code",
   "execution_count": 39,
   "id": "c8ea1f6b-5d45-4ee9-a53d-b30a2b241f45",
   "metadata": {},
   "outputs": [
    {
     "name": "stdout",
     "output_type": "stream",
     "text": [
      "4541 - в чеках у стольки уникальных товаров не указана подкатегория\n"
     ]
    }
   ],
   "source": [
    "check_sub_len = checks[checks.product_sub_category_id==-1].product_id.nunique()\n",
    "\n",
    "print(check_sub_len,\n",
    "     \"- в чеках у стольки уникальных товаров не указана подкатегория\")"
   ]
  },
  {
   "cell_type": "markdown",
   "id": "2bc5c22d-7589-4f96-9c26-49814cd4e71c",
   "metadata": {},
   "source": [
    "Может быть чеки невозоможно дополнить информацией из каталога"
   ]
  },
  {
   "cell_type": "code",
   "execution_count": 40,
   "id": "6063826a-5497-4461-8dc7-ac387feab0d9",
   "metadata": {},
   "outputs": [
    {
     "data": {
      "text/html": [
       "<div>\n",
       "<style scoped>\n",
       "    .dataframe tbody tr th:only-of-type {\n",
       "        vertical-align: middle;\n",
       "    }\n",
       "\n",
       "    .dataframe tbody tr th {\n",
       "        vertical-align: top;\n",
       "    }\n",
       "\n",
       "    .dataframe thead th {\n",
       "        text-align: right;\n",
       "    }\n",
       "</style>\n",
       "<table border=\"1\" class=\"dataframe\">\n",
       "  <thead>\n",
       "    <tr style=\"text-align: right;\">\n",
       "      <th></th>\n",
       "      <th>sale_date_date</th>\n",
       "      <th>contact_id</th>\n",
       "      <th>shop_id</th>\n",
       "      <th>product_id</th>\n",
       "      <th>name</th>\n",
       "      <th>product_sub_category_id</th>\n",
       "      <th>product_category_id</th>\n",
       "      <th>brand_id</th>\n",
       "      <th>quantity</th>\n",
       "    </tr>\n",
       "  </thead>\n",
       "  <tbody>\n",
       "  </tbody>\n",
       "</table>\n",
       "</div>"
      ],
      "text/plain": [
       "Empty DataFrame\n",
       "Columns: [sale_date_date, contact_id, shop_id, product_id, name, product_sub_category_id, product_category_id, brand_id, quantity]\n",
       "Index: []"
      ]
     },
     "execution_count": 40,
     "metadata": {},
     "output_type": "execute_result"
    }
   ],
   "source": [
    "checks[checks.product_sub_category_id.isin(\n",
    "    product_df[product_df.subcategory == -1].index.astype(\"float64\"))]"
   ]
  },
  {
   "cell_type": "markdown",
   "id": "42bbf322-b697-42b2-8256-e1a666fef8df",
   "metadata": {},
   "source": [
    "И это так! Получается, что единственная полезная информация из каталога после предобработки - описание товаров. И то, она дублируется в чеках, но зато её не нужно агрегировать - она готова для модели."
   ]
  },
  {
   "cell_type": "markdown",
   "id": "31f6bb63-90d4-46ca-a4e6-b3f9ee15007c",
   "metadata": {},
   "source": [
    "### contact_id\n",
    "\n",
    "id контакта. Можно сказать, что это идентификатор пользователя."
   ]
  },
  {
   "cell_type": "code",
   "execution_count": 41,
   "id": "b9656cf1-0134-4a99-a68b-165d06ad286d",
   "metadata": {},
   "outputs": [
    {
     "data": {
      "text/plain": [
       "4341428     1972776\n",
       "15473341    1169545\n",
       "15133480    2609491\n",
       "Name: contact_id, dtype: object"
      ]
     },
     "execution_count": 41,
     "metadata": {},
     "output_type": "execute_result"
    }
   ],
   "source": [
    "checks.contact_id.sample(3)"
   ]
  },
  {
   "cell_type": "code",
   "execution_count": 42,
   "id": "149ad101-e46d-4749-8f1c-901b63bf705b",
   "metadata": {},
   "outputs": [
    {
     "name": "stdout",
     "output_type": "stream",
     "text": [
      "<class 'pandas.core.series.Series'>\n",
      "Int64Index: 19823169 entries, 0 to 19999999\n",
      "Series name: contact_id\n",
      "Non-Null Count     Dtype \n",
      "--------------     ----- \n",
      "19823169 non-null  object\n",
      "dtypes: object(1)\n",
      "memory usage: 302.5+ MB\n"
     ]
    }
   ],
   "source": [
    "checks.contact_id.info()"
   ]
  },
  {
   "cell_type": "markdown",
   "id": "99f454c4-edd9-4ba4-9b5d-55771c0633b8",
   "metadata": {},
   "source": [
    "Стоит поменять тип данных"
   ]
  },
  {
   "cell_type": "code",
   "execution_count": 43,
   "id": "c3b1b16a-c90e-452e-aea2-86c216c94679",
   "metadata": {},
   "outputs": [],
   "source": [
    "checks.contact_id = checks.contact_id.astype(\"int64\")"
   ]
  },
  {
   "cell_type": "markdown",
   "id": "e3491917-f23a-4b87-91e4-5a4765cc167a",
   "metadata": {},
   "source": [
    "Посмотрим количестово покупок за дни у контакта 2418385, дабы убедиться в том, что контакт очень похож на зарегестрированного покупателя аптеки."
   ]
  },
  {
   "cell_type": "code",
   "execution_count": 44,
   "id": "06b5f0b2-3909-48ee-9b3c-63d7e935b60b",
   "metadata": {},
   "outputs": [
    {
     "data": {
      "text/plain": [
       "sale_date_date\n",
       "2018-05-30    7\n",
       "2018-06-08    2\n",
       "2018-11-21    3\n",
       "2018-11-30    6\n",
       "2018-12-07    5\n",
       "Name: product_id, dtype: int64"
      ]
     },
     "execution_count": 44,
     "metadata": {},
     "output_type": "execute_result"
    }
   ],
   "source": [
    "checks[checks.contact_id==2418385].groupby(\"sale_date_date\").count().product_id"
   ]
  },
  {
   "cell_type": "markdown",
   "id": "7a12926f-ae66-4857-ab25-c30b9f75c788",
   "metadata": {},
   "source": [
    "К слову это единственная информация о пользователе, поэтому не стоит делать user-item рекомендации, ведь нельзя по случайному номеру предугадать вкусы человека на покупку.\n",
    "\n",
    "Однако если человек уже совершал покупку, то вероятно, что он может купить что-то из того, что он уже покупал или товары похожие на его предыдущие покупки."
   ]
  },
  {
   "cell_type": "markdown",
   "id": "f3bc0a5c-d4fc-4771-b1d1-38d825ad3342",
   "metadata": {},
   "source": [
    "### name\n",
    "Представляет из себя строку, содержащуюю наименование товара с мистическим числом в начале. Колонка содержит часть информации из каталога"
   ]
  },
  {
   "cell_type": "code",
   "execution_count": 45,
   "id": "ecd3fb5f-a36a-48ed-a190-c62c3d99990f",
   "metadata": {},
   "outputs": [
    {
     "data": {
      "text/plain": [
       "'(49151) Маалокс сусп.д/приема внутрь пак.15мл №30'"
      ]
     },
     "execution_count": 45,
     "metadata": {},
     "output_type": "execute_result"
    }
   ],
   "source": [
    "checks.name[1232]"
   ]
  },
  {
   "cell_type": "markdown",
   "id": "c572e7af-c8b9-4eb6-a0b5-d92983594311",
   "metadata": {},
   "source": [
    "Приведем содержимое колонки к правильному типу"
   ]
  },
  {
   "cell_type": "code",
   "execution_count": 46,
   "id": "47869702-cf26-413e-b3f1-b0d43e76962b",
   "metadata": {},
   "outputs": [],
   "source": [
    "checks.name = checks.name.astype(\"string\")"
   ]
  },
  {
   "cell_type": "markdown",
   "id": "bf7e078b-4bbe-4d17-ab7c-7a686618d311",
   "metadata": {},
   "source": [
    "Взглянем на распределение, может быть, есть пропуски или другие аномалии"
   ]
  },
  {
   "cell_type": "code",
   "execution_count": 47,
   "id": "a1caeb39-49a7-4c5e-82cb-86de9e6ee199",
   "metadata": {},
   "outputs": [
    {
     "data": {
      "text/plain": [
       "(48791) Свободная сумма НДС18% (служебный)           169191\n",
       "(197312) Пакет-майка 25см х 45см                     118106\n",
       "(181542) Карта Забота о Здоровье                      89851\n",
       "(57733) Корвалол капли д/приема внутрь 25мл           87792\n",
       "(117825) Панангин таб.п.п.о.№50                       77153\n",
       "(81509) PL Хлоргексидин биглюконат р-р 0.05% ф...     73543\n",
       "(20116) Тауфон капли глазн 4% фл 10 мл. пласт....     69044\n",
       "(70458) Пенталгин таб.п.п.о.№24 (без кодеина)         68622\n",
       "(118125) Кардиомагнил таб.п.п.о.75мг №100             67034\n",
       "(180739) Омепразол-Акрихин капс.кишечнораст.20...     66781\n",
       "Name: name, dtype: Int64"
      ]
     },
     "execution_count": 47,
     "metadata": {},
     "output_type": "execute_result"
    }
   ],
   "source": [
    "checks.name.value_counts()[:10]"
   ]
  },
  {
   "cell_type": "markdown",
   "id": "bf5814de-35c0-4029-9464-c1f0d20ed021",
   "metadata": {},
   "source": [
    "**Подозрительно**\n",
    "- Карта Забота о Здоровье\n",
    "- Свободная сумма НДС18% (служебный)"
   ]
  },
  {
   "cell_type": "markdown",
   "id": "1164a4fa-56d9-4296-bce3-fdc6d077fd97",
   "metadata": {},
   "source": [
    "**Свободная сумма НДС18% (служебный)**"
   ]
  },
  {
   "cell_type": "code",
   "execution_count": 48,
   "id": "ae109f1b-9f1b-4969-b75c-ab1ec9023ae4",
   "metadata": {},
   "outputs": [
    {
     "data": {
      "text/html": [
       "<div>\n",
       "<style scoped>\n",
       "    .dataframe tbody tr th:only-of-type {\n",
       "        vertical-align: middle;\n",
       "    }\n",
       "\n",
       "    .dataframe tbody tr th {\n",
       "        vertical-align: top;\n",
       "    }\n",
       "\n",
       "    .dataframe thead th {\n",
       "        text-align: right;\n",
       "    }\n",
       "</style>\n",
       "<table border=\"1\" class=\"dataframe\">\n",
       "  <thead>\n",
       "    <tr style=\"text-align: right;\">\n",
       "      <th></th>\n",
       "      <th>sale_date_date</th>\n",
       "      <th>contact_id</th>\n",
       "      <th>shop_id</th>\n",
       "      <th>product_id</th>\n",
       "      <th>name</th>\n",
       "      <th>product_sub_category_id</th>\n",
       "      <th>product_category_id</th>\n",
       "      <th>brand_id</th>\n",
       "      <th>quantity</th>\n",
       "    </tr>\n",
       "  </thead>\n",
       "  <tbody>\n",
       "    <tr>\n",
       "      <th>4776837</th>\n",
       "      <td>2018-01-05</td>\n",
       "      <td>1393270</td>\n",
       "      <td>1505.0</td>\n",
       "      <td>129195</td>\n",
       "      <td>(48791) Свободная сумма НДС18% (служебный)</td>\n",
       "      <td>-1.0</td>\n",
       "      <td>-1.0</td>\n",
       "      <td>-1.0</td>\n",
       "      <td>1,00</td>\n",
       "    </tr>\n",
       "    <tr>\n",
       "      <th>4776838</th>\n",
       "      <td>2018-01-05</td>\n",
       "      <td>1789248</td>\n",
       "      <td>1522.0</td>\n",
       "      <td>129195</td>\n",
       "      <td>(48791) Свободная сумма НДС18% (служебный)</td>\n",
       "      <td>-1.0</td>\n",
       "      <td>-1.0</td>\n",
       "      <td>-1.0</td>\n",
       "      <td>1,00</td>\n",
       "    </tr>\n",
       "    <tr>\n",
       "      <th>4776839</th>\n",
       "      <td>2018-01-05</td>\n",
       "      <td>1574740</td>\n",
       "      <td>1524.0</td>\n",
       "      <td>129195</td>\n",
       "      <td>(48791) Свободная сумма НДС18% (служебный)</td>\n",
       "      <td>-1.0</td>\n",
       "      <td>-1.0</td>\n",
       "      <td>-1.0</td>\n",
       "      <td>1,00</td>\n",
       "    </tr>\n",
       "  </tbody>\n",
       "</table>\n",
       "</div>"
      ],
      "text/plain": [
       "        sale_date_date  contact_id  shop_id  product_id  \\\n",
       "4776837     2018-01-05     1393270   1505.0      129195   \n",
       "4776838     2018-01-05     1789248   1522.0      129195   \n",
       "4776839     2018-01-05     1574740   1524.0      129195   \n",
       "\n",
       "                                               name  product_sub_category_id  \\\n",
       "4776837  (48791) Свободная сумма НДС18% (служебный)                     -1.0   \n",
       "4776838  (48791) Свободная сумма НДС18% (служебный)                     -1.0   \n",
       "4776839  (48791) Свободная сумма НДС18% (служебный)                     -1.0   \n",
       "\n",
       "         product_category_id  brand_id quantity  \n",
       "4776837                 -1.0      -1.0     1,00  \n",
       "4776838                 -1.0      -1.0     1,00  \n",
       "4776839                 -1.0      -1.0     1,00  "
      ]
     },
     "execution_count": 48,
     "metadata": {},
     "output_type": "execute_result"
    }
   ],
   "source": [
    "checks[checks.name == \"(48791) Свободная сумма НДС18% (служебный)\"][:3]"
   ]
  },
  {
   "cell_type": "code",
   "execution_count": 49,
   "id": "dc057a1a-3704-4438-a377-efc1ec9f9722",
   "metadata": {},
   "outputs": [
    {
     "data": {
      "text/plain": [
       "(48791) Свободная сумма НДС18% (служебный)    169191\n",
       "Name: name, dtype: Int64"
      ]
     },
     "execution_count": 49,
     "metadata": {},
     "output_type": "execute_result"
    }
   ],
   "source": [
    "checks[checks.product_id == 129195].name.value_counts()"
   ]
  },
  {
   "cell_type": "code",
   "execution_count": 50,
   "id": "176bee51-8b7b-4fa5-b9ac-aa9df617aee0",
   "metadata": {},
   "outputs": [
    {
     "data": {
      "text/plain": [
       "mystery                                     48791\n",
       "subcategory                                    -1\n",
       "name           Свободная сумма НДС18% (служебный)\n",
       "Name: 129195, dtype: object"
      ]
     },
     "execution_count": 50,
     "metadata": {},
     "output_type": "execute_result"
    }
   ],
   "source": [
    "product_df.loc[129195]"
   ]
  },
  {
   "cell_type": "markdown",
   "id": "cfb6fe11-c496-44b3-9cf8-5ad6d0ff3a1b",
   "metadata": {},
   "source": [
    "Видимо это часть из чека, которая имеется в каталоге как товар. И служит она для внутриаптечных операций или печаталась в чеке вместе с остальными товарами. Для нас это пустое значение, нужно удалить его из обоих таблиц"
   ]
  },
  {
   "cell_type": "code",
   "execution_count": 51,
   "id": "17f96317-254d-447e-8b22-dfacf5d06790",
   "metadata": {},
   "outputs": [],
   "source": [
    "# preprocessing\n",
    "product_df.drop(129195,axis=\"rows\", inplace=True)\n",
    "checks.drop(checks[checks.product_id== 129195].index, axis=\"rows\",inplace=True)"
   ]
  },
  {
   "cell_type": "markdown",
   "id": "667473b4-6f88-490b-aa65-83e3a172fa2e",
   "metadata": {},
   "source": [
    "**Карта Забота о Здоровье**"
   ]
  },
  {
   "cell_type": "code",
   "execution_count": 52,
   "id": "7d914b84-e45a-46ae-84f0-82c5aea5fcbd",
   "metadata": {},
   "outputs": [
    {
     "data": {
      "text/html": [
       "<div>\n",
       "<style scoped>\n",
       "    .dataframe tbody tr th:only-of-type {\n",
       "        vertical-align: middle;\n",
       "    }\n",
       "\n",
       "    .dataframe tbody tr th {\n",
       "        vertical-align: top;\n",
       "    }\n",
       "\n",
       "    .dataframe thead th {\n",
       "        text-align: right;\n",
       "    }\n",
       "</style>\n",
       "<table border=\"1\" class=\"dataframe\">\n",
       "  <thead>\n",
       "    <tr style=\"text-align: right;\">\n",
       "      <th></th>\n",
       "      <th>sale_date_date</th>\n",
       "      <th>contact_id</th>\n",
       "      <th>shop_id</th>\n",
       "      <th>product_id</th>\n",
       "      <th>name</th>\n",
       "      <th>product_sub_category_id</th>\n",
       "      <th>product_category_id</th>\n",
       "      <th>brand_id</th>\n",
       "      <th>quantity</th>\n",
       "    </tr>\n",
       "  </thead>\n",
       "  <tbody>\n",
       "    <tr>\n",
       "      <th>12</th>\n",
       "      <td>2018-12-07</td>\n",
       "      <td>785614</td>\n",
       "      <td>859.0</td>\n",
       "      <td>158662</td>\n",
       "      <td>(181542) Карта Забота о Здоровье</td>\n",
       "      <td>855.0</td>\n",
       "      <td>194.0</td>\n",
       "      <td>-1.0</td>\n",
       "      <td>1,00</td>\n",
       "    </tr>\n",
       "    <tr>\n",
       "      <th>48658</th>\n",
       "      <td>2018-12-07</td>\n",
       "      <td>970899</td>\n",
       "      <td>868.0</td>\n",
       "      <td>158662</td>\n",
       "      <td>(181542) Карта Забота о Здоровье</td>\n",
       "      <td>855.0</td>\n",
       "      <td>194.0</td>\n",
       "      <td>-1.0</td>\n",
       "      <td>1,00</td>\n",
       "    </tr>\n",
       "  </tbody>\n",
       "</table>\n",
       "</div>"
      ],
      "text/plain": [
       "      sale_date_date  contact_id  shop_id  product_id  \\\n",
       "12        2018-12-07      785614    859.0      158662   \n",
       "48658     2018-12-07      970899    868.0      158662   \n",
       "\n",
       "                                   name  product_sub_category_id  \\\n",
       "12     (181542) Карта Забота о Здоровье                    855.0   \n",
       "48658  (181542) Карта Забота о Здоровье                    855.0   \n",
       "\n",
       "       product_category_id  brand_id quantity  \n",
       "12                   194.0      -1.0     1,00  \n",
       "48658                194.0      -1.0     1,00  "
      ]
     },
     "execution_count": 52,
     "metadata": {},
     "output_type": "execute_result"
    }
   ],
   "source": [
    "checks[checks.name == \"(181542) Карта Забота о Здоровье\"][:2]"
   ]
  },
  {
   "cell_type": "code",
   "execution_count": 53,
   "id": "76e5fa02-20db-446c-989e-5bd1472f1133",
   "metadata": {},
   "outputs": [
    {
     "data": {
      "text/plain": [
       "mystery                         181542\n",
       "subcategory                        855\n",
       "name           Карта Забота о Здоровье\n",
       "Name: 158662, dtype: object"
      ]
     },
     "execution_count": 53,
     "metadata": {},
     "output_type": "execute_result"
    }
   ],
   "source": [
    "product_df.loc[158662]"
   ]
  },
  {
   "cell_type": "markdown",
   "id": "51bb7974-b3f5-4ea9-9559-ccc4905a294a",
   "metadata": {},
   "source": [
    "Карта Забота о Здоровье есть в каталоге и в чеках. Это должна быть дисконтная карта, у кого-то она есть, у кого-то нет. Логики её получения мы не знаем, поэтому исключим этот товар из датасетов "
   ]
  },
  {
   "cell_type": "code",
   "execution_count": 54,
   "id": "6aa101fc-4f2e-4f30-beb9-a8ab0d51397d",
   "metadata": {},
   "outputs": [],
   "source": [
    "# preprocessing\n",
    "product_df.drop(158662,axis=\"rows\", inplace=True)\n",
    "checks.drop(checks[checks.product_id== 158662].index, axis=\"rows\",inplace=True)"
   ]
  },
  {
   "cell_type": "code",
   "execution_count": 55,
   "id": "a3643ae2-7c38-4d3d-b522-d08c30e8e030",
   "metadata": {},
   "outputs": [
    {
     "data": {
      "text/plain": [
       "'(72183) Салициловая кислота р-р спирт 2% фл 40мл N1'"
      ]
     },
     "execution_count": 55,
     "metadata": {},
     "output_type": "execute_result"
    }
   ],
   "source": [
    "checks.name[2]"
   ]
  },
  {
   "cell_type": "markdown",
   "id": "dc2b8280-51a2-4134-8fd9-f94941d00dff",
   "metadata": {},
   "source": [
    "#### W2V"
   ]
  },
  {
   "cell_type": "markdown",
   "id": "6d7e5257-7b8e-4df6-bdd8-50af4e6fa495",
   "metadata": {},
   "source": [
    "При подборе по названию не следует, чтобы поиск велся по количеству таблеток, дозировке, количесвту мг действующего вещества или мл раствора. Ведь странно предлагать парацетомола в таблетках по 200мг, если клиент покупает йод с дозировкой в 200мкг.\n",
    "\n",
    "Уберём цифры из первой строчки"
   ]
  },
  {
   "cell_type": "code",
   "execution_count": 56,
   "id": "8c50e4ef-e94d-49ee-8b2b-14f837826ef0",
   "metadata": {
    "tags": []
   },
   "outputs": [
    {
     "name": "stdout",
     "output_type": "stream",
     "text": [
      "Пакет-майка 25см х 45см\n"
     ]
    }
   ],
   "source": [
    "s = product_df.name.iloc[0]\n",
    "print(s)\n",
    "first_num_pat = re.compile('\\d')"
   ]
  },
  {
   "cell_type": "code",
   "execution_count": 57,
   "id": "a14058aa-de79-429e-876f-0d519bf02017",
   "metadata": {
    "tags": []
   },
   "outputs": [],
   "source": [
    "product_df[\"name_wsout_num\"] = product_df.name.apply(num_cutter)"
   ]
  },
  {
   "cell_type": "code",
   "execution_count": 58,
   "id": "a1a91eea-9e75-4a6c-971d-e4d7dd961ee1",
   "metadata": {
    "tags": []
   },
   "outputs": [],
   "source": [
    "checks[\"name_wsout_num\"] = checks.name.apply(num_cutter)"
   ]
  },
  {
   "cell_type": "markdown",
   "id": "380bb7c4-8ec4-4468-85f0-8b226a8c7650",
   "metadata": {},
   "source": [
    "### brand_id"
   ]
  },
  {
   "cell_type": "code",
   "execution_count": 59,
   "id": "b027723d-f8eb-4e2c-a23f-855bd8e8c72c",
   "metadata": {},
   "outputs": [
    {
     "data": {
      "text/plain": [
       "-1.0       15745915\n",
       " 1520.0      881064\n",
       " 1348.0      151282\n",
       " 2038.0      105401\n",
       "Name: brand_id, dtype: int64"
      ]
     },
     "execution_count": 59,
     "metadata": {},
     "output_type": "execute_result"
    }
   ],
   "source": [
    "checks.brand_id.value_counts().iloc[:4]"
   ]
  },
  {
   "cell_type": "markdown",
   "id": "6665d43c-85c4-470a-aa81-3f9b03d5cfe8",
   "metadata": {},
   "source": [
    "16 миллионов пропусков. это больше 75% от общего количества строк. Этот столбец не будет учитываться моделью"
   ]
  },
  {
   "cell_type": "markdown",
   "id": "8c6e354d-43a3-40a8-8d4e-71460331f544",
   "metadata": {},
   "source": [
    "### quantity\n",
    "Количество купленного наименования в чеке"
   ]
  },
  {
   "cell_type": "code",
   "execution_count": 60,
   "id": "7c47e828-c2d2-4913-9e3c-7e0def64d805",
   "metadata": {},
   "outputs": [
    {
     "data": {
      "text/plain": [
       "3421647    1,00\n",
       "Name: quantity, dtype: object"
      ]
     },
     "execution_count": 60,
     "metadata": {},
     "output_type": "execute_result"
    }
   ],
   "source": [
    "checks.quantity.sample()"
   ]
  },
  {
   "cell_type": "code",
   "execution_count": 61,
   "id": "76c9f2ac-fadd-4ac8-8d96-6155869f48fb",
   "metadata": {},
   "outputs": [
    {
     "name": "stdout",
     "output_type": "stream",
     "text": [
      "Распространённость повторной покупки одного товара в чеке \n",
      "\n",
      " 1,00     16370780\n",
      "2,00      1850335\n",
      "3,00       418531\n",
      "5,00       204142\n",
      "4,00       162662\n",
      "10,00      150183\n",
      "0,20        48294\n",
      "Name: quantity, dtype: int64\n"
     ]
    }
   ],
   "source": [
    "print(\"Распространённость повторной покупки одного товара в чеке\",\"\\n\\n\", \n",
    "      checks.quantity.value_counts()[:7])"
   ]
  },
  {
   "cell_type": "markdown",
   "id": "381d3748-1881-4f46-80db-7de121cb1419",
   "metadata": {},
   "source": [
    "Поскольку некультурно предлагать клиенту купить товар в количестве более одной штуки, то этот столбец не будет участвовать в моделировании. Важно заметить только то, что что любая покупка товара более одного раза не должна быть записана. То есть все повторяющиеся покупки одного товара за один день нужно нивелировать"
   ]
  },
  {
   "cell_type": "markdown",
   "id": "c867e756-8cde-4187-af98-b14af7775cf9",
   "metadata": {},
   "source": [
    "# data preprocessing"
   ]
  },
  {
   "cell_type": "markdown",
   "id": "e0f644fe-5610-41df-b3d9-f6bc896ce321",
   "metadata": {},
   "source": [
    "- Возможно стоит добавить подкатегорию и категорию в `product_df`"
   ]
  },
  {
   "cell_type": "code",
   "execution_count": 62,
   "id": "05b7930e-0301-4ee8-a98a-cba34c3c0b06",
   "metadata": {},
   "outputs": [
    {
     "name": "stdout",
     "output_type": "stream",
     "text": [
      "CPU times: total: 51.7 s\n",
      "Wall time: 51.7 s\n"
     ]
    }
   ],
   "source": [
    "%%time\n",
    "product_df = product_df_copy\n",
    "checks = checks_copy\n",
    "\n",
    "### product catalog ###########################################################\n",
    "\n",
    "## extract all columns from catalog\n",
    "product_df, err = extract_columns(product_df[\"info\"])\n",
    "\n",
    "## drop missiong values\n",
    "product_df = product_df.drop(\n",
    "    product_df[(product_df.subcategory==-1) \n",
    "               & (product_df.name == \"название\")].index, axis=\"rows\")\n",
    "\n",
    "### checks ####################################################################\n",
    "\n",
    "## drop checks that are not in the catalog \n",
    "checks_without_product = checks.product_id.dropna()[\n",
    "    ~checks.product_id.dropna().isin(\n",
    "        product_df.index.astype(\"float64\"))]\n",
    "\n",
    "checks = checks[~checks.index.isin(checks_without_product.index)]\n",
    "\n",
    "## drop missing values\n",
    "checks = checks.dropna()\n",
    "\n",
    "## set true datatypes ##\n",
    "# string index to int32\n",
    "product_df.index = product_df.index.astype(\"int32\")\n",
    "# sale_date_date to datetime\n",
    "checks.sale_date_date = pd.to_datetime(checks.sale_date_date, errors=\"coerce\")\n",
    "# shop_id to int32\n",
    "checks.shop_id = checks.shop_id.astype(\"int32\")\n",
    "# product_id to int32\n",
    "checks.product_id = checks.product_id.astype(\"int32\")\n",
    "# product_sub_category_id to int32\n",
    "checks.product_sub_category_id = checks.product_sub_category_id.astype(\"int32\")\n",
    "# product_category_id to int32\n",
    "checks.product_category_id = checks.product_category_id.astype(\"int32\")\n",
    "# contact_id to int32\n",
    "checks.contact_id = checks.contact_id.astype(\"int32\")\n",
    "# name to string\n",
    "checks.name = checks.name.astype(\"string\")\n",
    "\n",
    "## drop uninteresting columns\n",
    "checks.drop([\"brand_id\", \"quantity\"], axis=\"columns\", inplace=True)\n",
    "\n",
    "### drop uninteresting rows ###\n",
    "# drop service goods\n",
    "product_df.drop(129195,axis=\"rows\", inplace=True)\n",
    "checks.drop(checks[checks.product_id== 129195].index, axis=\"rows\",inplace=True)\n",
    "\n",
    "# drop discount cards\n",
    "product_df.drop(158662,axis=\"rows\", inplace=True)\n",
    "checks.drop(checks[checks.product_id== 158662].index, axis=\"rows\",inplace=True)\n",
    "\n",
    "### remove first \"(1234) \" like  thing in name strings\n",
    "checks.name = checks.name.apply(get_name)"
   ]
  },
  {
   "cell_type": "code",
   "execution_count": 63,
   "id": "da7327a6-299f-4a01-804d-a72249cf7b33",
   "metadata": {},
   "outputs": [
    {
     "name": "stdout",
     "output_type": "stream",
     "text": [
      "<class 'pandas.core.frame.DataFrame'>\n",
      "Int64Index: 19564127 entries, 0 to 19999999\n",
      "Data columns (total 7 columns):\n",
      " #   Column                   Dtype         \n",
      "---  ------                   -----         \n",
      " 0   sale_date_date           datetime64[ns]\n",
      " 1   contact_id               int32         \n",
      " 2   shop_id                  int32         \n",
      " 3   product_id               int32         \n",
      " 4   name                     object        \n",
      " 5   product_sub_category_id  int32         \n",
      " 6   product_category_id      int32         \n",
      "dtypes: datetime64[ns](1), int32(5), object(1)\n",
      "memory usage: 820.9+ MB\n"
     ]
    }
   ],
   "source": [
    "checks.info()"
   ]
  },
  {
   "cell_type": "markdown",
   "id": "e0ec16ea-1ab7-448f-810b-632a97e1ac34",
   "metadata": {},
   "source": [
    "# Про валидацию\n",
    "> **Одна тонкость про валидацию**\n",
    ">\n",
    "> Поведение клиента с рекомендациями и без них значительно отличается. Поэтому нельзя наверняка сказать на сколько рекомендации работают лучше на выборке, где рекомендации на практике никогда не вводились. Возможно, с такими рекомендациями пользователь будет чуть чаще покупать привычные ему товары или откроет для себя новые товары, которые ему полюбятся, но это нельзя проверить на выборке, где рекомендаций у клиентов не существует.\n",
    ">\n",
    "> Действительную оценку рекомендаций можно проводить, исследуя их на практике, потому-что они влияют на покупки клиентов. Увеличиваются ли продажи с вводом рекомендаций и на сколько? - правильный вопрос для бизнеса. А для исследователя - какое количество **новых** товаров стал покупать клиент аптеки по рекомендациям, на сколько чаще он стал впринципе покупать новые товары и на сколько чаще стали продажи уже знакомых для него товаров. \n",
    "\n",
    "\n",
    "**Валидация должна быть сделана с учётом времени. Есть два основных подхода**\n",
    "- Сравнение рекомендованных и реально купленных товаров на основе каждого чека за день\n",
    "- Сравнение рекомендованных и реально купленных товаров на основе всех покупок каждого клиента, отсортированных по времени.\n",
    "\n",
    "Я выбрал второй вариант. Так рекомендации даются иммено клиенту, а не подбираются товары, которые покупаются вместе чаще всего.\n",
    "\n",
    "\n",
    "Датасет будет сгруппирован по покупателям. Потому-что рекомендации по бизнес логике будут выдаваться конкретному человеку перед кассой. Далее сортируются все покупки каждого клиента по дате и убираются дубли товаров, чтобы не рекомендовать то, что клиент однажды уже покупал. Ведь он скорее всего купит привычные товары сам. Да и результаты модели будут от этого интереснее:)\n",
    "\n",
    "**Минус подхода - в трейн и тесте могут быть разные уникальные объекты**, а это служит причиной, что часть товаров из каталога просто не будет рекомендоваться до тех пор, пока их не начнут покупать.\n",
    "\n",
    "---"
   ]
  },
  {
   "cell_type": "markdown",
   "id": "1d7de547-85aa-4a69-b8cc-a2743ea1eee0",
   "metadata": {},
   "source": [
    "Важно заметить, что в связи с некоректностью предлогать купить определённый товар несколько раз - любая покупка товара более одного раза не должна быть впринципе быть записана. То есть все товары одного клиента в чеке нужно сделать уникальными"
   ]
  },
  {
   "cell_type": "code",
   "execution_count": 64,
   "id": "55709ddf-435f-4c97-9d54-1915f1e0c30e",
   "metadata": {},
   "outputs": [
    {
     "data": {
      "text/plain": [
       "1    18816439\n",
       "2      344300\n",
       "3       13939\n",
       "4        2150\n",
       "5         639\n",
       "6         233\n",
       "Name: name, dtype: int64"
      ]
     },
     "execution_count": 64,
     "metadata": {},
     "output_type": "execute_result"
    }
   ],
   "source": [
    "calculation = checks.groupby([\"contact_id\",\n",
    "                              \"sale_date_date\",\n",
    "                              \"product_id\"]).count()\n",
    "calculation.name.value_counts().iloc[:6]"
   ]
  },
  {
   "cell_type": "markdown",
   "id": "4ee160bb-dc40-41d0-aa3e-72cdeee070fc",
   "metadata": {},
   "source": [
    "Некоторые одинаковые товары были куплены несколько раз в общем чеке за день, исправим это"
   ]
  },
  {
   "cell_type": "code",
   "execution_count": 65,
   "id": "9c824fd8-e89e-4838-8a10-605fa92bc571",
   "metadata": {},
   "outputs": [
    {
     "name": "stdout",
     "output_type": "stream",
     "text": [
      "CPU times: total: 2min 32s\n",
      "Wall time: 2min 32s\n"
     ]
    },
    {
     "data": {
      "text/plain": [
       "contact_id  sale_date_date\n",
       "373         2018-02-21        [113441, 147658, 137357, 115823, 91063, 158586...\n",
       "            2018-11-29                    [57835, 134832, 154101, 19578, 61115]\n",
       "374         2018-12-07                                                  [38462]\n",
       "Name: product_id, dtype: object"
      ]
     },
     "execution_count": 65,
     "metadata": {},
     "output_type": "execute_result"
    }
   ],
   "source": [
    "%%time\n",
    "# 3 minutes\n",
    "day_distinct_cheks = checks.groupby([\"contact_id\",\n",
    "                                     \"sale_date_date\"])[\"product_id\"].agg(set)\n",
    "day_distinct_cheks = day_distinct_cheks.apply(lambda x: list(x))\n",
    "\n",
    "day_distinct_cheks.iloc[:3]"
   ]
  },
  {
   "cell_type": "markdown",
   "id": "e7437de4-2bae-4ca1-a350-ab1663e2e88e",
   "metadata": {},
   "source": [
    "Мы получили списоки уникальных товаров, каждым пользователем за один раз(за день). Из этих данных уже можно строить Колаборативную фильтрацию. **Привет разреженная матрица**"
   ]
  },
  {
   "cell_type": "markdown",
   "id": "621ed194-e742-4822-a577-6b6449791792",
   "metadata": {},
   "source": [
    "Упорядочим чеки по клиентам, а затем по времени, чтобы делать проверку на данных из будущего. "
   ]
  },
  {
   "cell_type": "code",
   "execution_count": 66,
   "id": "b675e5f1-e0a0-477c-8b0a-e9c501d3553f",
   "metadata": {
    "tags": []
   },
   "outputs": [],
   "source": [
    "day_distinct_cheks = day_distinct_cheks.reset_index().sort_values(\n",
    "                        [\"contact_id\",\n",
    "                         \"sale_date_date\"]).set_index([\"contact_id\",\n",
    "                                                       \"sale_date_date\"])"
   ]
  },
  {
   "cell_type": "code",
   "execution_count": 67,
   "id": "22eee81d-9404-4595-8e64-f47c3b2036ee",
   "metadata": {
    "tags": []
   },
   "outputs": [
    {
     "name": "stdout",
     "output_type": "stream",
     "text": [
      "CPU times: total: 52.9 s\n",
      "Wall time: 2min 51s\n"
     ]
    }
   ],
   "source": [
    "%%time\n",
    "contact_ids = checks.contact_id.unique()\n",
    "\n",
    "## ATTENTION! This may eat all of 16gb RAM\n",
    "# 4 minutes duration...\n",
    "results = Parallel(n_jobs=4)(delayed(get_conctact_goods_list)(x)\n",
    "                                  for x in chunker(contact_ids))\n",
    "contacts_goods_list = []\n",
    "for i in results:\n",
    "    for j in i:\n",
    "        contacts_goods_list.append(j)"
   ]
  },
  {
   "cell_type": "code",
   "execution_count": 68,
   "id": "68ccfafd-b3f1-4910-a438-1dc46ed5ee9e",
   "metadata": {
    "tags": []
   },
   "outputs": [],
   "source": [
    "contacts_goods_list = []\n",
    "for i in results:\n",
    "    for j in i:\n",
    "        contacts_goods_list.append(j)"
   ]
  },
  {
   "cell_type": "markdown",
   "id": "a8b9e167-856e-4405-88c8-9dc9c828d0f9",
   "metadata": {},
   "source": [
    "Невозоможно предсказать следующий купленный товар у клиента аптеки, если покупка была только одна за всё время. Поэтому нужно убрать из датасета клиентов c одной покупкой за всё время. \n",
    "\n",
    "Так же стоит исключить дублирующиеся товары, чтобы в предсказаниях просто не подстраивались предыдущие покупки, так можно явнее увидеть пользу от предсказаний. Ибо часто клиент просто повторяет покупки, а задача не определить, какой продукт из уже купленных возьмёт клиент ещё раз, потому что он его так и так купит - для задачи прогнозирования одинаковых покупок лучше подойдут предсказания по временному ряду."
   ]
  },
  {
   "cell_type": "code",
   "execution_count": 69,
   "id": "06b786ed-2334-4996-963e-9f2e0fdded79",
   "metadata": {
    "tags": []
   },
   "outputs": [],
   "source": [
    "contacts_goods = pd.Series(contacts_goods_list)\n",
    "contacts_goods.index = contact_ids\n",
    "\n",
    "# drop duplicates from lists and save order\n",
    "contacts_goods = contacts_goods.apply(f7) "
   ]
  },
  {
   "cell_type": "markdown",
   "id": "2495ed84-37ab-4422-9154-f45f24ac1696",
   "metadata": {},
   "source": [
    "\n",
    "При этом важно учитывать, что каждый товар недилим. Разделение на тестовую и тренировочную выборку возомжно, если клиентом было купленно хотя-бы 2 уникальных товара. Округление будет делаться в сторону тестовой выборки."
   ]
  },
  {
   "cell_type": "code",
   "execution_count": 70,
   "id": "cd84cd1c-6bb0-48f3-bead-9cf9a2a468e0",
   "metadata": {
    "tags": []
   },
   "outputs": [],
   "source": [
    "contacts_goods = contacts_goods[contacts_goods.apply(lambda x: len(x))>1]"
   ]
  },
  {
   "cell_type": "markdown",
   "id": "1001f67f-f7ec-435a-9f65-35fe141b57fa",
   "metadata": {},
   "source": [
    "Посмотрим на распределение количества купленных товаров у клиентов:"
   ]
  },
  {
   "cell_type": "code",
   "execution_count": 71,
   "id": "94c1a2ec-6974-48d9-9f73-fd681fc70ff4",
   "metadata": {
    "tags": []
   },
   "outputs": [
    {
     "data": {
      "image/png": "[encoded data removed]",
      "text/plain": [
       "<Figure size 640x480 with 1 Axes>"
      ]
     },
     "metadata": {},
     "output_type": "display_data"
    }
   ],
   "source": [
    "len_goods = contacts_goods.apply(lambda x: len(x))\n",
    "len_goods.plot.hist(bins=3000);"
   ]
  },
  {
   "cell_type": "markdown",
   "id": "7c913d04-83bd-4050-836d-6dd0e5e6d6fc",
   "metadata": {},
   "source": [
    "Ооочень длинный хвост из купленных уникальных товаров, доходящий аж до 3 тысяч наименований. А куплены они всего за год!\n",
    "Редкий покупатель может похвастаться столь стремительной скупкой аптеки - это компании, занимающиеся перепродажей, частные клиники и лаборатории. Маловероятно, что им нужны рекомендации, а целевая аудитория - не бизнесмены. Поэтому стоит срезать этот хвост"
   ]
  },
  {
   "cell_type": "code",
   "execution_count": 72,
   "id": "8d802e4e-7653-4ee7-8783-e669339dcb30",
   "metadata": {
    "tags": []
   },
   "outputs": [
    {
     "data": {
      "image/png": "[encoded data removed]",
      "text/plain": [
       "<Figure size 640x480 with 1 Axes>"
      ]
     },
     "metadata": {},
     "output_type": "display_data"
    }
   ],
   "source": [
    "len_goods.sort_values(ascending=True).iloc[:-2500].plot.hist(bins=150);"
   ]
  },
  {
   "cell_type": "markdown",
   "id": "c77360ab-f5a2-43e3-95a4-ffcddf3a1681",
   "metadata": {},
   "source": [
    "Воспользуемся интуицией и срежем всех клиентов с покупками более 70 - так распределение будет выглядеть симметричнее и будет с лихвой охвачена целевая аудитория рекомендаций"
   ]
  },
  {
   "cell_type": "code",
   "execution_count": 73,
   "id": "3aa62798-d364-482a-96ae-99bb078865be",
   "metadata": {},
   "outputs": [],
   "source": [
    "contacts_goods = contacts_goods[len_goods < 70]"
   ]
  },
  {
   "cell_type": "markdown",
   "id": "fcc803c1-7c32-41c2-9a66-41abb8157cda",
   "metadata": {},
   "source": [
    "Взглянем на потери:"
   ]
  },
  {
   "cell_type": "code",
   "execution_count": 74,
   "id": "c1ff9ad0-31c2-45d9-87d5-a680eab7b324",
   "metadata": {
    "tags": []
   },
   "outputs": [
    {
     "name": "stdout",
     "output_type": "stream",
     "text": [
      "1639912 было строк по клиентам\n",
      "1432456 стало строк по клиентам\n",
      "207456 - разница\n"
     ]
    }
   ],
   "source": [
    "print(f\"{len(contacts_goods_list)} было строк по клиентам\\n\\\n",
    "{len(contacts_goods)} стало строк по клиентам\\n\\\n",
    "{len(contacts_goods_list)-len(contacts_goods)} - разница\")"
   ]
  },
  {
   "cell_type": "markdown",
   "id": "b564f4eb-0171-4f89-acaa-de131b9df710",
   "metadata": {},
   "source": [
    "Невозвратно ушли две колонки:\n",
    "- sale_date_date\n",
    "- shop_id\n",
    "\n",
    "Остальные же можно подтянуть из каталога"
   ]
  },
  {
   "cell_type": "markdown",
   "id": "08b06b85-04e9-44ea-8264-36dc96f26beb",
   "metadata": {},
   "source": [
    "Результаты моделей буду собирать в словарик:"
   ]
  },
  {
   "cell_type": "code",
   "execution_count": 75,
   "id": "dced7fd0-3116-4a1a-93ee-15bb86763d34",
   "metadata": {
    "tags": []
   },
   "outputs": [],
   "source": [
    "models_results = {}"
   ]
  },
  {
   "cell_type": "markdown",
   "id": "ca037507-1b30-464a-b1f0-f39cb6d4f670",
   "metadata": {},
   "source": [
    "## Выборки\n",
    "**Соотношение тренировочного сета к тестовому 2/1** А непосредственно валидация будет происходить  на 10 тысячах строк. Да, технически тут две валидации и обучение будет происходить на 2/3 данных без учёта 10 тысячи строк.\n",
    "\n",
    "Важно заметить, что некоректно обучать любые модели на информации из фактического будущего для его предсказания, но будущее в датасете определено как тестовые покупки, а прошлое - как тренировочные и в рамках проекта можно пренебречь формальным временем, чтобы не слишком сокращать выборку путём разбиения покупок до определённого числа и покупок после него.\n",
    "\n",
    "А обучать все модели буду на тренировочном сете просто для того, чтобы их можно было сравнить."
   ]
  },
  {
   "cell_type": "code",
   "execution_count": 76,
   "id": "31f428c7-c164-4b6e-952f-aa286d9702cf",
   "metadata": {
    "tags": []
   },
   "outputs": [
    {
     "data": {
      "text/html": [
       "<div>\n",
       "<style scoped>\n",
       "    .dataframe tbody tr th:only-of-type {\n",
       "        vertical-align: middle;\n",
       "    }\n",
       "\n",
       "    .dataframe tbody tr th {\n",
       "        vertical-align: top;\n",
       "    }\n",
       "\n",
       "    .dataframe thead th {\n",
       "        text-align: right;\n",
       "    }\n",
       "</style>\n",
       "<table border=\"1\" class=\"dataframe\">\n",
       "  <thead>\n",
       "    <tr style=\"text-align: right;\">\n",
       "      <th></th>\n",
       "      <th>train</th>\n",
       "      <th>test</th>\n",
       "    </tr>\n",
       "  </thead>\n",
       "  <tbody>\n",
       "    <tr>\n",
       "      <th>42645</th>\n",
       "      <td>[68690, 96723]</td>\n",
       "      <td>[161495]</td>\n",
       "    </tr>\n",
       "    <tr>\n",
       "      <th>1891868</th>\n",
       "      <td>[71276, 107409]</td>\n",
       "      <td>[39954, 104524]</td>\n",
       "    </tr>\n",
       "    <tr>\n",
       "      <th>1684189</th>\n",
       "      <td>[54592, 65589, 59862]</td>\n",
       "      <td>[90747, 168308]</td>\n",
       "    </tr>\n",
       "    <tr>\n",
       "      <th>842341</th>\n",
       "      <td>[135427, 98663, 129194, 52106, 53738, 136020, ...</td>\n",
       "      <td>[139502, 95785, 156137, 120443, 51951, 80402, ...</td>\n",
       "    </tr>\n",
       "    <tr>\n",
       "      <th>1293968</th>\n",
       "      <td>[130113, 94582]</td>\n",
       "      <td>[154019, 60438]</td>\n",
       "    </tr>\n",
       "  </tbody>\n",
       "</table>\n",
       "</div>"
      ],
      "text/plain": [
       "                                                     train  \\\n",
       "42645                                       [68690, 96723]   \n",
       "1891868                                    [71276, 107409]   \n",
       "1684189                              [54592, 65589, 59862]   \n",
       "842341   [135427, 98663, 129194, 52106, 53738, 136020, ...   \n",
       "1293968                                    [130113, 94582]   \n",
       "\n",
       "                                                      test  \n",
       "42645                                             [161495]  \n",
       "1891868                                    [39954, 104524]  \n",
       "1684189                                    [90747, 168308]  \n",
       "842341   [139502, 95785, 156137, 120443, 51951, 80402, ...  \n",
       "1293968                                    [154019, 60438]  "
      ]
     },
     "execution_count": 76,
     "metadata": {},
     "output_type": "execute_result"
    }
   ],
   "source": [
    "train_test = train_test_validation(contacts_goods)\n",
    "train_test.sample(5)"
   ]
  },
  {
   "cell_type": "markdown",
   "id": "5e029711-4e31-4305-8768-f557a2f14c18",
   "metadata": {},
   "source": [
    "Перемешаю всю выборку, чтобы избежать неучтенных закономерностей в порядке строк"
   ]
  },
  {
   "cell_type": "code",
   "execution_count": 77,
   "id": "7bbc76e4-a0d3-4d8a-b534-0f1789561aa0",
   "metadata": {
    "tags": []
   },
   "outputs": [],
   "source": [
    "train_test = shuffle(train_test)"
   ]
  },
  {
   "cell_type": "code",
   "execution_count": 78,
   "id": "7c9fe2c2-47f7-49e4-8cba-fd6a67b3ba2e",
   "metadata": {
    "tags": []
   },
   "outputs": [],
   "source": [
    "X_test = train_test.train.iloc[:10000]\n",
    "y_test = train_test.test.iloc[:10000]\n",
    "\n",
    "X_train = train_test.train.iloc[10000:]"
   ]
  },
  {
   "cell_type": "markdown",
   "id": "4870255a-a709-4a00-a492-1062a3daefff",
   "metadata": {},
   "source": [
    "# Неперсонализированные рекомендации\n",
    "\n",
    "Просто будем рекомендовать каждому клиенту самые популярные товары"
   ]
  },
  {
   "cell_type": "code",
   "execution_count": 79,
   "id": "564bc831-681e-4f7b-9cb7-abf9b3e07c0c",
   "metadata": {
    "tags": []
   },
   "outputs": [
    {
     "name": "stdout",
     "output_type": "stream",
     "text": [
      "Топ 5 товаров:\n",
      "\n",
      "Пакет-майка 25см х 45см\n",
      "Корвалол капли д/приема внутрь 25мл\n",
      "Панангин таб.п.п.о.№50\n",
      "PL Хлоргексидин биглюконат р-р 0.05% фл.100мл №1 (НДС 18%)\n",
      "Тауфон капли глазн 4% фл 10 мл. пласт. флак.-кап.\n"
     ]
    }
   ],
   "source": [
    "goods_byproduct = checks.groupby([\"product_id\"]).count().name\n",
    "top100products = goods_byproduct.sort_values(ascending=False).iloc[:100].index\n",
    "\n",
    "print(\"Топ 5 товаров:\\n\")\n",
    "for i in top100products[:5]:\n",
    "    print(product_df.name.loc[i])\n",
    "    \n",
    "recs = []\n",
    "for _ in range (10000):\n",
    "    recs.append(top100products)"
   ]
  },
  {
   "cell_type": "markdown",
   "id": "c079384f-4e7b-4629-9cad-89a22c7b5659",
   "metadata": {},
   "source": [
    "## Результаты "
   ]
  },
  {
   "cell_type": "code",
   "execution_count": 80,
   "id": "554b0656-0142-4566-a005-69235ba884cd",
   "metadata": {
    "tags": []
   },
   "outputs": [],
   "source": [
    "validation, success_recs_count, rank_distribution, count_division \\\n",
    "    = get_validation(recs,y_test)"
   ]
  },
  {
   "cell_type": "markdown",
   "id": "608bddfa-9faa-4098-92ae-2167233f3b01",
   "metadata": {},
   "source": [
    "Как часто рекомендации совпадают с покупками?"
   ]
  },
  {
   "cell_type": "code",
   "execution_count": 81,
   "id": "000a442b-376c-410a-b7a5-35345470d49c",
   "metadata": {
    "tags": []
   },
   "outputs": [
    {
     "name": "stdout",
     "output_type": "stream",
     "text": [
      "0.4216 - доля совпадения хотя бы одной рекомендациииз всех в покупках клиента\n"
     ]
    },
    {
     "data": {
      "image/png": "[encoded data removed]",
      "text/plain": [
       "<Figure size 640x480 with 1 Axes>"
      ]
     },
     "metadata": {},
     "output_type": "display_data"
    }
   ],
   "source": [
    "vc = success_recs_count.value_counts()\n",
    "vc.plot.bar();\n",
    "succes_proportion = round(1 - vc[0]/len(success_recs_count),4)\n",
    "print(succes_proportion, \"- доля совпадения хотя бы одной рекомендации\\\n",
    "из всех в покупках клиента\")"
   ]
  },
  {
   "cell_type": "markdown",
   "id": "76d2adc5-ad21-4009-aef3-2a3bb22d55c2",
   "metadata": {},
   "source": [
    "А какого среднее отношение рекомендованных товаров к купленным, если рекомендация всё таки подошла?"
   ]
  },
  {
   "cell_type": "code",
   "execution_count": 82,
   "id": "1c908548-7bfe-4c1c-b859-30f9da48b169",
   "metadata": {
    "tags": []
   },
   "outputs": [
    {
     "data": {
      "text/plain": [
       "0.3873"
      ]
     },
     "execution_count": 82,
     "metadata": {},
     "output_type": "execute_result"
    }
   ],
   "source": [
    "succes_count_proportion = round(count_division[count_division != 0].mean(),4)\n",
    "succes_count_proportion"
   ]
  },
  {
   "cell_type": "markdown",
   "id": "c3d73ee2-2aff-4679-9d50-74d1f22e01a6",
   "metadata": {},
   "source": [
    "38%! Это много, можно научить регрессор определять вероятность того, что рекомендации подойдут или нет. Поможет повысить метрику и увеличить лояльность клиентов к рекомендациям"
   ]
  },
  {
   "cell_type": "markdown",
   "id": "c1df3ff4-37e4-4924-8ab1-e09095111115",
   "metadata": {},
   "source": [
    "Выведем расределение позиции в топе у рекомендаций"
   ]
  },
  {
   "cell_type": "code",
   "execution_count": 83,
   "id": "555669b1-1228-4a9c-b624-15ad0c6de45b",
   "metadata": {
    "tags": []
   },
   "outputs": [
    {
     "name": "stdout",
     "output_type": "stream",
     "text": [
      "32.0 - медиана\n",
      "38.6042 - среднее\n"
     ]
    },
    {
     "data": {
      "image/png": "[encoded data removed]",
      "text/plain": [
       "<Figure size 640x480 with 1 Axes>"
      ]
     },
     "metadata": {},
     "output_type": "display_data"
    }
   ],
   "source": [
    "rank_distribution.hist(bins=100);\n",
    "\n",
    "median = round(rank_distribution.median(),4)\n",
    "mean = round(rank_distribution.mean(),4)\n",
    "print(median, \"- медиана\")\n",
    "print(mean, \"- среднее\")"
   ]
  },
  {
   "cell_type": "markdown",
   "id": "4e93f161-883b-4381-9520-09e674a228a3",
   "metadata": {},
   "source": [
    "Медиана замыкает первую треть, распределение смещенно к началу рекомендаций, что значит, что они подобраны правильно. Есть интресная деталь в виде сильного расброса значений. Я полагаю, что это связано с тем, что действия покупателей деляться на несколько паттернов, которые можно поделить как минимум на две группы: покупка популярных товаров и покупка всех остальных товаров(Когда клиент лечится от акне или принимает конкретный вид БАДов и т.д.). Популярный товар имеет свойство быть периодически покупаемым большим количеством клиентов и возможно эти колебания отражают этот паттерн для товаров, а белые пропуски - волны остальных товаров."
   ]
  },
  {
   "cell_type": "markdown",
   "id": "95f40d90-a60b-4060-b371-5ab4ec4f6034",
   "metadata": {},
   "source": [
    "А какого общее соотношение удачно рекомендованных товаров ко всем покупкам?"
   ]
  },
  {
   "cell_type": "code",
   "execution_count": 84,
   "id": "d1226c51-07b7-4b10-a961-82997dac9ce2",
   "metadata": {
    "tags": []
   },
   "outputs": [
    {
     "data": {
      "text/plain": [
       "0.16789815011694664"
      ]
     },
     "execution_count": 84,
     "metadata": {},
     "output_type": "execute_result"
    }
   ],
   "source": [
    "all_succes_products_proportion = success_recs_count.sum() / y_test.apply(len).sum()\n",
    "all_succes_products_proportion"
   ]
  },
  {
   "cell_type": "code",
   "execution_count": 85,
   "id": "620a96ec-a804-43c8-be88-fde2a1422258",
   "metadata": {
    "tags": []
   },
   "outputs": [],
   "source": [
    "# save model results\n",
    "models_results[\"non_personal\"] = {\n",
    "    \"succes_proportion\" : succes_proportion,\n",
    "    \"succes_count_proportion\" : succes_count_proportion,\n",
    "    \"median\" : median,\n",
    "    \"mean\" : mean,\n",
    "    \"all_succes_products_proportion\" : all_succes_products_proportion,\n",
    "    \"rank_distribution\" : rank_distribution\n",
    "}"
   ]
  },
  {
   "cell_type": "markdown",
   "id": "63009c6d-3259-4030-aad9-c9738ba56420",
   "metadata": {},
   "source": [
    "# Коллаборативная user-based фильтрация  \n",
    "\n",
    "Должно быть, подобный алгоритм уже существует, но я его назвал \"Алгоритм бинарных компенсирующих векторов\"\n",
    "\n",
    "Алгоритм рекомендует наиболее вероятные новые для юзера товары. Специально под специфику выборкок.\n",
    "\n",
    "**Выборка**:\n",
    "На примере чеков и последовательных покупок.\n",
    "Происходит группировка покупок по клиентам, далее по клиентам покупки сортируются по времени от древних до новых и приводятся к уникальному виду таким образом, что при наличии повтора у одного товара после фильтрации по уникальности в ряду останется только самая первая покупка с этим товаром.\n",
    "Далее создаётся разреженная матрица, где строки - уникальные клиенты, а колонки - уникальные товары. Наличие покупки у клиента это единица, отсутствие - нуль. \n",
    "Важно уточнить, что период выборки может быть произвольный и в нём перемешиваются все покупки по времени.\n",
    "\n",
    "**Алгоритм**:\n",
    "Рекомендация происходит по отдельному юзеру используя всю выборку. В общем и целом алгоритм сначала подбирает группу похожих на клиента по покупкам юзеров и потом находит среди всех приобритенных ими товаров самые популярные.\n",
    "\n",
    "1. Выбирается юзер для рекомендации\n",
    "2. Матрица фильтруется по колонкам, где есть покупки у юзера\n",
    "3. Индексы непустых значений получившейся матрицы  сохраняются и матрица по ним фильтруется.\n",
    "4. Разреженная матрица превращается в обычную и в ней ставятся сохранённые индексы разреженной.\n",
    "5. Находится сумма единиц по строкам обычной матрицы - получается индексированный ряд целых чисел.\n",
    "6. Ряд сортируется по убыванию\n",
    "7. Из ряда выбирается фиксированное количество первых индексов с наибольшей суммой, например 30\n",
    "8. По индексам находятся строки этих 30 клиентов в разреженной матрице и фильтруются колонки, в которых нет значений у всех 30 пользователей. Получившаяся матрица переводится в обычную.\n",
    "9. Происходит суммирование обычной матрицы по колонкам. Получается индексированный ряд целых чисел, где индексы - товары. \n",
    "10. Ряд сортируется по убыванию. Это и есть топ самых вероятных новых уникальных товаров для покупки у пользователя в следующие разы. Можно взять первые 10 для рекомендаций.\n",
    "\n",
    "Параметры:\n",
    "- Число выбранных похожих клиентов по которым будут находиться самые вероятные товары\n",
    "- Число подбираемых рекомендаций\n",
    "\n",
    "\n"
   ]
  },
  {
   "cell_type": "markdown",
   "id": "4637ee08-60a6-42f0-b877-d2ac5165937f",
   "metadata": {},
   "source": [
    "## Model preprocessing\n",
    "\n",
    "Работа с разреженными матрицами"
   ]
  },
  {
   "cell_type": "code",
   "execution_count": 86,
   "id": "ff0f59d4-87a0-4b3b-8b78-d84e500ccd0a",
   "metadata": {
    "tags": []
   },
   "outputs": [],
   "source": [
    "mlb = MultiLabelBinarizer(sparse_output=True)\n",
    "sparse_contacts_goods = mlb.fit_transform(X_train)\n",
    "\n",
    "df_csc = sp.sparse.csc_matrix(sparse_contacts_goods)\n",
    "df_csr = sp.sparse.csr_matrix(sparse_contacts_goods)"
   ]
  },
  {
   "cell_type": "markdown",
   "id": "6c93e830-d2a7-427a-b341-2bd8de24696e",
   "metadata": {},
   "source": [
    "## Предсказания\n",
    "Хочу заметить, что используя модель можно использовать 100% процессора:) А если на машине с этим кодом более 12 ядер, то можно увеличивать количество чанков в функции `chunker`"
   ]
  },
  {
   "cell_type": "code",
   "execution_count": 87,
   "id": "f9e031eb-42a4-4303-abb7-995233e821af",
   "metadata": {
    "tags": []
   },
   "outputs": [
    {
     "name": "stdout",
     "output_type": "stream",
     "text": [
      "CPU times: total: 516 ms\n",
      "Wall time: 56 s\n"
     ]
    }
   ],
   "source": [
    "%%time\n",
    "results = Parallel(n_jobs=-1)(delayed(get_recs)(x, similar_row_top_n=12000) # play !!!!!!!!!!!\n",
    "                                  for x in chunker(list(range(10000))))\n",
    "recomendations = []\n",
    "for lst in results: recomendations += lst"
   ]
  },
  {
   "cell_type": "markdown",
   "id": "581755c8-5b76-4248-a86c-8dd8fddba0d0",
   "metadata": {},
   "source": [
    "## Результаты"
   ]
  },
  {
   "cell_type": "code",
   "execution_count": 88,
   "id": "1150d0b4-ce95-41c2-a52f-ce3b680ec035",
   "metadata": {
    "tags": []
   },
   "outputs": [],
   "source": [
    "validation, success_recs_count, rank_distribution, count_division \\\n",
    "    = get_validation(recomendations, y_test)"
   ]
  },
  {
   "cell_type": "markdown",
   "id": "a0a7db54-ea44-45be-a913-8525ddfa0e9b",
   "metadata": {},
   "source": [
    "Как часто рекомендации совпадают с покупками?"
   ]
  },
  {
   "cell_type": "code",
   "execution_count": 89,
   "id": "6d423cee-109b-4cc3-b308-c5535aa6b977",
   "metadata": {
    "tags": []
   },
   "outputs": [
    {
     "name": "stdout",
     "output_type": "stream",
     "text": [
      "0.3762 - доля совпадения хотя бы одной рекомендациииз всех в покупках клиента\n"
     ]
    },
    {
     "data": {
      "image/png": "[encoded data removed]",
      "text/plain": [
       "<Figure size 640x480 with 1 Axes>"
      ]
     },
     "metadata": {},
     "output_type": "display_data"
    }
   ],
   "source": [
    "vc = success_recs_count.value_counts()\n",
    "vc.plot.bar();\n",
    "succes_proportion = round(1 - vc[0]/len(success_recs_count),4)\n",
    "print(succes_proportion, \"- доля совпадения хотя бы одной рекомендации\\\n",
    "из всех в покупках клиента\")"
   ]
  },
  {
   "cell_type": "markdown",
   "id": "bb9fb079-20b0-4769-ad26-4aaa9119a2b8",
   "metadata": {},
   "source": [
    "А какого среднее отношение рекомендованных товаров к купленным, если рекомендация всё таки подошла?"
   ]
  },
  {
   "cell_type": "code",
   "execution_count": 90,
   "id": "4d4c66d0-441d-49eb-bb6c-e1752278c95b",
   "metadata": {
    "tags": []
   },
   "outputs": [
    {
     "data": {
      "text/plain": [
       "0.3751"
      ]
     },
     "execution_count": 90,
     "metadata": {},
     "output_type": "execute_result"
    }
   ],
   "source": [
    "succes_count_proportion = round(count_division[count_division != 0].mean(),4)\n",
    "succes_count_proportion"
   ]
  },
  {
   "cell_type": "markdown",
   "id": "01762d56-4a8f-46f9-a515-87fa35393c98",
   "metadata": {},
   "source": [
    "37% Это чуть хуже, чем неперсонализированные рекомендации"
   ]
  },
  {
   "cell_type": "markdown",
   "id": "c68759b0-5bb6-4313-88fe-b0395b06ea2b",
   "metadata": {},
   "source": [
    "Выведем расределение позиции в топе у рекомендаций"
   ]
  },
  {
   "cell_type": "code",
   "execution_count": 91,
   "id": "a64edd08-00ac-44b8-96f8-b848e4fb9b0d",
   "metadata": {
    "tags": []
   },
   "outputs": [
    {
     "name": "stdout",
     "output_type": "stream",
     "text": [
      "35.0 - медиана\n",
      "40.5747 - среднее\n"
     ]
    },
    {
     "data": {
      "image/png": "[encoded data removed]",
      "text/plain": [
       "<Figure size 640x480 with 1 Axes>"
      ]
     },
     "metadata": {},
     "output_type": "display_data"
    }
   ],
   "source": [
    "rank_distribution.hist(bins=100);\n",
    "\n",
    "median = round(rank_distribution.median(),4)\n",
    "mean = round(rank_distribution.mean(),4)\n",
    "print(median, \"- медиана\")\n",
    "print(mean, \"- среднее\")"
   ]
  },
  {
   "cell_type": "markdown",
   "id": "47c4dcd2-3a4a-4c3f-b671-482fb0016615",
   "metadata": {},
   "source": [
    "Медиана открывает вторую треть, распределение смещено к первым рекомендациям, модель работает в соответствии с логикой рекомендаций. Хочется отметить, что ушли огромные провалы, что даёт вес гипотезе о категориях покупательных паттернов, где есть покупка популярных товаров и всех остальных. Две модели можно совместить, чтобы получить лучший результат т.к. распределение рейтинга рекомендаций у них не совпадает и не смотря на то, что неперсонализированные рекомендации оказались сильнее, есть места в распределении, где коллаборативная модель показывает лучшие результаты."
   ]
  },
  {
   "cell_type": "markdown",
   "id": "476b3944-b40b-49fc-a7b5-da81fd6b9428",
   "metadata": {},
   "source": [
    "А какого общее соотношение удачно рекомендованных товаров ко всем покупкам?"
   ]
  },
  {
   "cell_type": "code",
   "execution_count": 92,
   "id": "93280488-c8d6-440f-8ef3-9b9b938e0a24",
   "metadata": {
    "tags": []
   },
   "outputs": [
    {
     "data": {
      "text/plain": [
       "0.14530618753986818"
      ]
     },
     "execution_count": 92,
     "metadata": {},
     "output_type": "execute_result"
    }
   ],
   "source": [
    "all_succes_products_proportion = success_recs_count.sum() / y_test.apply(len).sum()\n",
    "all_succes_products_proportion"
   ]
  },
  {
   "cell_type": "code",
   "execution_count": 93,
   "id": "f58eeba0-e06b-4720-9a78-07d34cbf7740",
   "metadata": {
    "tags": []
   },
   "outputs": [],
   "source": [
    "# save model results\n",
    "models_results[\"my_collaborative\"] = {\n",
    "    \"succes_proportion\" : succes_proportion,\n",
    "    \"succes_count_proportion\" : succes_count_proportion,\n",
    "    \"median\" : median,\n",
    "    \"mean\" : mean,\n",
    "    \"all_succes_products_proportion\" : all_succes_products_proportion,\n",
    "    \"rank_distribution\" : rank_distribution\n",
    "}"
   ]
  },
  {
   "cell_type": "markdown",
   "id": "5de27f0e-2477-409a-b4e5-724d1d34f698",
   "metadata": {},
   "source": [
    "# Word to Vector подходы"
   ]
  },
  {
   "cell_type": "markdown",
   "id": "9b836089-57fd-455e-931e-cf1423b6c175",
   "metadata": {},
   "source": [
    "## FastText по названиям товаров в корзине"
   ]
  },
  {
   "cell_type": "markdown",
   "id": "5c419af9-68de-459c-a0ba-24cebec4d032",
   "metadata": {},
   "source": [
    "К каждому товару в корзине выводится ближайшая рекомендация по его названию. Причем количество рекомендаций одному товару зависит от того сколько товаров лежит в корзине. Нужно набрать 100 рекомендаций. Если их 50, то рекомендаций 50, если их 20, то рекомендаций 80."
   ]
  },
  {
   "cell_type": "markdown",
   "id": "185794da-d6fd-4289-a9d6-efcd9d9475a4",
   "metadata": {},
   "source": [
    "В предобработке первым делом нужно удалить цифры и то, что идёт сразу после них. После чего стоит убрать цифры и преставки объема, длинны, веса. \n",
    "\n",
    "Лемматизация не имеет большого смысла, поскольку FastText подход подразумевает генерацию векторов из слов по буквам и n-граммам. "
   ]
  },
  {
   "cell_type": "code",
   "execution_count": 94,
   "id": "453a07e7-c938-41da-b0dc-f6eb68d6c316",
   "metadata": {
    "tags": []
   },
   "outputs": [],
   "source": [
    "## preprocessing strings\n",
    "model_str = product_df.name\n",
    "model_str = model_str.apply(simple_preprocess).apply(lambda x: \" \".join(x))\n",
    "model_str = model_str.apply(lambda x: x+ \" \")\n",
    "\n",
    "for _ in range(10):\n",
    "    for string in [\"см\", \"мм\", \"л\", \"мл\", \"гр\", \"мг\", \"мкг\"]:\n",
    "        model_str = model_str.str.replace(f\" {string} \", \" \", regex=True)    \n",
    "        \n",
    "model_str = model_str.str.strip()"
   ]
  },
  {
   "cell_type": "code",
   "execution_count": 95,
   "id": "52505688-c30d-46bb-a8b9-2bb421924741",
   "metadata": {
    "tags": []
   },
   "outputs": [],
   "source": [
    "model_str.to_csv(\"model_str.csv\",index=False) # save strings as file for model"
   ]
  },
  {
   "cell_type": "code",
   "execution_count": 96,
   "id": "de686a1f-fc7c-40ea-bcb6-b16a2f160d1d",
   "metadata": {
    "tags": []
   },
   "outputs": [],
   "source": [
    "# train model\n",
    "model_product = fasttext.train_unsupervised(\"model_str.csv\", dim=50)"
   ]
  },
  {
   "cell_type": "code",
   "execution_count": 97,
   "id": "627a2b6d-03c1-4963-91a6-8ceba6cb5838",
   "metadata": {
    "tags": []
   },
   "outputs": [
    {
     "data": {
      "text/plain": [
       "[(0.9780542850494385, 'вит'),\n",
       " (0.967735230922699, 'витамины'),\n",
       " (0.9587873816490173, 'витамином'),\n",
       " (0.9572257995605469, 'витаминно'),\n",
       " (0.9484769701957703, 'витаминами'),\n",
       " (0.9446534514427185, 'витаон'),\n",
       " (0.941455066204071, 'глюкозамин'),\n",
       " (0.9405422806739807, 'мультивитамин'),\n",
       " (0.9373069405555725, 'глюкозамином'),\n",
       " (0.9204941987991333, 'цианокобаламин')]"
      ]
     },
     "execution_count": 97,
     "metadata": {},
     "output_type": "execute_result"
    }
   ],
   "source": [
    "model_product.get_nearest_neighbors(\"витамин\") # test model inside its dict "
   ]
  },
  {
   "cell_type": "code",
   "execution_count": 98,
   "id": "b4664596-b35f-4d2a-bd49-21bf568df5e7",
   "metadata": {
    "tags": []
   },
   "outputs": [],
   "source": [
    "# get array for each product name\n",
    "product_array = []\n",
    "for product in product_df.index:\n",
    "        product_array.append(model_product[model_str.loc[product]])"
   ]
  },
  {
   "cell_type": "code",
   "execution_count": 99,
   "id": "8b0e8117-6dc1-434b-abea-1d7dd6c8cc5c",
   "metadata": {
    "tags": []
   },
   "outputs": [],
   "source": [
    "# fit NearestNeighbors model\n",
    "neigh_product = NearestNeighbors(n_neighbors=20, algorithm='ball_tree').fit(\n",
    "            product_array)"
   ]
  },
  {
   "cell_type": "code",
   "execution_count": null,
   "id": "8c153b75-cfab-44a0-b182-d90c11734941",
   "metadata": {
    "tags": []
   },
   "outputs": [],
   "source": []
  },
  {
   "cell_type": "code",
   "execution_count": 100,
   "id": "b86ac6ab-bd25-41ef-887d-ae3f55d0b409",
   "metadata": {
    "tags": []
   },
   "outputs": [],
   "source": [
    "train_names = transform_array(model_str, X_train)"
   ]
  },
  {
   "cell_type": "code",
   "execution_count": 101,
   "id": "86f23dbd-a887-4432-84db-9972ad929650",
   "metadata": {
    "tags": []
   },
   "outputs": [],
   "source": [
    "train_names_test = transform_array(model_str, X_test)"
   ]
  },
  {
   "cell_type": "code",
   "execution_count": 102,
   "id": "575381b8-498e-4770-b21f-80ade3225c3a",
   "metadata": {
    "tags": []
   },
   "outputs": [
    {
     "name": "stdout",
     "output_type": "stream",
     "text": [
      "CPU times: total: 3min 18s\n",
      "Wall time: 3min 19s\n"
     ]
    }
   ],
   "source": [
    "%%time\n",
    "# generate recomendations\n",
    "recomendations = []\n",
    "for lst in train_names_test:\n",
    "    recs_per_item = math.ceil(100 / len(lst))\n",
    "    recs = []\n",
    "    for name in lst:\n",
    "        neighbours = neigh_product.kneighbors([model_product[name]],\n",
    "                                      recs_per_item, return_distance=False)\n",
    "        recs += list(model_str.iloc[neighbours[0]].index)\n",
    "    recomendations.append(recs[:100])"
   ]
  },
  {
   "cell_type": "markdown",
   "id": "bd5d6d40-4fcf-42a6-ae35-a2a5d03cb33b",
   "metadata": {},
   "source": [
    "### Результаты"
   ]
  },
  {
   "cell_type": "code",
   "execution_count": 103,
   "id": "37eda4ac-10e9-470d-aafd-8e5185ffcbf1",
   "metadata": {
    "tags": []
   },
   "outputs": [],
   "source": [
    "validation, success_recs_count, rank_distribution, count_division \\\n",
    "    = get_validation(recomendations, y_test)"
   ]
  },
  {
   "cell_type": "markdown",
   "id": "4cf741df-7182-4d87-bcef-00111ee0d3fa",
   "metadata": {},
   "source": [
    "Как часто рекомендации совпадают с покупками?"
   ]
  },
  {
   "cell_type": "code",
   "execution_count": 104,
   "id": "5b20705b-8749-4465-ac09-45ff50024ad5",
   "metadata": {
    "tags": []
   },
   "outputs": [
    {
     "name": "stdout",
     "output_type": "stream",
     "text": [
      "0.1649 - доля совпадения хотя бы одной рекомендациииз всех в покупках клиента\n"
     ]
    },
    {
     "data": {
      "image/png": "[encoded data removed]",
      "text/plain": [
       "<Figure size 640x480 with 1 Axes>"
      ]
     },
     "metadata": {},
     "output_type": "display_data"
    }
   ],
   "source": [
    "vc = success_recs_count.value_counts()\n",
    "vc.plot.bar();\n",
    "succes_proportion = round(1 - vc[0]/len(success_recs_count),4)\n",
    "print(succes_proportion, \"- доля совпадения хотя бы одной рекомендации\\\n",
    "из всех в покупках клиента\")"
   ]
  },
  {
   "cell_type": "markdown",
   "id": "0edcf0b3-c598-4f65-a450-66591baa46df",
   "metadata": {},
   "source": [
    "Это значительно хуже чем рекомендовать самые популярные товары. То есть рекомендовать лекарства по похожему названию не самая хорошая идея:)"
   ]
  },
  {
   "cell_type": "markdown",
   "id": "0d5d8ca8-c49b-4b4c-8efd-626a44014322",
   "metadata": {},
   "source": [
    "А какого среднее отношение рекомендованных товаров к купленным, если рекомендация всё таки подошла?"
   ]
  },
  {
   "cell_type": "code",
   "execution_count": 105,
   "id": "58f0d119-2ee8-4b65-95be-022a2acdeba7",
   "metadata": {
    "tags": []
   },
   "outputs": [
    {
     "data": {
      "text/plain": [
       "0.3091"
      ]
     },
     "execution_count": 105,
     "metadata": {},
     "output_type": "execute_result"
    }
   ],
   "source": [
    "succes_count_proportion = round(count_division[count_division != 0].mean(),4)\n",
    "succes_count_proportion"
   ]
  },
  {
   "cell_type": "markdown",
   "id": "1b482d18-7d8a-4800-b6f1-f92946a0e836",
   "metadata": {},
   "source": [
    "почти 32%. Не самый плохой результат не учитывая того, что самые частые покупки в выборке - 1 товар."
   ]
  },
  {
   "cell_type": "markdown",
   "id": "cc0bc114-fd12-4aa7-8152-db0cbb2bb9be",
   "metadata": {},
   "source": [
    "Выведем расределение позиции в топе у рекомендаций"
   ]
  },
  {
   "cell_type": "code",
   "execution_count": 106,
   "id": "e94d9e61-12c8-48a7-9c29-6fd9d4b7846a",
   "metadata": {
    "tags": []
   },
   "outputs": [
    {
     "name": "stdout",
     "output_type": "stream",
     "text": [
      "47.0 - медиана\n",
      "46.9697 - среднее\n"
     ]
    },
    {
     "data": {
      "image/png": "[encoded data removed]",
      "text/plain": [
       "<Figure size 640x480 with 1 Axes>"
      ]
     },
     "metadata": {},
     "output_type": "display_data"
    }
   ],
   "source": [
    "rank_distribution.hist(bins=100);\n",
    "\n",
    "median = round(rank_distribution.median(),4)\n",
    "mean = round(rank_distribution.mean(),4)\n",
    "print(median, \"- медиана\")\n",
    "print(mean, \"- среднее\")"
   ]
  },
  {
   "cell_type": "markdown",
   "id": "849397a7-654f-409a-86cd-29f56c3e5422",
   "metadata": {},
   "source": [
    "Интересно! Среди первых рекомендаций - самые частые совпадения, но в остальном распределение плюс минус стационарно. То есть аналог(или просто похожее название) лекарства покупают после приобретения \"оригинала\". Во всяком случае можно наблюдать спрос на новые товары в узкой категории среди покупателей, но он небольшой и угасает в пределах 4 покупок."
   ]
  },
  {
   "cell_type": "markdown",
   "id": "c5d30b21-b4af-43c4-92b1-6bba89ee24c7",
   "metadata": {},
   "source": [
    "А какого общее соотношение удачно рекомендованных товаров ко всем покупкам?"
   ]
  },
  {
   "cell_type": "code",
   "execution_count": 107,
   "id": "17f2e79e-6e69-4222-9fe5-0e0dc0213f8c",
   "metadata": {
    "tags": []
   },
   "outputs": [
    {
     "data": {
      "text/plain": [
       "0.05871252392090155"
      ]
     },
     "execution_count": 107,
     "metadata": {},
     "output_type": "execute_result"
    }
   ],
   "source": [
    "all_succes_products_proportion = success_recs_count.sum() / y_test.apply(len).sum()\n",
    "all_succes_products_proportion"
   ]
  },
  {
   "cell_type": "markdown",
   "id": "27000ced-8b59-4d4c-814b-62ef93ae2a74",
   "metadata": {},
   "source": [
    "Не удивительно"
   ]
  },
  {
   "cell_type": "code",
   "execution_count": 108,
   "id": "8458b141-ed1c-439d-912d-dcf9f1c82486",
   "metadata": {
    "tags": []
   },
   "outputs": [],
   "source": [
    "# save model results\n",
    "models_results[\"w2v_products\"] = {\n",
    "    \"succes_proportion\" : succes_proportion,\n",
    "    \"succes_count_proportion\" : succes_count_proportion,\n",
    "    \"median\" : median,\n",
    "    \"mean\" : mean,\n",
    "    \"all_succes_products_proportion\" : all_succes_products_proportion,\n",
    "    \"rank_distribution\" : rank_distribution\n",
    "}"
   ]
  },
  {
   "cell_type": "markdown",
   "id": "0762eb92-2925-426a-98f3-2df7a281ad1f",
   "metadata": {},
   "source": [
    "## Word2Vec по чековым последовательностям\n",
    "\n",
    "Все тоже самое, что в предсказании по названию, но только обучение проходит не на отдельном назывании а на всём тренировочном чеке."
   ]
  },
  {
   "cell_type": "code",
   "execution_count": 109,
   "id": "70ef8f99-e09a-4e1a-a531-b72b13e82847",
   "metadata": {
    "tags": []
   },
   "outputs": [],
   "source": [
    "w2v_cheks = []        # train\n",
    "for i in train_names:\n",
    "    w2v_cheks.append(\" \".join(i))\n",
    "    \n",
    "    \n",
    "w2v_cheks_test = []        # test\n",
    "for i in train_names_test:\n",
    "    w2v_cheks_test.append(\" \".join(i))"
   ]
  },
  {
   "cell_type": "code",
   "execution_count": 110,
   "id": "4507b0fb-852c-4a3d-9107-4f8625d8a7b7",
   "metadata": {
    "tags": []
   },
   "outputs": [],
   "source": [
    "pd.Series(w2v_cheks).to_csv(\"checks_names.csv\",index=False) # save strings as file"
   ]
  },
  {
   "cell_type": "code",
   "execution_count": 111,
   "id": "c97b145d-e8f5-45cc-b21c-f26dd4b13229",
   "metadata": {
    "tags": []
   },
   "outputs": [
    {
     "name": "stdout",
     "output_type": "stream",
     "text": [
      "CPU times: total: 1h 17min 22s\n",
      "Wall time: 7min 13s\n"
     ]
    }
   ],
   "source": [
    "%%time\n",
    "model_checks = fasttext.train_unsupervised(\"checks_names.csv\", dim=50)"
   ]
  },
  {
   "cell_type": "code",
   "execution_count": 112,
   "id": "6bb24361-b0ea-4f4d-9186-b9fdae262871",
   "metadata": {},
   "outputs": [
    {
     "name": "stdout",
     "output_type": "stream",
     "text": [
      "CPU times: total: 2min 45s\n",
      "Wall time: 2min 45s\n"
     ]
    }
   ],
   "source": [
    "%%time\n",
    "w2v_cheks_arrays = []      # train\n",
    "for string in w2v_cheks:\n",
    "    w2v_cheks_arrays.append(model_checks[string])\n",
    "    \n",
    "w2v_cheks_test_arrays = [] # test\n",
    "for string in w2v_cheks_test:\n",
    "    w2v_cheks_test_arrays.append(model_checks[string])"
   ]
  },
  {
   "cell_type": "code",
   "execution_count": 113,
   "id": "228f03cf-751a-471b-aa20-1a4a151f910a",
   "metadata": {
    "tags": []
   },
   "outputs": [
    {
     "name": "stdout",
     "output_type": "stream",
     "text": [
      "CPU times: total: 35.9 s\n",
      "Wall time: 35.9 s\n"
     ]
    }
   ],
   "source": [
    "%%time\n",
    "neigh_checks = NearestNeighbors(n_neighbors=20, algorithm='ball_tree').fit(\n",
    "            w2v_cheks_arrays)"
   ]
  },
  {
   "cell_type": "code",
   "execution_count": 114,
   "id": "0a9adf00-2d1d-46eb-bac6-76e9e84e750d",
   "metadata": {
    "tags": []
   },
   "outputs": [
    {
     "name": "stdout",
     "output_type": "stream",
     "text": [
      "CPU times: total: 35.3 s\n",
      "Wall time: 11min 52s\n"
     ]
    }
   ],
   "source": [
    "%%time\n",
    "results = Parallel(n_jobs=-1)(delayed(get_w2v_check_recs)(x)\n",
    "                                  for x in chunker(list(range(10000))))\n",
    "recomendations = []\n",
    "for lst in results: recomendations += lst"
   ]
  },
  {
   "cell_type": "markdown",
   "id": "004d6899-9ed8-4e18-9baf-49adff308849",
   "metadata": {},
   "source": [
    "### Результаты"
   ]
  },
  {
   "cell_type": "code",
   "execution_count": 115,
   "id": "ddab7ff4-3afc-4b62-92b4-d90d7e108e45",
   "metadata": {
    "tags": []
   },
   "outputs": [],
   "source": [
    "validation, success_recs_count, rank_distribution, count_division \\\n",
    "    = get_validation(recomendations, y_test)"
   ]
  },
  {
   "cell_type": "markdown",
   "id": "ed29150d-1c02-4de3-af2c-f952f6f89bc1",
   "metadata": {},
   "source": [
    "Как часто рекомендации совпадают с покупками?"
   ]
  },
  {
   "cell_type": "code",
   "execution_count": 116,
   "id": "3c9b7eb0-b595-42f4-b80a-57aea3a899f3",
   "metadata": {
    "tags": []
   },
   "outputs": [
    {
     "name": "stdout",
     "output_type": "stream",
     "text": [
      "0.3292 - доля совпадения хотя бы одной рекомендациииз всех в покупках клиента\n"
     ]
    },
    {
     "data": {
      "image/png": "[encoded data removed]",
      "text/plain": [
       "<Figure size 640x480 with 1 Axes>"
      ]
     },
     "metadata": {},
     "output_type": "display_data"
    }
   ],
   "source": [
    "vc = success_recs_count.value_counts()\n",
    "vc.plot.bar();\n",
    "succes_proportion = round(1 - vc[0]/len(success_recs_count),4)\n",
    "print(succes_proportion, \"- доля совпадения хотя бы одной рекомендации\\\n",
    "из всех в покупках клиента\")"
   ]
  },
  {
   "cell_type": "markdown",
   "id": "0a740826-08b6-4b0f-b9d6-d89fc5cd4c51",
   "metadata": {},
   "source": [
    "Что гораздо лучше, чем у рекомендаций по названию. Ура коллаборативности!"
   ]
  },
  {
   "cell_type": "markdown",
   "id": "d4a41bff-5396-47ae-b752-11950037a712",
   "metadata": {},
   "source": [
    "А какого среднее отношение рекомендованных товаров к купленным, если рекомендация всё таки подошла?"
   ]
  },
  {
   "cell_type": "code",
   "execution_count": 117,
   "id": "c9791dec-af5f-44b4-ba1d-0a8a85d37b26",
   "metadata": {
    "tags": []
   },
   "outputs": [
    {
     "data": {
      "text/plain": [
       "0.3931"
      ]
     },
     "execution_count": 117,
     "metadata": {},
     "output_type": "execute_result"
    }
   ],
   "source": [
    "succes_count_proportion = round(count_division[count_division != 0].mean(),4)\n",
    "succes_count_proportion"
   ]
  },
  {
   "cell_type": "markdown",
   "id": "6fc528ee-d181-4f43-9b93-91096ffe9b8a",
   "metadata": {},
   "source": [
    "Модель показала лучшую долю рекомендаций к купленным товарам"
   ]
  },
  {
   "cell_type": "markdown",
   "id": "5eb6d246-a882-4d6c-a5f7-e3a47ebda492",
   "metadata": {},
   "source": [
    "Выведем расределение позиции в топе у рекомендаций"
   ]
  },
  {
   "cell_type": "code",
   "execution_count": 118,
   "id": "2427d236-be2d-4f96-9d55-e40daf01ecd4",
   "metadata": {
    "tags": []
   },
   "outputs": [
    {
     "name": "stdout",
     "output_type": "stream",
     "text": [
      "41.0 - медиана\n",
      "43.448 - среднее\n"
     ]
    },
    {
     "data": {
      "image/png": "[encoded data removed]",
      "text/plain": [
       "<Figure size 640x480 with 1 Axes>"
      ]
     },
     "metadata": {},
     "output_type": "display_data"
    }
   ],
   "source": [
    "rank_distribution.hist(bins=100);\n",
    "\n",
    "median = round(rank_distribution.median(),4)\n",
    "mean = round(rank_distribution.mean(),4)\n",
    "print(median, \"- медиана\")\n",
    "print(mean, \"- среднее\")"
   ]
  },
  {
   "cell_type": "markdown",
   "id": "50e33da1-7c37-4732-99d0-9771179c9369",
   "metadata": {},
   "source": [
    "Распределение имеет тенденцию сгущаться к началу рекомендаций, что хорошо, но результат по сравнению с предыдущими моделями посредственный. Интересно, что самые частые совпадения происходят со 2 по 9 место в рейтинге."
   ]
  },
  {
   "cell_type": "markdown",
   "id": "cd45ae3b-3b19-4640-b68d-925aec3d6dae",
   "metadata": {},
   "source": [
    "А какого общее соотношение удачно рекомендованных товаров ко всем покупкам?"
   ]
  },
  {
   "cell_type": "code",
   "execution_count": 119,
   "id": "c30e5a1b-a086-444a-a2cb-a96d38f5f614",
   "metadata": {
    "tags": []
   },
   "outputs": [
    {
     "data": {
      "text/plain": [
       "0.11306612800340209"
      ]
     },
     "execution_count": 119,
     "metadata": {},
     "output_type": "execute_result"
    }
   ],
   "source": [
    "all_succes_products_proportion = success_recs_count.sum() / y_test.apply(len).sum()\n",
    "all_succes_products_proportion"
   ]
  },
  {
   "cell_type": "code",
   "execution_count": 120,
   "id": "290cf3b7-4602-473b-8a84-a3d1958255fd",
   "metadata": {
    "tags": []
   },
   "outputs": [],
   "source": [
    "# save model results\n",
    "models_results[\"w2v_checks\"] = {\n",
    "    \"succes_proportion\" : succes_proportion,\n",
    "    \"succes_count_proportion\" : succes_count_proportion,\n",
    "    \"median\" : median,\n",
    "    \"mean\" : mean,\n",
    "    \"all_succes_products_proportion\" : all_succes_products_proportion,\n",
    "    \"rank_distribution\" : rank_distribution\n",
    "}"
   ]
  },
  {
   "cell_type": "markdown",
   "id": "65467732-e5e5-4822-ba58-07956962cb18",
   "metadata": {},
   "source": [
    "# Двухстадийная рекомендательная система с кандидатогенерацией и ранжированием разной природы\n",
    "- **Кандидатогенерация** по w2v ближайшим соседям из чековых последовательностей\n",
    "- **Ранжирование** по коллаборативному алгоритму"
   ]
  },
  {
   "cell_type": "code",
   "execution_count": 121,
   "id": "947b8896-cb2e-4dbd-8b7d-a4aa30c17d5e",
   "metadata": {
    "tags": []
   },
   "outputs": [
    {
     "name": "stdout",
     "output_type": "stream",
     "text": [
      "CPU times: total: 4.89 s\n",
      "Wall time: 17min 22s\n"
     ]
    }
   ],
   "source": [
    "%%time\n",
    "results = Parallel(n_jobs=-1)(delayed(get_2stage_w2v_collab_recs)(x)\n",
    "                                  for x in chunker(list(range(10000))))\n",
    "recomendations = []\n",
    "for lst in results: recomendations += lst"
   ]
  },
  {
   "cell_type": "markdown",
   "id": "09eaa113-b231-4d55-ac7c-b578360855e9",
   "metadata": {},
   "source": [
    "## Результаты"
   ]
  },
  {
   "cell_type": "code",
   "execution_count": 122,
   "id": "d63372fb-adf8-428a-ba81-5ddd8a93a52a",
   "metadata": {
    "tags": []
   },
   "outputs": [],
   "source": [
    "validation, success_recs_count, rank_distribution, count_division \\\n",
    "    = get_validation(recomendations,y_test)\n"
   ]
  },
  {
   "cell_type": "markdown",
   "id": "0f114925-262e-4907-8ea1-1c18b362a13a",
   "metadata": {},
   "source": [
    "Как часто рекомендации совпадают с покупками?"
   ]
  },
  {
   "cell_type": "code",
   "execution_count": 123,
   "id": "f22a4c7c-346c-475f-a893-9b050ebd0f73",
   "metadata": {
    "tags": []
   },
   "outputs": [
    {
     "name": "stdout",
     "output_type": "stream",
     "text": [
      "0.4915 - доля совпадения хотя бы одной рекомендациииз всех в покупках клиента\n"
     ]
    },
    {
     "data": {
      "image/png": "[encoded data removed]",
      "text/plain": [
       "<Figure size 640x480 with 1 Axes>"
      ]
     },
     "metadata": {},
     "output_type": "display_data"
    }
   ],
   "source": [
    "vc = success_recs_count.value_counts()\n",
    "vc.plot.bar();\n",
    "succes_proportion = round(1 - vc[0]/len(success_recs_count),4)\n",
    "print(succes_proportion, \"- доля совпадения хотя бы одной рекомендации\\\n",
    "из всех в покупках клиента\")"
   ]
  },
  {
   "cell_type": "markdown",
   "id": "012fdd63-4fa4-4cb7-8b66-91e0fdc7c5fb",
   "metadata": {
    "tags": []
   },
   "source": [
    "Считай половина всех покупок содержит хотя-бы одну рекомендацию"
   ]
  },
  {
   "cell_type": "markdown",
   "id": "34f13db1-bffe-4806-ac3f-b3261fcc4c4a",
   "metadata": {},
   "source": [
    "А какого среднее отношение рекомендованных товаров к купленным, если рекомендация всё таки подошла?"
   ]
  },
  {
   "cell_type": "code",
   "execution_count": 124,
   "id": "a7d99d28-6061-422f-9616-4531cb40198b",
   "metadata": {
    "tags": []
   },
   "outputs": [
    {
     "data": {
      "text/plain": [
       "0.4394"
      ]
     },
     "execution_count": 124,
     "metadata": {},
     "output_type": "execute_result"
    }
   ],
   "source": [
    "succes_count_proportion = round(count_division[count_division != 0].mean(),4)\n",
    "succes_count_proportion"
   ]
  },
  {
   "cell_type": "markdown",
   "id": "45f94991-18dc-40c9-9276-c07158233714",
   "metadata": {},
   "source": [
    "И хорошее соотношение рекомендаций внутри покупок"
   ]
  },
  {
   "cell_type": "markdown",
   "id": "3e102593-dd74-4afa-8282-f7fe62e49d1d",
   "metadata": {},
   "source": [
    "Выведем расределение позиции в топе у рекомендаций"
   ]
  },
  {
   "cell_type": "code",
   "execution_count": 125,
   "id": "2225c67e-310e-465e-aeb9-b3e3d53770d6",
   "metadata": {
    "tags": []
   },
   "outputs": [
    {
     "name": "stdout",
     "output_type": "stream",
     "text": [
      "32.0 - медиана\n",
      "37.6877 - среднее\n"
     ]
    },
    {
     "data": {
      "image/png": "[encoded data removed]",
      "text/plain": [
       "<Figure size 640x480 with 1 Axes>"
      ]
     },
     "metadata": {},
     "output_type": "display_data"
    }
   ],
   "source": [
    "rank_distribution.hist(bins=100);\n",
    "\n",
    "median = round(rank_distribution.median(),4)\n",
    "mean = round(rank_distribution.mean(),4)\n",
    "print(median, \"- медиана\")\n",
    "print(mean, \"- среднее\")"
   ]
  },
  {
   "cell_type": "markdown",
   "id": "6219ae9b-bb9b-4788-8f4b-8ac044cde06a",
   "metadata": {},
   "source": [
    "Лучшее распределение - в верху топа гуще всего, нет большого разброса и медиана отличная"
   ]
  },
  {
   "cell_type": "markdown",
   "id": "e20ce3e3-2d9c-44c6-8bae-e1d359d5b27d",
   "metadata": {},
   "source": [
    "А какого общее соотношение удачно рекомендованных товаров ко всем покупкам?"
   ]
  },
  {
   "cell_type": "code",
   "execution_count": 126,
   "id": "2cfeaa92-1864-4e2e-bcb4-20b1f147d7a7",
   "metadata": {
    "tags": []
   },
   "outputs": [
    {
     "data": {
      "text/plain": [
       "0.20343397831171592"
      ]
     },
     "execution_count": 126,
     "metadata": {},
     "output_type": "execute_result"
    }
   ],
   "source": [
    "all_succes_products_proportion = success_recs_count.sum() / y_test.apply(len).sum()\n",
    "all_succes_products_proportion"
   ]
  },
  {
   "cell_type": "markdown",
   "id": "06a4b6d3-e560-42c4-9e4e-1cb5ee2cba15",
   "metadata": {},
   "source": [
    "Юху! 2/10 тысячи всех покупок совпали с рекомендациями"
   ]
  },
  {
   "cell_type": "code",
   "execution_count": 127,
   "id": "f75b813a-628d-4f2b-a52e-207d63f1f929",
   "metadata": {
    "tags": []
   },
   "outputs": [],
   "source": [
    "# save model results\n",
    "models_results[\"2stage_w2v_collab\"] = {\n",
    "    \"succes_proportion\" : succes_proportion,\n",
    "    \"succes_count_proportion\" : succes_count_proportion,\n",
    "    \"median\" : median,\n",
    "    \"mean\" : mean,\n",
    "    \"all_succes_products_proportion\" : all_succes_products_proportion,\n",
    "    \"rank_distribution\" : rank_distribution\n",
    "}"
   ]
  },
  {
   "cell_type": "markdown",
   "id": "24271355-0ed3-48c3-b1cf-142b6ae363f2",
   "metadata": {},
   "source": [
    "# Сравнение моделей"
   ]
  },
  {
   "cell_type": "markdown",
   "id": "77b2b55d-07dc-45f9-ba93-1c29176153f7",
   "metadata": {},
   "source": [
    "Напомню, количество рекомендаций  - 100, тестовая выборка - 10000 клиентов и их уникальные последовательные покупки.\n",
    "- succes_proportion - отношение покупкам с хотя-бы одной совпавшей рекомендацией ко всем покупкам\n",
    "- succes_count_proportion - отношение рекомендованных товаров к общему количеству купленных товаров\n",
    "- all_succes_products_proportion - отношение рекомендованных товаров к их общему количеству в покупках\n",
    "\n",
    "График показывает боксплоты распределения позиции в рекомендациях(чем ниже, тем лучше) "
   ]
  },
  {
   "cell_type": "code",
   "execution_count": null,
   "id": "3226ca0f-5815-4690-af48-2525d461a1b6",
   "metadata": {},
   "outputs": [],
   "source": []
  },
  {
   "cell_type": "code",
   "execution_count": 128,
   "id": "65751fca-063e-412f-a9db-614bd28efb96",
   "metadata": {
    "tags": []
   },
   "outputs": [
    {
     "data": {
      "image/png": "[encoded data removed]",
      "text/plain": [
       "<Figure size 640x480 with 1 Axes>"
      ]
     },
     "metadata": {},
     "output_type": "display_data"
    },
    {
     "data": {
      "text/html": [
       "<div>\n",
       "<style scoped>\n",
       "    .dataframe tbody tr th:only-of-type {\n",
       "        vertical-align: middle;\n",
       "    }\n",
       "\n",
       "    .dataframe tbody tr th {\n",
       "        vertical-align: top;\n",
       "    }\n",
       "\n",
       "    .dataframe thead th {\n",
       "        text-align: right;\n",
       "    }\n",
       "</style>\n",
       "<table border=\"1\" class=\"dataframe\">\n",
       "  <thead>\n",
       "    <tr style=\"text-align: right;\">\n",
       "      <th></th>\n",
       "      <th>non_personal</th>\n",
       "      <th>my_collaborative</th>\n",
       "      <th>w2v_products</th>\n",
       "      <th>w2v_checks</th>\n",
       "      <th>2stage_w2v_collab</th>\n",
       "    </tr>\n",
       "  </thead>\n",
       "  <tbody>\n",
       "    <tr>\n",
       "      <th>succes_proportion</th>\n",
       "      <td>0.4216</td>\n",
       "      <td>0.3762</td>\n",
       "      <td>0.1649</td>\n",
       "      <td>0.3292</td>\n",
       "      <td>0.4915</td>\n",
       "    </tr>\n",
       "    <tr>\n",
       "      <th>succes_count_proportion</th>\n",
       "      <td>0.3873</td>\n",
       "      <td>0.3751</td>\n",
       "      <td>0.3091</td>\n",
       "      <td>0.3931</td>\n",
       "      <td>0.4394</td>\n",
       "    </tr>\n",
       "    <tr>\n",
       "      <th>median</th>\n",
       "      <td>32.0</td>\n",
       "      <td>35.0</td>\n",
       "      <td>47.0</td>\n",
       "      <td>41.0</td>\n",
       "      <td>32.0</td>\n",
       "    </tr>\n",
       "    <tr>\n",
       "      <th>mean</th>\n",
       "      <td>38.6042</td>\n",
       "      <td>40.5747</td>\n",
       "      <td>46.9697</td>\n",
       "      <td>43.448</td>\n",
       "      <td>37.6877</td>\n",
       "    </tr>\n",
       "    <tr>\n",
       "      <th>all_succes_products_proportion</th>\n",
       "      <td>0.167898</td>\n",
       "      <td>0.145306</td>\n",
       "      <td>0.058713</td>\n",
       "      <td>0.113066</td>\n",
       "      <td>0.203434</td>\n",
       "    </tr>\n",
       "  </tbody>\n",
       "</table>\n",
       "</div>"
      ],
      "text/plain": [
       "                               non_personal my_collaborative w2v_products  \\\n",
       "succes_proportion                    0.4216           0.3762       0.1649   \n",
       "succes_count_proportion              0.3873           0.3751       0.3091   \n",
       "median                                 32.0             35.0         47.0   \n",
       "mean                                38.6042          40.5747      46.9697   \n",
       "all_succes_products_proportion     0.167898         0.145306     0.058713   \n",
       "\n",
       "                               w2v_checks 2stage_w2v_collab  \n",
       "succes_proportion                  0.3292            0.4915  \n",
       "succes_count_proportion            0.3931            0.4394  \n",
       "median                               41.0              32.0  \n",
       "mean                               43.448           37.6877  \n",
       "all_succes_products_proportion   0.113066          0.203434  "
      ]
     },
     "execution_count": 128,
     "metadata": {},
     "output_type": "execute_result"
    }
   ],
   "source": [
    "result_df = pd.DataFrame(models_results)\n",
    "rank_distributions = result_df.loc[\"rank_distribution\"].apply(lambda x: list(x))\n",
    "\n",
    "results = list(rank_distributions)\n",
    "\n",
    "fig, ax = plt.subplots()\n",
    "bp = ax.boxplot(results, labels=rank_distributions.index, sym='k+',\n",
    "                notch=True)\n",
    "\n",
    "ax.set_xlabel('Models')\n",
    "ax.set_ylabel('Distibution postiton in rank')\n",
    "plt.xticks(rotation = 45)\n",
    "plt.grid()\n",
    "plt.show()\n",
    "\n",
    "result_df.drop([\"rank_distribution\"], axis=\"rows\")"
   ]
  },
  {
   "cell_type": "markdown",
   "id": "f81ecee8-5219-41fb-af08-d62f5178c6fa",
   "metadata": {},
   "source": [
    "На удивление подбор просто популярных товаров оказался эффективнее подбора по названию, коллаборативной модели и w2v коллаборативной модели. Но коллаборативная w2v модель обогнала его по количеству рекомендованных товаров среди покупок с хотя бы одним рекомендованным товаром.\n",
    "\n",
    "Результат неперсонализированных рекомендаций можно с хорошим отрывом обойти совмещая коллаборативные методы.\n",
    "\n",
    "Важно сказать что в точном смысле этого слова рекомендации представляли из себя прогнозы того, какой новый товар купит покупатель по предыдущим уникальным покупкам. И сам факт рекомендации влияет на покупки клиента, так что к мощности таким образом проверенных рекомендаций стоит относиться с оговорокй. Для действительно хорошо интерпретируемой валидации нужно проводить A/B тесты на реальных покупках. "
   ]
  },
  {
   "cell_type": "markdown",
   "id": "cce4ba4f-cbaa-434f-9597-ca9a1965b2ad",
   "metadata": {
    "tags": []
   },
   "source": [
    "# Идеи и примечания\n",
    "Содержит точки роста и замечания к бизнес логике\n",
    "\n",
    "- Важно, чтобы во время покупки клиенту не рекомендовались товары, которых нет в текущей аптеке. \n",
    "- Добавить предложение маленького пакета если товаров больше одного\n",
    "- В бизнес логику рекомендаций можно добавить паттерн, по которому клиенту будет рекомендоваться товар, который он часто приобретает, но только по истченению курса приёма с запасом в одну-две недели\n",
    "- Коллаборативные и неперсонализированные рекомендации имеют разное распределение рейтинга совпавших товаров, точно есть места, где один алгоритм справляется лучше другого и наоборот. Это значит, что правильное объединение их результатов даст прирост к результативности модели\n",
    "- Если в коллаборативном алгоритме не подберать индексы слишком больших векторов сделанных покупок к текущему и меньшему вектору до этапа сложения векторов для нахождения популярных товаров. То в теории можно получить более точные рекомендации\n",
    "- Можно валидировать товары по описанию с помощью близости вектора рекомендованного товара к вектору товара, который клиент аптеки действительно купил. Это удобно на случай, если хочется нивелировать эффект аналогов препаратов.\n",
    "- Можно научить классификатор определять, рекомендации скорее подойдут или нет, так можно увеличить метрику удачных рекомендаций и клиенты будут лояльнее относиться к рекомендациям.\n",
    "- Подход в котором по вектору предсказывается вектор, а не конкретное число"
   ]
  }
 ],
 "metadata": {
  "kernelspec": {
   "display_name": "Python 3 (ipykernel)",
   "language": "python",
   "name": "python3"
  },
  "language_info": {
   "codemirror_mode": {
    "name": "ipython",
    "version": 3
   },
   "file_extension": ".py",
   "mimetype": "text/x-python",
   "name": "python",
   "nbconvert_exporter": "python",
   "pygments_lexer": "ipython3",
   "version": "3.11.1"
  },
  "toc-autonumbering": true,
  "toc-showcode": false,
  "toc-showmarkdowntxt": false,
  "toc-showtags": false
 },
 "nbformat": 4,
 "nbformat_minor": 5
}
