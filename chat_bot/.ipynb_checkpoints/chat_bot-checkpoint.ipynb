{
 "cells": [
  {
   "cell_type": "markdown",
   "id": "efdbbdcb-8f18-43b6-9060-2cac540f1cab",
   "metadata": {},
   "source": [
    "# Описание\n",
    "\n",
    "Это начинка для чат бота, у которого есть каталог товаров. При обращении к нему с текстом, он выполнит классификацию на то, товарный запрос или нет. После чего ответит либо разговором, либо подбором подходящего товара. Алгоритм реализованн в функции `get_answer()`\n",
    "![bot_map](https://raw.githubusercontent.com/Sly-Dog/attachments/main/chat_bot_map.png)\n",
    "\n",
    "Важно уточнить, что ноутбук использует готовые файлы, они находятся в этом гит-репозитории и ниже расположен код для их получения из поделенного архива.\n",
    "\n",
    "Их создание можно посмотреть [тут](#history). Они лежат в папке `archive`"
   ]
  },
  {
   "cell_type": "markdown",
   "id": "da844e0c-e6a2-4c02-9de3-c415ee778666",
   "metadata": {},
   "source": [
    "annoy==1.17.1 anyio==3.6.2 argon2-cffi==21.3.0 argon2-cffi-bindings==21.2.0 arrow==1.2.3 asttokens==2.2.1 attrs==22.2.0 Babel==2.11.0 backcall==0.2.0 beautifulsoup4==4.11.1 bleach==5.0.1 Brotli==1.0.9 certifi==2022.12.7 cffi==1.15.1 charset-normalizer==2.1.1 click==8.1.3 colorama==0.4.6 comm==0.1.2 contourpy==1.0.6 cycler==0.11.0 Cython==0.29.32 debugpy==1.6.4 decorator==5.1.1 defusedxml==0.7.1 entrypoints==0.4 executing==1.2.0 fastjsonschema==2.16.2 filelock==3.9.0 filesplit==4.0.1 fonttools==4.38.0 fqdn==1.5.1 fst-pso==1.8.1 FuzzyTM==2.0.5 gdown==4.6.0 gensim==4.3.0 idna==3.4 inflate64==0.3.1 ipykernel==6.19.4 ipython==8.8.0 ipython-genutils==0.2.0 isoduration==20.11.0 jedi==0.18.2 Jinja2==3.1.2 joblib==1.2.0 json5==0.9.11 jsonpointer==2.3 jsonschema==4.17.3 jupyter-events==0.5.0 jupyter_client==7.4.8 jupyter_core==5.1.2 jupyter_server==2.0.6 jupyter_server_terminals==0.4.3 jupyterlab==3.5.2 jupyterlab-pygments==0.2.2 jupyterlab_server==2.18.0 kiwisolver==1.4.4 lxml==4.9.2 MarkupSafe==2.1.1 matplotlib==3.6.2 matplotlib-inline==0.1.6 mgzip==0.2.1 miniful==0.0.6 mistune==2.0.4 multivolumefile==0.2.3 nbclassic==0.4.8 nbclient==0.7.2 nbconvert==7.2.7 nbformat==5.7.1 nest-asyncio==1.5.6 nltk==3.8.1 notebook==6.5.2 notebook_shim==0.2.2 numpy==1.24.1 packaging==22.0 pandas==1.5.2 pandocfilters==1.5.0 parso==0.8.3 patsy==0.5.3 pickleshare==0.7.5 Pillow==9.4.0 platformdirs==2.6.2 prometheus-client==0.15.0 prompt-toolkit==3.0.36 protobuf==4.21.12 psutil==5.9.4 pure-eval==0.2.2 py7zr==0.20.4 pybcj==1.0.1 pycparser==2.21 pycryptodomex==3.17 pyFUME==0.2.25 Pygments==2.14.0 pymystem3==0.2.0 pyparsing==3.0.9 pyppmd==1.0.0 pyrsistent==0.19.3 PySocks==1.7.1 python-dateutil==2.8.2 python-json-logger==2.0.4 pytz==2022.7 pywin32==305 pywinpty==2.0.10 PyYAML==6.0 pyzmq==24.0.1 pyzstd==0.15.3 regex==2022.10.31 requests==2.28.1 rfc3339-validator==0.1.4 rfc3986-validator==0.1.1 scikit-learn==1.2.0 scipy==1.10.0 Send2Trash==1.8.0 simpful==2.9.0 six==1.16.0 smart-open==6.3.0 sniffio==1.3.0 soupsieve==2.3.2.post1 stack-data==0.6.2 statsmodels==0.13.5 terminado==0.17.1 texttable==1.6.7 threadpoolctl==3.1.0 tinycss2==1.2.1 tomli==2.0.1 tornado==6.2 tqdm==4.64.1 traitlets==5.8.0 uri-template==1.2.0 urllib3==1.26.13 wcwidth==0.2.5 webcolors==1.12 webencodings==0.5.1 websocket-client==1.4.2"
   ]
  },
  {
   "cell_type": "markdown",
   "id": "252015bc-ec45-4bf8-8ec6-54dc1e5156f4",
   "metadata": {
    "tags": [],
    "toc-hr-collapsed": true
   },
   "source": [
    "# Зависимости\n",
    "- python==3.11.1 \n",
    "- и ядро ниже\n",
    "\n",
    "## Установка виртуальной среды и ядра\n",
    "Не волнуйтесь, в конце ноутбука все будет удалено, главное открывайте консоль или терминалы **в папке с этим ноутбуком**\n",
    "\n",
    "Нужно в командной строке или терминале ввести следующее и нажать Enter. Установка около минуты.\n",
    "```shell\n",
    "python –m venv bot_env && \"bot_env/Scripts/activate\" && pip install annoy==1.17.1 anyio==3.6.2 argon2-cffi==21.3.0 argon2-cffi-bindings==21.2.0 arrow==1.2.3 asttokens==2.2.1 attrs==22.2.0 Babel==2.11.0 backcall==0.2.0 beautifulsoup4==4.11.1 bleach==5.0.1 Brotli==1.0.9 certifi==2022.12.7 cffi==1.15.1 charset-normalizer==2.1.1 click==8.1.3 colorama==0.4.6 comm==0.1.2 contourpy==1.0.6 cycler==0.11.0 Cython==0.29.32 debugpy==1.6.4 decorator==5.1.1 defusedxml==0.7.1 entrypoints==0.4 executing==1.2.0 fastjsonschema==2.16.2 filelock==3.9.0 filesplit==4.0.1 fonttools==4.38.0 fqdn==1.5.1 fst-pso==1.8.1 FuzzyTM==2.0.5 gdown==4.6.0 gensim==4.3.0 idna==3.4 inflate64==0.3.1 ipykernel==6.19.4 ipython==8.8.0 ipython-genutils==0.2.0 isoduration==20.11.0 jedi==0.18.2 Jinja2==3.1.2 joblib==1.2.0 json5==0.9.11 jsonpointer==2.3 jsonschema==4.17.3 jupyter-events==0.5.0 jupyter_client==7.4.8 jupyter_core==5.1.2 jupyter_server==2.0.6 jupyter_server_terminals==0.4.3 jupyterlab==3.5.2 jupyterlab-pygments==0.2.2 jupyterlab_server==2.18.0 kiwisolver==1.4.4 lxml==4.9.2 MarkupSafe==2.1.1 matplotlib==3.6.2 matplotlib-inline==0.1.6 mgzip==0.2.1 miniful==0.0.6 mistune==2.0.4 multivolumefile==0.2.3 nbclassic==0.4.8 nbclient==0.7.2 nbconvert==7.2.7 nbformat==5.7.1 nest-asyncio==1.5.6 nltk==3.8.1 notebook==6.5.2 notebook_shim==0.2.2 numpy==1.24.1 packaging==22.0 pandas==1.5.2 pandocfilters==1.5.0 parso==0.8.3 patsy==0.5.3 pickleshare==0.7.5 Pillow==9.4.0 platformdirs==2.6.2 prometheus-client==0.15.0 prompt-toolkit==3.0.36 protobuf==4.21.12 psutil==5.9.4 pure-eval==0.2.2 py7zr==0.20.4 pybcj==1.0.1 pycparser==2.21 pycryptodomex==3.17 pyFUME==0.2.25 Pygments==2.14.0 pymystem3==0.2.0 pyparsing==3.0.9 pyppmd==1.0.0 pyrsistent==0.19.3 PySocks==1.7.1 python-dateutil==2.8.2 python-json-logger==2.0.4 pytz==2022.7 pywin32==305 pywinpty==2.0.10 PyYAML==6.0 pyzmq==24.0.1 pyzstd==0.15.3 regex==2022.10.31 requests==2.28.1 rfc3339-validator==0.1.4 rfc3986-validator==0.1.1 scikit-learn==1.2.0 scipy==1.10.0 Send2Trash==1.8.0 simpful==2.9.0 six==1.16.0 smart-open==6.3.0 sniffio==1.3.0 soupsieve==2.3.2.post1 stack-data==0.6.2 statsmodels==0.13.5 terminado==0.17.1 texttable==1.6.7 threadpoolctl==3.1.0 tinycss2==1.2.1 tomli==2.0.1 tornado==6.2 tqdm==4.64.1 traitlets==5.8.0 uri-template==1.2.0 urllib3==1.26.13 wcwidth==0.2.5 webcolors==1.12 webencodings==0.5.1 websocket-client==1.4.2 && python -m ipykernel install --name=bot_kernel\n",
    "```\n",
    "\n",
    "В случае ошибки обратите внимание на строку `\"bot_env/Scripts/activate\"` и измените путь в создавшейся папке bot_env, чтобы он привел к исполняемому файлу activate или установите среду окружения и ядро c зависимостями выше самостоятельно."
   ]
  },
  {
   "cell_type": "markdown",
   "id": "9988f34c-d6b1-4ece-b148-d169640baf8b",
   "metadata": {},
   "source": [
    "## Далее нужно перезагрузить jupyter server"
   ]
  },
  {
   "cell_type": "code",
   "execution_count": 2,
   "id": "6f7dd0fe-5254-486a-9814-2fc5c378c9c8",
   "metadata": {},
   "outputs": [],
   "source": [
    "exit()"
   ]
  },
  {
   "cell_type": "markdown",
   "id": "6490ed70-6675-43db-ac2b-e50d2d3b2b6f",
   "metadata": {},
   "source": [
    "## После этого нужно сменить ядро ipynb на bot_kernel\n",
    "Оно появится в течении минуты или быстрее\n",
    "![picture](https://camo.githubusercontent.com/56a28dc83842aa9df2591acb738d4ddc17cc89be94419eb45d8867f6f938e871/68747470733a2f2f6769746875622e636f6d2f536c792d446f672f6174746163686d656e74732f626c6f622f6d61696e2f7061727365725f6b65726e656c2e706e673f7261773d74727565)\n"
   ]
  },
  {
   "cell_type": "markdown",
   "id": "25e4dce8-3c57-4d7f-a927-0cbf17cc0bcb",
   "metadata": {},
   "source": [
    "# Импорт"
   ]
  },
  {
   "cell_type": "code",
   "execution_count": 1,
   "id": "5055e9bf-df24-46f6-b9bb-56714338fb72",
   "metadata": {},
   "outputs": [],
   "source": [
    "import pickle\n",
    "import pandas as pd\n",
    "from annoy import AnnoyIndex\n",
    "import gensim\n",
    "from pymystem3 import Mystem\n",
    "import numpy as np\n",
    "\n",
    "import py7zr\n",
    "from filesplit.merge import Merge\n",
    "from pathlib import Path"
   ]
  },
  {
   "cell_type": "markdown",
   "id": "d30d9cfc-9ff4-4e14-b020-f544519ad2bb",
   "metadata": {
    "toc-hr-collapsed": true
   },
   "source": [
    "# Функции"
   ]
  },
  {
   "cell_type": "code",
   "execution_count": 10,
   "id": "3913d37b-1753-4c38-9723-2c898391e0e3",
   "metadata": {},
   "outputs": [],
   "source": [
    "\"\"\"merge annoy with needed answers\"\"\"\n",
    "class annoy:\n",
    "    \n",
    "    def __init__(self, model_answers, model):\n",
    "        self.model_answers = model_answers\n",
    "        self.model = model\n",
    "    def predict(self, vector):\n",
    "        return self.model_answers.iloc[self.model.get_nns_by_vector(vector, 1)].values[0]\n",
    "        \n",
    "\"\"\"Word2Vec vectorization\"\"\"\n",
    "def get_string_vector(string, w2v):\n",
    "    text = \" \".join((Mystem().lemmatize(string))) # leammatization\n",
    "\n",
    "    lemmatized_words = gensim.utils.simple_preprocess(text)     # word preprocessing\n",
    "    \n",
    "    if \"Word2Vec\" in str(w2v):\n",
    "        lst = []\n",
    "        for i, word in enumerate(lemmatized_words):\n",
    "                try:lst.append( w2v.wv.get_vector(word) )\n",
    "                except KeyError: pass\n",
    "\n",
    "        vector = np.sum(np.array(lst), axis=0)\n",
    "\n",
    "        return vector\n",
    "    if \"CountVectorizer\" in str(w2v):\n",
    "        vector = w2v.transform([\" \".join(lemmatized_words)])\n",
    "        return vector\n",
    "    \n",
    "\"\"\"main algorithm for product classification than answering for questions\"\"\"\n",
    "def get_answer(s): # put any string\n",
    "    string_vector = get_string_vector(s, count_vectorizer)\n",
    "\n",
    "    if product_classifier.predict_proba(string_vector)[0][1] > 0.15:\n",
    "\n",
    "        string_vector = get_string_vector(s, product_w2v)\n",
    "        answer = product_knn.predict([string_vector])\n",
    "        return f\"{answer[0]} {product_answers[answer].values[0]}\"\n",
    "\n",
    "    else:\n",
    "        string_vector = get_string_vector(s, qa_w2v)\n",
    "        answer = annoy_model.predict(string_vector)\n",
    "        return answer"
   ]
  },
  {
   "cell_type": "markdown",
   "id": "b2fb56ba-a384-4e52-a9d0-a3af62ed2a45",
   "metadata": {
    "tags": []
   },
   "source": [
    "# Загрузка компонентов модели "
   ]
  },
  {
   "cell_type": "markdown",
   "id": "011bb28e-86a3-46f4-8346-008e6b257128",
   "metadata": {},
   "source": [
    "## Модели из поделённого и архивированного файла"
   ]
  },
  {
   "cell_type": "code",
   "execution_count": 5,
   "id": "541c3126-49f0-457d-8d49-5c2478b6ac64",
   "metadata": {},
   "outputs": [
    {
     "name": "stdout",
     "output_type": "stream",
     "text": [
      "CPU times: total: 10.4 s\n",
      "Wall time: 20.4 s\n"
     ]
    }
   ],
   "source": [
    "%%time\n",
    "\n",
    "# merge file_split files into ahrchive\n",
    "merge = Merge(\"filesplit_folder\", \"./\", \"Archive.7z\")\n",
    "merge.merge(cleanup=True) "
   ]
  },
  {
   "cell_type": "code",
   "execution_count": 6,
   "id": "40370568-6112-4dff-8b6a-37c6797348fe",
   "metadata": {},
   "outputs": [
    {
     "name": "stdout",
     "output_type": "stream",
     "text": [
      "CPU times: total: 3min 43s\n",
      "Wall time: 3min 44s\n"
     ]
    }
   ],
   "source": [
    "%%time\n",
    "\n",
    "# 4 minutes of getting models from archive\n",
    "with py7zr.SevenZipFile(\"Archive.7z\", 'r') as archive:\n",
    "    archive.extractall()"
   ]
  },
  {
   "cell_type": "code",
   "execution_count": 7,
   "id": "e02c7e32-9be1-4632-8baa-06f124a3f300",
   "metadata": {},
   "outputs": [],
   "source": [
    "# remove archive and empty folder\n",
    "Path.rmdir(\"filesplit_folder\")\n",
    "Path.unlink(\"Archive.7z\")"
   ]
  },
  {
   "cell_type": "markdown",
   "id": "01027466-067f-45b2-b3ef-cbcccb60184c",
   "metadata": {},
   "source": [
    "## Товарный классификатор "
   ]
  },
  {
   "cell_type": "code",
   "execution_count": 11,
   "id": "b93fce8e-9516-4300-b25e-0a338f2b7d65",
   "metadata": {},
   "outputs": [],
   "source": [
    "count_vectorizer = pickle.load( open(\"models/product_bag_of_words.pcl\",'rb') )"
   ]
  },
  {
   "cell_type": "code",
   "execution_count": 12,
   "id": "75005c68-73ed-4757-bbfa-2045ed3a4efd",
   "metadata": {},
   "outputs": [],
   "source": [
    "product_classifier = pickle.load(open('models/ProductOrChat_LR_binary_classifier.pkl', 'rb'))"
   ]
  },
  {
   "cell_type": "markdown",
   "id": "87febd98-3863-436a-a95c-98c1dce1da0f",
   "metadata": {},
   "source": [
    "## Подбор товара"
   ]
  },
  {
   "cell_type": "code",
   "execution_count": 13,
   "id": "0f5d1bf7-0356-4a25-9f9a-8b12b0071273",
   "metadata": {},
   "outputs": [],
   "source": [
    "product_w2v = gensim.models.Word2Vec.load(\"models/product_word2vec.model\")"
   ]
  },
  {
   "cell_type": "code",
   "execution_count": 14,
   "id": "1599ef96-de60-4a7a-9c33-ae08e6bc65c7",
   "metadata": {},
   "outputs": [],
   "source": [
    "product_knn = pickle.load(open('models/product_knn.pcl', 'rb'))"
   ]
  },
  {
   "cell_type": "code",
   "execution_count": 15,
   "id": "5313f443-b2db-4a4b-ac12-00ab4896fb47",
   "metadata": {},
   "outputs": [],
   "source": [
    "product_answers = pickle.load(open('models/product_answers.pkl', 'rb'))"
   ]
  },
  {
   "cell_type": "markdown",
   "id": "456a52e3-cd93-4c70-aa09-982c42c236a7",
   "metadata": {},
   "source": [
    "## Болталка"
   ]
  },
  {
   "cell_type": "code",
   "execution_count": 16,
   "id": "d444f60d-5276-4482-8819-d81aa1344e70",
   "metadata": {},
   "outputs": [],
   "source": [
    "chat_answers = pickle.load( open(\"models/answers.pcl\",'rb') )"
   ]
  },
  {
   "cell_type": "code",
   "execution_count": 17,
   "id": "330096c9-81bd-4aca-983f-cf7bec5e386e",
   "metadata": {},
   "outputs": [],
   "source": [
    "qa_w2v = gensim.models.Word2Vec.load(\"models/w2v_model_qa.model\")"
   ]
  },
  {
   "cell_type": "code",
   "execution_count": 18,
   "id": "9d325e5f-7c92-4a46-8dc0-1f5eb21cecd7",
   "metadata": {},
   "outputs": [],
   "source": [
    "chat_answers = pickle.load( open(\"models/answers.pcl\",'rb') )"
   ]
  },
  {
   "cell_type": "code",
   "execution_count": 19,
   "id": "8c311e26-5261-4447-885f-3cc5b3488fc7",
   "metadata": {},
   "outputs": [],
   "source": [
    "ann = AnnoyIndex(300, 'angular')\n",
    "ann.load('models/qa_annoy.model')\n",
    "annoy_model = annoy(chat_answers, ann)"
   ]
  },
  {
   "cell_type": "markdown",
   "id": "924b1858-1a6b-4060-8fba-2d112b4b4098",
   "metadata": {},
   "source": [
    "# Чат бот"
   ]
  },
  {
   "cell_type": "code",
   "execution_count": 20,
   "id": "1834df07-301c-48fd-8774-722492c90032",
   "metadata": {},
   "outputs": [
    {
     "name": "stdout",
     "output_type": "stream",
     "text": [
      "5b2a0bfd2c593e53d6741f8a мужские кеды\n"
     ]
    }
   ],
   "source": [
    "print(get_answer(\"муЖсКие ботинки или кеды\"))"
   ]
  },
  {
   "cell_type": "code",
   "execution_count": 21,
   "id": "9941f965-a90a-485e-aea8-2c2085070f49",
   "metadata": {},
   "outputs": [
    {
     "name": "stdout",
     "output_type": "stream",
     "text": [
      "Заработать денег. Построить дом. Посадить дерево. Вырастить сына и дочь. Убрать. Постирать. Приготовить. Быть защитой, опорой и поддержкой семье, а уж потом - все остальное, что пожелаешь.. \n",
      "\n"
     ]
    }
   ],
   "source": [
    "print(get_answer(\"ЧТо делать?\"))"
   ]
  },
  {
   "cell_type": "markdown",
   "id": "b56cc4e9-7a97-4d97-b5da-e7a88cb2d029",
   "metadata": {},
   "source": [
    "<a id='history'></a>\n",
    "# История создания\n",
    "Тут ноутбуки и датасеты, которые использовались во время работы. Они - архивная версия и если у вас нет нужных датасетов, то они не будут работать.\n",
    "- [Продуктовая классификация и подбор подходящего товара](./archive/product_classification_recomendation.ipynb)\n",
    "- [Создание annoy модели для болталки](./archive/quesions_answers.ipynb)\n",
    "- [Архивирование и разбиение архива для GitHub](./archive/compression_spliting.ipynb)"
   ]
  },
  {
   "cell_type": "markdown",
   "id": "ccd0778e-6c30-440f-a643-07d86021419b",
   "metadata": {},
   "source": [
    "# Удаление ядра и виртуальной среды\n",
    "После удаления ядра командой ниже нужно будет удалить папку bot_env в директории этого ноутбука и готово."
   ]
  },
  {
   "cell_type": "code",
   "execution_count": 22,
   "id": "9b9b3abe-83fc-4400-bb54-672d2a0ca12d",
   "metadata": {},
   "outputs": [
    {
     "name": "stderr",
     "output_type": "stream",
     "text": [
      "[RemoveKernelSpec] Removed C:\\ProgramData\\jupyter\\kernels\\bot_kernel\n"
     ]
    }
   ],
   "source": [
    "# remove bot_kernel\n",
    "!jupyter kernelspec remove bot_kernel -y "
   ]
  },
  {
   "cell_type": "markdown",
   "id": "ff326f28-b79e-43a0-9379-2229067df839",
   "metadata": {},
   "source": [
    "# Что можно улучшить \n",
    "\n",
    "- В ответах болталки изредка попадается HTML разметка, её следует убрать с помощью библиотеки BeautifulSoup или же просто удалить ответы, в которых встречается HTML код\n",
    "- Алгоритм получения ответов достаточно медленный всвязи с особенностью библиотеки pymystem3 от Яндекс. Она очень быстра на больших строках, но когда нужно провести лемматизацию для небольшой строки ей требуется около секунды и меньше времени для лемматизации. Уверен, если покопаться в документации, то можно будет найти опцию, которая обеспечит лемматизацию того же качество, но при этом для небольших строк. В противном случае можно попробовать библитоеку pymorphy2.\n",
    "- Можно дообучить товарный классификатор на больших кусочках чатов и сделать его ещё чувствительнее. \n",
    "- Можно использовать более продвинутые алгоритмы и ансамбли. Но простота - прекрасна."
   ]
  }
 ],
 "metadata": {
  "kernelspec": {
   "display_name": "Python 3 (ipykernel)",
   "language": "python",
   "name": "python3"
  },
  "language_info": {
   "codemirror_mode": {
    "name": "ipython",
    "version": 3
   },
   "file_extension": ".py",
   "mimetype": "text/x-python",
   "name": "python",
   "nbconvert_exporter": "python",
   "pygments_lexer": "ipython3",
   "version": "3.11.1"
  }
 },
 "nbformat": 4,
 "nbformat_minor": 5
}
