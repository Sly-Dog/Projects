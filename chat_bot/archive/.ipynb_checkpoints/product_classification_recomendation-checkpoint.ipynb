{
 "cells": [
  {
   "cell_type": "markdown",
   "id": "1312445f-ff13-4453-a9d7-61c892eaad0d",
   "metadata": {},
   "source": [
    "# Описание\n",
    "Это архивный ноутбук с описанием создания моделей, EDA, препроцессиногом и тестов c продуктовым датасетом. Конкретнее - это товарный классификатор и подбор товара Чат-бота. Этот стоит нужно смотреть во вторую очередь.\n",
    "- [Главный ноутбук](./../chat_bot.ipynb)"
   ]
  },
  {
   "cell_type": "markdown",
   "id": "716685de-654f-4cb7-91dc-8790a14e9c9e",
   "metadata": {},
   "source": [
    "# Зависимости\n",
    "\n",
    "```\n",
    "annoy==1.17.1 anyio==3.6.2 argon2-cffi==21.3.0 argon2-cffi-bindings==21.2.0 arrow==1.2.3 asttokens==2.2.1 attrs==22.2.0 Babel==2.11.0 backcall==0.2.0 beautifulsoup4==4.11.1 bleach==5.0.1 certifi==2022.12.7 cffi==1.15.1 charset-normalizer==2.1.1 click==8.1.3 colorama==0.4.6 comm==0.1.2 contourpy==1.0.6 cycler==0.11.0 Cython==0.29.32 debugpy==1.6.4 decorator==5.1.1 defusedxml==0.7.1 entrypoints==0.4 executing==1.2.0 fastjsonschema==2.16.2 fonttools==4.38.0 fqdn==1.5.1 fst-pso==1.8.1 FuzzyTM==2.0.5 gensim==4.3.0 idna==3.4 ipykernel==6.19.4 ipython==8.8.0 ipython-genutils==0.2.0 isoduration==20.11.0 jedi==0.18.2 Jinja2==3.1.2 joblib==1.2.0 json5==0.9.11 jsonpointer==2.3 jsonschema==4.17.3 jupyter-events==0.5.0 jupyter_client==7.4.8 jupyter_core==5.1.2 jupyter_server==2.0.6 jupyter_server_terminals==0.4.3 jupyterlab==3.5.2 jupyterlab-pygments==0.2.2 jupyterlab_server==2.18.0 kiwisolver==1.4.4 lxml==4.9.2 MarkupSafe==2.1.1 matplotlib==3.6.2 matplotlib-inline==0.1.6 miniful==0.0.6 mistune==2.0.4 nbclassic==0.4.8 nbclient==0.7.2 nbconvert==7.2.7 nbformat==5.7.1 nest-asyncio==1.5.6 nltk==3.8.1 notebook==6.5.2 notebook_shim==0.2.2 numpy==1.24.1 packaging==22.0 pandas==1.5.2 pandocfilters==1.5.0 parso==0.8.3 patsy==0.5.3 pickleshare==0.7.5 Pillow==9.4.0 platformdirs==2.6.2 prometheus-client==0.15.0 prompt-toolkit==3.0.36 protobuf==4.21.12 psutil==5.9.4 pure-eval==0.2.2 pycparser==2.21 pyFUME==0.2.25 Pygments==2.14.0 pymystem3==0.2.0 pyparsing==3.0.9 pyrsistent==0.19.3 python-dateutil==2.8.2 python-json-logger==2.0.4 pytz==2022.7 pywin32==305 pywinpty==2.0.10 PyYAML==6.0 pyzmq==24.0.1 regex==2022.10.31 requests==2.28.1 rfc3339-validator==0.1.4 rfc3986-validator==0.1.1 scikit-learn==1.2.0 scipy==1.10.0 Send2Trash==1.8.0 simpful==2.9.0 six==1.16.0 smart-open==6.3.0 sniffio==1.3.0 soupsieve==2.3.2.post1 stack-data==0.6.2 statsmodels==0.13.5 terminado==0.17.1 threadpoolctl==3.1.0 tinycss2==1.2.1 tomli==2.0.1 tornado==6.2 tqdm==4.64.1 traitlets==5.8.0 uri-template==1.2.0 urllib3==1.26.13 wcwidth==0.2.5 webcolors==1.12 webencodings==0.5.1 websocket-client==1.4.2\n",
    "```"
   ]
  },
  {
   "cell_type": "markdown",
   "id": "cc449837-5db2-46fe-90d2-aadf0dbc1f19",
   "metadata": {},
   "source": [
    "# Import "
   ]
  },
  {
   "cell_type": "code",
   "execution_count": 1,
   "id": "d6fe5ad1-a280-4d1a-9108-f7ed07e1c5d0",
   "metadata": {},
   "outputs": [],
   "source": [
    "### standard ###\n",
    "import itertools\n",
    "import json \n",
    "import re\n",
    "import numpy as np\n",
    "from joblib import Parallel, delayed\n",
    "\n",
    "\n",
    "#### site-packages ###\n",
    "import pandas as pd\n",
    "from pymystem3 import Mystem\n",
    "from nltk.corpus import stopwords\n",
    "import gensim\n",
    "import pickle\n",
    "\n",
    "from sklearn.feature_extraction.text import CountVectorizer\n",
    "from sklearn import model_selection, preprocessing\n",
    "from sklearn import linear_model, metrics\n",
    "from sklearn.neighbors import KNeighborsClassifier"
   ]
  },
  {
   "cell_type": "markdown",
   "id": "a4022cf7-832e-47ad-9c5d-7890c4a7101f",
   "metadata": {},
   "source": [
    "# functions"
   ]
  },
  {
   "cell_type": "code",
   "execution_count": 2,
   "id": "2ff28c3d-c960-4414-8da7-d71a97502b67",
   "metadata": {},
   "outputs": [],
   "source": [
    "'''Class for properties column preprocessing'''\n",
    "#‾‾‾‾‾‾‾‾‾‾‾‾‾‾‾‾‾‾‾‾‾‾‾‾‾‾‾‾‾‾‾‾‾‾‾‾‾‾‾‾‾‾‾‾‾‾‾‾‾‾‾‾‾‾‾‾‾‾‾‾‾‾‾‾‾‾‾‾‾‾‾‾‾‾‾‾‾#\n",
    "class properties_prerpoc():\n",
    "    def __init__(self, ser):\n",
    "        self.ser = ser\n",
    "\n",
    "    def show_ser(self):\n",
    "        return self.ser\n",
    "        \n",
    "    '''Get dictionaries from suitable string  '''\n",
    "    def get_dict(string):\n",
    "        try: result = eval(string) # .values()\n",
    "        except: result = None # urls also will be here\n",
    "        \n",
    "        return result\n",
    "    \n",
    "    '''Get series from prepared Series with dictionaries''' ###############################################DFDSFSDFSDFSFSDFSDFSDFSDFSDFSD\n",
    "    def get_series_of_dicts(self):\n",
    "        for i in self.ser.index:\n",
    "            self.ser.at[i] = get_dict(self.ser[i])\n",
    "    \n",
    "    '''Get all keys and values from prepared Series with dictionaries'''\n",
    "    def get_all_keys_and_values(self):\n",
    "        clean_properties = self.ser.dropna()  #\n",
    "\n",
    "        clean_properties_keys = []\n",
    "        clean_properties_values = []\n",
    "\n",
    "        for dct in clean_properties.values:\n",
    "            clean_properties_keys += dct.keys()\n",
    "            clean_properties_values += dct.values()\n",
    "\n",
    "        clean_properties_keys = pd.Series(clean_properties_keys)\n",
    "        clean_properties_values = pd.Series(clean_properties_values)\n",
    "        \n",
    "        return clean_properties_keys,clean_properties_values\n",
    "    \n",
    "    ''' Make Series with lists of keys and values \n",
    "        from prepared Series with dictionaries    '''\n",
    "    def compress_expand_lists_to_ser(self):\n",
    "        properties_key_lists = self.ser.copy()\n",
    "        properties_value_lists = self.ser.copy()\n",
    "\n",
    "        for i in self.ser.index:\n",
    "            try:\n",
    "                properties_key_lists[i] = list(properties_key_lists[i].keys())\n",
    "                properties_value_lists[i] = list(properties_value_lists[i].values())\n",
    "            except:\n",
    "                properties_key_lists[i] = None\n",
    "                properties_value_lists[i] = None\n",
    "            \n",
    "        return properties_key_lists, properties_value_lists\n",
    "    \n",
    "    '''Replace string \"duno\" with [\"duno\"]''' ##################################### Не робит, ибо не dunno, а ненаю\n",
    "    def replace_dunno_with_list(self, column):\n",
    "        for i in column.index:\n",
    "            name = column.name\n",
    "            if df[name][i] == \"dunno\":\n",
    "                df.loc[:, name][i] = [\"dunno\"]\n",
    "\n",
    "\n",
    "\n",
    "#‾‾‾‾‾‾‾‾‾‾‾‾‾‾‾‾‾‾‾‾‾‾‾‾‾‾‾‾‾‾‾‾‾‾‾‾‾‾‾‾‾‾‾‾‾‾‾‾‾‾‾#\n",
    "'''Get dictionaries from suitable string  '''\n",
    "def get_dict(string):\n",
    "    try: result = eval(string) # .values()\n",
    "    except: result = None # urls also will be here\n",
    "    return result\n",
    "#___________________________________________________#\n",
    "\n",
    "\n",
    "\n",
    "\"\"\"Class for preprocessing especially for model\"\"\"\n",
    "#‾‾‾‾‾‾‾‾‾‾‾‾‾‾‾‾‾‾‾‾‾‾‾‾‾‾‾‾‾‾‾‾‾‾‾‾‾‾‾‾‾‾‾‾‾‾‾‾‾‾‾‾‾‾‾‾‾‾‾‾‾‾‾‾‾‾‾‾‾‾‾‾‾‾‾‾‾#\n",
    "class model_prerpoc():\n",
    "    def __init__(self, ser):\n",
    "        self.ser = ser\n",
    "    \n",
    "    '''Transforms series to one string without stop-words and garbage symbols'''\n",
    "    def prepearing_for_lemmatization(self):\n",
    "        series = self.ser\n",
    "        \n",
    "        if series.dtype == object:\n",
    "            \n",
    "            ## making one big string\n",
    "            series = series.apply(lambda x: str(x)[1:-1])\n",
    "            union_string = series.str.cat(sep=\"`<>`\")\n",
    "            \n",
    "            ##replace some garbage symbols\n",
    "            union_string = union_string.replace(\"\\n\", \" \")\n",
    "            union_string = union_string.replace(\"?\", \" \")\n",
    "            union_string = union_string.replace(\")\", \" \")\n",
    "            union_string = union_string.replace(\"(\", \" \")\n",
    "            union_string = union_string.replace(\"!\", \" \")\n",
    "            union_string = union_string.replace(\".\", \" \")\n",
    "            union_string = union_string.replace(\",\", \" \")\n",
    "            union_string = union_string.replace(\"\\'\", \" \")\n",
    "            union_string = union_string.replace(\"'\", \" \")\n",
    "            union_string = union_string.replace(\"   \", \" \")\n",
    "            union_string = union_string.replace(\"  \", \" \")\n",
    "            \n",
    "            return union_string\n",
    "        \n",
    "        # union descrirption into one string\n",
    "        \n",
    "        union_string = series.str.cat(sep=\"`<>`\")\n",
    "\n",
    "        '''replace stopwords except \"не\"'''\n",
    "        #‾‾‾‾‾‾‾‾‾‾‾‾‾‾‾‾‾‾‾‾‾‾‾‾‾‾‾‾‾‾‾‾‾‾‾‾‾‾‾‾‾‾‾‾‾‾‾‾‾‾‾‾‾‾#\n",
    "        stop = stopwords.words(\"russian\")\n",
    "        stop.remove(\"не\")\n",
    "\n",
    "        union_string = re.sub(\n",
    "            \"\\\\s\" + \" \".join(stop).replace(' ','\\s|\\s'),\n",
    "            \" \", union_string)\n",
    "        \n",
    "        union_string = re.sub(\"не\\s\", \"не\", union_string)     # не !!!\n",
    "        #______________________________________________________#\n",
    "\n",
    "        '''replace some garbage symbols'''\n",
    "        #‾‾‾‾‾‾‾‾‾‾‾‾‾‾‾‾‾‾‾‾‾‾‾‾‾‾‾‾‾‾‾‾‾‾‾‾‾‾‾‾‾‾‾‾‾‾‾‾‾‾‾‾‾‾# \n",
    "        union_string = union_string.replace(\"\\n\", \" \")\n",
    "        union_string = union_string.replace(\"?\", \" \")\n",
    "        union_string = union_string.replace(\")\", \" \")\n",
    "        union_string = union_string.replace(\"(\", \" \")\n",
    "        union_string = union_string.replace(\"!\", \" \")\n",
    "        union_string = union_string.replace(\".\", \" \")\n",
    "        union_string = union_string.replace(\",\", \" \")\n",
    "        union_string = union_string.replace(\"\\'\", \" \")\n",
    "        union_string = union_string.replace(\"'\", \" \")\n",
    "        union_string = union_string.replace(\"   \", \" \")\n",
    "        union_string = union_string.replace(\"  \", \" \")\n",
    "        \n",
    "        return union_string\n",
    "\n",
    "    '''lemmatization with pymystem3 and parallelizm'''\n",
    "    def lemmatization(self, text_for_mystem):\n",
    "        # split large string to 6 lists with smaller strings for parallel lemmatization\n",
    "        arrays = pd.Series(np.array_split(text_for_mystem.split('`<>`'), 6))\n",
    "\n",
    "        ## concatenate strings in arrays with separator for future split\n",
    "        union_string_6 = []\n",
    "        for array in arrays:\n",
    "            union_string_6.append(pd.Series(array).str.cat(sep=\"`<>`\"))\n",
    "\n",
    "\n",
    "        ## here is parallel lemmatization. 40 seconds duration\n",
    "        m = Mystem().lemmatize\n",
    "        results = Parallel(n_jobs=-1)(delayed(m)(x) for x in union_string_6)\n",
    "\n",
    "        ## replace pointless tabulation\n",
    "        strings = []\n",
    "        for array in results:\n",
    "            text = \" \".join(array).replace(\"   \", \" \").replace(\"  \", \" \")\n",
    "            text = re.sub(\"не\\s\", \"не\", text) ### !  join \"не\"\n",
    "            strings.append(text)\n",
    "\n",
    "        ## split strings to arrays\n",
    "        lemma_array = []\n",
    "        for string in strings:\n",
    "            lemma_array.append(string.split(\"`<>`\"))\n",
    "\n",
    "        output = []\n",
    "        for lst in lemma_array:\n",
    "            for string in lst:\n",
    "                output.append(string)\n",
    "\n",
    "        lemma_series = pd.Series(output)\n",
    "        \n",
    "        return lemma_series\n",
    "    \n",
    "\n",
    "\n",
    "\n",
    "###### get product dataset enriched with chat messages  #######################\n",
    "def get_enriched_df(third_party_df_size):\n",
    "    chat = pd.read_json(\"pikabu_chat.json\")\n",
    "    chat_column = chat.text\n",
    "\n",
    "    chat_column = chat_column.sample(third_party_df_size) \n",
    "    chat_column = chat_column.astype(\"string\")\n",
    "\n",
    "    ## to lower case and delete spaces around string ###\n",
    "    chat_column = chat_column.str.lower().str.strip()\n",
    "\n",
    "    ## drop garbage from strings and prepare for lemmatization \n",
    "    model_prerpoc_chat = model_prerpoc(chat_column)\n",
    "\n",
    "    ## get plain text of the columns without stop-words\n",
    "    chat_text = model_prerpoc_chat.prepearing_for_lemmatization() \n",
    "\n",
    "    ## lemmatization\n",
    "    chat = model_prerpoc_chat.lemmatization(chat_text) \n",
    "\n",
    "    ###### make union dataset for binary classification ###########################\n",
    "\n",
    "    ### marking strings from each dataset  ###\n",
    "    chat_df = pd.DataFrame([chat, np.zeros(len(chat))]).T\n",
    "    chat_df.columns = [\"message\", \"is_product\"]\n",
    "\n",
    "    df_for_combine = pd.DataFrame([df.text, np.ones(len(df.text))]).T\n",
    "    df_for_combine.columns = [\"message\", \"is_product\"]\n",
    "\n",
    "    ### make union dataset ###\n",
    "    df_product_cl = pd.concat([chat_df,df_for_combine]) \n",
    "    df_product_cl[\"is_product\"] = df_product_cl.is_product.astype(\"string\")\n",
    "\n",
    "    ### tidy up text\n",
    "    df_product_cl[\"message\"] = df_product_cl.message.str.replace('\\n', \" \")\n",
    "    df_product_cl[\"message\"] = df_product_cl.message.str.replace('   ', \" \")\n",
    "    df_product_cl[\"message\"] = df_product_cl.message.str.replace('  ', \" \")\n",
    "    \n",
    "    return df_product_cl\n",
    "\n",
    "\"\"\"Use trained KNN to get its prediction\"\"\"\n",
    "def get_neigh_answer(s):\n",
    "    text = \" \".join((Mystem().lemmatize(s))) # leammatization\n",
    "\n",
    "    lemmatized_words = gensim.utils.simple_preprocess(text)     # word preprocessing\n",
    "\n",
    "    lst = []\n",
    "    for i, word in enumerate(lemmatized_words):\n",
    "        try:lst.append( model.wv.get_vector(word) )\n",
    "        except KeyError: pass\n",
    "\n",
    "    try: prediction = neigh.predict([np.sum(np.array(lst), axis=0)])[0]\n",
    "    except ValueError: print(\"Похоже, что вы искали товар, но увы в каталоге нет ничего похожего.\\nПопробуйте переформулировать запрос.\")\n",
    "\n",
    "    return f\"{prediction} {df[df.product_id == prediction].title.values[0]}\""
   ]
  },
  {
   "cell_type": "markdown",
   "id": "e7cfab3e-b3d4-4429-b010-dc2d611918a5",
   "metadata": {},
   "source": [
    "# Data"
   ]
  },
  {
   "cell_type": "code",
   "execution_count": 3,
   "id": "307f0e39-29ac-473d-98f6-250c85c35d63",
   "metadata": {},
   "outputs": [
    {
     "data": {
      "text/html": [
       "<div>\n",
       "<style scoped>\n",
       "    .dataframe tbody tr th:only-of-type {\n",
       "        vertical-align: middle;\n",
       "    }\n",
       "\n",
       "    .dataframe tbody tr th {\n",
       "        vertical-align: top;\n",
       "    }\n",
       "\n",
       "    .dataframe thead th {\n",
       "        text-align: right;\n",
       "    }\n",
       "</style>\n",
       "<table border=\"1\" class=\"dataframe\">\n",
       "  <thead>\n",
       "    <tr style=\"text-align: right;\">\n",
       "      <th></th>\n",
       "      <th>title</th>\n",
       "      <th>descrirption</th>\n",
       "      <th>product_id</th>\n",
       "      <th>category_id</th>\n",
       "      <th>subcategory_id</th>\n",
       "      <th>properties</th>\n",
       "      <th>image_links</th>\n",
       "    </tr>\n",
       "  </thead>\n",
       "  <tbody>\n",
       "    <tr>\n",
       "      <th>34671</th>\n",
       "      <td>Сапоги</td>\n",
       "      <td>Как новые.</td>\n",
       "      <td>5bea73b82756ba99c20b22b2</td>\n",
       "      <td>22.0</td>\n",
       "      <td>2209</td>\n",
       "      <td>{'detskie_tzvet': 'Розовый', 'detskie_obuv_raz...</td>\n",
       "      <td>http://cache3.youla.io/files/images/360_360/5b...</td>\n",
       "    </tr>\n",
       "    <tr>\n",
       "      <th>26127</th>\n",
       "      <td>Костюм зимний</td>\n",
       "      <td>NaN</td>\n",
       "      <td>5b9f43aabedcc55fe4533259</td>\n",
       "      <td>22.0</td>\n",
       "      <td>2204</td>\n",
       "      <td>{'detskie_pol': 'Девочкам', 'detskaya_odezhda_...</td>\n",
       "      <td>http://cache3.youla.io/files/images/360_360/5b...</td>\n",
       "    </tr>\n",
       "    <tr>\n",
       "      <th>15269</th>\n",
       "      <td>Брюки с лампасами</td>\n",
       "      <td>44р.</td>\n",
       "      <td>5b16937680e08e4c723b1e2a</td>\n",
       "      <td>9.0</td>\n",
       "      <td>906</td>\n",
       "      <td>{'zhenskaya_odezhda_dzhinsy_bryuki_tip': 'Брюк...</td>\n",
       "      <td>http://cache3.youla.io/files/images/360_360/5b...</td>\n",
       "    </tr>\n",
       "  </tbody>\n",
       "</table>\n",
       "</div>"
      ],
      "text/plain": [
       "                   title descrirption                product_id  category_id  \\\n",
       "34671             Сапоги   Как новые.  5bea73b82756ba99c20b22b2         22.0   \n",
       "26127      Костюм зимний          NaN  5b9f43aabedcc55fe4533259         22.0   \n",
       "15269  Брюки с лампасами         44р.  5b16937680e08e4c723b1e2a          9.0   \n",
       "\n",
       "      subcategory_id                                         properties  \\\n",
       "34671           2209  {'detskie_tzvet': 'Розовый', 'detskie_obuv_raz...   \n",
       "26127           2204  {'detskie_pol': 'Девочкам', 'detskaya_odezhda_...   \n",
       "15269            906  {'zhenskaya_odezhda_dzhinsy_bryuki_tip': 'Брюк...   \n",
       "\n",
       "                                             image_links  \n",
       "34671  http://cache3.youla.io/files/images/360_360/5b...  \n",
       "26127  http://cache3.youla.io/files/images/360_360/5b...  \n",
       "15269  http://cache3.youla.io/files/images/360_360/5b...  "
      ]
     },
     "execution_count": 3,
     "metadata": {},
     "output_type": "execute_result"
    }
   ],
   "source": [
    "df = pd.read_csv(\"ProductsDataset.csv\")\n",
    "df.sample(3)"
   ]
  },
  {
   "cell_type": "markdown",
   "id": "981afb36-db38-4e87-9386-e648b5b0289e",
   "metadata": {},
   "source": [
    "# EDA"
   ]
  },
  {
   "cell_type": "code",
   "execution_count": 40,
   "id": "f1c1edac-b825-4125-8ef2-56403284f73c",
   "metadata": {},
   "outputs": [
    {
     "name": "stdout",
     "output_type": "stream",
     "text": [
      "<class 'pandas.core.frame.DataFrame'>\n",
      "RangeIndex: 35548 entries, 0 to 35547\n",
      "Data columns (total 7 columns):\n",
      " #   Column          Non-Null Count  Dtype  \n",
      "---  ------          --------------  -----  \n",
      " 0   title           35548 non-null  object \n",
      " 1   descrirption    33537 non-null  object \n",
      " 2   product_id      35536 non-null  object \n",
      " 3   category_id     35536 non-null  float64\n",
      " 4   subcategory_id  35536 non-null  object \n",
      " 5   properties      35536 non-null  object \n",
      " 6   image_links     35533 non-null  object \n",
      "dtypes: float64(1), object(6)\n",
      "memory usage: 1.9+ MB\n"
     ]
    }
   ],
   "source": [
    "df.info()"
   ]
  },
  {
   "cell_type": "markdown",
   "id": "f606f045-e7a0-47f0-96c2-9bc97848666f",
   "metadata": {},
   "source": [
    "Первым делом стоит проверить предсказываемую переменную"
   ]
  },
  {
   "cell_type": "code",
   "execution_count": 214,
   "id": "2b537288-9deb-4886-9a57-5a78b5b5cbd0",
   "metadata": {},
   "outputs": [
    {
     "data": {
      "text/plain": [
       "22                          2\n",
       "5b7d13eab5fc2dafe776cee6    1\n",
       "59c554542c593e3f0f4698f4    1\n",
       "5a05f9aa93800091e664d9e5    1\n",
       "5b7d1431132ca510d6123e6c    1\n",
       "                           ..\n",
       "5a463804cf2045899e6d45a6    1\n",
       "5a3f987d2138bba823722b98    1\n",
       "5ab5d7b4b261ff801e1e08da    1\n",
       "5ab4a831f20263a8627ab818    1\n",
       "5bd6c8fbaaab283b79142a1f    1\n",
       "Name: product_id, Length: 35535, dtype: int64"
      ]
     },
     "execution_count": 214,
     "metadata": {},
     "output_type": "execute_result"
    }
   ],
   "source": [
    "df.product_id.value_counts()"
   ]
  },
  {
   "cell_type": "markdown",
   "id": "3a7bfd3c-6353-4c7f-8ade-83fe324d2bf7",
   "metadata": {},
   "source": [
    "Это что за id такое"
   ]
  },
  {
   "cell_type": "code",
   "execution_count": 229,
   "id": "d0a30fe0-5a78-4ce4-82ab-57717b494c1b",
   "metadata": {},
   "outputs": [
    {
     "data": {
      "text/html": [
       "<div>\n",
       "<style scoped>\n",
       "    .dataframe tbody tr th:only-of-type {\n",
       "        vertical-align: middle;\n",
       "    }\n",
       "\n",
       "    .dataframe tbody tr th {\n",
       "        vertical-align: top;\n",
       "    }\n",
       "\n",
       "    .dataframe thead th {\n",
       "        text-align: right;\n",
       "    }\n",
       "</style>\n",
       "<table border=\"1\" class=\"dataframe\">\n",
       "  <thead>\n",
       "    <tr style=\"text-align: right;\">\n",
       "      <th></th>\n",
       "      <th>title</th>\n",
       "      <th>descrirption</th>\n",
       "      <th>product_id</th>\n",
       "      <th>category_id</th>\n",
       "      <th>subcategory_id</th>\n",
       "      <th>properties</th>\n",
       "      <th>image_links</th>\n",
       "    </tr>\n",
       "  </thead>\n",
       "  <tbody>\n",
       "    <tr>\n",
       "      <th>4654</th>\n",
       "      <td>----------</td>\n",
       "      <td>5afaddcf2138bb98c33d3ee2</td>\n",
       "      <td>22</td>\n",
       "      <td>2217.0</td>\n",
       "      <td>{'detskie_pol': 'Мальчикам', 'detskaya_odezhda...</td>\n",
       "      <td>http://cache3.youla.io/files/images/360_360/5a...</td>\n",
       "      <td>NaN</td>\n",
       "    </tr>\n",
       "    <tr>\n",
       "      <th>27021</th>\n",
       "      <td>----------</td>\n",
       "      <td>5afab14a5eaa9e39660090c2</td>\n",
       "      <td>22</td>\n",
       "      <td>2217.0</td>\n",
       "      <td>{'detskaya_odezhda_aksessuary_tip': 'Головные ...</td>\n",
       "      <td>http://cache3.youla.io/files/images/360_360/5a...</td>\n",
       "      <td>NaN</td>\n",
       "    </tr>\n",
       "  </tbody>\n",
       "</table>\n",
       "</div>"
      ],
      "text/plain": [
       "            title              descrirption product_id  category_id  \\\n",
       "4654   ----------  5afaddcf2138bb98c33d3ee2         22       2217.0   \n",
       "27021  ----------  5afab14a5eaa9e39660090c2         22       2217.0   \n",
       "\n",
       "                                          subcategory_id  \\\n",
       "4654   {'detskie_pol': 'Мальчикам', 'detskaya_odezhda...   \n",
       "27021  {'detskaya_odezhda_aksessuary_tip': 'Головные ...   \n",
       "\n",
       "                                              properties image_links  \n",
       "4654   http://cache3.youla.io/files/images/360_360/5a...         NaN  \n",
       "27021  http://cache3.youla.io/files/images/360_360/5a...         NaN  "
      ]
     },
     "execution_count": 229,
     "metadata": {},
     "output_type": "execute_result"
    }
   ],
   "source": [
    "df[df.product_id == '22']"
   ]
  },
  {
   "cell_type": "markdown",
   "id": "e7298e79-4edc-4412-9414-2220b6e4c241",
   "metadata": {},
   "source": [
    "В этих строках происходит смещение влево по столбцам. Слова можно брать из properties. Однако 2 строки не имеют веса, их не будет в итоговом датасете."
   ]
  },
  {
   "cell_type": "code",
   "execution_count": 3,
   "id": "8768b4f3-842e-494f-b5ce-18ce619560a5",
   "metadata": {},
   "outputs": [
    {
     "data": {
      "text/plain": [
       "Платье                         1152\n",
       "Туфли                           386\n",
       "Куртка                          265\n",
       "Юбка                            231\n",
       "Джинсы                          222\n",
       "                               ... \n",
       "Ободок.                           1\n",
       "Платье (двойка)                   1\n",
       "Переноска детская                 1\n",
       "Продам сандали подростковые       1\n",
       "Новая золотая ветровка            1\n",
       "Name: title, Length: 23585, dtype: int64"
      ]
     },
     "execution_count": 3,
     "metadata": {},
     "output_type": "execute_result"
    }
   ],
   "source": [
    "df.title.value_counts()"
   ]
  },
  {
   "cell_type": "markdown",
   "id": "7d4f8b5d-b5a9-4806-9b9d-5120d986909b",
   "metadata": {},
   "source": [
    "Выглядит хорошо"
   ]
  },
  {
   "cell_type": "code",
   "execution_count": 4,
   "id": "ce7a7df5-d4b3-49aa-a6d0-552731b7255b",
   "metadata": {},
   "outputs": [
    {
     "data": {
      "text/plain": [
       "22                          2\n",
       "5b7d13eab5fc2dafe776cee6    1\n",
       "59c554542c593e3f0f4698f4    1\n",
       "5a05f9aa93800091e664d9e5    1\n",
       "5b7d1431132ca510d6123e6c    1\n",
       "                           ..\n",
       "5a463804cf2045899e6d45a6    1\n",
       "5a3f987d2138bba823722b98    1\n",
       "5ab5d7b4b261ff801e1e08da    1\n",
       "5ab4a831f20263a8627ab818    1\n",
       "5bd6c8fbaaab283b79142a1f    1\n",
       "Name: product_id, Length: 35535, dtype: int64"
      ]
     },
     "execution_count": 4,
     "metadata": {},
     "output_type": "execute_result"
    }
   ],
   "source": [
    "df.product_id.value_counts()"
   ]
  },
  {
   "cell_type": "code",
   "execution_count": 7,
   "id": "e3d57621-105f-4e22-82af-9f82ccb4ec26",
   "metadata": {},
   "outputs": [
    {
     "name": "stdout",
     "output_type": "stream",
     "text": [
      "<class 'pandas.core.frame.DataFrame'>\n",
      "RangeIndex: 35548 entries, 0 to 35547\n",
      "Data columns (total 7 columns):\n",
      " #   Column          Non-Null Count  Dtype  \n",
      "---  ------          --------------  -----  \n",
      " 0   title           35548 non-null  object \n",
      " 1   descrirption    33537 non-null  object \n",
      " 2   product_id      35536 non-null  object \n",
      " 3   category_id     35536 non-null  float64\n",
      " 4   subcategory_id  35536 non-null  object \n",
      " 5   properties      35536 non-null  object \n",
      " 6   image_links     35533 non-null  object \n",
      "dtypes: float64(1), object(6)\n",
      "memory usage: 1.9+ MB\n",
      "None\n"
     ]
    }
   ],
   "source": [
    "print(df.info())"
   ]
  },
  {
   "cell_type": "markdown",
   "id": "fe32dcc1-9754-4db3-a05a-a1abccfb7546",
   "metadata": {},
   "source": [
    "## subcategory_id\n",
    "Подкатегории содержат строки и числа"
   ]
  },
  {
   "cell_type": "code",
   "execution_count": 31,
   "id": "ced4d5da-2207-45d7-be56-734900616b3c",
   "metadata": {},
   "outputs": [
    {
     "name": "stdout",
     "output_type": "stream",
     "text": [
      "904                                                                                             4181\n",
      "902                                                                                             3657\n",
      "903                                                                                             2709\n",
      "914                                                                                             2500\n",
      "2209                                                                                            2455\n",
      "2204                                                                                            2118\n",
      "2211                                                                                            1208\n",
      "314                                                                                             1179\n",
      "906                                                                                             1109\n",
      "907                                                                                             1074\n",
      "2206                                                                                            1014\n",
      "2216                                                                                             939\n",
      "905                                                                                              768\n",
      "2213                                                                                             668\n",
      "908                                                                                              595\n",
      "2217                                                                                             541\n",
      "909                                                                                              487\n",
      "811                                                                                              415\n",
      "803                                                                                              413\n",
      "2210                                                                                             403\n",
      "910                                                                                              338\n",
      "317                                                                                              331\n",
      "2201                                                                                             327\n",
      "2203                                                                                             305\n",
      "802                                                                                              304\n",
      "2202                                                                                             285\n",
      "911                                                                                              282\n",
      "320                                                                                              262\n",
      "922                                                                                              261\n",
      "2215                                                                                             258\n",
      "2214                                                                                             223\n",
      "301                                                                                              220\n",
      "312                                                                                              204\n",
      "806                                                                                              203\n",
      "912                                                                                              194\n",
      "2207                                                                                             191\n",
      "901                                                                                              191\n",
      "808                                                                                              185\n",
      "311                                                                                              181\n",
      "805                                                                                              153\n",
      "807                                                                                              149\n",
      "921                                                                                              149\n",
      "1102                                                                                             117\n",
      "2208                                                                                             110\n",
      "319                                                                                              102\n",
      "1107                                                                                             101\n",
      "804                                                                                               99\n",
      "814                                                                                               95\n",
      "316                                                                                               91\n",
      "1105                                                                                              90\n",
      "919                                                                                               75\n",
      "1101                                                                                              74\n",
      "2205                                                                                              74\n",
      "809                                                                                               74\n",
      "920                                                                                               73\n",
      "309                                                                                               71\n",
      "1103                                                                                              70\n",
      "1104                                                                                              70\n",
      "313                                                                                               63\n",
      "2212                                                                                              57\n",
      "818                                                                                               54\n",
      "1109                                                                                              42\n",
      "310                                                                                               41\n",
      "801                                                                                               39\n",
      "1106                                                                                              37\n",
      "1113                                                                                              34\n",
      "1112                                                                                              28\n",
      "810                                                                                               28\n",
      "1115                                                                                              23\n",
      "1110                                                                                              23\n",
      "1108                                                                                              22\n",
      "1111                                                                                              11\n",
      "318                                                                                                7\n",
      "816                                                                                                5\n",
      "1114                                                                                               2\n",
      "817                                                                                                2\n",
      "{'detskie_pol': 'Мальчикам', 'detskaya_odezhda_aksessuary_tip': 'Головные уборы'}                  1\n",
      "{'osveshchenie_tip': 'Лампочки', 'category': 'Телефоны и планшеты', 'subcategory': 'Другое'}       1\n",
      "{'detskaya_odezhda_aksessuary_tip': 'Головные уборы', 'detskie_pol': 'Девочкам'}                   1\n"
     ]
    }
   ],
   "source": [
    "print(df.subcategory_id.value_counts().to_string())"
   ]
  },
  {
   "cell_type": "markdown",
   "id": "62d4a814-2299-4ad7-a753-51b1c96c2f44",
   "metadata": {},
   "source": [
    "Этот хвостик из строк в числах можно удалить т.к. это капля в море"
   ]
  },
  {
   "cell_type": "markdown",
   "id": "9f5eeb48-229d-4f0b-b62c-f9944b524abc",
   "metadata": {
    "tags": []
   },
   "source": [
    "## Properites"
   ]
  },
  {
   "cell_type": "code",
   "execution_count": 6,
   "id": "03010b86-5df7-4975-bdd8-101a32ed7345",
   "metadata": {},
   "outputs": [],
   "source": [
    "'''Get dictionaries from suitable string  '''\n",
    "def get_dict(string):\n",
    "    try: result = eval(string) # .values()\n",
    "    except: result = None # urls also will be here\n",
    "    return result"
   ]
  },
  {
   "cell_type": "code",
   "execution_count": 15,
   "id": "438affe1-fb5e-4f9c-8043-47984f705632",
   "metadata": {},
   "outputs": [
    {
     "data": {
      "text/plain": [
       "{'zhenskaya_odezhda_aksessuary_tip': 'Шарфы и платки'}"
      ]
     },
     "execution_count": 15,
     "metadata": {},
     "output_type": "execute_result"
    }
   ],
   "source": [
    "lst"
   ]
  },
  {
   "cell_type": "code",
   "execution_count": 12,
   "id": "5ddcb8fe-85c5-44fe-871f-ffdc42a3f2a0",
   "metadata": {},
   "outputs": [
    {
     "data": {
      "text/plain": [
       "6834    {'zhenskaya_odezhda_verhnyaya_tip': 'жилеты', ...\n",
       "dtype: object"
      ]
     },
     "execution_count": 12,
     "metadata": {},
     "output_type": "execute_result"
    }
   ],
   "source": [
    "properties_list = []\n",
    "\n",
    "for i in df['properties']:\n",
    "    dct = get_dict(i)\n",
    "    if dct == {}:\n",
    "        properties_list.append(None)\n",
    "    else:\n",
    "        properties_list.append(dct)\n",
    "\n",
    "ser = pd.Series(properties_list)\n",
    "ser.sample()"
   ]
  },
  {
   "cell_type": "code",
   "execution_count": 9,
   "id": "f2ff9f33-be20-4094-97e4-72a88c27824b",
   "metadata": {},
   "outputs": [
    {
     "data": {
      "text/plain": [
       "35534"
      ]
     },
     "execution_count": 9,
     "metadata": {},
     "output_type": "execute_result"
    }
   ],
   "source": [
    "len(ser)"
   ]
  },
  {
   "cell_type": "code",
   "execution_count": 33,
   "id": "b58a08f0-1f6c-4202-a9be-211f2300ab42",
   "metadata": {},
   "outputs": [
    {
     "data": {
      "text/plain": [
       "31089"
      ]
     },
     "execution_count": 33,
     "metadata": {},
     "output_type": "execute_result"
    }
   ],
   "source": [
    "len(ser.dropna())"
   ]
  },
  {
   "cell_type": "code",
   "execution_count": 32,
   "id": "77d0c2e6-8132-44b9-8f93-84a067d0cb32",
   "metadata": {},
   "outputs": [
    {
     "data": {
      "text/html": [
       "<div>\n",
       "<style scoped>\n",
       "    .dataframe tbody tr th:only-of-type {\n",
       "        vertical-align: middle;\n",
       "    }\n",
       "\n",
       "    .dataframe tbody tr th {\n",
       "        vertical-align: top;\n",
       "    }\n",
       "\n",
       "    .dataframe thead th {\n",
       "        text-align: right;\n",
       "    }\n",
       "</style>\n",
       "<table border=\"1\" class=\"dataframe\">\n",
       "  <thead>\n",
       "    <tr style=\"text-align: right;\">\n",
       "      <th></th>\n",
       "      <th>title</th>\n",
       "      <th>descrirption</th>\n",
       "      <th>category_id</th>\n",
       "      <th>subcategory_id</th>\n",
       "      <th>properties</th>\n",
       "    </tr>\n",
       "  </thead>\n",
       "  <tbody>\n",
       "    <tr>\n",
       "      <th>11</th>\n",
       "      <td>Рубашка новая 2 шт</td>\n",
       "      <td>За обе 250, на размер 50-52</td>\n",
       "      <td>8.0</td>\n",
       "      <td>805</td>\n",
       "      <td>{}</td>\n",
       "    </tr>\n",
       "    <tr>\n",
       "      <th>12</th>\n",
       "      <td>НОВАЯ ЖЕНСКАЯ СУМКА ГЕРМАНИЯ БРЕНД АЭРОСОФТ</td>\n",
       "      <td>АБСОЛЮТНО НОВАЯ СУМКА \n",
       "ИЗ ЭКО КОЖИ ИМЕЕТ ДВЕ Р...</td>\n",
       "      <td>9.0</td>\n",
       "      <td>914</td>\n",
       "      <td>{}</td>\n",
       "    </tr>\n",
       "    <tr>\n",
       "      <th>15</th>\n",
       "      <td>Платье новое</td>\n",
       "      <td>Новое платье 46-48размера. Красивый цвет .смот...</td>\n",
       "      <td>9.0</td>\n",
       "      <td>904</td>\n",
       "      <td>{}</td>\n",
       "    </tr>\n",
       "    <tr>\n",
       "      <th>19</th>\n",
       "      <td>Сумки Мягкие игрушки Кукла Fisher Price</td>\n",
       "      <td>Мягкие игрушки в идеальном состоянии, все как ...</td>\n",
       "      <td>3.0</td>\n",
       "      <td>314</td>\n",
       "      <td>{}</td>\n",
       "    </tr>\n",
       "    <tr>\n",
       "      <th>23</th>\n",
       "      <td>Шорты Кальцедония размер 42</td>\n",
       "      <td>Совершенно новые шорты , купила без примерки, ...</td>\n",
       "      <td>9.0</td>\n",
       "      <td>906</td>\n",
       "      <td>{}</td>\n",
       "    </tr>\n",
       "    <tr>\n",
       "      <th>...</th>\n",
       "      <td>...</td>\n",
       "      <td>...</td>\n",
       "      <td>...</td>\n",
       "      <td>...</td>\n",
       "      <td>...</td>\n",
       "    </tr>\n",
       "    <tr>\n",
       "      <th>35471</th>\n",
       "      <td>Сборная модель</td>\n",
       "      <td>По предварительной договоренности можно забира...</td>\n",
       "      <td>3.0</td>\n",
       "      <td>314</td>\n",
       "      <td>{}</td>\n",
       "    </tr>\n",
       "    <tr>\n",
       "      <th>35487</th>\n",
       "      <td>Милый развивающий домик для вашего малыша.</td>\n",
       "      <td>Новый.успей купить за 500</td>\n",
       "      <td>3.0</td>\n",
       "      <td>314</td>\n",
       "      <td>{}</td>\n",
       "    </tr>\n",
       "    <tr>\n",
       "      <th>35493</th>\n",
       "      <td>Турбо зажигалка</td>\n",
       "      <td>Оригинальные турбо зажигалки ( металлические)</td>\n",
       "      <td>8.0</td>\n",
       "      <td>811</td>\n",
       "      <td>{}</td>\n",
       "    </tr>\n",
       "    <tr>\n",
       "      <th>35504</th>\n",
       "      <td>Качелька</td>\n",
       "      <td>Качалка детская в идеальном состоянии, белый ш...</td>\n",
       "      <td>3.0</td>\n",
       "      <td>317</td>\n",
       "      <td>{}</td>\n",
       "    </tr>\n",
       "    <tr>\n",
       "      <th>35527</th>\n",
       "      <td>Zara,костюм для девочки</td>\n",
       "      <td>Костюм для девочки ,р.74, легинсы baby go ,74р...</td>\n",
       "      <td>22.0</td>\n",
       "      <td>2216</td>\n",
       "      <td>{}</td>\n",
       "    </tr>\n",
       "  </tbody>\n",
       "</table>\n",
       "<p>4447 rows × 5 columns</p>\n",
       "</div>"
      ],
      "text/plain": [
       "                                             title  \\\n",
       "11                              Рубашка новая 2 шт   \n",
       "12     НОВАЯ ЖЕНСКАЯ СУМКА ГЕРМАНИЯ БРЕНД АЭРОСОФТ   \n",
       "15                                    Платье новое   \n",
       "19         Сумки Мягкие игрушки Кукла Fisher Price   \n",
       "23                     Шорты Кальцедония размер 42   \n",
       "...                                            ...   \n",
       "35471                               Сборная модель   \n",
       "35487   Милый развивающий домик для вашего малыша.   \n",
       "35493                              Турбо зажигалка   \n",
       "35504                                     Качелька   \n",
       "35527                      Zara,костюм для девочки   \n",
       "\n",
       "                                            descrirption  category_id  \\\n",
       "11                           За обе 250, на размер 50-52          8.0   \n",
       "12     АБСОЛЮТНО НОВАЯ СУМКА \n",
       "ИЗ ЭКО КОЖИ ИМЕЕТ ДВЕ Р...          9.0   \n",
       "15     Новое платье 46-48размера. Красивый цвет .смот...          9.0   \n",
       "19     Мягкие игрушки в идеальном состоянии, все как ...          3.0   \n",
       "23     Совершенно новые шорты , купила без примерки, ...          9.0   \n",
       "...                                                  ...          ...   \n",
       "35471  По предварительной договоренности можно забира...          3.0   \n",
       "35487                          Новый.успей купить за 500          3.0   \n",
       "35493      Оригинальные турбо зажигалки ( металлические)          8.0   \n",
       "35504  Качалка детская в идеальном состоянии, белый ш...          3.0   \n",
       "35527  Костюм для девочки ,р.74, легинсы baby go ,74р...         22.0   \n",
       "\n",
       "      subcategory_id properties  \n",
       "11               805         {}  \n",
       "12               914         {}  \n",
       "15               904         {}  \n",
       "19               314         {}  \n",
       "23               906         {}  \n",
       "...              ...        ...  \n",
       "35471            314         {}  \n",
       "35487            314         {}  \n",
       "35493            811         {}  \n",
       "35504            317         {}  \n",
       "35527           2216         {}  \n",
       "\n",
       "[4447 rows x 5 columns]"
      ]
     },
     "execution_count": 32,
     "metadata": {},
     "output_type": "execute_result"
    }
   ],
   "source": [
    "df[ser.isna()]"
   ]
  },
  {
   "cell_type": "markdown",
   "id": "5a19f78a-0539-4c1c-bc82-40b9b2061ed0",
   "metadata": {},
   "source": [
    "Помимо отсутствующих properties эти стрки выглядят хорошо и их стоит использовать. Можно будет использовать только title и description"
   ]
  },
  {
   "cell_type": "markdown",
   "id": "2117a884-0a88-45bc-a32c-5197487d91c9",
   "metadata": {
    "tags": []
   },
   "source": [
    "### Проверка подкатегорий, категорий и properties"
   ]
  },
  {
   "cell_type": "code",
   "execution_count": 14,
   "id": "20ea3abc-7516-4514-9197-aea8d3fbc150",
   "metadata": {},
   "outputs": [],
   "source": [
    "data = df[~ser.isna()]\n",
    "not_full_data = df[ser.isna()]"
   ]
  },
  {
   "cell_type": "code",
   "execution_count": null,
   "id": "c00f928a-274a-4949-94fb-e2c4bf792523",
   "metadata": {},
   "outputs": [],
   "source": [
    "clean_properties = ser.dropna()\n",
    "\n",
    "clean_properties_keys = []\n",
    "clean_properties_values = []\n",
    "\n",
    "for dct in clean_properties.values:\n",
    "    clean_properties_keys += dct.keys()\n",
    "    clean_properties_values += dct.values()\n",
    "    \n",
    "clean_properties_keys = pd.Series(clean_properties_keys)\n",
    "clean_properties_values = pd.Series(clean_properties_values)\n",
    "\n",
    "\n",
    "print(\"количество уникальных ключей из словарей properties:\",\n",
    "      len(clean_properties_keys.value_counts()))\n",
    "\n",
    "print(\"количество уникальных значений из словарей properties:\",\n",
    "    len(clean_properties_values.value_counts()))\n",
    "\n",
    "print(\"Все комбинации категорий и подкатегорий:\",\n",
    "    len(data.category_id.value_counts()) \n",
    "    * len(data.subcategory_id.value_counts()))"
   ]
  },
  {
   "cell_type": "markdown",
   "id": "3043edc6-af03-4dc0-b895-f30b7443d8f2",
   "metadata": {},
   "source": [
    "**Гиппотеза опровергнута**"
   ]
  },
  {
   "cell_type": "markdown",
   "id": "0a22014f-f0a7-48cd-b363-1e3b0e9239cd",
   "metadata": {},
   "source": [
    "### Транслит"
   ]
  },
  {
   "cell_type": "code",
   "execution_count": 162,
   "id": "3be19c4f-9340-4ded-858d-d2bdac95f224",
   "metadata": {},
   "outputs": [
    {
     "data": {
      "text/plain": [
       "14003         zhenskaya_odezhda_platya_yubki_tip\n",
       "14004                    zhenskaya_odezhda_tzvet\n",
       "14005                              detskie_tzvet\n",
       "14006        detskaya_odezhda_platya_i_yubki_tip\n",
       "14007                        sostojanie_garderob\n",
       "14008                        detskie_razmer_rost\n",
       "14009      detskaya_odezhda_platya_i_yubki_dlina\n",
       "14010      detskaya_odezhda_platya_i_yubki_sezon\n",
       "14011                    muzhskaya_odezhda_tzvet\n",
       "14012       muzhskaya_odezhda_dzhinsy_bryuki_tip\n",
       "14013                    muzhskaya_odezhda_sezon\n",
       "14014                    muzhskie_dzhinsy_razmer\n",
       "14015                    muzhskaya_odezhda_tzvet\n",
       "14016                    zhenskaya_odezhda_tzvet\n",
       "14017                   zhenskaya_odezhda_razmer\n",
       "14018    zhenskaya_odezhda_svitery_tolstovki_tip\n",
       "14019                    zhenskaya_odezhda_sezon\n",
       "dtype: object"
      ]
     },
     "execution_count": 162,
     "metadata": {},
     "output_type": "execute_result"
    }
   ],
   "source": [
    "clean_properties_keys[14003: 14020]"
   ]
  },
  {
   "cell_type": "markdown",
   "id": "8d876334-f523-4ffc-b90a-e50776b5d36d",
   "metadata": {},
   "source": [
    "Столбец не похож на поиск человека, даже если перевести его транслит, так же значения словаря, откуда появились эти ключи описывают гиппотетический поиск человека, даже более детально. Из ключей появится категориальный признак."
   ]
  },
  {
   "cell_type": "code",
   "execution_count": 161,
   "id": "1b31d5f3-9d40-4749-8b7f-758c99d40efe",
   "metadata": {},
   "outputs": [
    {
     "data": {
      "text/plain": [
       "'Вечерние платья'"
      ]
     },
     "execution_count": 161,
     "metadata": {},
     "output_type": "execute_result"
    }
   ],
   "source": [
    "clean_properties_values[14003]"
   ]
  },
  {
   "cell_type": "markdown",
   "id": "7df03287-80de-48a5-9dc0-74c38f8c0dcc",
   "metadata": {},
   "source": [
    "### Итоговый вариант полезного из properties"
   ]
  },
  {
   "cell_type": "code",
   "execution_count": 197,
   "id": "d42946ce-4ed9-4a84-bbfe-e6ecc7437aef",
   "metadata": {},
   "outputs": [
    {
     "data": {
      "text/plain": [
       "26494    {'zhenskaya_odezhda_obuv_tip': 'Сапоги', 'zhen...\n",
       "dtype: object"
      ]
     },
     "execution_count": 197,
     "metadata": {},
     "output_type": "execute_result"
    }
   ],
   "source": [
    "clean_properties.sample()"
   ]
  },
  {
   "cell_type": "code",
   "execution_count": 198,
   "id": "4ca74498-0536-4520-8fc7-a6e4f4879788",
   "metadata": {},
   "outputs": [],
   "source": [
    "'''make lists of keys and values from dict for each row'''\n",
    "properties_key_lists = clean_properties.copy()\n",
    "properties_value_lists = clean_properties.copy()\n",
    "\n",
    "for i in clean_properties.index:\n",
    "    properties_key_lists[i] = list(properties_key_lists[i].keys())\n",
    "    properties_value_lists[i] = list(properties_value_lists[i].values())"
   ]
  },
  {
   "cell_type": "code",
   "execution_count": 199,
   "id": "90ccf391-e1b4-402c-a842-9f6707cb2e74",
   "metadata": {},
   "outputs": [
    {
     "data": {
      "text/plain": [
       "22177    [zhenskaya_odezhda_razmer, zhenskaya_odezhda_t...\n",
       "dtype: object"
      ]
     },
     "execution_count": 199,
     "metadata": {},
     "output_type": "execute_result"
    }
   ],
   "source": [
    "properties_key_lists.sample()"
   ]
  },
  {
   "cell_type": "code",
   "execution_count": 204,
   "id": "ff0f3570-66a1-4330-89ef-8627aa9739b5",
   "metadata": {},
   "outputs": [
    {
     "data": {
      "text/html": [
       "<div>\n",
       "<style scoped>\n",
       "    .dataframe tbody tr th:only-of-type {\n",
       "        vertical-align: middle;\n",
       "    }\n",
       "\n",
       "    .dataframe tbody tr th {\n",
       "        vertical-align: top;\n",
       "    }\n",
       "\n",
       "    .dataframe thead th {\n",
       "        text-align: right;\n",
       "    }\n",
       "</style>\n",
       "<table border=\"1\" class=\"dataframe\">\n",
       "  <thead>\n",
       "    <tr style=\"text-align: right;\">\n",
       "      <th></th>\n",
       "      <th>title</th>\n",
       "      <th>descrirption</th>\n",
       "      <th>category_id</th>\n",
       "      <th>subcategory_id</th>\n",
       "      <th>properties_keys</th>\n",
       "      <th>properties_values</th>\n",
       "    </tr>\n",
       "  </thead>\n",
       "  <tbody>\n",
       "    <tr>\n",
       "      <th>0</th>\n",
       "      <td>Юбка детская ORBY</td>\n",
       "      <td>Новая, не носили ни разу. В реале красивей чем...</td>\n",
       "      <td>22.0</td>\n",
       "      <td>2211</td>\n",
       "      <td>[detskie_razmer_rost]</td>\n",
       "      <td>[81-86 (1,5 года)]</td>\n",
       "    </tr>\n",
       "    <tr>\n",
       "      <th>1</th>\n",
       "      <td>Ботильоны</td>\n",
       "      <td>Новые,привезены из Чехии ,указан размер 40,но ...</td>\n",
       "      <td>9.0</td>\n",
       "      <td>902</td>\n",
       "      <td>[zhenskaya_odezhda_tzvet, visota_kabluka, zhen...</td>\n",
       "      <td>[Зеленый, Высокий, 40, Новое, Демисезон, Ботил...</td>\n",
       "    </tr>\n",
       "    <tr>\n",
       "      <th>2</th>\n",
       "      <td>Брюки</td>\n",
       "      <td>Размер 40-42. Брюки почти новые - не знаю как ...</td>\n",
       "      <td>9.0</td>\n",
       "      <td>906</td>\n",
       "      <td>[zhenskaya_odezhda_dzhinsy_bryuki_tip, zhenski...</td>\n",
       "      <td>[Брюки, 26]</td>\n",
       "    </tr>\n",
       "    <tr>\n",
       "      <th>3</th>\n",
       "      <td>Продам детские шапки</td>\n",
       "      <td>Продам шапки,кажда 200р.Розовая и белая проданны.</td>\n",
       "      <td>22.0</td>\n",
       "      <td>2217</td>\n",
       "      <td>[detskie_pol, detskaya_odezhda_aksessuary_tip]</td>\n",
       "      <td>[Девочкам, Головные уборы]</td>\n",
       "    </tr>\n",
       "    <tr>\n",
       "      <th>4</th>\n",
       "      <td>Блузка</td>\n",
       "      <td>Темно-синяя, 42 размер,состояние отличное,как ...</td>\n",
       "      <td>9.0</td>\n",
       "      <td>907</td>\n",
       "      <td>[zhenskaya_odezhda_tzvet, zhenskaya_odezhda_ra...</td>\n",
       "      <td>[Синий, 42-44 (S), Блузы]</td>\n",
       "    </tr>\n",
       "    <tr>\n",
       "      <th>...</th>\n",
       "      <td>...</td>\n",
       "      <td>...</td>\n",
       "      <td>...</td>\n",
       "      <td>...</td>\n",
       "      <td>...</td>\n",
       "      <td>...</td>\n",
       "    </tr>\n",
       "    <tr>\n",
       "      <th>35531</th>\n",
       "      <td>Юбка</td>\n",
       "      <td>Юбка Белая по.Турция фирма adL</td>\n",
       "      <td>9.0</td>\n",
       "      <td>904</td>\n",
       "      <td>[zhenskaya_odezhda_platya_yubki_tip, zhenskaya...</td>\n",
       "      <td>[Юбки, 40-42 (XS), Adl, Лето, Макси, Белый]</td>\n",
       "    </tr>\n",
       "    <tr>\n",
       "      <th>35532</th>\n",
       "      <td>Новый твидовый пиджак</td>\n",
       "      <td>Новый с бирками пиджак размер S в стиле Coco C...</td>\n",
       "      <td>9.0</td>\n",
       "      <td>908</td>\n",
       "      <td>[brand_zhenskii, zhenskaya_odezhda_tzvet, zhen...</td>\n",
       "      <td>[Chanel, Красный, Пиджаки, 42-44 (S)]</td>\n",
       "    </tr>\n",
       "    <tr>\n",
       "      <th>35533</th>\n",
       "      <td>Женская зимняя куртка</td>\n",
       "      <td>Женская зимняя спортивная куртка фирмы Rossiqn...</td>\n",
       "      <td>9.0</td>\n",
       "      <td>903</td>\n",
       "      <td>[zhenskaya_odezhda_razmer, zhenskaya_odezhda_s...</td>\n",
       "      <td>[48-50 (XL), Зима, Куртки]</td>\n",
       "    </tr>\n",
       "    <tr>\n",
       "      <th>35534</th>\n",
       "      <td>Новая золотая ветровка</td>\n",
       "      <td>Женская ветровка размер 44-46. Цвет приглушённ...</td>\n",
       "      <td>9.0</td>\n",
       "      <td>903</td>\n",
       "      <td>[zhenskaya_odezhda_razmer, zhenskaya_odezhda_s...</td>\n",
       "      <td>[44-46 (М), Лето, Ветровки]</td>\n",
       "    </tr>\n",
       "    <tr>\n",
       "      <th>35535</th>\n",
       "      <td>Шарф</td>\n",
       "      <td>пусто</td>\n",
       "      <td>9.0</td>\n",
       "      <td>914</td>\n",
       "      <td>[zhenskaya_odezhda_aksessuary_tip]</td>\n",
       "      <td>[Шарфы и платки]</td>\n",
       "    </tr>\n",
       "  </tbody>\n",
       "</table>\n",
       "<p>35536 rows × 6 columns</p>\n",
       "</div>"
      ],
      "text/plain": [
       "                        title  \\\n",
       "0           Юбка детская ORBY   \n",
       "1                   Ботильоны   \n",
       "2                       Брюки   \n",
       "3        Продам детские шапки   \n",
       "4                      Блузка   \n",
       "...                       ...   \n",
       "35531                    Юбка   \n",
       "35532   Новый твидовый пиджак   \n",
       "35533   Женская зимняя куртка   \n",
       "35534  Новая золотая ветровка   \n",
       "35535                    Шарф   \n",
       "\n",
       "                                            descrirption  category_id  \\\n",
       "0      Новая, не носили ни разу. В реале красивей чем...         22.0   \n",
       "1      Новые,привезены из Чехии ,указан размер 40,но ...          9.0   \n",
       "2      Размер 40-42. Брюки почти новые - не знаю как ...          9.0   \n",
       "3      Продам шапки,кажда 200р.Розовая и белая проданны.         22.0   \n",
       "4      Темно-синяя, 42 размер,состояние отличное,как ...          9.0   \n",
       "...                                                  ...          ...   \n",
       "35531                     Юбка Белая по.Турция фирма adL          9.0   \n",
       "35532  Новый с бирками пиджак размер S в стиле Coco C...          9.0   \n",
       "35533  Женская зимняя спортивная куртка фирмы Rossiqn...          9.0   \n",
       "35534  Женская ветровка размер 44-46. Цвет приглушённ...          9.0   \n",
       "35535                                              пусто          9.0   \n",
       "\n",
       "       subcategory_id                                    properties_keys  \\\n",
       "0                2211                              [detskie_razmer_rost]   \n",
       "1                 902  [zhenskaya_odezhda_tzvet, visota_kabluka, zhen...   \n",
       "2                 906  [zhenskaya_odezhda_dzhinsy_bryuki_tip, zhenski...   \n",
       "3                2217     [detskie_pol, detskaya_odezhda_aksessuary_tip]   \n",
       "4                 907  [zhenskaya_odezhda_tzvet, zhenskaya_odezhda_ra...   \n",
       "...               ...                                                ...   \n",
       "35531             904  [zhenskaya_odezhda_platya_yubki_tip, zhenskaya...   \n",
       "35532             908  [brand_zhenskii, zhenskaya_odezhda_tzvet, zhen...   \n",
       "35533             903  [zhenskaya_odezhda_razmer, zhenskaya_odezhda_s...   \n",
       "35534             903  [zhenskaya_odezhda_razmer, zhenskaya_odezhda_s...   \n",
       "35535             914                 [zhenskaya_odezhda_aksessuary_tip]   \n",
       "\n",
       "                                       properties_values  \n",
       "0                                     [81-86 (1,5 года)]  \n",
       "1      [Зеленый, Высокий, 40, Новое, Демисезон, Ботил...  \n",
       "2                                            [Брюки, 26]  \n",
       "3                             [Девочкам, Головные уборы]  \n",
       "4                              [Синий, 42-44 (S), Блузы]  \n",
       "...                                                  ...  \n",
       "35531        [Юбки, 40-42 (XS), Adl, Лето, Макси, Белый]  \n",
       "35532              [Chanel, Красный, Пиджаки, 42-44 (S)]  \n",
       "35533                         [48-50 (XL), Зима, Куртки]  \n",
       "35534                        [44-46 (М), Лето, Ветровки]  \n",
       "35535                                   [Шарфы и платки]  \n",
       "\n",
       "[35536 rows x 6 columns]"
      ]
     },
     "execution_count": 204,
     "metadata": {},
     "output_type": "execute_result"
    }
   ],
   "source": [
    "df['properties_keys'] = properties_key_lists\n",
    "df['properties_values'] = properties_value_lists\n",
    "df.drop([\"properties\"], axis=\"columns\", inplace=True)\n",
    "df"
   ]
  },
  {
   "cell_type": "markdown",
   "id": "6d678d06-751f-4c1f-a9c5-e57b777a282b",
   "metadata": {},
   "source": [
    "## title, descrirption и properties содержат разную информацию\n",
    "\n",
    "Все три колонки будут использоваться для рекомендаций"
   ]
  },
  {
   "cell_type": "code",
   "execution_count": 141,
   "id": "91c26b78-e2d2-44dc-9c94-e634c82474d6",
   "metadata": {},
   "outputs": [
    {
     "data": {
      "text/plain": [
       "'Облегающее платье Mohito'"
      ]
     },
     "execution_count": 141,
     "metadata": {},
     "output_type": "execute_result"
    }
   ],
   "source": [
    "a.title.values[0]"
   ]
  },
  {
   "cell_type": "code",
   "execution_count": 139,
   "id": "279c06a8-4db2-481d-a3e8-f77fda5bf859",
   "metadata": {},
   "outputs": [
    {
     "data": {
      "text/plain": [
       "'Без дефектов. На 42-44 российский'"
      ]
     },
     "execution_count": 139,
     "metadata": {},
     "output_type": "execute_result"
    }
   ],
   "source": [
    "a.descrirption.values[0]"
   ]
  },
  {
   "cell_type": "code",
   "execution_count": 137,
   "id": "5b932d1a-66b6-43c6-9318-097c7f0e96c2",
   "metadata": {},
   "outputs": [
    {
     "data": {
      "text/plain": [
       "\"{'brand_zhenskii': 'Mohito', 'zhenskaya_odezhda_platya_yubki_tip': 'Повседневные платья', 'zhenskaya_odezhda_platya_yubki_dlina': 'Мини', 'zhenskaya_odezhda_razmer': '42-44 (S)', 'zhenskaya_odezhda_tzvet': 'Синий'}\""
      ]
     },
     "execution_count": 137,
     "metadata": {},
     "output_type": "execute_result"
    }
   ],
   "source": [
    "a.properties.values[0]"
   ]
  },
  {
   "cell_type": "markdown",
   "id": "955a600d-35fd-428c-bc65-3c737c04c196",
   "metadata": {},
   "source": [
    "# Preprocessing"
   ]
  },
  {
   "cell_type": "code",
   "execution_count": 21,
   "id": "a4b49c62-4b25-4b26-a9bb-b4b4ff762c4a",
   "metadata": {},
   "outputs": [],
   "source": [
    "df = pd.read_csv(\"ProductsDataset.csv\")"
   ]
  },
  {
   "cell_type": "code",
   "execution_count": null,
   "id": "82fbb0dd-a53d-4dd6-8551-9f06a395be25",
   "metadata": {},
   "outputs": [],
   "source": [
    "%%time\n",
    "\n",
    "df = pd.read_csv(\"ProductsDataset.csv\")\n",
    "\n",
    "###### PREPROCESSING ##########################################################\n",
    "\n",
    "\n",
    "# fill missing values in `descrirption` with \"пусто\"\n",
    "df.descrirption =  df.loc[:, \"descrirption\"].fillna(\"пустота\") # fill \n",
    "\n",
    "#  fill strings in subcategory_id with zeros\n",
    "sub_id_list = []\n",
    "for i in df.subcategory_id:\n",
    "    try : sub_id_list.append (int(i))\n",
    "    except : sub_id_list.append(0)\n",
    "    \n",
    "df['subcategory_id'] = pd.Series(sub_id_list)\n",
    "\n",
    "\n",
    "df.reset_index(drop=True, inplace=True)                   # reseting index\n",
    "\n",
    "### to lower case and delete spaces around string ###\n",
    "df.descrirption = df.loc[:, \"descrirption\"].str.lower().str.strip()\n",
    "df.title = df.loc[:, \"title\"].str.lower().str.strip()\n",
    "df.properties = df.loc[:, \"properties\"].str.lower().str.strip()\n",
    "\n",
    "# drop beaten rows\n",
    "df = df.drop(df[df.product_id == '22'].index, axis=\"rows\")\n",
    "df = df.drop(df[df.properties.isna()].index, axis=\"rows\") # drop missing values\n",
    "\n",
    "### Properties ### + 4 sec\n",
    "#‾‾‾‾‾‾‾‾‾‾‾‾‾‾‾‾‾‾‾‾‾‾‾‾‾‾‾‾‾‾‾‾‾‾‾‾‾‾‾‾‾‾‾‾‾‾‾‾‾‾‾‾‾‾#\n",
    "ser = properties_prerpoc(df.properties)\n",
    "ser.get_series_of_dicts()\n",
    "\n",
    "properties_key_lists, properties_value_lists = ser.compress_expand_lists_to_ser() \n",
    "\n",
    "\n",
    "df[\"properties_key_lists\"] = properties_key_lists\n",
    "df[\"properties_value_lists\"] = properties_value_lists\n",
    "\n",
    "#df[\"properties_key_lists\"].fillna(\"ненаю\", inplace=True) \n",
    "#df[\"properties_value_lists\"].fillna(\"ненаю\", inplace=True)\n",
    "#\n",
    "#ser.replace_dunno_with_list(df[\"properties_key_lists\"])\n",
    "#ser.replace_dunno_with_list(df[\"properties_value_lists\"])\n",
    "#______________________________________________________#\n",
    "\n",
    "### DROPPING ###\n",
    "# drop columns\n",
    "df = df.drop([\"properties\", \"image_links\"], axis=\"columns\") # drop missing values\n",
    "df.drop([26829],axis='rows',inplace=True) # and one row                             \n",
    "\n",
    "df.reset_index(inplace=True, drop=True)\n",
    "\n",
    "### change data type to true type\n",
    "df['descrirption'] = df.loc[:,'descrirption'].astype(\"string\")\n",
    "df['title'] = df.loc[:,'title'].astype(\"string\")\n",
    "df['subcategory_id'] = df.loc[:,'subcategory_id'].astype(\"int64\")\n",
    "df['product_id'] = df.loc[:,'product_id'].astype(\"string\")\n",
    "df['category_id'] = df.loc[:,'category_id'].astype(\"int64\")\n",
    "\n",
    "###### MODEL PREPROCESSING ####################################################\n",
    "\n",
    "### Stop-words ###\n",
    "## initialization of the class with each column\n",
    "des = model_prerpoc(df.descrirption)\n",
    "title = model_prerpoc(df.title)\n",
    "properties_value = model_prerpoc(df.properties_value_lists)\n",
    "\n",
    "## get plain text of the columns without stop-words\n",
    "des_text = des.prepearing_for_lemmatization() \n",
    "title_text = title.prepearing_for_lemmatization()\n",
    "properties_value_text = properties_value.prepearing_for_lemmatization()\n",
    "\n",
    "### Lemmatization ###\n",
    "df.descrirption =  des.lemmatization(des_text)\n",
    "df.title = title.lemmatization(title_text)\n",
    "df.properties_value_lists = properties_value.lemmatization(properties_value_text)\n",
    "\n",
    "# becouse of list to string tansformation dtype of column should change\n",
    "df['properties_value_lists'] = df.loc[:,'properties_value_lists'].astype(\"string\")"
   ]
  },
  {
   "cell_type": "code",
   "execution_count": null,
   "id": "7b0bd47e-16c5-4f3d-a0f4-aa49db3abb92",
   "metadata": {},
   "outputs": [],
   "source": [
    "df.info()"
   ]
  },
  {
   "cell_type": "markdown",
   "id": "7c0b72cb-1a13-4f83-92c6-ccc62e86130d",
   "metadata": {},
   "source": [
    "## Model Preprocessing"
   ]
  },
  {
   "cell_type": "markdown",
   "id": "6645abad-b8ac-4243-833a-978a290f2629",
   "metadata": {
    "tags": []
   },
   "source": [
    "### Я знаю стоп-слово! \n",
    "А \"не\" - не считается"
   ]
  },
  {
   "cell_type": "markdown",
   "id": "f0b1f569-03fd-406a-8009-6b2189f1fce2",
   "metadata": {},
   "source": [
    "```python\n",
    "print(\"До удаления стоп слов:\\n\", union_string[:100])\n",
    "print(\"После:\\n\", text_for_mystem[:100])\n",
    "```\n",
    "\n",
    "\\>>>\n",
    "```\n",
    "До удаления стоп слов:\n",
    " новая, не носили ни разу. в реале красивей чем на фото.`<>`новые,привезены из чехии ,указан размер 4\n",
    "После:\n",
    " новая  не носили разу. реале красивей на фото.`<>`новые привезены чехии  указан размер 40 но маломер\n",
    "```"
   ]
  },
  {
   "cell_type": "code",
   "execution_count": 4,
   "id": "5d03d3ba-4c78-433f-9a8d-cfde2a947fff",
   "metadata": {},
   "outputs": [],
   "source": [
    "## initialization of the class with each column\n",
    "des = model_prerpoc(df.descrirption)\n",
    "title = model_prerpoc(df.title)\n",
    "properties_value = model_prerpoc(df.properties_value_lists)\n",
    "\n",
    "## get plain text of the columns without stop-words\n",
    "des_text = des.prepearing_for_lemmatization() \n",
    "title_text = title.prepearing_for_lemmatization()\n",
    "properties_value_text = properties_value.prepearing_for_lemmatization()"
   ]
  },
  {
   "cell_type": "code",
   "execution_count": 94,
   "id": "d2ec0e2b-6e00-4834-82b6-9b438585e0d2",
   "metadata": {},
   "outputs": [
    {
     "name": "stdout",
     "output_type": "stream",
     "text": [
      "<class 'pandas.core.frame.DataFrame'>\n",
      "RangeIndex: 35533 entries, 0 to 35532\n",
      "Data columns (total 7 columns):\n",
      " #   Column                  Non-Null Count  Dtype \n",
      "---  ------                  --------------  ----- \n",
      " 0   title                   35533 non-null  string\n",
      " 1   descrirption            35533 non-null  string\n",
      " 2   product_id              35533 non-null  string\n",
      " 3   category_id             35533 non-null  int64 \n",
      " 4   subcategory_id          35533 non-null  int64 \n",
      " 5   properties_key_lists    35533 non-null  object\n",
      " 6   properties_value_lists  35533 non-null  object\n",
      "dtypes: int64(2), object(2), string(3)\n",
      "memory usage: 1.9+ MB\n"
     ]
    }
   ],
   "source": [
    "df.info()"
   ]
  },
  {
   "cell_type": "markdown",
   "id": "94f4ad6f-9fc8-4e8b-88ed-1027e18ab8d1",
   "metadata": {},
   "source": [
    "### Лемматизация"
   ]
  },
  {
   "cell_type": "code",
   "execution_count": 5,
   "id": "f88754d2-991b-4432-96b3-9e038877c156",
   "metadata": {},
   "outputs": [
    {
     "name": "stdout",
     "output_type": "stream",
     "text": [
      "CPU times: total: 719 ms\n",
      "Wall time: 43.2 s\n"
     ]
    }
   ],
   "source": [
    "%%time\n",
    "df.descrirption =  des.lemmatization(des_text)\n",
    "df.title = title.lemmatization(title_text)\n",
    "df.properties_value_lists = properties_value.lemmatization(properties_value_text)\n",
    "\n",
    "# becouse of list to string tansformation dtype of column should change\n",
    "df['properties_value_lists'] = df.loc[:,'properties_value_lists'].astype(\"string\")"
   ]
  },
  {
   "cell_type": "code",
   "execution_count": 96,
   "id": "75dfcb76-92fc-4326-9a00-62f8b5ae583f",
   "metadata": {},
   "outputs": [
    {
     "name": "stdout",
     "output_type": "stream",
     "text": [
      "<class 'pandas.core.frame.DataFrame'>\n",
      "RangeIndex: 35533 entries, 0 to 35532\n",
      "Data columns (total 7 columns):\n",
      " #   Column                  Non-Null Count  Dtype \n",
      "---  ------                  --------------  ----- \n",
      " 0   title                   35533 non-null  object\n",
      " 1   descrirption            35533 non-null  object\n",
      " 2   product_id              35533 non-null  string\n",
      " 3   category_id             35533 non-null  int64 \n",
      " 4   subcategory_id          35533 non-null  int64 \n",
      " 5   properties_key_lists    35533 non-null  object\n",
      " 6   properties_value_lists  35533 non-null  string\n",
      "dtypes: int64(2), object(3), string(2)\n",
      "memory usage: 1.9+ MB\n"
     ]
    }
   ],
   "source": [
    "df.info()"
   ]
  },
  {
   "cell_type": "code",
   "execution_count": 97,
   "id": "09f301aa-34bb-4611-9d4e-5fd8e7a746e4",
   "metadata": {},
   "outputs": [
    {
     "data": {
      "text/html": [
       "<div>\n",
       "<style scoped>\n",
       "    .dataframe tbody tr th:only-of-type {\n",
       "        vertical-align: middle;\n",
       "    }\n",
       "\n",
       "    .dataframe tbody tr th {\n",
       "        vertical-align: top;\n",
       "    }\n",
       "\n",
       "    .dataframe thead th {\n",
       "        text-align: right;\n",
       "    }\n",
       "</style>\n",
       "<table border=\"1\" class=\"dataframe\">\n",
       "  <thead>\n",
       "    <tr style=\"text-align: right;\">\n",
       "      <th></th>\n",
       "      <th>title</th>\n",
       "      <th>descrirption</th>\n",
       "      <th>product_id</th>\n",
       "      <th>category_id</th>\n",
       "      <th>subcategory_id</th>\n",
       "      <th>properties_key_lists</th>\n",
       "      <th>properties_value_lists</th>\n",
       "    </tr>\n",
       "  </thead>\n",
       "  <tbody>\n",
       "    <tr>\n",
       "      <th>24637</th>\n",
       "      <td>мутоновый шубка облегчать .</td>\n",
       "      <td>мех хороший качество . размер 44 - 46 ( нужно...</td>\n",
       "      <td>5b9b3fc562e1c60861430316</td>\n",
       "      <td>9</td>\n",
       "      <td>903</td>\n",
       "      <td>[]</td>\n",
       "      <td></td>\n",
       "    </tr>\n",
       "  </tbody>\n",
       "</table>\n",
       "</div>"
      ],
      "text/plain": [
       "                               title  \\\n",
       "24637   мутоновый шубка облегчать .    \n",
       "\n",
       "                                            descrirption  \\\n",
       "24637   мех хороший качество . размер 44 - 46 ( нужно...   \n",
       "\n",
       "                     product_id  category_id  subcategory_id  \\\n",
       "24637  5b9b3fc562e1c60861430316            9             903   \n",
       "\n",
       "      properties_key_lists properties_value_lists  \n",
       "24637                   []                         "
      ]
     },
     "execution_count": 97,
     "metadata": {},
     "output_type": "execute_result"
    }
   ],
   "source": [
    "df.sample()"
   ]
  },
  {
   "cell_type": "markdown",
   "id": "0a4cdd1d-c9ce-45a6-b339-b68c2ff8a7e6",
   "metadata": {},
   "source": [
    "\n",
    "\n",
    "```python\n",
    "m = Mystem()\n",
    "lemmas = m.lemmatize(text_for_mystem)\n",
    "```\n",
    "\\>>>\n",
    "`Более получаса прогруза, + 10% к работе процессора`"
   ]
  },
  {
   "cell_type": "markdown",
   "id": "60757f92-e55f-4b80-9524-d63de5f3e8a0",
   "metadata": {},
   "source": [
    "### Векторизация\n",
    "**Мешок слов**\n",
    "\n",
    "Для мешка слов нужно объединить текстовые колонки в одну"
   ]
  },
  {
   "cell_type": "code",
   "execution_count": 7,
   "id": "9930f601-b226-42aa-91e0-31f5426a22df",
   "metadata": {},
   "outputs": [
    {
     "name": "stderr",
     "output_type": "stream",
     "text": [
      "C:\\Users\\zetet\\AppData\\Local\\Temp\\ipykernel_3448\\2701956857.py:2: FutureWarning: The default value of regex will change from True to False in a future version. In addition, single character regular expressions will *not* be treated as literal strings when regex=True.\n",
      "  df['text'] = df.text.str.replace(\".\", \"\")\n"
     ]
    }
   ],
   "source": [
    "df['text'] = df.title + df.descrirption + df.properties_value_lists\n",
    "df['text'] = df.text.str.replace(\".\", \"\")\n",
    "df['text'] = df.text.str.strip()"
   ]
  },
  {
   "cell_type": "code",
   "execution_count": 8,
   "id": "0e62c8df-9edd-4a4d-9e42-189ebcb445fe",
   "metadata": {},
   "outputs": [],
   "source": [
    "count_vectorizer = CountVectorizer()\n",
    "\n",
    "# Создаем the Bag-of-Words модель\n",
    "bag_of_words = count_vectorizer.fit_transform(df.text)"
   ]
  },
  {
   "cell_type": "code",
   "execution_count": 238,
   "id": "87b0c947-0e51-4d51-9fa1-a4620dbd5f1a",
   "metadata": {},
   "outputs": [
    {
     "data": {
      "text/plain": [
       "(35533, 27782)"
      ]
     },
     "execution_count": 248,
     "metadata": {},
     "output_type": "execute_result"
    }
   ],
   "source": [
    "bag_of_words.shape"
   ]
  },
  {
   "cell_type": "markdown",
   "id": "1aee817e-11d5-4020-a19c-1fc31ffd9919",
   "metadata": {},
   "source": [
    "А с точки зрения KNN лучшее количество кластеров не 76, как категорий в датасете, а 19\n",
    "\n",
    "результат это accuracy"
   ]
  },
  {
   "cell_type": "code",
   "execution_count": null,
   "id": "46fb0f2a-65cf-4045-b1ca-467389b14e9b",
   "metadata": {},
   "outputs": [
    {
     "data": {
      "text/plain": [
       "0.6207789284106259"
      ]
     },
     "execution_count": 170,
     "metadata": {},
     "output_type": "execute_result"
    }
   ],
   "source": [
    "from sklearn.neighbors import KNeighborsClassifier\n",
    "neigh = KNeighborsClassifier(n_neighbors=76)\n",
    "\n",
    "train_and_show_model(neigh, bag_of_words, valid_column)"
   ]
  },
  {
   "cell_type": "code",
   "execution_count": null,
   "id": "d79806fc-ab26-4973-8788-6e71f9ee7708",
   "metadata": {},
   "outputs": [
    {
     "data": {
      "text/plain": [
       "0.6819000450247636"
      ]
     },
     "execution_count": 259,
     "metadata": {},
     "output_type": "execute_result"
    }
   ],
   "source": [
    "train_and_show_model(KNeighborsClassifier(n_neighbors=19),\n",
    "                     bag_of_words,\n",
    "                     valid_column)"
   ]
  },
  {
   "cell_type": "markdown",
   "id": "ea70d5be-b2e7-4fc7-90db-a7d7abffdfab",
   "metadata": {
    "tags": []
   },
   "source": [
    "# Telegram чат Пикабу\n",
    "Для лучшей классификации датасет был обогащённ сообщениями из телеграм канала.\n",
    "\n",
    "[Источник](https://www.kaggle.com/datasets/dolfik/russian-telegram-chats-history). Внутри датасета одноимённый JSON файл"
   ]
  },
  {
   "cell_type": "code",
   "execution_count": 71,
   "id": "6ae74b64-de30-426b-b22b-30c323120e5e",
   "metadata": {},
   "outputs": [
    {
     "data": {
      "text/html": [
       "<div>\n",
       "<style scoped>\n",
       "    .dataframe tbody tr th:only-of-type {\n",
       "        vertical-align: middle;\n",
       "    }\n",
       "\n",
       "    .dataframe tbody tr th {\n",
       "        vertical-align: top;\n",
       "    }\n",
       "\n",
       "    .dataframe thead th {\n",
       "        text-align: right;\n",
       "    }\n",
       "</style>\n",
       "<table border=\"1\" class=\"dataframe\">\n",
       "  <thead>\n",
       "    <tr style=\"text-align: right;\">\n",
       "      <th></th>\n",
       "      <th>message_id</th>\n",
       "      <th>date</th>\n",
       "      <th>reply_message_id</th>\n",
       "      <th>user_id</th>\n",
       "      <th>text</th>\n",
       "    </tr>\n",
       "  </thead>\n",
       "  <tbody>\n",
       "    <tr>\n",
       "      <th>0</th>\n",
       "      <td>4</td>\n",
       "      <td>2017-03-31 08:13:25</td>\n",
       "      <td>NaN</td>\n",
       "      <td>279800907</td>\n",
       "      <td>А как тебя в админы добавить?</td>\n",
       "    </tr>\n",
       "    <tr>\n",
       "      <th>1</th>\n",
       "      <td>5</td>\n",
       "      <td>2017-03-31 08:13:36</td>\n",
       "      <td>NaN</td>\n",
       "      <td>689580</td>\n",
       "      <td>с мобилы раздел админы есть</td>\n",
       "    </tr>\n",
       "    <tr>\n",
       "      <th>2</th>\n",
       "      <td>6</td>\n",
       "      <td>2017-03-31 08:13:47</td>\n",
       "      <td>NaN</td>\n",
       "      <td>279800907</td>\n",
       "      <td>Обязательно в контактах должен быть?</td>\n",
       "    </tr>\n",
       "    <tr>\n",
       "      <th>3</th>\n",
       "      <td>7</td>\n",
       "      <td>2017-03-31 08:13:51</td>\n",
       "      <td>NaN</td>\n",
       "      <td>689580</td>\n",
       "      <td>а, или долго держи на пользователе</td>\n",
       "    </tr>\n",
       "    <tr>\n",
       "      <th>4</th>\n",
       "      <td>8</td>\n",
       "      <td>2017-03-31 08:13:58</td>\n",
       "      <td>NaN</td>\n",
       "      <td>689580</td>\n",
       "      <td>не, в группе внутри</td>\n",
       "    </tr>\n",
       "    <tr>\n",
       "      <th>...</th>\n",
       "      <td>...</td>\n",
       "      <td>...</td>\n",
       "      <td>...</td>\n",
       "      <td>...</td>\n",
       "      <td>...</td>\n",
       "    </tr>\n",
       "    <tr>\n",
       "      <th>526796</th>\n",
       "      <td>582144</td>\n",
       "      <td>2018-11-25 00:49:24</td>\n",
       "      <td>582143.0</td>\n",
       "      <td>481726002</td>\n",
       "      <td>что за праздник?</td>\n",
       "    </tr>\n",
       "    <tr>\n",
       "      <th>526797</th>\n",
       "      <td>582145</td>\n",
       "      <td>2018-11-25 00:51:43</td>\n",
       "      <td>582144.0</td>\n",
       "      <td>508128103</td>\n",
       "      <td>День матери сегодня</td>\n",
       "    </tr>\n",
       "    <tr>\n",
       "      <th>526798</th>\n",
       "      <td>582146</td>\n",
       "      <td>2018-11-25 00:52:26</td>\n",
       "      <td>582145.0</td>\n",
       "      <td>481726002</td>\n",
       "      <td>эм ...</td>\n",
       "    </tr>\n",
       "    <tr>\n",
       "      <th>526799</th>\n",
       "      <td>582147</td>\n",
       "      <td>2018-11-25 00:52:42</td>\n",
       "      <td>NaN</td>\n",
       "      <td>508128103</td>\n",
       "      <td>Последнее воскресенье ноября)</td>\n",
       "    </tr>\n",
       "    <tr>\n",
       "      <th>526800</th>\n",
       "      <td>582148</td>\n",
       "      <td>2018-11-25 00:52:58</td>\n",
       "      <td>NaN</td>\n",
       "      <td>481726002</td>\n",
       "      <td>слава богам я не мать и не собираюсь) так что ...</td>\n",
       "    </tr>\n",
       "  </tbody>\n",
       "</table>\n",
       "<p>526801 rows × 5 columns</p>\n",
       "</div>"
      ],
      "text/plain": [
       "        message_id                date  reply_message_id    user_id  \\\n",
       "0                4 2017-03-31 08:13:25               NaN  279800907   \n",
       "1                5 2017-03-31 08:13:36               NaN     689580   \n",
       "2                6 2017-03-31 08:13:47               NaN  279800907   \n",
       "3                7 2017-03-31 08:13:51               NaN     689580   \n",
       "4                8 2017-03-31 08:13:58               NaN     689580   \n",
       "...            ...                 ...               ...        ...   \n",
       "526796      582144 2018-11-25 00:49:24          582143.0  481726002   \n",
       "526797      582145 2018-11-25 00:51:43          582144.0  508128103   \n",
       "526798      582146 2018-11-25 00:52:26          582145.0  481726002   \n",
       "526799      582147 2018-11-25 00:52:42               NaN  508128103   \n",
       "526800      582148 2018-11-25 00:52:58               NaN  481726002   \n",
       "\n",
       "                                                     text  \n",
       "0                           А как тебя в админы добавить?  \n",
       "1                             с мобилы раздел админы есть  \n",
       "2                    Обязательно в контактах должен быть?  \n",
       "3                      а, или долго держи на пользователе  \n",
       "4                                     не, в группе внутри  \n",
       "...                                                   ...  \n",
       "526796                                   что за праздник?  \n",
       "526797                                День матери сегодня  \n",
       "526798                                             эм ...  \n",
       "526799                      Последнее воскресенье ноября)  \n",
       "526800  слава богам я не мать и не собираюсь) так что ...  \n",
       "\n",
       "[526801 rows x 5 columns]"
      ]
     },
     "execution_count": 71,
     "metadata": {},
     "output_type": "execute_result"
    }
   ],
   "source": [
    "chat = pd.read_json(\"pikabu_chat.json\")\n",
    "chat"
   ]
  },
  {
   "cell_type": "markdown",
   "id": "f09eb58c-6305-4dd5-bb96-5ed553cf6853",
   "metadata": {},
   "source": [
    "Строк кратно больше, чем в товарном датасете, но, возможно это и не плохо. Стоить проверить, будет ли хорошо работать классификатор с таким перевесом. Из этого датасета понадобится только столбец `text`"
   ]
  },
  {
   "cell_type": "code",
   "execution_count": null,
   "id": "61d78d89-5331-4434-8c05-7db20430721b",
   "metadata": {},
   "outputs": [],
   "source": [
    "print(\"Количество пропусков в колонке:\", len(chat[chat.text.isna()]))"
   ]
  },
  {
   "cell_type": "markdown",
   "id": "2ce3ed26-4d65-42d7-9d99-b501dc14de27",
   "metadata": {},
   "source": [
    "Пропусков нет, обработка не будет отличаться от сделанной выше. И лежит в функции `get_enriched_df`, в которой так же выполненно и слияние датасета с товарным."
   ]
  },
  {
   "cell_type": "markdown",
   "id": "c29442c3-e7dd-4776-8aaf-fe8ac9bca434",
   "metadata": {},
   "source": [
    "**По поводу перевеса**. Ниже результаты работы бинарного классификатора, который учился определять, товарная строка или разговорная.\n",
    "\n",
    "Тренировочная выборка - 25%\n",
    "\n",
    "`count_vectorizer = CountVectorizer()` - мешок слов, построенный на обогащенном датасете\n",
    "\n",
    "`linear_model.LogisticRegression(max_iter = 5000)` - логистическая регрессия для бинарной классификации этого датасета\n"
   ]
  },
  {
   "cell_type": "markdown",
   "id": "73cfa425-7907-4b4e-b41b-1ebfc299a19c",
   "metadata": {},
   "source": [
    "**accuracy**\n",
    "- 0.9953960571361115 - 100к сообщений,\n",
    "- 0.9960732561761112 - 200к сообщений\n",
    "- 0.9922371866816311 - 50к сообщений\n",
    "\n",
    "Однако боевые условия это другое и это общий процент удачных предсказаний. То есть если классификатор будет учиться определять 1 экземпляр из 999 других, то даже если он его определит неправильно, то accuracy будет 99,9."
   ]
  },
  {
   "cell_type": "markdown",
   "id": "f2408681-e375-44fb-9128-b7254275bb6e",
   "metadata": {},
   "source": [
    "# Компоненты алгоритма"
   ]
  },
  {
   "cell_type": "markdown",
   "id": "9114f998-cb6d-43b7-af9f-2930203831bb",
   "metadata": {},
   "source": [
    "## Preprocessing"
   ]
  },
  {
   "cell_type": "code",
   "execution_count": 3,
   "id": "7415a0cb-1c69-4c4d-8d73-6ece9289b90e",
   "metadata": {},
   "outputs": [
    {
     "name": "stdout",
     "output_type": "stream",
     "text": [
      "CPU times: total: 5.11 s\n",
      "Wall time: 5.11 s\n"
     ]
    }
   ],
   "source": [
    "%%time\n",
    "\n",
    "df = pd.read_csv(\"ProductsDataset.csv\")\n",
    "\n",
    "###### PREPROCESSING ##########################################################\n",
    "\n",
    "\n",
    "# fill missing values in `descrirption` with \"пусто\"\n",
    "df.descrirption =  df.loc[:, \"descrirption\"].fillna(\"пустота\") # fill \n",
    "\n",
    "#  fill strings in subcategory_id with zeros\n",
    "sub_id_list = []\n",
    "for i in df.subcategory_id:\n",
    "    try : sub_id_list.append (int(i))\n",
    "    except : sub_id_list.append(0)\n",
    "    \n",
    "df['subcategory_id'] = pd.Series(sub_id_list)\n",
    "\n",
    "\n",
    "df.reset_index(drop=True, inplace=True)                   # reseting index\n",
    "\n",
    "### to lower case and delete spaces around string ###\n",
    "df[\"descrirption\"] = df.loc[:, \"descrirption\"].str.lower().str.strip()\n",
    "df[\"title\"] = df.loc[:, \"title\"].str.lower().str.strip()\n",
    "df[\"properties\"] = df.loc[:, \"properties\"].str.lower().str.strip()\n",
    "\n",
    "# drop beaten rows\n",
    "df = df.drop(df[df.product_id == '22'].index, axis=\"rows\")\n",
    "df = df.drop(df[df.properties.isna()].index, axis=\"rows\") # drop missing values\n",
    "\n",
    "### Properties ### + 4 sec\n",
    "#‾‾‾‾‾‾‾‾‾‾‾‾‾‾‾‾‾‾‾‾‾‾‾‾‾‾‾‾‾‾‾‾‾‾‾‾‾‾‾‾‾‾‾‾‾‾‾‾‾‾‾‾‾‾#\n",
    "ser = properties_prerpoc(df.properties)\n",
    "ser.get_series_of_dicts()\n",
    "\n",
    "properties_key_lists, properties_value_lists = ser.compress_expand_lists_to_ser() \n",
    "\n",
    "\n",
    "df[\"properties_key_lists\"] = properties_key_lists\n",
    "df[\"properties_value_lists\"] = properties_value_lists\n",
    "\n",
    "#______________________________________________________#\n",
    "\n",
    "### DROPPING ###\n",
    "# drop columns\n",
    "df = df.drop([\"properties\", \"image_links\"], axis=\"columns\") # drop missing values\n",
    "df.drop([26829],axis='rows',inplace=True) # and one row                             \n",
    "\n",
    "df.reset_index(inplace=True, drop=True)\n",
    "\n",
    "### change data type to true type\n",
    "df['descrirption'] = df.loc[:,'descrirption'].astype(\"string\")\n",
    "df['title'] = df.loc[:,'title'].astype(\"string\")\n",
    "df['subcategory_id'] = df.loc[:,'subcategory_id'].astype(\"int64\")\n",
    "df['product_id'] = df.loc[:,'product_id'].astype(\"string\")\n",
    "df['category_id'] = df.loc[:,'category_id'].astype(\"int64\")"
   ]
  },
  {
   "cell_type": "code",
   "execution_count": 4,
   "id": "30587b1b-d5bb-4545-b503-6b8a1f7a217e",
   "metadata": {},
   "outputs": [
    {
     "name": "stderr",
     "output_type": "stream",
     "text": [
      "C:\\Users\\zetet\\AppData\\Local\\Temp\\ipykernel_9752\\3845232426.py:24: FutureWarning: The default value of regex will change from True to False in a future version. In addition, single character regular expressions will *not* be treated as literal strings when regex=True.\n",
      "  df['text'] = df.text.str.replace(\".\", \"\")\n"
     ]
    }
   ],
   "source": [
    "###### MODEL PREPROCESSING ####################################################\n",
    "\n",
    "### Stop-words ###\n",
    "## initialization of the class with each column\n",
    "des = model_prerpoc(df.descrirption)\n",
    "title = model_prerpoc(df.title)\n",
    "properties_value = model_prerpoc(df.properties_value_lists)\n",
    "\n",
    "## get plain text of the columns without stop-words\n",
    "des_text = des.prepearing_for_lemmatization() \n",
    "title_text = title.prepearing_for_lemmatization()\n",
    "properties_value_text = properties_value.prepearing_for_lemmatization()\n",
    "\n",
    "### Lemmatization ###\n",
    "df.descrirption =  des.lemmatization(des_text)\n",
    "df.title = title.lemmatization(title_text)\n",
    "df.properties_value_lists = properties_value.lemmatization(properties_value_text)\n",
    "\n",
    "# becouse of list to string tansformation dtype of column should change\n",
    "df['properties_value_lists'] = df.loc[:,'properties_value_lists'].astype(\"string\")\n",
    "\n",
    "### make union column for every prepared string value #########################\n",
    "df['text'] = df.title + df.descrirption + df.properties_value_lists\n",
    "df['text'] = df.text.str.replace(\".\", \"\")\n",
    "df['text'] = df.text.str.strip()"
   ]
  },
  {
   "cell_type": "code",
   "execution_count": 5,
   "id": "2a746e0f-93ca-48cf-a700-85debfad00e8",
   "metadata": {},
   "outputs": [
    {
     "data": {
      "text/html": [
       "<div>\n",
       "<style scoped>\n",
       "    .dataframe tbody tr th:only-of-type {\n",
       "        vertical-align: middle;\n",
       "    }\n",
       "\n",
       "    .dataframe tbody tr th {\n",
       "        vertical-align: top;\n",
       "    }\n",
       "\n",
       "    .dataframe thead th {\n",
       "        text-align: right;\n",
       "    }\n",
       "</style>\n",
       "<table border=\"1\" class=\"dataframe\">\n",
       "  <thead>\n",
       "    <tr style=\"text-align: right;\">\n",
       "      <th></th>\n",
       "      <th>title</th>\n",
       "      <th>descrirption</th>\n",
       "      <th>product_id</th>\n",
       "      <th>category_id</th>\n",
       "      <th>subcategory_id</th>\n",
       "      <th>properties_key_lists</th>\n",
       "      <th>properties_value_lists</th>\n",
       "      <th>text</th>\n",
       "    </tr>\n",
       "  </thead>\n",
       "  <tbody>\n",
       "    <tr>\n",
       "      <th>0</th>\n",
       "      <td>юбка детский orby</td>\n",
       "      <td>новый неносить раз реал красиво на фото</td>\n",
       "      <td>58e3cfe6132ca50e053f5f82</td>\n",
       "      <td>22</td>\n",
       "      <td>2211</td>\n",
       "      <td>[detskie_razmer_rost]</td>\n",
       "      <td>81 - 86 1 5 год</td>\n",
       "      <td>юбка детский orby новый неносить раз реал крас...</td>\n",
       "    </tr>\n",
       "    <tr>\n",
       "      <th>1</th>\n",
       "      <td>ботильон</td>\n",
       "      <td>новый привозить чехия указывать размер 40 но ...</td>\n",
       "      <td>5667531b2b7f8d127d838c34</td>\n",
       "      <td>9</td>\n",
       "      <td>902</td>\n",
       "      <td>[zhenskaya_odezhda_tzvet, visota_kabluka, zhen...</td>\n",
       "      <td>зеленый высокий 40 новый демисезон ботильон к...</td>\n",
       "      <td>ботильон  новый привозить чехия указывать разм...</td>\n",
       "    </tr>\n",
       "    <tr>\n",
       "      <th>2</th>\n",
       "      <td>брюки</td>\n",
       "      <td>размер 40 - 42 брюки новый - незнать мерить п...</td>\n",
       "      <td>59534826aaab284cba337e06</td>\n",
       "      <td>9</td>\n",
       "      <td>906</td>\n",
       "      <td>[zhenskaya_odezhda_dzhinsy_bryuki_tip, zhenski...</td>\n",
       "      <td>брюки 26</td>\n",
       "      <td>брюки  размер 40 - 42 брюки новый - незнать ме...</td>\n",
       "    </tr>\n",
       "    <tr>\n",
       "      <th>3</th>\n",
       "      <td>продавать детский шапка</td>\n",
       "      <td>продавать шапка кажда 200р розовый белый прод...</td>\n",
       "      <td>57de544096ad842e26de8027</td>\n",
       "      <td>22</td>\n",
       "      <td>2217</td>\n",
       "      <td>[detskie_pol, detskaya_odezhda_aksessuary_tip]</td>\n",
       "      <td>девочка головной убор</td>\n",
       "      <td>продавать детский шапка  продавать шапка кажда...</td>\n",
       "    </tr>\n",
       "    <tr>\n",
       "      <th>4</th>\n",
       "      <td>блузка</td>\n",
       "      <td>темно-синий 42 размер состояние отличный как ...</td>\n",
       "      <td>5ad4d2626c86cb168d212022</td>\n",
       "      <td>9</td>\n",
       "      <td>907</td>\n",
       "      <td>[zhenskaya_odezhda_tzvet, zhenskaya_odezhda_ra...</td>\n",
       "      <td>синий 42 - 44 s блуза</td>\n",
       "      <td>блузка  темно-синий 42 размер состояние отличн...</td>\n",
       "    </tr>\n",
       "    <tr>\n",
       "      <th>...</th>\n",
       "      <td>...</td>\n",
       "      <td>...</td>\n",
       "      <td>...</td>\n",
       "      <td>...</td>\n",
       "      <td>...</td>\n",
       "      <td>...</td>\n",
       "      <td>...</td>\n",
       "      <td>...</td>\n",
       "    </tr>\n",
       "    <tr>\n",
       "      <th>35528</th>\n",
       "      <td>юбка</td>\n",
       "      <td>юбка белый по турция фирма adl</td>\n",
       "      <td>5b5f181c62e1c6616a7f6472</td>\n",
       "      <td>9</td>\n",
       "      <td>904</td>\n",
       "      <td>[zhenskaya_odezhda_platya_yubki_tip, zhenskaya...</td>\n",
       "      <td>юбка 40 - 42 xs adl лето макси белый</td>\n",
       "      <td>юбка  юбка белый по турция фирма adl  юбка 40 ...</td>\n",
       "    </tr>\n",
       "    <tr>\n",
       "      <th>35529</th>\n",
       "      <td>новый твидовый пиджак</td>\n",
       "      <td>новый бирка пиджак размер s стиль coco chanel</td>\n",
       "      <td>5bd6c8b29e94ba033d31f8d0</td>\n",
       "      <td>9</td>\n",
       "      <td>908</td>\n",
       "      <td>[brand_zhenskii, zhenskaya_odezhda_tzvet, zhen...</td>\n",
       "      <td>chanel красный пиджак 42 - 44 s</td>\n",
       "      <td>новый твидовый пиджак  новый бирка пиджак разм...</td>\n",
       "    </tr>\n",
       "    <tr>\n",
       "      <th>35530</th>\n",
       "      <td>женский зимний куртка</td>\n",
       "      <td>женский зимний спортивный куртка фирма rossiq...</td>\n",
       "      <td>5bd6c8bc074b3e1c056f69b2</td>\n",
       "      <td>9</td>\n",
       "      <td>903</td>\n",
       "      <td>[zhenskaya_odezhda_razmer, zhenskaya_odezhda_s...</td>\n",
       "      <td>48 - 50 xl зима куртка</td>\n",
       "      <td>женский зимний куртка  женский зимний спортивн...</td>\n",
       "    </tr>\n",
       "    <tr>\n",
       "      <th>35531</th>\n",
       "      <td>новый золотой ветровка</td>\n",
       "      <td>женский ветровка размер 44 - 46 цвет приглуше...</td>\n",
       "      <td>5bd6c8fb2138bbc55745362c</td>\n",
       "      <td>9</td>\n",
       "      <td>903</td>\n",
       "      <td>[zhenskaya_odezhda_razmer, zhenskaya_odezhda_s...</td>\n",
       "      <td>44 - 46 м лето ветровка</td>\n",
       "      <td>новый золотой ветровка  женский ветровка разме...</td>\n",
       "    </tr>\n",
       "    <tr>\n",
       "      <th>35532</th>\n",
       "      <td>шарф \\n</td>\n",
       "      <td>пустота \\n</td>\n",
       "      <td>5bd6c8fbaaab283b79142a1f</td>\n",
       "      <td>9</td>\n",
       "      <td>914</td>\n",
       "      <td>[zhenskaya_odezhda_aksessuary_tip]</td>\n",
       "      <td>шарф и платок</td>\n",
       "      <td>шарф \n",
       " пустота \n",
       " шарф и платок</td>\n",
       "    </tr>\n",
       "  </tbody>\n",
       "</table>\n",
       "<p>35533 rows × 8 columns</p>\n",
       "</div>"
      ],
      "text/plain": [
       "                           title  \\\n",
       "0             юбка детский orby    \n",
       "1                      ботильон    \n",
       "2                         брюки    \n",
       "3       продавать детский шапка    \n",
       "4                        блузка    \n",
       "...                          ...   \n",
       "35528                      юбка    \n",
       "35529     новый твидовый пиджак    \n",
       "35530     женский зимний куртка    \n",
       "35531    новый золотой ветровка    \n",
       "35532                    шарф \\n   \n",
       "\n",
       "                                            descrirption  \\\n",
       "0               новый неносить раз реал красиво на фото    \n",
       "1       новый привозить чехия указывать размер 40 но ...   \n",
       "2       размер 40 - 42 брюки новый - незнать мерить п...   \n",
       "3       продавать шапка кажда 200р розовый белый прод...   \n",
       "4       темно-синий 42 размер состояние отличный как ...   \n",
       "...                                                  ...   \n",
       "35528                    юбка белый по турция фирма adl    \n",
       "35529     новый бирка пиджак размер s стиль coco chanel    \n",
       "35530   женский зимний спортивный куртка фирма rossiq...   \n",
       "35531   женский ветровка размер 44 - 46 цвет приглуше...   \n",
       "35532                                         пустота \\n   \n",
       "\n",
       "                     product_id  category_id  subcategory_id  \\\n",
       "0      58e3cfe6132ca50e053f5f82           22            2211   \n",
       "1      5667531b2b7f8d127d838c34            9             902   \n",
       "2      59534826aaab284cba337e06            9             906   \n",
       "3      57de544096ad842e26de8027           22            2217   \n",
       "4      5ad4d2626c86cb168d212022            9             907   \n",
       "...                         ...          ...             ...   \n",
       "35528  5b5f181c62e1c6616a7f6472            9             904   \n",
       "35529  5bd6c8b29e94ba033d31f8d0            9             908   \n",
       "35530  5bd6c8bc074b3e1c056f69b2            9             903   \n",
       "35531  5bd6c8fb2138bbc55745362c            9             903   \n",
       "35532  5bd6c8fbaaab283b79142a1f            9             914   \n",
       "\n",
       "                                    properties_key_lists  \\\n",
       "0                                  [detskie_razmer_rost]   \n",
       "1      [zhenskaya_odezhda_tzvet, visota_kabluka, zhen...   \n",
       "2      [zhenskaya_odezhda_dzhinsy_bryuki_tip, zhenski...   \n",
       "3         [detskie_pol, detskaya_odezhda_aksessuary_tip]   \n",
       "4      [zhenskaya_odezhda_tzvet, zhenskaya_odezhda_ra...   \n",
       "...                                                  ...   \n",
       "35528  [zhenskaya_odezhda_platya_yubki_tip, zhenskaya...   \n",
       "35529  [brand_zhenskii, zhenskaya_odezhda_tzvet, zhen...   \n",
       "35530  [zhenskaya_odezhda_razmer, zhenskaya_odezhda_s...   \n",
       "35531  [zhenskaya_odezhda_razmer, zhenskaya_odezhda_s...   \n",
       "35532                 [zhenskaya_odezhda_aksessuary_tip]   \n",
       "\n",
       "                                  properties_value_lists  \\\n",
       "0                                       81 - 86 1 5 год    \n",
       "1       зеленый высокий 40 новый демисезон ботильон к...   \n",
       "2                                              брюки 26    \n",
       "3                                 девочка головной убор    \n",
       "4                                 синий 42 - 44 s блуза    \n",
       "...                                                  ...   \n",
       "35528              юбка 40 - 42 xs adl лето макси белый    \n",
       "35529                   chanel красный пиджак 42 - 44 s    \n",
       "35530                            48 - 50 xl зима куртка    \n",
       "35531                           44 - 46 м лето ветровка    \n",
       "35532                                    шарф и платок \n",
       "   \n",
       "\n",
       "                                                    text  \n",
       "0      юбка детский orby новый неносить раз реал крас...  \n",
       "1      ботильон  новый привозить чехия указывать разм...  \n",
       "2      брюки  размер 40 - 42 брюки новый - незнать ме...  \n",
       "3      продавать детский шапка  продавать шапка кажда...  \n",
       "4      блузка  темно-синий 42 размер состояние отличн...  \n",
       "...                                                  ...  \n",
       "35528  юбка  юбка белый по турция фирма adl  юбка 40 ...  \n",
       "35529  новый твидовый пиджак  новый бирка пиджак разм...  \n",
       "35530  женский зимний куртка  женский зимний спортивн...  \n",
       "35531  новый золотой ветровка  женский ветровка разме...  \n",
       "35532                     шарф \n",
       " пустота \n",
       " шарф и платок  \n",
       "\n",
       "[35533 rows x 8 columns]"
      ]
     },
     "execution_count": 5,
     "metadata": {},
     "output_type": "execute_result"
    }
   ],
   "source": [
    "df.sample(5)"
   ]
  },
  {
   "cell_type": "markdown",
   "id": "3fa12556-d641-4ece-ab02-acccbfdb9387",
   "metadata": {},
   "source": [
    "## Бинарная классификация запроса на товарный или разговорный\n",
    "Есть особенность - количество добавленных рагзоворных строк - минимально. Возможно дело в том, что в разговорах люди частенько говорят о товарах и вещах в принципе. Поэтому небольшое обогощение чатом работает достаточно хорошо. Одако можно просто повысить чувствительность модели к товарным предсказаниям."
   ]
  },
  {
   "cell_type": "code",
   "execution_count": null,
   "id": "f502df9e-b0d7-4dc9-bb14-8feeebdf19f4",
   "metadata": {},
   "outputs": [],
   "source": [
    "enriched_df = get_enriched_df(3000) # enriched df with chat and products"
   ]
  },
  {
   "cell_type": "code",
   "execution_count": 13,
   "id": "f71b6c38-5fbb-4f22-8a55-36c0b2d2b660",
   "metadata": {},
   "outputs": [
    {
     "name": "stdout",
     "output_type": "stream",
     "text": [
      "0.992734066846585\n",
      "CPU times: total: 1.42 s\n",
      "Wall time: 1.49 s\n"
     ]
    }
   ],
   "source": [
    "%%time\n",
    "\n",
    "count_vectorizer = CountVectorizer() # bag of words\n",
    "\n",
    "# make enriched by chat Bag-of-Words model\n",
    "enriched_bag_of_words = count_vectorizer.fit_transform(enriched_df.message)\n",
    "enriched_bag_of_words\n",
    "\n",
    "train_x, valid_x, train_y, valid_y = model_selection.train_test_split(\n",
    "    enriched_bag_of_words,\n",
    "    enriched_df.is_product)\n",
    "\n",
    "# binary classificator for products and chats\n",
    "lr = linear_model.LogisticRegression(max_iter = 5000) \n",
    "\n",
    "lr.fit(train_x, train_y)\n",
    "\n",
    "predictions = lr.predict(valid_x)\n",
    "accuracy = metrics.accuracy_score(predictions, valid_y)\n",
    "print(accuracy)\n",
    "\n",
    "# train model on entire dataset\n",
    "lr = linear_model.LogisticRegression(max_iter = 5000)\n",
    "lr.fit(enriched_bag_of_words, enriched_df.is_product)"
   ]
  },
  {
   "cell_type": "code",
   "execution_count": null,
   "id": "27348dc3-2592-411d-9d73-1f51bd4085d2",
   "metadata": {},
   "outputs": [],
   "source": [
    "## put model and vectors in a pickle files\n",
    "pickle.dump(lr, open('ProductOrChat_LR_binary_classifier.pcl', 'wb'))\n",
    "pickle.dump(count_vectorizer, open(\"product_bag_of_words.pcl\",'wb'))"
   ]
  },
  {
   "cell_type": "markdown",
   "id": "9b15aba8-5204-4a29-a293-f1eb0b9c4d9d",
   "metadata": {},
   "source": [
    "## Word2Vec подбор товара"
   ]
  },
  {
   "cell_type": "code",
   "execution_count": 14,
   "id": "ac230c9c-19f5-40c2-95a7-cd946e89ddf4",
   "metadata": {},
   "outputs": [
    {
     "data": {
      "text/plain": [
       "0        юбка детский orby новый неносить раз реал крас...\n",
       "1        ботильон  новый привозить чехия указывать разм...\n",
       "2        брюки  размер 40 - 42 брюки новый - незнать ме...\n",
       "3        продавать детский шапка  продавать шапка кажда...\n",
       "4        блузка  темно-синий 42 размер состояние отличн...\n",
       "                               ...                        \n",
       "35528    юбка  юбка белый по турция фирма adl  юбка 40 ...\n",
       "35529    новый твидовый пиджак  новый бирка пиджак разм...\n",
       "35530    женский зимний куртка  женский зимний спортивн...\n",
       "35531    новый золотой ветровка  женский ветровка разме...\n",
       "35532                       шарф \n",
       " пустота \n",
       " шарф и платок\n",
       "Name: text, Length: 35533, dtype: string"
      ]
     },
     "execution_count": 14,
     "metadata": {},
     "output_type": "execute_result"
    }
   ],
   "source": [
    "df.text"
   ]
  },
  {
   "cell_type": "code",
   "execution_count": 15,
   "id": "75ee1bde-55b4-47d2-a0b9-ba97cbb4c46a",
   "metadata": {},
   "outputs": [],
   "source": [
    "df.text = df.text.apply(gensim.utils.simple_preprocess) # ВААААУУУУ"
   ]
  },
  {
   "cell_type": "code",
   "execution_count": 16,
   "id": "f741a9cb-39b7-4936-a1a0-ee17ce40bdbd",
   "metadata": {},
   "outputs": [
    {
     "name": "stdout",
     "output_type": "stream",
     "text": [
      "Слова, похожие на ботинок:\n"
     ]
    },
    {
     "data": {
      "text/plain": [
       "[('сапог', 0.609857976436615),\n",
       " ('ботиночек', 0.6044977903366089),\n",
       " ('полусапожки', 0.5946965217590332),\n",
       " ('полуботинок', 0.591826319694519),\n",
       " ('ecco', 0.5326838493347168),\n",
       " ('дутик', 0.5129898190498352),\n",
       " ('кроссовок', 0.5122712850570679),\n",
       " ('сапожок', 0.5103806853294373),\n",
       " ('мокасин', 0.49656403064727783),\n",
       " ('geox', 0.4871010184288025)]"
      ]
     },
     "metadata": {},
     "output_type": "display_data"
    },
    {
     "name": "stdout",
     "output_type": "stream",
     "text": [
      "\n",
      "бумага и ножницы похожи на 0.53066134\n",
      "бумага и куртка похожи на -0.27196267\n",
      "\n",
      "Количество документов в моделе: 35533\n",
      "\n",
      "Количество проиндексированных слов: 24069\n",
      "\n",
      "CPU times: total: 1min 14s\n",
      "Wall time: 20.1 s\n"
     ]
    }
   ],
   "source": [
    "%%time\n",
    "model = gensim.models.Word2Vec(sentences=df.text,\n",
    "                               vector_size=300,\n",
    "                               window=5,\n",
    "                               min_count=1,\n",
    "                               workers=4,\n",
    "                               epochs=40)\n",
    "\n",
    "print(\"Слова, похожие на ботинок:\")\n",
    "display(model.wv.most_similar(\"ботинок\"))\n",
    "print()\n",
    "\n",
    "# show similarity of two words\n",
    "print(\"бумага и ножницы похожи на\",model.wv.similarity(w1=\"бумага\", w2=\"ножницы\")) \n",
    "print(\"бумага и куртка похожи на\", model.wv.similarity(w1=\"бумага\", w2=\"куртка\"))\n",
    "print()\n",
    "print(\"Количество документов в моделе:\", model.corpus_count)\n",
    "print()\n",
    "print(\"Количество проиндексированных слов:\",len(model.wv.index_to_key))\n",
    "print()"
   ]
  },
  {
   "cell_type": "markdown",
   "id": "d90deb7f-edba-40c1-8907-081b1f4e2c76",
   "metadata": {},
   "source": [
    "- `sentences` - готовые документы для модели\n",
    "- `vector_size` - длинна вектора для каждого слова\n",
    "- `window` - то сколько слов будут связываться с текущим словом. Параметр равен 3: модель связывает три предыдущих и три следующих слова\n",
    "- `min_count` - сколько слов должно быть в предложении, чтобы они попали в модель\n",
    "- `workers` - количество потоков, в которых будет происходить обучение модели\n",
    "- `epochs` - количество переобучений"
   ]
  },
  {
   "cell_type": "code",
   "execution_count": 18,
   "id": "df14cc06-c247-4505-98f4-fc634fda2707",
   "metadata": {},
   "outputs": [],
   "source": [
    "model.save(\"./product_word2vec.model\") # save the model into file #источник w2v для KNN подбора товара"
   ]
  },
  {
   "cell_type": "markdown",
   "id": "9810dc29-8dc7-41ba-ad64-2d24eb0257d2",
   "metadata": {},
   "source": [
    "### Создадим же вектора!"
   ]
  },
  {
   "cell_type": "code",
   "execution_count": 17,
   "id": "c3a3114d-baf2-4369-aa86-f08524318c0c",
   "metadata": {},
   "outputs": [
    {
     "name": "stdout",
     "output_type": "stream",
     "text": [
      "Количество списков-массивов под каждый документ: 35533\n"
     ]
    },
    {
     "data": {
      "text/html": [
       "<div>\n",
       "<style scoped>\n",
       "    .dataframe tbody tr th:only-of-type {\n",
       "        vertical-align: middle;\n",
       "    }\n",
       "\n",
       "    .dataframe tbody tr th {\n",
       "        vertical-align: top;\n",
       "    }\n",
       "\n",
       "    .dataframe thead th {\n",
       "        text-align: right;\n",
       "    }\n",
       "</style>\n",
       "<table border=\"1\" class=\"dataframe\">\n",
       "  <thead>\n",
       "    <tr style=\"text-align: right;\">\n",
       "      <th></th>\n",
       "      <th>0</th>\n",
       "      <th>1</th>\n",
       "      <th>2</th>\n",
       "      <th>3</th>\n",
       "      <th>4</th>\n",
       "      <th>5</th>\n",
       "      <th>6</th>\n",
       "      <th>7</th>\n",
       "      <th>8</th>\n",
       "      <th>9</th>\n",
       "      <th>...</th>\n",
       "      <th>290</th>\n",
       "      <th>291</th>\n",
       "      <th>292</th>\n",
       "      <th>293</th>\n",
       "      <th>294</th>\n",
       "      <th>295</th>\n",
       "      <th>296</th>\n",
       "      <th>297</th>\n",
       "      <th>298</th>\n",
       "      <th>299</th>\n",
       "    </tr>\n",
       "  </thead>\n",
       "  <tbody>\n",
       "    <tr>\n",
       "      <th>25107</th>\n",
       "      <td>-1.603296</td>\n",
       "      <td>-9.317245</td>\n",
       "      <td>2.881389</td>\n",
       "      <td>6.450144</td>\n",
       "      <td>-0.096271</td>\n",
       "      <td>-1.395643</td>\n",
       "      <td>-5.498714</td>\n",
       "      <td>2.740282</td>\n",
       "      <td>-0.827838</td>\n",
       "      <td>6.707425</td>\n",
       "      <td>...</td>\n",
       "      <td>3.427472</td>\n",
       "      <td>-3.759266</td>\n",
       "      <td>-1.431783</td>\n",
       "      <td>1.348433</td>\n",
       "      <td>-2.779685</td>\n",
       "      <td>-2.018862</td>\n",
       "      <td>6.608257</td>\n",
       "      <td>-1.517696</td>\n",
       "      <td>-2.069892</td>\n",
       "      <td>3.905683</td>\n",
       "    </tr>\n",
       "  </tbody>\n",
       "</table>\n",
       "<p>1 rows × 300 columns</p>\n",
       "</div>"
      ],
      "text/plain": [
       "            0         1         2         3         4         5         6    \\\n",
       "25107 -1.603296 -9.317245  2.881389  6.450144 -0.096271 -1.395643 -5.498714   \n",
       "\n",
       "            7         8         9    ...       290       291       292  \\\n",
       "25107  2.740282 -0.827838  6.707425  ...  3.427472 -3.759266 -1.431783   \n",
       "\n",
       "            293       294       295       296       297       298       299  \n",
       "25107  1.348433 -2.779685 -2.018862  6.608257 -1.517696 -2.069892  3.905683  \n",
       "\n",
       "[1 rows x 300 columns]"
      ]
     },
     "execution_count": 17,
     "metadata": {},
     "output_type": "execute_result"
    }
   ],
   "source": [
    "## Get token of the every word and put them into a list of token_words then \n",
    "## into a list of token rows. Sum arrays in every df row after all.\n",
    "arrays_of_the_rows = []\n",
    "\n",
    "for row in df.text:\n",
    "    lst = []\n",
    "    for i, word in enumerate(row):\n",
    "        lst.append( model.wv.get_vector(word) )\n",
    "    arrays_of_the_rows.append(np.sum(lst, axis=0))\n",
    "    \n",
    "print(\"Количество списков-массивов под каждый документ:\", len(arrays_of_the_rows))\n",
    "df_token = pd.DataFrame(arrays_of_the_rows)\n",
    "df_token.sample()\n",
    "\n",
    "\n",
    "## get word vector for each row and put them into df\n",
    "df_token = pd.DataFrame(arrays_of_the_rows)\n",
    "df_token.sample()"
   ]
  },
  {
   "cell_type": "code",
   "execution_count": 20,
   "id": "cdc0c207-9623-49da-890e-ecf2a49e8491",
   "metadata": {},
   "outputs": [
    {
     "data": {
      "text/plain": [
       "list"
      ]
     },
     "execution_count": 20,
     "metadata": {},
     "output_type": "execute_result"
    }
   ],
   "source": [
    "type(arrays_of_the_rows)"
   ]
  },
  {
   "cell_type": "markdown",
   "id": "1ad4f032-2554-4809-a91d-ad3c75534ada",
   "metadata": {},
   "source": [
    "### Предсказание"
   ]
  },
  {
   "cell_type": "code",
   "execution_count": 18,
   "id": "14f5bfd3-408d-432e-a4ee-f50b6dee51e7",
   "metadata": {},
   "outputs": [],
   "source": [
    "neigh = KNeighborsClassifier(n_neighbors=1).fit(df_token, df.product_id)"
   ]
  },
  {
   "cell_type": "code",
   "execution_count": 34,
   "id": "51863599-5092-42f0-8b35-5a96a1674785",
   "metadata": {},
   "outputs": [
    {
     "data": {
      "text/html": [
       "<div>\n",
       "<style scoped>\n",
       "    .dataframe tbody tr th:only-of-type {\n",
       "        vertical-align: middle;\n",
       "    }\n",
       "\n",
       "    .dataframe tbody tr th {\n",
       "        vertical-align: top;\n",
       "    }\n",
       "\n",
       "    .dataframe thead th {\n",
       "        text-align: right;\n",
       "    }\n",
       "</style>\n",
       "<table border=\"1\" class=\"dataframe\">\n",
       "  <thead>\n",
       "    <tr style=\"text-align: right;\">\n",
       "      <th></th>\n",
       "      <th>0</th>\n",
       "      <th>1</th>\n",
       "      <th>2</th>\n",
       "      <th>3</th>\n",
       "      <th>4</th>\n",
       "      <th>5</th>\n",
       "      <th>6</th>\n",
       "      <th>7</th>\n",
       "      <th>8</th>\n",
       "      <th>9</th>\n",
       "      <th>...</th>\n",
       "      <th>290</th>\n",
       "      <th>291</th>\n",
       "      <th>292</th>\n",
       "      <th>293</th>\n",
       "      <th>294</th>\n",
       "      <th>295</th>\n",
       "      <th>296</th>\n",
       "      <th>297</th>\n",
       "      <th>298</th>\n",
       "      <th>299</th>\n",
       "    </tr>\n",
       "  </thead>\n",
       "  <tbody>\n",
       "    <tr>\n",
       "      <th>0</th>\n",
       "      <td>3.387931</td>\n",
       "      <td>-7.480555</td>\n",
       "      <td>3.030243</td>\n",
       "      <td>2.018352</td>\n",
       "      <td>-0.298101</td>\n",
       "      <td>2.948855</td>\n",
       "      <td>-9.768843</td>\n",
       "      <td>-5.207864</td>\n",
       "      <td>-6.444976</td>\n",
       "      <td>7.379704</td>\n",
       "      <td>...</td>\n",
       "      <td>3.323266</td>\n",
       "      <td>-4.618860</td>\n",
       "      <td>-2.283862</td>\n",
       "      <td>11.172792</td>\n",
       "      <td>-3.852499</td>\n",
       "      <td>-6.278765</td>\n",
       "      <td>-4.420383</td>\n",
       "      <td>6.023747</td>\n",
       "      <td>3.214039</td>\n",
       "      <td>5.397019</td>\n",
       "    </tr>\n",
       "    <tr>\n",
       "      <th>1</th>\n",
       "      <td>-5.658994</td>\n",
       "      <td>0.437887</td>\n",
       "      <td>16.818165</td>\n",
       "      <td>-17.038754</td>\n",
       "      <td>10.260569</td>\n",
       "      <td>9.426195</td>\n",
       "      <td>-13.437026</td>\n",
       "      <td>-18.508776</td>\n",
       "      <td>-13.749464</td>\n",
       "      <td>-2.804182</td>\n",
       "      <td>...</td>\n",
       "      <td>-2.563795</td>\n",
       "      <td>-23.647785</td>\n",
       "      <td>-2.680013</td>\n",
       "      <td>-5.544811</td>\n",
       "      <td>-16.265713</td>\n",
       "      <td>-17.670502</td>\n",
       "      <td>4.864739</td>\n",
       "      <td>3.733439</td>\n",
       "      <td>5.256413</td>\n",
       "      <td>-1.769020</td>\n",
       "    </tr>\n",
       "    <tr>\n",
       "      <th>2</th>\n",
       "      <td>6.790961</td>\n",
       "      <td>-14.754192</td>\n",
       "      <td>8.159169</td>\n",
       "      <td>-9.809493</td>\n",
       "      <td>0.388058</td>\n",
       "      <td>8.255690</td>\n",
       "      <td>-18.458614</td>\n",
       "      <td>-26.042984</td>\n",
       "      <td>-16.311970</td>\n",
       "      <td>13.759332</td>\n",
       "      <td>...</td>\n",
       "      <td>-6.907636</td>\n",
       "      <td>-19.319477</td>\n",
       "      <td>-14.130388</td>\n",
       "      <td>3.395448</td>\n",
       "      <td>-4.279499</td>\n",
       "      <td>-22.866940</td>\n",
       "      <td>13.452749</td>\n",
       "      <td>9.233954</td>\n",
       "      <td>0.350030</td>\n",
       "      <td>15.809640</td>\n",
       "    </tr>\n",
       "    <tr>\n",
       "      <th>3</th>\n",
       "      <td>6.943280</td>\n",
       "      <td>-12.877561</td>\n",
       "      <td>-2.956559</td>\n",
       "      <td>-2.464732</td>\n",
       "      <td>5.776071</td>\n",
       "      <td>1.136920</td>\n",
       "      <td>-3.043581</td>\n",
       "      <td>-13.836626</td>\n",
       "      <td>-12.833246</td>\n",
       "      <td>4.595929</td>\n",
       "      <td>...</td>\n",
       "      <td>-3.095728</td>\n",
       "      <td>1.550484</td>\n",
       "      <td>-5.272416</td>\n",
       "      <td>6.247656</td>\n",
       "      <td>3.964318</td>\n",
       "      <td>1.806624</td>\n",
       "      <td>5.246547</td>\n",
       "      <td>11.717538</td>\n",
       "      <td>7.178548</td>\n",
       "      <td>-1.382121</td>\n",
       "    </tr>\n",
       "    <tr>\n",
       "      <th>4</th>\n",
       "      <td>4.897306</td>\n",
       "      <td>-7.576097</td>\n",
       "      <td>6.655952</td>\n",
       "      <td>1.562201</td>\n",
       "      <td>-0.235619</td>\n",
       "      <td>7.003344</td>\n",
       "      <td>-5.236850</td>\n",
       "      <td>-9.012821</td>\n",
       "      <td>-8.232313</td>\n",
       "      <td>7.613881</td>\n",
       "      <td>...</td>\n",
       "      <td>6.981848</td>\n",
       "      <td>-2.831507</td>\n",
       "      <td>-15.661707</td>\n",
       "      <td>1.181792</td>\n",
       "      <td>-4.292832</td>\n",
       "      <td>-11.564430</td>\n",
       "      <td>-3.884160</td>\n",
       "      <td>7.908888</td>\n",
       "      <td>3.200600</td>\n",
       "      <td>8.672695</td>\n",
       "    </tr>\n",
       "    <tr>\n",
       "      <th>...</th>\n",
       "      <td>...</td>\n",
       "      <td>...</td>\n",
       "      <td>...</td>\n",
       "      <td>...</td>\n",
       "      <td>...</td>\n",
       "      <td>...</td>\n",
       "      <td>...</td>\n",
       "      <td>...</td>\n",
       "      <td>...</td>\n",
       "      <td>...</td>\n",
       "      <td>...</td>\n",
       "      <td>...</td>\n",
       "      <td>...</td>\n",
       "      <td>...</td>\n",
       "      <td>...</td>\n",
       "      <td>...</td>\n",
       "      <td>...</td>\n",
       "      <td>...</td>\n",
       "      <td>...</td>\n",
       "      <td>...</td>\n",
       "      <td>...</td>\n",
       "    </tr>\n",
       "    <tr>\n",
       "      <th>35528</th>\n",
       "      <td>5.570469</td>\n",
       "      <td>-10.921281</td>\n",
       "      <td>-2.005912</td>\n",
       "      <td>-0.494929</td>\n",
       "      <td>6.712392</td>\n",
       "      <td>5.140158</td>\n",
       "      <td>-1.143292</td>\n",
       "      <td>-14.030515</td>\n",
       "      <td>-1.665650</td>\n",
       "      <td>8.100939</td>\n",
       "      <td>...</td>\n",
       "      <td>3.776688</td>\n",
       "      <td>-6.561583</td>\n",
       "      <td>-5.916041</td>\n",
       "      <td>5.402406</td>\n",
       "      <td>3.010698</td>\n",
       "      <td>-7.207526</td>\n",
       "      <td>-1.810795</td>\n",
       "      <td>2.291627</td>\n",
       "      <td>5.221906</td>\n",
       "      <td>-4.045841</td>\n",
       "    </tr>\n",
       "    <tr>\n",
       "      <th>35529</th>\n",
       "      <td>1.753727</td>\n",
       "      <td>5.138597</td>\n",
       "      <td>-1.354939</td>\n",
       "      <td>-1.591074</td>\n",
       "      <td>2.692871</td>\n",
       "      <td>4.646680</td>\n",
       "      <td>-1.406133</td>\n",
       "      <td>-7.584275</td>\n",
       "      <td>-1.662513</td>\n",
       "      <td>2.608489</td>\n",
       "      <td>...</td>\n",
       "      <td>4.970819</td>\n",
       "      <td>1.237093</td>\n",
       "      <td>4.595140</td>\n",
       "      <td>-0.533065</td>\n",
       "      <td>1.147211</td>\n",
       "      <td>-4.122437</td>\n",
       "      <td>-2.111659</td>\n",
       "      <td>5.852236</td>\n",
       "      <td>12.016570</td>\n",
       "      <td>-2.749496</td>\n",
       "    </tr>\n",
       "    <tr>\n",
       "      <th>35530</th>\n",
       "      <td>4.395685</td>\n",
       "      <td>-15.804423</td>\n",
       "      <td>-4.624160</td>\n",
       "      <td>-9.184619</td>\n",
       "      <td>3.146211</td>\n",
       "      <td>8.865673</td>\n",
       "      <td>-7.840094</td>\n",
       "      <td>-9.098980</td>\n",
       "      <td>-6.034377</td>\n",
       "      <td>8.838702</td>\n",
       "      <td>...</td>\n",
       "      <td>-3.369271</td>\n",
       "      <td>-15.424500</td>\n",
       "      <td>-2.288614</td>\n",
       "      <td>10.997998</td>\n",
       "      <td>5.942061</td>\n",
       "      <td>-5.824782</td>\n",
       "      <td>13.686121</td>\n",
       "      <td>2.704127</td>\n",
       "      <td>-0.390718</td>\n",
       "      <td>3.597292</td>\n",
       "    </tr>\n",
       "    <tr>\n",
       "      <th>35531</th>\n",
       "      <td>-1.720762</td>\n",
       "      <td>-3.591802</td>\n",
       "      <td>-2.922281</td>\n",
       "      <td>-10.860423</td>\n",
       "      <td>3.431998</td>\n",
       "      <td>12.619671</td>\n",
       "      <td>-5.005291</td>\n",
       "      <td>-19.165705</td>\n",
       "      <td>-3.608877</td>\n",
       "      <td>1.878363</td>\n",
       "      <td>...</td>\n",
       "      <td>5.287851</td>\n",
       "      <td>-17.176752</td>\n",
       "      <td>-7.642520</td>\n",
       "      <td>1.703522</td>\n",
       "      <td>0.105931</td>\n",
       "      <td>-22.241936</td>\n",
       "      <td>3.148201</td>\n",
       "      <td>13.937441</td>\n",
       "      <td>15.812164</td>\n",
       "      <td>0.142388</td>\n",
       "    </tr>\n",
       "    <tr>\n",
       "      <th>35532</th>\n",
       "      <td>3.003938</td>\n",
       "      <td>0.807174</td>\n",
       "      <td>-4.923640</td>\n",
       "      <td>6.118271</td>\n",
       "      <td>-1.364800</td>\n",
       "      <td>2.373612</td>\n",
       "      <td>2.435582</td>\n",
       "      <td>0.600827</td>\n",
       "      <td>-5.165334</td>\n",
       "      <td>-1.626475</td>\n",
       "      <td>...</td>\n",
       "      <td>-4.154480</td>\n",
       "      <td>-0.503374</td>\n",
       "      <td>-1.143845</td>\n",
       "      <td>2.690209</td>\n",
       "      <td>2.364084</td>\n",
       "      <td>5.297872</td>\n",
       "      <td>5.186655</td>\n",
       "      <td>3.708120</td>\n",
       "      <td>-2.160925</td>\n",
       "      <td>-0.899415</td>\n",
       "    </tr>\n",
       "  </tbody>\n",
       "</table>\n",
       "<p>35533 rows × 300 columns</p>\n",
       "</div>"
      ],
      "text/plain": [
       "            0          1          2          3          4          5    \\\n",
       "0      3.387931  -7.480555   3.030243   2.018352  -0.298101   2.948855   \n",
       "1     -5.658994   0.437887  16.818165 -17.038754  10.260569   9.426195   \n",
       "2      6.790961 -14.754192   8.159169  -9.809493   0.388058   8.255690   \n",
       "3      6.943280 -12.877561  -2.956559  -2.464732   5.776071   1.136920   \n",
       "4      4.897306  -7.576097   6.655952   1.562201  -0.235619   7.003344   \n",
       "...         ...        ...        ...        ...        ...        ...   \n",
       "35528  5.570469 -10.921281  -2.005912  -0.494929   6.712392   5.140158   \n",
       "35529  1.753727   5.138597  -1.354939  -1.591074   2.692871   4.646680   \n",
       "35530  4.395685 -15.804423  -4.624160  -9.184619   3.146211   8.865673   \n",
       "35531 -1.720762  -3.591802  -2.922281 -10.860423   3.431998  12.619671   \n",
       "35532  3.003938   0.807174  -4.923640   6.118271  -1.364800   2.373612   \n",
       "\n",
       "             6          7          8          9    ...       290        291  \\\n",
       "0      -9.768843  -5.207864  -6.444976   7.379704  ...  3.323266  -4.618860   \n",
       "1     -13.437026 -18.508776 -13.749464  -2.804182  ... -2.563795 -23.647785   \n",
       "2     -18.458614 -26.042984 -16.311970  13.759332  ... -6.907636 -19.319477   \n",
       "3      -3.043581 -13.836626 -12.833246   4.595929  ... -3.095728   1.550484   \n",
       "4      -5.236850  -9.012821  -8.232313   7.613881  ...  6.981848  -2.831507   \n",
       "...          ...        ...        ...        ...  ...       ...        ...   \n",
       "35528  -1.143292 -14.030515  -1.665650   8.100939  ...  3.776688  -6.561583   \n",
       "35529  -1.406133  -7.584275  -1.662513   2.608489  ...  4.970819   1.237093   \n",
       "35530  -7.840094  -9.098980  -6.034377   8.838702  ... -3.369271 -15.424500   \n",
       "35531  -5.005291 -19.165705  -3.608877   1.878363  ...  5.287851 -17.176752   \n",
       "35532   2.435582   0.600827  -5.165334  -1.626475  ... -4.154480  -0.503374   \n",
       "\n",
       "             292        293        294        295        296        297  \\\n",
       "0      -2.283862  11.172792  -3.852499  -6.278765  -4.420383   6.023747   \n",
       "1      -2.680013  -5.544811 -16.265713 -17.670502   4.864739   3.733439   \n",
       "2     -14.130388   3.395448  -4.279499 -22.866940  13.452749   9.233954   \n",
       "3      -5.272416   6.247656   3.964318   1.806624   5.246547  11.717538   \n",
       "4     -15.661707   1.181792  -4.292832 -11.564430  -3.884160   7.908888   \n",
       "...          ...        ...        ...        ...        ...        ...   \n",
       "35528  -5.916041   5.402406   3.010698  -7.207526  -1.810795   2.291627   \n",
       "35529   4.595140  -0.533065   1.147211  -4.122437  -2.111659   5.852236   \n",
       "35530  -2.288614  10.997998   5.942061  -5.824782  13.686121   2.704127   \n",
       "35531  -7.642520   1.703522   0.105931 -22.241936   3.148201  13.937441   \n",
       "35532  -1.143845   2.690209   2.364084   5.297872   5.186655   3.708120   \n",
       "\n",
       "             298        299  \n",
       "0       3.214039   5.397019  \n",
       "1       5.256413  -1.769020  \n",
       "2       0.350030  15.809640  \n",
       "3       7.178548  -1.382121  \n",
       "4       3.200600   8.672695  \n",
       "...          ...        ...  \n",
       "35528   5.221906  -4.045841  \n",
       "35529  12.016570  -2.749496  \n",
       "35530  -0.390718   3.597292  \n",
       "35531  15.812164   0.142388  \n",
       "35532  -2.160925  -0.899415  \n",
       "\n",
       "[35533 rows x 300 columns]"
      ]
     },
     "execution_count": 34,
     "metadata": {},
     "output_type": "execute_result"
    }
   ],
   "source": [
    "df_token"
   ]
  },
  {
   "cell_type": "code",
   "execution_count": 41,
   "id": "5a1f985e-6082-48dc-a076-db87a00af1e9",
   "metadata": {},
   "outputs": [
    {
     "data": {
      "text/plain": [
       "'5a427cb8c6ab9e6cea13bbb2  кофта '"
      ]
     },
     "execution_count": 41,
     "metadata": {},
     "output_type": "execute_result"
    }
   ],
   "source": [
    "get_neigh_answer(\"Кофта\")"
   ]
  },
  {
   "cell_type": "code",
   "execution_count": 19,
   "id": "9e7aaff6-5dc1-43ed-bdda-84395206e2e8",
   "metadata": {},
   "outputs": [],
   "source": [
    "pickle.dump(neigh, open('product_knn.pcl', 'wb'))"
   ]
  },
  {
   "cell_type": "markdown",
   "id": "8bf9b641-8496-4762-9f14-0354ff92c58c",
   "metadata": {},
   "source": [
    "**Идеи**\n",
    "- Отработать слова по типу мужское и женское, чтобы они меньше влияли на товар. Например, можно шкалировать их вектора на 0.3. Тоже самое вообще со всеми прилагательными.\n",
    "- Лемматизация вводимой строки с помощью pymorphy2, чтобы алгоритм работал быстрее."
   ]
  },
  {
   "cell_type": "markdown",
   "id": "e3f4e021-fc2a-42cf-bc25-6d4a09a86057",
   "metadata": {},
   "source": [
    "## Поиск похожего товара"
   ]
  },
  {
   "cell_type": "code",
   "execution_count": 268,
   "id": "aec1fb8b-b7aa-4679-8bc7-2c1b89e32d23",
   "metadata": {},
   "outputs": [
    {
     "name": "stdout",
     "output_type": "stream",
     "text": [
      "Слова, похожие на ботинок:\n"
     ]
    },
    {
     "data": {
      "text/plain": [
       "[('ботиночек', 0.6054243445396423),\n",
       " ('сапог', 0.6042029857635498),\n",
       " ('полуботинок', 0.589913010597229),\n",
       " ('полусапожки', 0.584663450717926),\n",
       " ('ecco', 0.5424078106880188),\n",
       " ('сапожок', 0.5311369299888611),\n",
       " ('кроссовок', 0.5149757862091064),\n",
       " ('дутик', 0.5118626952171326),\n",
       " ('мокасин', 0.4966078996658325),\n",
       " ('сандалия', 0.49166375398635864)]"
      ]
     },
     "metadata": {},
     "output_type": "display_data"
    },
    {
     "name": "stdout",
     "output_type": "stream",
     "text": [
      "\n",
      "бумага и ножницы похожи на 0.53289443\n",
      "бумага и куртка похожи на -0.25306898\n",
      "\n",
      "Количество документов в моделе: 35533\n",
      "\n",
      "Количество проиндексированных слов: 24069\n",
      "\n",
      "CPU times: total: 1min 12s\n",
      "Wall time: 20.6 s\n"
     ]
    }
   ],
   "source": [
    "%%time\n",
    "df.text = df.text.apply(gensim.utils.simple_preprocess) \n",
    "\n",
    "model = gensim.models.Word2Vec(sentences=df.text,\n",
    "                               vector_size=300,\n",
    "                               window=5,\n",
    "                               min_count=1,\n",
    "                               workers=4,\n",
    "                               epochs=40)\n",
    "\n",
    "print(\"Слова, похожие на ботинок:\")\n",
    "display(model.wv.most_similar(\"ботинок\"))\n",
    "print()\n",
    "\n",
    "# show similarity of two words\n",
    "print(\"бумага и ножницы похожи на\",model.wv.similarity(w1=\"бумага\", w2=\"ножницы\")) \n",
    "print(\"бумага и куртка похожи на\", model.wv.similarity(w1=\"бумага\", w2=\"куртка\"))\n",
    "print()\n",
    "print(\"Количество документов в моделе:\", model.corpus_count)\n",
    "print()\n",
    "print(\"Количество проиндексированных слов:\",len(model.wv.index_to_key))\n",
    "print()"
   ]
  },
  {
   "cell_type": "code",
   "execution_count": 270,
   "id": "b7beb949-049f-4f33-ada0-c18cc6dd6675",
   "metadata": {},
   "outputs": [
    {
     "name": "stdout",
     "output_type": "stream",
     "text": [
      "Количество списков-массивов под каждый документ: 35533\n"
     ]
    },
    {
     "data": {
      "text/html": [
       "<div>\n",
       "<style scoped>\n",
       "    .dataframe tbody tr th:only-of-type {\n",
       "        vertical-align: middle;\n",
       "    }\n",
       "\n",
       "    .dataframe tbody tr th {\n",
       "        vertical-align: top;\n",
       "    }\n",
       "\n",
       "    .dataframe thead th {\n",
       "        text-align: right;\n",
       "    }\n",
       "</style>\n",
       "<table border=\"1\" class=\"dataframe\">\n",
       "  <thead>\n",
       "    <tr style=\"text-align: right;\">\n",
       "      <th></th>\n",
       "      <th>0</th>\n",
       "      <th>1</th>\n",
       "      <th>2</th>\n",
       "      <th>3</th>\n",
       "      <th>4</th>\n",
       "      <th>5</th>\n",
       "      <th>6</th>\n",
       "      <th>7</th>\n",
       "      <th>8</th>\n",
       "      <th>9</th>\n",
       "      <th>...</th>\n",
       "      <th>290</th>\n",
       "      <th>291</th>\n",
       "      <th>292</th>\n",
       "      <th>293</th>\n",
       "      <th>294</th>\n",
       "      <th>295</th>\n",
       "      <th>296</th>\n",
       "      <th>297</th>\n",
       "      <th>298</th>\n",
       "      <th>299</th>\n",
       "    </tr>\n",
       "  </thead>\n",
       "  <tbody>\n",
       "    <tr>\n",
       "      <th>28557</th>\n",
       "      <td>-0.46425</td>\n",
       "      <td>-12.915732</td>\n",
       "      <td>-2.305879</td>\n",
       "      <td>-8.056624</td>\n",
       "      <td>3.534496</td>\n",
       "      <td>13.204597</td>\n",
       "      <td>-14.0389</td>\n",
       "      <td>-13.789747</td>\n",
       "      <td>-0.497825</td>\n",
       "      <td>6.550236</td>\n",
       "      <td>...</td>\n",
       "      <td>-0.339058</td>\n",
       "      <td>-8.567385</td>\n",
       "      <td>1.791943</td>\n",
       "      <td>8.730715</td>\n",
       "      <td>2.721026</td>\n",
       "      <td>-2.091117</td>\n",
       "      <td>13.095016</td>\n",
       "      <td>3.884427</td>\n",
       "      <td>-4.742218</td>\n",
       "      <td>9.283775</td>\n",
       "    </tr>\n",
       "  </tbody>\n",
       "</table>\n",
       "<p>1 rows × 300 columns</p>\n",
       "</div>"
      ],
      "text/plain": [
       "           0          1         2         3         4          5        6    \\\n",
       "28557 -0.46425 -12.915732 -2.305879 -8.056624  3.534496  13.204597 -14.0389   \n",
       "\n",
       "             7         8         9    ...       290       291       292  \\\n",
       "28557 -13.789747 -0.497825  6.550236  ... -0.339058 -8.567385  1.791943   \n",
       "\n",
       "            293       294       295        296       297       298       299  \n",
       "28557  8.730715  2.721026 -2.091117  13.095016  3.884427 -4.742218  9.283775  \n",
       "\n",
       "[1 rows x 300 columns]"
      ]
     },
     "execution_count": 270,
     "metadata": {},
     "output_type": "execute_result"
    }
   ],
   "source": [
    "## Get token of the every word and put them into a list of token_words then \n",
    "## into a list of token rows. Sum arrays in every df row after all.\n",
    "arrays_of_the_rows = []\n",
    "\n",
    "for row in df.text:\n",
    "    lst = []\n",
    "    for i, word in enumerate(row):\n",
    "        lst.append( model.wv.get_vector(word) )\n",
    "    arrays_of_the_rows.append(np.sum(lst, axis=0))\n",
    "    \n",
    "print(\"Количество списков-массивов под каждый документ:\", len(arrays_of_the_rows))\n",
    "df_token = pd.DataFrame(arrays_of_the_rows)\n",
    "df_token.sample()\n",
    "\n",
    "\n",
    "## get word vector for each row and put them into df\n",
    "df_token = pd.DataFrame(arrays_of_the_rows)\n",
    "df_token.sample()"
   ]
  },
  {
   "cell_type": "code",
   "execution_count": 271,
   "id": "3f376217-5f32-4046-80e6-8f6ad5965b5e",
   "metadata": {},
   "outputs": [],
   "source": [
    "# train and save KNN model\n",
    "neigh = KNeighborsClassifier(n_neighbors=1).fit(df_token, df.product_id)\n",
    "pickle.dump(neigh, open(\"product_knn.pcl\",'wb')) "
   ]
  },
  {
   "cell_type": "markdown",
   "id": "b3ce5284-70b7-4cb9-bc3b-d3a68b40e029",
   "metadata": {},
   "source": [
    "# Алгоритм"
   ]
  },
  {
   "cell_type": "code",
   "execution_count": 246,
   "id": "02380622-050e-4694-bf2d-78988aa007cd",
   "metadata": {},
   "outputs": [],
   "source": [
    "lr = pickle.load(open('ProductOrChat_LR_binary_classifier.pkl', 'rb'))"
   ]
  },
  {
   "cell_type": "code",
   "execution_count": 274,
   "id": "e610e03e-9e1e-4f85-b5cb-e493a78677c4",
   "metadata": {},
   "outputs": [
    {
     "name": "stdout",
     "output_type": "stream",
     "text": [
      "[[0.96923633 0.03076367]]\n",
      "Разговор\n"
     ]
    }
   ],
   "source": [
    "s = \"Как заинтересовать девушку\"\n",
    "text = \" \".join((Mystem().lemmatize(s))) # leammatization\n",
    "lemmatized_words = gensim.utils.simple_preprocess(text)     # word preprocessing\n",
    "\n",
    "predict_proba = lr.predict_proba(count_vectorizer.transform([\" \".join(lemmatized_words)]))\n",
    "\n",
    "print(predict_proba)\n",
    "\n",
    "if predict_proba[0][1] > 0.16: ## Here is the time of KNN prediction\n",
    "    print(\"Товар\") # boost of sensitivity of the model \n",
    "    \n",
    "    lst = []\n",
    "    for i, word in enumerate(lemmatized_words):\n",
    "        try:lst.append( model.wv.get_vector(word) )\n",
    "        except KeyError: pass\n",
    "\n",
    "    try: prediction = neigh.predict([np.sum(np.array(lst), axis=0)])[0]\n",
    "    except ValueError: print(\"Похоже, что вы искали товар, но увы в каталоге нет ничего похожего.\\nПопробуйте переформулировать запрос.\")\n",
    "\n",
    "    print (f\"{prediction} {df[df.product_id == prediction].title.values[0]}\")\n",
    "    \n",
    "else: \n",
    "    print(\"Разговор\") # here is the time of Answering"
   ]
  }
 ],
 "metadata": {
  "kernelspec": {
   "display_name": "Python 3 (ipykernel)",
   "language": "python",
   "name": "python3"
  },
  "language_info": {
   "codemirror_mode": {
    "name": "ipython",
    "version": 3
   },
   "file_extension": ".py",
   "mimetype": "text/x-python",
   "name": "python",
   "nbconvert_exporter": "python",
   "pygments_lexer": "ipython3",
   "version": "3.11.1"
  },
  "toc-showtags": true
 },
 "nbformat": 4,
 "nbformat_minor": 5
}
