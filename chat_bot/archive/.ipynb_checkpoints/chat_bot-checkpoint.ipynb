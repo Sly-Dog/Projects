{
 "cells": [
  {
   "cell_type": "markdown",
   "id": "efdbbdcb-8f18-43b6-9060-2cac540f1cab",
   "metadata": {},
   "source": [
    "# Описание"
   ]
  },
  {
   "cell_type": "markdown",
   "id": "252015bc-ec45-4bf8-8ec6-54dc1e5156f4",
   "metadata": {},
   "source": [
    "# Зависимости\n",
    "\n",
    "python==3.10.8\n",
    "requests==2.28.1\n",
    "\n",
    "## Установка виртуальной среды и ядра\n",
    "Не волнуйтесь, в конце ноутбука все будет удалено, главное открывайте консоль или терминалы в папке с ноутбуком\n",
    "\n",
    "### Windows\n",
    "Нужно в командной строке ввести следующее и нажать Enter. Установка около минуты.\n",
    "```powershell\n",
    "\n",
    "```\n",
    "\n",
    "### Linux\n",
    "Нужно в терминале ввести следующее и нажать Enter. Установка около минуты.\n",
    "\n",
    "```bash\n",
    "\n",
    "```"
   ]
  },
  {
   "cell_type": "markdown",
   "id": "a0c20342-9f2e-476e-a05a-bad1ef76eb0d",
   "metadata": {},
   "source": [
    "## Далее нужно перезагрузить jupyter server\n",
    "![picture](https://camo.githubusercontent.com/56a28dc83842aa9df2591acb738d4ddc17cc89be94419eb45d8867f6f938e871/68747470733a2f2f6769746875622e636f6d2f536c792d446f672f6174746163686d656e74732f626c6f622f6d61696e2f7061727365725f6b65726e656c2e706e673f7261773d74727565)"
   ]
  },
  {
   "cell_type": "markdown",
   "id": "6490ed70-6675-43db-ac2b-e50d2d3b2b6f",
   "metadata": {},
   "source": [
    "## После этого нужно сменить ядро ipynb на parser_kernel"
   ]
  },
  {
   "cell_type": "markdown",
   "id": "25e4dce8-3c57-4d7f-a927-0cbf17cc0bcb",
   "metadata": {},
   "source": [
    "# Импорт"
   ]
  },
  {
   "cell_type": "code",
   "execution_count": 1,
   "id": "5055e9bf-df24-46f6-b9bb-56714338fb72",
   "metadata": {},
   "outputs": [],
   "source": [
    "import pickle\n",
    "import pandas as pd\n",
    "from annoy import AnnoyIndex\n",
    "import gensim\n",
    "from pymystem3 import Mystem\n",
    "import numpy as np"
   ]
  },
  {
   "cell_type": "markdown",
   "id": "d30d9cfc-9ff4-4e14-b020-f544519ad2bb",
   "metadata": {},
   "source": [
    "# Функции"
   ]
  },
  {
   "cell_type": "code",
   "execution_count": 75,
   "id": "3913d37b-1753-4c38-9723-2c898391e0e3",
   "metadata": {},
   "outputs": [],
   "source": [
    "class annoy:\n",
    "    \n",
    "    def __init__(self, model_answers, model):\n",
    "        self.model_answers = model_answers\n",
    "        self.model = model\n",
    "    def predict(self, vector):\n",
    "        return self.model_answers.iloc[self.model.get_nns_by_vector(vector, 1)].values[0]\n",
    "        \n",
    "\n",
    "def get_string_vector(string, w2v):\n",
    "    text = \" \".join((Mystem().lemmatize(string))) # leammatization\n",
    "\n",
    "    lemmatized_words = gensim.utils.simple_preprocess(text)     # word preprocessing\n",
    "    \n",
    "    if \"Word2Vec\" in str(w2v):\n",
    "        lst = []\n",
    "        for i, word in enumerate(lemmatized_words):\n",
    "                try:lst.append( w2v.wv.get_vector(word) )\n",
    "                except KeyError: pass\n",
    "\n",
    "        vector = np.sum(np.array(lst), axis=0)\n",
    "\n",
    "        return vector\n",
    "    if \"CountVectorizer\" in str(w2v):\n",
    "        vector = w2v.transform([\" \".join(lemmatized_words)])\n",
    "        return vector\n",
    "    \n",
    "def get_answer(s): # put any string\n",
    "    string_vector = get_string_vector(s, count_vectorizer)\n",
    "\n",
    "    if product_classifier.predict_proba(string_vector)[0][1] > 0.15:\n",
    "\n",
    "        string_vector = get_string_vector(s, product_w2v)\n",
    "        answer = product_KNN.predict([string_vector])\n",
    "        return f\"{answer[0]} {product_answers[answer].values[0]}\"\n",
    "\n",
    "    else:\n",
    "        string_vector = get_string_vector(s, qa_w2v)\n",
    "        answer = annoy_model.predict(string_vector)\n",
    "        return answer"
   ]
  },
  {
   "cell_type": "markdown",
   "id": "b2fb56ba-a384-4e52-a9d0-a3af62ed2a45",
   "metadata": {},
   "source": [
    "# Загрузка компонентов модели "
   ]
  },
  {
   "cell_type": "markdown",
   "id": "01027466-067f-45b2-b3ef-cbcccb60184c",
   "metadata": {},
   "source": [
    "# Товарный классификатор "
   ]
  },
  {
   "cell_type": "code",
   "execution_count": 10,
   "id": "b93fce8e-9516-4300-b25e-0a338f2b7d65",
   "metadata": {},
   "outputs": [],
   "source": [
    "count_vectorizer = pickle.load( open(\"product_bag_of_words.pcl\",'rb') )"
   ]
  },
  {
   "cell_type": "code",
   "execution_count": 11,
   "id": "75005c68-73ed-4757-bbfa-2045ed3a4efd",
   "metadata": {},
   "outputs": [],
   "source": [
    "product_classifier = pickle.load(open('ProductOrChat_LR_binary_classifier.pkl', 'rb'))"
   ]
  },
  {
   "cell_type": "markdown",
   "id": "87febd98-3863-436a-a95c-98c1dce1da0f",
   "metadata": {},
   "source": [
    "## Подбор товара"
   ]
  },
  {
   "cell_type": "code",
   "execution_count": 36,
   "id": "0f5d1bf7-0356-4a25-9f9a-8b12b0071273",
   "metadata": {},
   "outputs": [],
   "source": [
    "product_w2v = gensim.models.Word2Vec.load(\"product_word2vec.model\")"
   ]
  },
  {
   "cell_type": "code",
   "execution_count": 37,
   "id": "1599ef96-de60-4a7a-9c33-ae08e6bc65c7",
   "metadata": {},
   "outputs": [],
   "source": [
    "product_KNN = pickle.load(open('product_KNN.pkl', 'rb'))"
   ]
  },
  {
   "cell_type": "code",
   "execution_count": null,
   "id": "5313f443-b2db-4a4b-ac12-00ab4896fb47",
   "metadata": {},
   "outputs": [],
   "source": [
    "product_answers = pickle.load(open('product_answers.pkl', 'rb'))"
   ]
  },
  {
   "cell_type": "markdown",
   "id": "456a52e3-cd93-4c70-aa09-982c42c236a7",
   "metadata": {},
   "source": [
    "## Болталка"
   ]
  },
  {
   "cell_type": "code",
   "execution_count": 2,
   "id": "d444f60d-5276-4482-8819-d81aa1344e70",
   "metadata": {},
   "outputs": [],
   "source": [
    "chat_answers = pickle.load( open(\"answers.pcl\",'rb') )"
   ]
  },
  {
   "cell_type": "code",
   "execution_count": 3,
   "id": "330096c9-81bd-4aca-983f-cf7bec5e386e",
   "metadata": {},
   "outputs": [],
   "source": [
    "qa_w2v = gensim.models.Word2Vec.load(\"w2v_model_qa.model\")"
   ]
  },
  {
   "cell_type": "code",
   "execution_count": 4,
   "id": "9d325e5f-7c92-4a46-8dc0-1f5eb21cecd7",
   "metadata": {},
   "outputs": [],
   "source": [
    "chat_answers = pickle.load( open(\"answers.pcl\",'rb') )"
   ]
  },
  {
   "cell_type": "code",
   "execution_count": 8,
   "id": "8c311e26-5261-4447-885f-3cc5b3488fc7",
   "metadata": {},
   "outputs": [],
   "source": [
    "ann = AnnoyIndex(300, 'angular')\n",
    "ann.load('qa_annoy.model')\n",
    "annoy_model = annoy(chat_answers, ann)"
   ]
  },
  {
   "cell_type": "markdown",
   "id": "924b1858-1a6b-4060-8fba-2d112b4b4098",
   "metadata": {},
   "source": [
    "# Чат бот"
   ]
  },
  {
   "cell_type": "code",
   "execution_count": 123,
   "id": "1834df07-301c-48fd-8774-722492c90032",
   "metadata": {},
   "outputs": [
    {
     "name": "stdout",
     "output_type": "stream",
     "text": [
      "5b2a0bfd2c593e53d6741f8a мужские кеды\n"
     ]
    }
   ],
   "source": [
    "print(get_answer(\"муЖсКие ботинки или кеды\"))"
   ]
  },
  {
   "cell_type": "code",
   "execution_count": 120,
   "id": "9941f965-a90a-485e-aea8-2c2085070f49",
   "metadata": {},
   "outputs": [
    {
     "name": "stdout",
     "output_type": "stream",
     "text": [
      "Заработать денег. Построить дом. Посадить дерево. Вырастить сына и дочь. Убрать. Постирать. Приготовить. Быть защитой, опорой и поддержкой семье, а уж потом - все остальное, что пожелаешь.. \n",
      "\n"
     ]
    }
   ],
   "source": [
    "print(get_answer(\"ЧТо делать?\"))"
   ]
  },
  {
   "cell_type": "markdown",
   "id": "b56cc4e9-7a97-4d97-b5da-e7a88cb2d029",
   "metadata": {},
   "source": [
    "# История создания\n",
    "Тут ноутбуки и датасеты, которые использовались во время работы. Если планируете запускать их, то дополнительные зависимости будут устанавливаться во все тоже ядро\n",
    "\n",
    "- Тут в виде списка указать ссылки на ноутбуки. Да, их нужно оформить."
   ]
  },
  {
   "cell_type": "markdown",
   "id": "ccd0778e-6c30-440f-a643-07d86021419b",
   "metadata": {},
   "source": [
    "# Удаление ядра и виртуальной среды\n",
    "После удаления ядра следующей командой нужно будет удалить папку parser_env в директории этого ноутбука и готово."
   ]
  },
  {
   "cell_type": "code",
   "execution_count": null,
   "id": "9b9b3abe-83fc-4400-bb54-672d2a0ca12d",
   "metadata": {},
   "outputs": [],
   "source": [
    "# remove parser_kernel\n",
    "!jupyter kernelspec remove parser_kernel -y "
   ]
  },
  {
   "cell_type": "markdown",
   "id": "ff326f28-b79e-43a0-9379-2229067df839",
   "metadata": {},
   "source": [
    "# Что можно улучшить \n",
    "\n",
    "- В ответах болталки изредка попадается HTML разметка, её следует убрать с помощью библиотеки BeautifulSoup или же просто удалить ответы, в которых встречается HTML код\n",
    "- Алгоритм получения ответов достаточно медленный всвязи с особенностью библиотеки pymystem3 от Яндекс. Она очень быстра на больших строках, но когда нужно провести лемматизацию для небольшой строки ей требуется около секунды и меньше времени для лемматизации. Уверен, если покопаться в документации, то можно будет найти опцию, которая обеспечит лемматизацию того же качество, но при этом для небольших строк. В противном случае можно попробовать библитоеку pymorphy2.\n",
    "- Можно дообучить товарный классификатор на больших кусочках чатов и сделать его ещё чувствительнее. \n",
    "- Можно использовать более продвинутые алгоритмы и ансамбли. Но простота - прекрасна."
   ]
  }
 ],
 "metadata": {
  "kernelspec": {
   "display_name": "Python 3 (ipykernel)",
   "language": "python",
   "name": "python3"
  },
  "language_info": {
   "codemirror_mode": {
    "name": "ipython",
    "version": 3
   },
   "file_extension": ".py",
   "mimetype": "text/x-python",
   "name": "python",
   "nbconvert_exporter": "python",
   "pygments_lexer": "ipython3",
   "version": "3.11.1"
  }
 },
 "nbformat": 4,
 "nbformat_minor": 5
}
