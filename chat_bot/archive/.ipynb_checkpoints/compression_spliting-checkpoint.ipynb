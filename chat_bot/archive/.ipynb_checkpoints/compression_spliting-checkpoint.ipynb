{
 "cells": [
  {
   "cell_type": "markdown",
   "id": "ae4b1684-7707-4e95-91e8-6be95f314346",
   "metadata": {},
   "source": [
    "# Описание\n",
    "\n",
    "Это архивный ноутбук с описанием сжатия моделей и разбития архива для преодоления ограничения GitHub на файлы большого размера. Этот ну нужно смотреть во вторую очередь.\n",
    "- [Главный ноутбук](./../chat_bot.ipynb)"
   ]
  },
  {
   "cell_type": "markdown",
   "id": "5351229f-83a4-4e2f-8c54-06a9b00e6cb3",
   "metadata": {},
   "source": [
    "# Архивирование, и деление файлов"
   ]
  },
  {
   "cell_type": "code",
   "execution_count": null,
   "id": "29f489c6-c9f3-41e3-bdeb-274034829c60",
   "metadata": {},
   "outputs": [],
   "source": [
    "import py7zr\n",
    "from filesplit.split import Split\n",
    "from filesplit.merge import Merge\n",
    "from pathlib import Path"
   ]
  },
  {
   "cell_type": "markdown",
   "id": "b2823e12-7da0-48f4-898e-0c44118df2d3",
   "metadata": {},
   "source": [
    "## Compress"
   ]
  },
  {
   "cell_type": "code",
   "execution_count": 3,
   "id": "1478a102-85db-4edd-890b-3a7ea180688f",
   "metadata": {},
   "outputs": [
    {
     "name": "stdout",
     "output_type": "stream",
     "text": [
      "CPU times: total: 34min 23s\n",
      "Wall time: 34min 25s\n"
     ]
    }
   ],
   "source": [
    "%%time\n",
    "\n",
    "# Compress files into archive. 35 minutes duration\n",
    "with py7zr.SevenZipFile(\"Archive.7z\", 'w') as archive:\n",
    "    archive.writeall(\"models/\")"
   ]
  },
  {
   "cell_type": "markdown",
   "id": "ec20528f-1ca8-4672-8f6a-733dad06b311",
   "metadata": {},
   "source": [
    "## Split merge "
   ]
  },
  {
   "cell_type": "code",
   "execution_count": null,
   "id": "e8254fdc-dca2-406a-8aef-36ea1a91b582",
   "metadata": {},
   "outputs": [],
   "source": [
    "%%time\n",
    "\n",
    "# make folder for splitted file\n",
    "Path(\"filesplit_folder\").mkdir(parents=True, exist_ok=True) \n",
    "\n",
    "# split one file into many files with 5MB size \n",
    "split = Split(\"Archive.7z\", \"filesplit_folder\")\n",
    "split.bysize (5000000) "
   ]
  },
  {
   "cell_type": "code",
   "execution_count": 4,
   "id": "7078d371-0757-461b-b6d4-7de646126808",
   "metadata": {},
   "outputs": [
    {
     "name": "stdout",
     "output_type": "stream",
     "text": [
      "CPU times: total: 11.4 s\n",
      "Wall time: 35.3 s\n"
     ]
    }
   ],
   "source": [
    "%%time\n",
    "\n",
    "# merge file_split files into ahrchive\n",
    "merge = Merge(\"filesplit_folder\", \"./\", \"test.7z\")\n",
    "merge.merge(cleanup=True) "
   ]
  },
  {
   "cell_type": "markdown",
   "id": "5600cca2-a8fc-411c-abcb-8340aa1c15d4",
   "metadata": {},
   "source": [
    "# Получить модели из поделённого и архивированного файла"
   ]
  },
  {
   "cell_type": "code",
   "execution_count": null,
   "id": "37cf1be4-4155-4682-8df9-c47e3d678f86",
   "metadata": {},
   "outputs": [],
   "source": [
    "%%time\n",
    "\n",
    "# merge file_split files into ahrchive\n",
    "merge = Merge(\"filesplit_folder\", \"./\", \"test.7z\")\n",
    "merge.merge(cleanup=True) "
   ]
  },
  {
   "cell_type": "code",
   "execution_count": 5,
   "id": "2fe70cc7-d495-436d-b813-08df928509cd",
   "metadata": {},
   "outputs": [
    {
     "name": "stdout",
     "output_type": "stream",
     "text": [
      "CPU times: total: 3min 41s\n",
      "Wall time: 3min 58s\n"
     ]
    }
   ],
   "source": [
    "%%time\n",
    "\n",
    "# 4 minutes of getting models from archive\n",
    "with py7zr.SevenZipFile(\"Archive.7z\", 'r') as archive:\n",
    "    archive.extractall()"
   ]
  },
  {
   "cell_type": "code",
   "execution_count": 9,
   "id": "3822dc9e-3e87-41d8-bd5f-a01263ae4e92",
   "metadata": {},
   "outputs": [],
   "source": [
    "# remove archive and empty folder\n",
    "Path.rmdir(\"filesplit_folder\")\n",
    "Path.unlink(\"Archive.7z\")"
   ]
  }
 ],
 "metadata": {
  "kernelspec": {
   "display_name": "Python 3 (ipykernel)",
   "language": "python",
   "name": "python3"
  },
  "language_info": {
   "codemirror_mode": {
    "name": "ipython",
    "version": 3
   },
   "file_extension": ".py",
   "mimetype": "text/x-python",
   "name": "python",
   "nbconvert_exporter": "python",
   "pygments_lexer": "ipython3",
   "version": "3.11.1"
  }
 },
 "nbformat": 4,
 "nbformat_minor": 5
}
